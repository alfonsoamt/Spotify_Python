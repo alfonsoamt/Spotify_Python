{
  "nbformat": 4,
  "nbformat_minor": 0,
  "metadata": {
    "colab": {
      "name": "Learning how to use Spotipy.ipynb",
      "provenance": [],
      "authorship_tag": "ABX9TyMiXQSBwTUTajiFDi9pL3B2",
      "include_colab_link": true
    },
    "kernelspec": {
      "name": "python3",
      "display_name": "Python 3"
    },
    "language_info": {
      "name": "python"
    }
  },
  "cells": [
    {
      "cell_type": "markdown",
      "metadata": {
        "id": "view-in-github",
        "colab_type": "text"
      },
      "source": [
        "<a href=\"https://colab.research.google.com/github/alfonsoamt/Spotify_Python/blob/main/Exploring_Spotipy/Learning_how_to_use_Spotipy.ipynb\" target=\"_parent\"><img src=\"https://colab.research.google.com/assets/colab-badge.svg\" alt=\"Open In Colab\"/></a>"
      ]
    },
    {
      "cell_type": "markdown",
      "source": [
        "# **Spotipy**\n",
        "\n",
        "**Spotipy** es una librería de **Python** que nos permite utilizar la **API** de **Spotify**. En este notebook se exploran las diferentes funcionalidades de la librería para posteriormente hacer una extracción de datos de playlists o las caniones más escuchadas de algún usuario. "
      ],
      "metadata": {
        "id": "dKZelzGX-_kv"
      }
    },
    {
      "cell_type": "code",
      "execution_count": 4,
      "metadata": {
        "id": "mRrytiLX8BQT"
      },
      "outputs": [],
      "source": [
        "import spotipy\n",
        "from spotipy.oauth2 import SpotifyClientCredentials"
      ]
    },
    {
      "cell_type": "markdown",
      "source": [
        "Primero se trabaja con la autenticación, que es lo que nos permite acceder a la infroamció de nuestra aplicación que accede a la API. Para la autenticación es necesario mostrar las credenciales de la app; `client_id` y `client_secret`."
      ],
      "metadata": {
        "id": "SeAlA9NdD8oZ"
      }
    },
    {
      "cell_type": "code",
      "source": [
        "SPOTIPY_CLIENT_ID = \"b60b5dc276ba4ef2bcd8afa267744726\"\n",
        "SPOTIPY_CLIENT_SECRET = \"37d13316a4d34f248a778463aef6eadf\""
      ],
      "metadata": {
        "id": "M02OOaxKDE2F"
      },
      "execution_count": 6,
      "outputs": []
    },
    {
      "cell_type": "code",
      "source": [
        "auth_manager = SpotifyClientCredentials(client_id  = SPOTIPY_CLIENT_ID, client_secret = SPOTIPY_CLIENT_SECRET)\n",
        "sp = spotipy.Spotify(auth_manager=auth_manager)"
      ],
      "metadata": {
        "id": "KF_-0XfNGkd6"
      },
      "execution_count": 7,
      "outputs": []
    },
    {
      "cell_type": "code",
      "source": [
        "# Album\n",
        "album_sample_url = \"https://open.spotify.com/album/0ZOlC4fldjBdSBnEbX6R9A?si=hFIDZ1RBSMy_v6gbRtbKWw\"\n",
        "album_sample = sp.album(album_sample_url)\n",
        "type(album_sample)"
      ],
      "metadata": {
        "id": "Pk7I_TnyHliB"
      },
      "execution_count": null,
      "outputs": []
    },
    {
      "cell_type": "code",
      "source": [
        "for key,value in album_sample.items():\n",
        "  print(key,\" // \", value)"
      ],
      "metadata": {
        "colab": {
          "base_uri": "https://localhost:8080/"
        },
        "id": "7KnfCIoEdv0B",
        "outputId": "88b6dae3-1f5b-44bf-9447-46337ad3822b"
      },
      "execution_count": 12,
      "outputs": [
        {
          "output_type": "stream",
          "name": "stdout",
          "text": [
            "album_type  //  album\n",
            "artists  //  [{'external_urls': {'spotify': 'https://open.spotify.com/artist/5ZbRDyTYX4HhXveONcZQn2'}, 'href': 'https://api.spotify.com/v1/artists/5ZbRDyTYX4HhXveONcZQn2', 'id': '5ZbRDyTYX4HhXveONcZQn2', 'name': 'Mystery Skulls', 'type': 'artist', 'uri': 'spotify:artist:5ZbRDyTYX4HhXveONcZQn2'}]\n",
            "available_markets  //  ['AD', 'AE', 'AG', 'AL', 'AM', 'AO', 'AR', 'AT', 'AU', 'AZ', 'BA', 'BB', 'BD', 'BE', 'BF', 'BG', 'BH', 'BI', 'BJ', 'BN', 'BO', 'BR', 'BS', 'BT', 'BW', 'BY', 'BZ', 'CA', 'CD', 'CG', 'CH', 'CI', 'CL', 'CM', 'CO', 'CR', 'CV', 'CW', 'CY', 'CZ', 'DE', 'DJ', 'DK', 'DM', 'DO', 'DZ', 'EC', 'EE', 'EG', 'ES', 'FI', 'FJ', 'FM', 'FR', 'GA', 'GB', 'GD', 'GE', 'GH', 'GM', 'GN', 'GQ', 'GR', 'GT', 'GW', 'GY', 'HK', 'HN', 'HR', 'HT', 'HU', 'ID', 'IE', 'IL', 'IN', 'IQ', 'IS', 'IT', 'JM', 'JO', 'JP', 'KE', 'KG', 'KH', 'KI', 'KM', 'KN', 'KR', 'KW', 'KZ', 'LA', 'LB', 'LC', 'LI', 'LK', 'LR', 'LS', 'LT', 'LU', 'LV', 'LY', 'MA', 'MC', 'MD', 'ME', 'MG', 'MH', 'MK', 'ML', 'MN', 'MO', 'MR', 'MT', 'MU', 'MV', 'MW', 'MX', 'MY', 'MZ', 'NA', 'NE', 'NG', 'NI', 'NL', 'NO', 'NP', 'NR', 'NZ', 'OM', 'PA', 'PE', 'PG', 'PH', 'PK', 'PL', 'PS', 'PT', 'PW', 'PY', 'QA', 'RO', 'RS', 'RU', 'RW', 'SA', 'SB', 'SC', 'SE', 'SG', 'SI', 'SK', 'SL', 'SM', 'SN', 'SR', 'ST', 'SV', 'SZ', 'TD', 'TG', 'TH', 'TJ', 'TL', 'TN', 'TO', 'TR', 'TT', 'TV', 'TW', 'TZ', 'UA', 'UG', 'US', 'UY', 'UZ', 'VC', 'VE', 'VN', 'VU', 'WS', 'XK', 'ZA', 'ZM', 'ZW']\n",
            "copyrights  //  [{'text': '2019 MysterySkulls Music', 'type': 'P'}]\n",
            "external_ids  //  {'upc': '193436134897'}\n",
            "external_urls  //  {'spotify': 'https://open.spotify.com/album/0ZOlC4fldjBdSBnEbX6R9A'}\n",
            "genres  //  []\n",
            "href  //  https://api.spotify.com/v1/albums/0ZOlC4fldjBdSBnEbX6R9A\n",
            "id  //  0ZOlC4fldjBdSBnEbX6R9A\n",
            "images  //  [{'height': 640, 'url': 'https://i.scdn.co/image/ab67616d0000b273d73a81c7c96b3775f3cb98a3', 'width': 640}, {'height': 300, 'url': 'https://i.scdn.co/image/ab67616d00001e02d73a81c7c96b3775f3cb98a3', 'width': 300}, {'height': 64, 'url': 'https://i.scdn.co/image/ab67616d00004851d73a81c7c96b3775f3cb98a3', 'width': 64}]\n",
            "label  //  MysterySkulls Music\n",
            "name  //  Back To Life\n",
            "popularity  //  51\n",
            "release_date  //  2019-04-19\n",
            "release_date_precision  //  day\n",
            "total_tracks  //  12\n",
            "tracks  //  {'href': 'https://api.spotify.com/v1/albums/0ZOlC4fldjBdSBnEbX6R9A/tracks?offset=0&limit=50', 'items': [{'artists': [{'external_urls': {'spotify': 'https://open.spotify.com/artist/5ZbRDyTYX4HhXveONcZQn2'}, 'href': 'https://api.spotify.com/v1/artists/5ZbRDyTYX4HhXveONcZQn2', 'id': '5ZbRDyTYX4HhXveONcZQn2', 'name': 'Mystery Skulls', 'type': 'artist', 'uri': 'spotify:artist:5ZbRDyTYX4HhXveONcZQn2'}], 'available_markets': ['AD', 'AE', 'AG', 'AL', 'AM', 'AO', 'AR', 'AT', 'AU', 'AZ', 'BA', 'BB', 'BD', 'BE', 'BF', 'BG', 'BH', 'BI', 'BJ', 'BN', 'BO', 'BR', 'BS', 'BT', 'BW', 'BY', 'BZ', 'CA', 'CD', 'CG', 'CH', 'CI', 'CL', 'CM', 'CO', 'CR', 'CV', 'CW', 'CY', 'CZ', 'DE', 'DJ', 'DK', 'DM', 'DO', 'DZ', 'EC', 'EE', 'EG', 'ES', 'FI', 'FJ', 'FM', 'FR', 'GA', 'GB', 'GD', 'GE', 'GH', 'GM', 'GN', 'GQ', 'GR', 'GT', 'GW', 'GY', 'HK', 'HN', 'HR', 'HT', 'HU', 'ID', 'IE', 'IL', 'IN', 'IQ', 'IS', 'IT', 'JM', 'JO', 'JP', 'KE', 'KG', 'KH', 'KI', 'KM', 'KN', 'KR', 'KW', 'KZ', 'LA', 'LB', 'LC', 'LI', 'LK', 'LR', 'LS', 'LT', 'LU', 'LV', 'LY', 'MA', 'MC', 'MD', 'ME', 'MG', 'MH', 'MK', 'ML', 'MN', 'MO', 'MR', 'MT', 'MU', 'MV', 'MW', 'MX', 'MY', 'MZ', 'NA', 'NE', 'NG', 'NI', 'NL', 'NO', 'NP', 'NR', 'NZ', 'OM', 'PA', 'PE', 'PG', 'PH', 'PK', 'PL', 'PS', 'PT', 'PW', 'PY', 'QA', 'RO', 'RS', 'RU', 'RW', 'SA', 'SB', 'SC', 'SE', 'SG', 'SI', 'SK', 'SL', 'SM', 'SN', 'SR', 'ST', 'SV', 'SZ', 'TD', 'TG', 'TH', 'TJ', 'TL', 'TN', 'TO', 'TR', 'TT', 'TV', 'TW', 'TZ', 'UA', 'UG', 'US', 'UY', 'UZ', 'VC', 'VE', 'VN', 'VU', 'WS', 'XK', 'ZA', 'ZM', 'ZW'], 'disc_number': 1, 'duration_ms': 108631, 'explicit': False, 'external_urls': {'spotify': 'https://open.spotify.com/track/21paFxL9gudhwBBYoZWah1'}, 'href': 'https://api.spotify.com/v1/tracks/21paFxL9gudhwBBYoZWah1', 'id': '21paFxL9gudhwBBYoZWah1', 'is_local': False, 'name': 'Memory', 'preview_url': 'https://p.scdn.co/mp3-preview/e55ba4182a045603ffe7aea38eea5eaed1f837fa?cid=b60b5dc276ba4ef2bcd8afa267744726', 'track_number': 1, 'type': 'track', 'uri': 'spotify:track:21paFxL9gudhwBBYoZWah1'}, {'artists': [{'external_urls': {'spotify': 'https://open.spotify.com/artist/5ZbRDyTYX4HhXveONcZQn2'}, 'href': 'https://api.spotify.com/v1/artists/5ZbRDyTYX4HhXveONcZQn2', 'id': '5ZbRDyTYX4HhXveONcZQn2', 'name': 'Mystery Skulls', 'type': 'artist', 'uri': 'spotify:artist:5ZbRDyTYX4HhXveONcZQn2'}], 'available_markets': ['AD', 'AE', 'AG', 'AL', 'AM', 'AO', 'AR', 'AT', 'AU', 'AZ', 'BA', 'BB', 'BD', 'BE', 'BF', 'BG', 'BH', 'BI', 'BJ', 'BN', 'BO', 'BR', 'BS', 'BT', 'BW', 'BY', 'BZ', 'CA', 'CD', 'CG', 'CH', 'CI', 'CL', 'CM', 'CO', 'CR', 'CV', 'CW', 'CY', 'CZ', 'DE', 'DJ', 'DK', 'DM', 'DO', 'DZ', 'EC', 'EE', 'EG', 'ES', 'FI', 'FJ', 'FM', 'FR', 'GA', 'GB', 'GD', 'GE', 'GH', 'GM', 'GN', 'GQ', 'GR', 'GT', 'GW', 'GY', 'HK', 'HN', 'HR', 'HT', 'HU', 'ID', 'IE', 'IL', 'IN', 'IQ', 'IS', 'IT', 'JM', 'JO', 'JP', 'KE', 'KG', 'KH', 'KI', 'KM', 'KN', 'KR', 'KW', 'KZ', 'LA', 'LB', 'LC', 'LI', 'LK', 'LR', 'LS', 'LT', 'LU', 'LV', 'LY', 'MA', 'MC', 'MD', 'ME', 'MG', 'MH', 'MK', 'ML', 'MN', 'MO', 'MR', 'MT', 'MU', 'MV', 'MW', 'MX', 'MY', 'MZ', 'NA', 'NE', 'NG', 'NI', 'NL', 'NO', 'NP', 'NR', 'NZ', 'OM', 'PA', 'PE', 'PG', 'PH', 'PK', 'PL', 'PS', 'PT', 'PW', 'PY', 'QA', 'RO', 'RS', 'RU', 'RW', 'SA', 'SB', 'SC', 'SE', 'SG', 'SI', 'SK', 'SL', 'SM', 'SN', 'SR', 'ST', 'SV', 'SZ', 'TD', 'TG', 'TH', 'TJ', 'TL', 'TN', 'TO', 'TR', 'TT', 'TV', 'TW', 'TZ', 'UA', 'UG', 'US', 'UY', 'UZ', 'VC', 'VE', 'VN', 'VU', 'WS', 'XK', 'ZA', 'ZM', 'ZW'], 'disc_number': 1, 'duration_ms': 157250, 'explicit': True, 'external_urls': {'spotify': 'https://open.spotify.com/track/6fecxwRD74xNT3XRjREIiB'}, 'href': 'https://api.spotify.com/v1/tracks/6fecxwRD74xNT3XRjREIiB', 'id': '6fecxwRD74xNT3XRjREIiB', 'is_local': False, 'name': \"Don't Fuck With My Money\", 'preview_url': 'https://p.scdn.co/mp3-preview/137de80f9c9d6abe75fc5125ff0a8136f496d504?cid=b60b5dc276ba4ef2bcd8afa267744726', 'track_number': 2, 'type': 'track', 'uri': 'spotify:track:6fecxwRD74xNT3XRjREIiB'}, {'artists': [{'external_urls': {'spotify': 'https://open.spotify.com/artist/5ZbRDyTYX4HhXveONcZQn2'}, 'href': 'https://api.spotify.com/v1/artists/5ZbRDyTYX4HhXveONcZQn2', 'id': '5ZbRDyTYX4HhXveONcZQn2', 'name': 'Mystery Skulls', 'type': 'artist', 'uri': 'spotify:artist:5ZbRDyTYX4HhXveONcZQn2'}], 'available_markets': ['AD', 'AE', 'AG', 'AL', 'AM', 'AO', 'AR', 'AT', 'AU', 'AZ', 'BA', 'BB', 'BD', 'BE', 'BF', 'BG', 'BH', 'BI', 'BJ', 'BN', 'BO', 'BR', 'BS', 'BT', 'BW', 'BY', 'BZ', 'CA', 'CD', 'CG', 'CH', 'CI', 'CL', 'CM', 'CO', 'CR', 'CV', 'CW', 'CY', 'CZ', 'DE', 'DJ', 'DK', 'DM', 'DO', 'DZ', 'EC', 'EE', 'EG', 'ES', 'FI', 'FJ', 'FM', 'FR', 'GA', 'GB', 'GD', 'GE', 'GH', 'GM', 'GN', 'GQ', 'GR', 'GT', 'GW', 'GY', 'HK', 'HN', 'HR', 'HT', 'HU', 'ID', 'IE', 'IL', 'IN', 'IQ', 'IS', 'IT', 'JM', 'JO', 'JP', 'KE', 'KG', 'KH', 'KI', 'KM', 'KN', 'KR', 'KW', 'KZ', 'LA', 'LB', 'LC', 'LI', 'LK', 'LR', 'LS', 'LT', 'LU', 'LV', 'LY', 'MA', 'MC', 'MD', 'ME', 'MG', 'MH', 'MK', 'ML', 'MN', 'MO', 'MR', 'MT', 'MU', 'MV', 'MW', 'MX', 'MY', 'MZ', 'NA', 'NE', 'NG', 'NI', 'NL', 'NO', 'NP', 'NR', 'NZ', 'OM', 'PA', 'PE', 'PG', 'PH', 'PK', 'PL', 'PS', 'PT', 'PW', 'PY', 'QA', 'RO', 'RS', 'RU', 'RW', 'SA', 'SB', 'SC', 'SE', 'SG', 'SI', 'SK', 'SL', 'SM', 'SN', 'SR', 'ST', 'SV', 'SZ', 'TD', 'TG', 'TH', 'TJ', 'TL', 'TN', 'TO', 'TR', 'TT', 'TV', 'TW', 'TZ', 'UA', 'UG', 'US', 'UY', 'UZ', 'VC', 'VE', 'VN', 'VU', 'WS', 'XK', 'ZA', 'ZM', 'ZW'], 'disc_number': 1, 'duration_ms': 218000, 'explicit': False, 'external_urls': {'spotify': 'https://open.spotify.com/track/7K6UUIAOgwZj3c1t6DefdY'}, 'href': 'https://api.spotify.com/v1/tracks/7K6UUIAOgwZj3c1t6DefdY', 'id': '7K6UUIAOgwZj3c1t6DefdY', 'is_local': False, 'name': 'What Love Is', 'preview_url': 'https://p.scdn.co/mp3-preview/bba55de782ba8ca1a2dc1c2df62fad6dfb4dcdcf?cid=b60b5dc276ba4ef2bcd8afa267744726', 'track_number': 3, 'type': 'track', 'uri': 'spotify:track:7K6UUIAOgwZj3c1t6DefdY'}, {'artists': [{'external_urls': {'spotify': 'https://open.spotify.com/artist/5ZbRDyTYX4HhXveONcZQn2'}, 'href': 'https://api.spotify.com/v1/artists/5ZbRDyTYX4HhXveONcZQn2', 'id': '5ZbRDyTYX4HhXveONcZQn2', 'name': 'Mystery Skulls', 'type': 'artist', 'uri': 'spotify:artist:5ZbRDyTYX4HhXveONcZQn2'}], 'available_markets': ['AD', 'AE', 'AG', 'AL', 'AM', 'AO', 'AR', 'AT', 'AU', 'AZ', 'BA', 'BB', 'BD', 'BE', 'BF', 'BG', 'BH', 'BI', 'BJ', 'BN', 'BO', 'BR', 'BS', 'BT', 'BW', 'BY', 'BZ', 'CA', 'CD', 'CG', 'CH', 'CI', 'CL', 'CM', 'CO', 'CR', 'CV', 'CW', 'CY', 'CZ', 'DE', 'DJ', 'DK', 'DM', 'DO', 'DZ', 'EC', 'EE', 'EG', 'ES', 'FI', 'FJ', 'FM', 'FR', 'GA', 'GB', 'GD', 'GE', 'GH', 'GM', 'GN', 'GQ', 'GR', 'GT', 'GW', 'GY', 'HK', 'HN', 'HR', 'HT', 'HU', 'ID', 'IE', 'IL', 'IN', 'IQ', 'IS', 'IT', 'JM', 'JO', 'JP', 'KE', 'KG', 'KH', 'KI', 'KM', 'KN', 'KR', 'KW', 'KZ', 'LA', 'LB', 'LC', 'LI', 'LK', 'LR', 'LS', 'LT', 'LU', 'LV', 'LY', 'MA', 'MC', 'MD', 'ME', 'MG', 'MH', 'MK', 'ML', 'MN', 'MO', 'MR', 'MT', 'MU', 'MV', 'MW', 'MX', 'MY', 'MZ', 'NA', 'NE', 'NG', 'NI', 'NL', 'NO', 'NP', 'NR', 'NZ', 'OM', 'PA', 'PE', 'PG', 'PH', 'PK', 'PL', 'PS', 'PT', 'PW', 'PY', 'QA', 'RO', 'RS', 'RU', 'RW', 'SA', 'SB', 'SC', 'SE', 'SG', 'SI', 'SK', 'SL', 'SM', 'SN', 'SR', 'ST', 'SV', 'SZ', 'TD', 'TG', 'TH', 'TJ', 'TL', 'TN', 'TO', 'TR', 'TT', 'TV', 'TW', 'TZ', 'UA', 'UG', 'US', 'UY', 'UZ', 'VC', 'VE', 'VN', 'VU', 'WS', 'XK', 'ZA', 'ZM', 'ZW'], 'disc_number': 1, 'duration_ms': 190952, 'explicit': False, 'external_urls': {'spotify': 'https://open.spotify.com/track/2j9JO1SCC21LIBQKzkffhk'}, 'href': 'https://api.spotify.com/v1/tracks/2j9JO1SCC21LIBQKzkffhk', 'id': '2j9JO1SCC21LIBQKzkffhk', 'is_local': False, 'name': 'Without You', 'preview_url': 'https://p.scdn.co/mp3-preview/9d537ad1d46ff17ac9afb4e400e6fdaa5bcb4d9c?cid=b60b5dc276ba4ef2bcd8afa267744726', 'track_number': 4, 'type': 'track', 'uri': 'spotify:track:2j9JO1SCC21LIBQKzkffhk'}, {'artists': [{'external_urls': {'spotify': 'https://open.spotify.com/artist/5ZbRDyTYX4HhXveONcZQn2'}, 'href': 'https://api.spotify.com/v1/artists/5ZbRDyTYX4HhXveONcZQn2', 'id': '5ZbRDyTYX4HhXveONcZQn2', 'name': 'Mystery Skulls', 'type': 'artist', 'uri': 'spotify:artist:5ZbRDyTYX4HhXveONcZQn2'}], 'available_markets': ['AD', 'AE', 'AG', 'AL', 'AM', 'AO', 'AR', 'AT', 'AU', 'AZ', 'BA', 'BB', 'BD', 'BE', 'BF', 'BG', 'BH', 'BI', 'BJ', 'BN', 'BO', 'BR', 'BS', 'BT', 'BW', 'BY', 'BZ', 'CA', 'CD', 'CG', 'CH', 'CI', 'CL', 'CM', 'CO', 'CR', 'CV', 'CW', 'CY', 'CZ', 'DE', 'DJ', 'DK', 'DM', 'DO', 'DZ', 'EC', 'EE', 'EG', 'ES', 'FI', 'FJ', 'FM', 'FR', 'GA', 'GB', 'GD', 'GE', 'GH', 'GM', 'GN', 'GQ', 'GR', 'GT', 'GW', 'GY', 'HK', 'HN', 'HR', 'HT', 'HU', 'ID', 'IE', 'IL', 'IN', 'IQ', 'IS', 'IT', 'JM', 'JO', 'JP', 'KE', 'KG', 'KH', 'KI', 'KM', 'KN', 'KR', 'KW', 'KZ', 'LA', 'LB', 'LC', 'LI', 'LK', 'LR', 'LS', 'LT', 'LU', 'LV', 'LY', 'MA', 'MC', 'MD', 'ME', 'MG', 'MH', 'MK', 'ML', 'MN', 'MO', 'MR', 'MT', 'MU', 'MV', 'MW', 'MX', 'MY', 'MZ', 'NA', 'NE', 'NG', 'NI', 'NL', 'NO', 'NP', 'NR', 'NZ', 'OM', 'PA', 'PE', 'PG', 'PH', 'PK', 'PL', 'PS', 'PT', 'PW', 'PY', 'QA', 'RO', 'RS', 'RU', 'RW', 'SA', 'SB', 'SC', 'SE', 'SG', 'SI', 'SK', 'SL', 'SM', 'SN', 'SR', 'ST', 'SV', 'SZ', 'TD', 'TG', 'TH', 'TJ', 'TL', 'TN', 'TO', 'TR', 'TT', 'TV', 'TW', 'TZ', 'UA', 'UG', 'US', 'UY', 'UZ', 'VC', 'VE', 'VN', 'VU', 'WS', 'XK', 'ZA', 'ZM', 'ZW'], 'disc_number': 1, 'duration_ms': 176146, 'explicit': False, 'external_urls': {'spotify': 'https://open.spotify.com/track/5NptfMnPBChKktA5Z66faw'}, 'href': 'https://api.spotify.com/v1/tracks/5NptfMnPBChKktA5Z66faw', 'id': '5NptfMnPBChKktA5Z66faw', 'is_local': False, 'name': 'Enemy', 'preview_url': 'https://p.scdn.co/mp3-preview/517a54b74ac3e9d64c29e42e574b336a87f6eff6?cid=b60b5dc276ba4ef2bcd8afa267744726', 'track_number': 5, 'type': 'track', 'uri': 'spotify:track:5NptfMnPBChKktA5Z66faw'}, {'artists': [{'external_urls': {'spotify': 'https://open.spotify.com/artist/5ZbRDyTYX4HhXveONcZQn2'}, 'href': 'https://api.spotify.com/v1/artists/5ZbRDyTYX4HhXveONcZQn2', 'id': '5ZbRDyTYX4HhXveONcZQn2', 'name': 'Mystery Skulls', 'type': 'artist', 'uri': 'spotify:artist:5ZbRDyTYX4HhXveONcZQn2'}], 'available_markets': ['AD', 'AE', 'AG', 'AL', 'AM', 'AO', 'AR', 'AT', 'AU', 'AZ', 'BA', 'BB', 'BD', 'BE', 'BF', 'BG', 'BH', 'BI', 'BJ', 'BN', 'BO', 'BR', 'BS', 'BT', 'BW', 'BY', 'BZ', 'CA', 'CD', 'CG', 'CH', 'CI', 'CL', 'CM', 'CO', 'CR', 'CV', 'CW', 'CY', 'CZ', 'DE', 'DJ', 'DK', 'DM', 'DO', 'DZ', 'EC', 'EE', 'EG', 'ES', 'FI', 'FJ', 'FM', 'FR', 'GA', 'GB', 'GD', 'GE', 'GH', 'GM', 'GN', 'GQ', 'GR', 'GT', 'GW', 'GY', 'HK', 'HN', 'HR', 'HT', 'HU', 'ID', 'IE', 'IL', 'IN', 'IQ', 'IS', 'IT', 'JM', 'JO', 'JP', 'KE', 'KG', 'KH', 'KI', 'KM', 'KN', 'KR', 'KW', 'KZ', 'LA', 'LB', 'LC', 'LI', 'LK', 'LR', 'LS', 'LT', 'LU', 'LV', 'LY', 'MA', 'MC', 'MD', 'ME', 'MG', 'MH', 'MK', 'ML', 'MN', 'MO', 'MR', 'MT', 'MU', 'MV', 'MW', 'MX', 'MY', 'MZ', 'NA', 'NE', 'NG', 'NI', 'NL', 'NO', 'NP', 'NR', 'NZ', 'OM', 'PA', 'PE', 'PG', 'PH', 'PK', 'PL', 'PS', 'PT', 'PW', 'PY', 'QA', 'RO', 'RS', 'RU', 'RW', 'SA', 'SB', 'SC', 'SE', 'SG', 'SI', 'SK', 'SL', 'SM', 'SN', 'SR', 'ST', 'SV', 'SZ', 'TD', 'TG', 'TH', 'TJ', 'TL', 'TN', 'TO', 'TR', 'TT', 'TV', 'TW', 'TZ', 'UA', 'UG', 'US', 'UY', 'UZ', 'VC', 'VE', 'VN', 'VU', 'WS', 'XK', 'ZA', 'ZM', 'ZW'], 'disc_number': 1, 'duration_ms': 180000, 'explicit': False, 'external_urls': {'spotify': 'https://open.spotify.com/track/3760Go7UI4B8hgILy8c1Nt'}, 'href': 'https://api.spotify.com/v1/tracks/3760Go7UI4B8hgILy8c1Nt', 'id': '3760Go7UI4B8hgILy8c1Nt', 'is_local': False, 'name': 'Get In The Car', 'preview_url': 'https://p.scdn.co/mp3-preview/df349a2db0db301fc71174c5877f6bfd9cf6a496?cid=b60b5dc276ba4ef2bcd8afa267744726', 'track_number': 6, 'type': 'track', 'uri': 'spotify:track:3760Go7UI4B8hgILy8c1Nt'}, {'artists': [{'external_urls': {'spotify': 'https://open.spotify.com/artist/5ZbRDyTYX4HhXveONcZQn2'}, 'href': 'https://api.spotify.com/v1/artists/5ZbRDyTYX4HhXveONcZQn2', 'id': '5ZbRDyTYX4HhXveONcZQn2', 'name': 'Mystery Skulls', 'type': 'artist', 'uri': 'spotify:artist:5ZbRDyTYX4HhXveONcZQn2'}], 'available_markets': ['AD', 'AE', 'AG', 'AL', 'AM', 'AO', 'AR', 'AT', 'AU', 'AZ', 'BA', 'BB', 'BD', 'BE', 'BF', 'BG', 'BH', 'BI', 'BJ', 'BN', 'BO', 'BR', 'BS', 'BT', 'BW', 'BY', 'BZ', 'CA', 'CD', 'CG', 'CH', 'CI', 'CL', 'CM', 'CO', 'CR', 'CV', 'CW', 'CY', 'CZ', 'DE', 'DJ', 'DK', 'DM', 'DO', 'DZ', 'EC', 'EE', 'EG', 'ES', 'FI', 'FJ', 'FM', 'FR', 'GA', 'GB', 'GD', 'GE', 'GH', 'GM', 'GN', 'GQ', 'GR', 'GT', 'GW', 'GY', 'HK', 'HN', 'HR', 'HT', 'HU', 'ID', 'IE', 'IL', 'IN', 'IQ', 'IS', 'IT', 'JM', 'JO', 'JP', 'KE', 'KG', 'KH', 'KI', 'KM', 'KN', 'KR', 'KW', 'KZ', 'LA', 'LB', 'LC', 'LI', 'LK', 'LR', 'LS', 'LT', 'LU', 'LV', 'LY', 'MA', 'MC', 'MD', 'ME', 'MG', 'MH', 'MK', 'ML', 'MN', 'MO', 'MR', 'MT', 'MU', 'MV', 'MW', 'MX', 'MY', 'MZ', 'NA', 'NE', 'NG', 'NI', 'NL', 'NO', 'NP', 'NR', 'NZ', 'OM', 'PA', 'PE', 'PG', 'PH', 'PK', 'PL', 'PS', 'PT', 'PW', 'PY', 'QA', 'RO', 'RS', 'RU', 'RW', 'SA', 'SB', 'SC', 'SE', 'SG', 'SI', 'SK', 'SL', 'SM', 'SN', 'SR', 'ST', 'SV', 'SZ', 'TD', 'TG', 'TH', 'TJ', 'TL', 'TN', 'TO', 'TR', 'TT', 'TV', 'TW', 'TZ', 'UA', 'UG', 'US', 'UY', 'UZ', 'VC', 'VE', 'VN', 'VU', 'WS', 'XK', 'ZA', 'ZM', 'ZW'], 'disc_number': 1, 'duration_ms': 198000, 'explicit': False, 'external_urls': {'spotify': 'https://open.spotify.com/track/7JXkMlfh2lXZ2tJ7UTRjtH'}, 'href': 'https://api.spotify.com/v1/tracks/7JXkMlfh2lXZ2tJ7UTRjtH', 'id': '7JXkMlfh2lXZ2tJ7UTRjtH', 'is_local': False, 'name': 'Back To Life', 'preview_url': 'https://p.scdn.co/mp3-preview/87269a82fd810afd87a44b0eadaac747468dcdd4?cid=b60b5dc276ba4ef2bcd8afa267744726', 'track_number': 7, 'type': 'track', 'uri': 'spotify:track:7JXkMlfh2lXZ2tJ7UTRjtH'}, {'artists': [{'external_urls': {'spotify': 'https://open.spotify.com/artist/5ZbRDyTYX4HhXveONcZQn2'}, 'href': 'https://api.spotify.com/v1/artists/5ZbRDyTYX4HhXveONcZQn2', 'id': '5ZbRDyTYX4HhXveONcZQn2', 'name': 'Mystery Skulls', 'type': 'artist', 'uri': 'spotify:artist:5ZbRDyTYX4HhXveONcZQn2'}, {'external_urls': {'spotify': 'https://open.spotify.com/artist/6nLpD6tWBhXIbNxVKJC1fH'}, 'href': 'https://api.spotify.com/v1/artists/6nLpD6tWBhXIbNxVKJC1fH', 'id': '6nLpD6tWBhXIbNxVKJC1fH', 'name': 'Snowblood', 'type': 'artist', 'uri': 'spotify:artist:6nLpD6tWBhXIbNxVKJC1fH'}], 'available_markets': ['AD', 'AE', 'AG', 'AL', 'AM', 'AO', 'AR', 'AT', 'AU', 'AZ', 'BA', 'BB', 'BD', 'BE', 'BF', 'BG', 'BH', 'BI', 'BJ', 'BN', 'BO', 'BR', 'BS', 'BT', 'BW', 'BY', 'BZ', 'CA', 'CD', 'CG', 'CH', 'CI', 'CL', 'CM', 'CO', 'CR', 'CV', 'CW', 'CY', 'CZ', 'DE', 'DJ', 'DK', 'DM', 'DO', 'DZ', 'EC', 'EE', 'EG', 'ES', 'FI', 'FJ', 'FM', 'FR', 'GA', 'GB', 'GD', 'GE', 'GH', 'GM', 'GN', 'GQ', 'GR', 'GT', 'GW', 'GY', 'HK', 'HN', 'HR', 'HT', 'HU', 'ID', 'IE', 'IL', 'IN', 'IQ', 'IS', 'IT', 'JM', 'JO', 'JP', 'KE', 'KG', 'KH', 'KI', 'KM', 'KN', 'KR', 'KW', 'KZ', 'LA', 'LB', 'LC', 'LI', 'LK', 'LR', 'LS', 'LT', 'LU', 'LV', 'LY', 'MA', 'MC', 'MD', 'ME', 'MG', 'MH', 'MK', 'ML', 'MN', 'MO', 'MR', 'MT', 'MU', 'MV', 'MW', 'MX', 'MY', 'MZ', 'NA', 'NE', 'NG', 'NI', 'NL', 'NO', 'NP', 'NR', 'NZ', 'OM', 'PA', 'PE', 'PG', 'PH', 'PK', 'PL', 'PS', 'PT', 'PW', 'PY', 'QA', 'RO', 'RS', 'RU', 'RW', 'SA', 'SB', 'SC', 'SE', 'SG', 'SI', 'SK', 'SL', 'SM', 'SN', 'SR', 'ST', 'SV', 'SZ', 'TD', 'TG', 'TH', 'TJ', 'TL', 'TN', 'TO', 'TR', 'TT', 'TV', 'TW', 'TZ', 'UA', 'UG', 'US', 'UY', 'UZ', 'VC', 'VE', 'VN', 'VU', 'WS', 'XK', 'ZA', 'ZM', 'ZW'], 'disc_number': 1, 'duration_ms': 240125, 'explicit': False, 'external_urls': {'spotify': 'https://open.spotify.com/track/7bJl4FKN2Hvj3SCQRJWWFa'}, 'href': 'https://api.spotify.com/v1/tracks/7bJl4FKN2Hvj3SCQRJWWFa', 'id': '7bJl4FKN2Hvj3SCQRJWWFa', 'is_local': False, 'name': 'Dying For You', 'preview_url': 'https://p.scdn.co/mp3-preview/896bbff410feb3cb2a076eaca0994b65f75b462c?cid=b60b5dc276ba4ef2bcd8afa267744726', 'track_number': 8, 'type': 'track', 'uri': 'spotify:track:7bJl4FKN2Hvj3SCQRJWWFa'}, {'artists': [{'external_urls': {'spotify': 'https://open.spotify.com/artist/5ZbRDyTYX4HhXveONcZQn2'}, 'href': 'https://api.spotify.com/v1/artists/5ZbRDyTYX4HhXveONcZQn2', 'id': '5ZbRDyTYX4HhXveONcZQn2', 'name': 'Mystery Skulls', 'type': 'artist', 'uri': 'spotify:artist:5ZbRDyTYX4HhXveONcZQn2'}], 'available_markets': ['AD', 'AE', 'AG', 'AL', 'AM', 'AO', 'AR', 'AT', 'AU', 'AZ', 'BA', 'BB', 'BD', 'BE', 'BF', 'BG', 'BH', 'BI', 'BJ', 'BN', 'BO', 'BR', 'BS', 'BT', 'BW', 'BY', 'BZ', 'CA', 'CD', 'CG', 'CH', 'CI', 'CL', 'CM', 'CO', 'CR', 'CV', 'CW', 'CY', 'CZ', 'DE', 'DJ', 'DK', 'DM', 'DO', 'DZ', 'EC', 'EE', 'EG', 'ES', 'FI', 'FJ', 'FM', 'FR', 'GA', 'GB', 'GD', 'GE', 'GH', 'GM', 'GN', 'GQ', 'GR', 'GT', 'GW', 'GY', 'HK', 'HN', 'HR', 'HT', 'HU', 'ID', 'IE', 'IL', 'IN', 'IQ', 'IS', 'IT', 'JM', 'JO', 'JP', 'KE', 'KG', 'KH', 'KI', 'KM', 'KN', 'KR', 'KW', 'KZ', 'LA', 'LB', 'LC', 'LI', 'LK', 'LR', 'LS', 'LT', 'LU', 'LV', 'LY', 'MA', 'MC', 'MD', 'ME', 'MG', 'MH', 'MK', 'ML', 'MN', 'MO', 'MR', 'MT', 'MU', 'MV', 'MW', 'MX', 'MY', 'MZ', 'NA', 'NE', 'NG', 'NI', 'NL', 'NO', 'NP', 'NR', 'NZ', 'OM', 'PA', 'PE', 'PG', 'PH', 'PK', 'PL', 'PS', 'PT', 'PW', 'PY', 'QA', 'RO', 'RS', 'RU', 'RW', 'SA', 'SB', 'SC', 'SE', 'SG', 'SI', 'SK', 'SL', 'SM', 'SN', 'SR', 'ST', 'SV', 'SZ', 'TD', 'TG', 'TH', 'TJ', 'TL', 'TN', 'TO', 'TR', 'TT', 'TV', 'TW', 'TZ', 'UA', 'UG', 'US', 'UY', 'UZ', 'VC', 'VE', 'VN', 'VU', 'WS', 'XK', 'ZA', 'ZM', 'ZW'], 'disc_number': 1, 'duration_ms': 242000, 'explicit': False, 'external_urls': {'spotify': 'https://open.spotify.com/track/6rUKAFuGr9OJvgHjKppqEG'}, 'href': 'https://api.spotify.com/v1/tracks/6rUKAFuGr9OJvgHjKppqEG', 'id': '6rUKAFuGr9OJvgHjKppqEG', 'is_local': False, 'name': 'In My Dreams', 'preview_url': 'https://p.scdn.co/mp3-preview/e74b78d584d405eb82c7652d911dfb4ff8bc2438?cid=b60b5dc276ba4ef2bcd8afa267744726', 'track_number': 9, 'type': 'track', 'uri': 'spotify:track:6rUKAFuGr9OJvgHjKppqEG'}, {'artists': [{'external_urls': {'spotify': 'https://open.spotify.com/artist/5ZbRDyTYX4HhXveONcZQn2'}, 'href': 'https://api.spotify.com/v1/artists/5ZbRDyTYX4HhXveONcZQn2', 'id': '5ZbRDyTYX4HhXveONcZQn2', 'name': 'Mystery Skulls', 'type': 'artist', 'uri': 'spotify:artist:5ZbRDyTYX4HhXveONcZQn2'}], 'available_markets': ['AD', 'AE', 'AG', 'AL', 'AM', 'AO', 'AR', 'AT', 'AU', 'AZ', 'BA', 'BB', 'BD', 'BE', 'BF', 'BG', 'BH', 'BI', 'BJ', 'BN', 'BO', 'BR', 'BS', 'BT', 'BW', 'BY', 'BZ', 'CA', 'CD', 'CG', 'CH', 'CI', 'CL', 'CM', 'CO', 'CR', 'CV', 'CW', 'CY', 'CZ', 'DE', 'DJ', 'DK', 'DM', 'DO', 'DZ', 'EC', 'EE', 'EG', 'ES', 'FI', 'FJ', 'FM', 'FR', 'GA', 'GB', 'GD', 'GE', 'GH', 'GM', 'GN', 'GQ', 'GR', 'GT', 'GW', 'GY', 'HK', 'HN', 'HR', 'HT', 'HU', 'ID', 'IE', 'IL', 'IN', 'IQ', 'IS', 'IT', 'JM', 'JO', 'JP', 'KE', 'KG', 'KH', 'KI', 'KM', 'KN', 'KR', 'KW', 'KZ', 'LA', 'LB', 'LC', 'LI', 'LK', 'LR', 'LS', 'LT', 'LU', 'LV', 'LY', 'MA', 'MC', 'MD', 'ME', 'MG', 'MH', 'MK', 'ML', 'MN', 'MO', 'MR', 'MT', 'MU', 'MV', 'MW', 'MX', 'MY', 'MZ', 'NA', 'NE', 'NG', 'NI', 'NL', 'NO', 'NP', 'NR', 'NZ', 'OM', 'PA', 'PE', 'PG', 'PH', 'PK', 'PL', 'PS', 'PT', 'PW', 'PY', 'QA', 'RO', 'RS', 'RU', 'RW', 'SA', 'SB', 'SC', 'SE', 'SG', 'SI', 'SK', 'SL', 'SM', 'SN', 'SR', 'ST', 'SV', 'SZ', 'TD', 'TG', 'TH', 'TJ', 'TL', 'TN', 'TO', 'TR', 'TT', 'TV', 'TW', 'TZ', 'UA', 'UG', 'US', 'UY', 'UZ', 'VC', 'VE', 'VN', 'VU', 'WS', 'XK', 'ZA', 'ZM', 'ZW'], 'disc_number': 1, 'duration_ms': 230000, 'explicit': True, 'external_urls': {'spotify': 'https://open.spotify.com/track/1bq7TmGGfBoiQ0YlUGggnp'}, 'href': 'https://api.spotify.com/v1/tracks/1bq7TmGGfBoiQ0YlUGggnp', 'id': '1bq7TmGGfBoiQ0YlUGggnp', 'is_local': False, 'name': 'Everything and More', 'preview_url': 'https://p.scdn.co/mp3-preview/bbeef2e5409fe30082de1102363b37f1c67b2439?cid=b60b5dc276ba4ef2bcd8afa267744726', 'track_number': 10, 'type': 'track', 'uri': 'spotify:track:1bq7TmGGfBoiQ0YlUGggnp'}, {'artists': [{'external_urls': {'spotify': 'https://open.spotify.com/artist/5ZbRDyTYX4HhXveONcZQn2'}, 'href': 'https://api.spotify.com/v1/artists/5ZbRDyTYX4HhXveONcZQn2', 'id': '5ZbRDyTYX4HhXveONcZQn2', 'name': 'Mystery Skulls', 'type': 'artist', 'uri': 'spotify:artist:5ZbRDyTYX4HhXveONcZQn2'}], 'available_markets': ['AD', 'AE', 'AG', 'AL', 'AM', 'AO', 'AR', 'AT', 'AU', 'AZ', 'BA', 'BB', 'BD', 'BE', 'BF', 'BG', 'BH', 'BI', 'BJ', 'BN', 'BO', 'BR', 'BS', 'BT', 'BW', 'BY', 'BZ', 'CA', 'CD', 'CG', 'CH', 'CI', 'CL', 'CM', 'CO', 'CR', 'CV', 'CW', 'CY', 'CZ', 'DE', 'DJ', 'DK', 'DM', 'DO', 'DZ', 'EC', 'EE', 'EG', 'ES', 'FI', 'FJ', 'FM', 'FR', 'GA', 'GB', 'GD', 'GE', 'GH', 'GM', 'GN', 'GQ', 'GR', 'GT', 'GW', 'GY', 'HK', 'HN', 'HR', 'HT', 'HU', 'ID', 'IE', 'IL', 'IN', 'IQ', 'IS', 'IT', 'JM', 'JO', 'JP', 'KE', 'KG', 'KH', 'KI', 'KM', 'KN', 'KR', 'KW', 'KZ', 'LA', 'LB', 'LC', 'LI', 'LK', 'LR', 'LS', 'LT', 'LU', 'LV', 'LY', 'MA', 'MC', 'MD', 'ME', 'MG', 'MH', 'MK', 'ML', 'MN', 'MO', 'MR', 'MT', 'MU', 'MV', 'MW', 'MX', 'MY', 'MZ', 'NA', 'NE', 'NG', 'NI', 'NL', 'NO', 'NP', 'NR', 'NZ', 'OM', 'PA', 'PE', 'PG', 'PH', 'PK', 'PL', 'PS', 'PT', 'PW', 'PY', 'QA', 'RO', 'RS', 'RU', 'RW', 'SA', 'SB', 'SC', 'SE', 'SG', 'SI', 'SK', 'SL', 'SM', 'SN', 'SR', 'ST', 'SV', 'SZ', 'TD', 'TG', 'TH', 'TJ', 'TL', 'TN', 'TO', 'TR', 'TT', 'TV', 'TW', 'TZ', 'UA', 'UG', 'US', 'UY', 'UZ', 'VC', 'VE', 'VN', 'VU', 'WS', 'XK', 'ZA', 'ZM', 'ZW'], 'disc_number': 1, 'duration_ms': 185000, 'explicit': True, 'external_urls': {'spotify': 'https://open.spotify.com/track/3Ze1UU1Jb7wkzcWkiOUYCN'}, 'href': 'https://api.spotify.com/v1/tracks/3Ze1UU1Jb7wkzcWkiOUYCN', 'id': '3Ze1UU1Jb7wkzcWkiOUYCN', 'is_local': False, 'name': 'Stronger', 'preview_url': 'https://p.scdn.co/mp3-preview/06b44b2f485667c370c518a94e20ec2899d739e4?cid=b60b5dc276ba4ef2bcd8afa267744726', 'track_number': 11, 'type': 'track', 'uri': 'spotify:track:3Ze1UU1Jb7wkzcWkiOUYCN'}, {'artists': [{'external_urls': {'spotify': 'https://open.spotify.com/artist/5ZbRDyTYX4HhXveONcZQn2'}, 'href': 'https://api.spotify.com/v1/artists/5ZbRDyTYX4HhXveONcZQn2', 'id': '5ZbRDyTYX4HhXveONcZQn2', 'name': 'Mystery Skulls', 'type': 'artist', 'uri': 'spotify:artist:5ZbRDyTYX4HhXveONcZQn2'}], 'available_markets': ['AD', 'AE', 'AG', 'AL', 'AM', 'AO', 'AR', 'AT', 'AU', 'AZ', 'BA', 'BB', 'BD', 'BE', 'BF', 'BG', 'BH', 'BI', 'BJ', 'BN', 'BO', 'BR', 'BS', 'BT', 'BW', 'BY', 'BZ', 'CA', 'CD', 'CG', 'CH', 'CI', 'CL', 'CM', 'CO', 'CR', 'CV', 'CW', 'CY', 'CZ', 'DE', 'DJ', 'DK', 'DM', 'DO', 'DZ', 'EC', 'EE', 'EG', 'ES', 'FI', 'FJ', 'FM', 'FR', 'GA', 'GB', 'GD', 'GE', 'GH', 'GM', 'GN', 'GQ', 'GR', 'GT', 'GW', 'GY', 'HK', 'HN', 'HR', 'HT', 'HU', 'ID', 'IE', 'IL', 'IN', 'IQ', 'IS', 'IT', 'JM', 'JO', 'JP', 'KE', 'KG', 'KH', 'KI', 'KM', 'KN', 'KR', 'KW', 'KZ', 'LA', 'LB', 'LC', 'LI', 'LK', 'LR', 'LS', 'LT', 'LU', 'LV', 'LY', 'MA', 'MC', 'MD', 'ME', 'MG', 'MH', 'MK', 'ML', 'MN', 'MO', 'MR', 'MT', 'MU', 'MV', 'MW', 'MX', 'MY', 'MZ', 'NA', 'NE', 'NG', 'NI', 'NL', 'NO', 'NP', 'NR', 'NZ', 'OM', 'PA', 'PE', 'PG', 'PH', 'PK', 'PL', 'PS', 'PT', 'PW', 'PY', 'QA', 'RO', 'RS', 'RU', 'RW', 'SA', 'SB', 'SC', 'SE', 'SG', 'SI', 'SK', 'SL', 'SM', 'SN', 'SR', 'ST', 'SV', 'SZ', 'TD', 'TG', 'TH', 'TJ', 'TL', 'TN', 'TO', 'TR', 'TT', 'TV', 'TW', 'TZ', 'UA', 'UG', 'US', 'UY', 'UZ', 'VC', 'VE', 'VN', 'VU', 'WS', 'XK', 'ZA', 'ZM', 'ZW'], 'disc_number': 1, 'duration_ms': 157948, 'explicit': False, 'external_urls': {'spotify': 'https://open.spotify.com/track/3oQl9l5jJC4aMI7c9JEkJJ'}, 'href': 'https://api.spotify.com/v1/tracks/3oQl9l5jJC4aMI7c9JEkJJ', 'id': '3oQl9l5jJC4aMI7c9JEkJJ', 'is_local': False, 'name': 'Its Mine', 'preview_url': 'https://p.scdn.co/mp3-preview/99922dfa051647ed5c7dd020d65abc2ac1386795?cid=b60b5dc276ba4ef2bcd8afa267744726', 'track_number': 12, 'type': 'track', 'uri': 'spotify:track:3oQl9l5jJC4aMI7c9JEkJJ'}], 'limit': 50, 'next': None, 'offset': 0, 'previous': None, 'total': 12}\n",
            "type  //  album\n",
            "uri  //  spotify:album:0ZOlC4fldjBdSBnEbX6R9A\n"
          ]
        }
      ]
    },
    {
      "cell_type": "code",
      "source": [
        ""
      ],
      "metadata": {
        "id": "IvduBo3Vjzjc"
      },
      "execution_count": null,
      "outputs": []
    }
  ]
}