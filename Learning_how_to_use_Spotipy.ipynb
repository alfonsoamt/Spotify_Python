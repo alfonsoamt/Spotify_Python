{
  "nbformat": 4,
  "nbformat_minor": 0,
  "metadata": {
    "colab": {
      "name": "Learning how to use Spotipy.ipynb",
      "provenance": [],
      "toc_visible": true,
      "authorship_tag": "ABX9TyNeMBiALXgvq0QL7eiIFhZs",
      "include_colab_link": true
    },
    "kernelspec": {
      "name": "python3",
      "display_name": "Python 3"
    },
    "language_info": {
      "name": "python"
    }
  },
  "cells": [
    {
      "cell_type": "markdown",
      "metadata": {
        "id": "view-in-github",
        "colab_type": "text"
      },
      "source": [
        "<a href=\"https://colab.research.google.com/github/alfonsoamt/Spotify_Python/blob/main/Learning_how_to_use_Spotipy.ipynb\" target=\"_parent\"><img src=\"https://colab.research.google.com/assets/colab-badge.svg\" alt=\"Open In Colab\"/></a>"
      ]
    },
    {
      "cell_type": "markdown",
      "source": [
        "# **Spotipy**\n",
        "\n",
        "**Spotipy** es una librería de **Python** que nos permite utilizar la **API** de **Spotify**. En este notebook se exploran las diferentes funcionalidades de la librería para posteriormente hacer una extracción de datos de playlists o las caniones más escuchadas de algún usuario. "
      ],
      "metadata": {
        "id": "dKZelzGX-_kv"
      }
    },
    {
      "cell_type": "code",
      "source": [
        "!pip install spotipy"
      ],
      "metadata": {
        "colab": {
          "base_uri": "https://localhost:8080/"
        },
        "id": "xhgzifDlfd1b",
        "outputId": "5098ffaf-ad9e-4be0-bfa2-fd2345dbd903"
      },
      "execution_count": 1,
      "outputs": [
        {
          "output_type": "stream",
          "name": "stdout",
          "text": [
            "Collecting spotipy\n",
            "  Downloading spotipy-2.19.0-py3-none-any.whl (27 kB)\n",
            "Collecting requests>=2.25.0\n",
            "  Downloading requests-2.27.1-py2.py3-none-any.whl (63 kB)\n",
            "\u001b[?25l\r\u001b[K     |█████▏                          | 10 kB 22.5 MB/s eta 0:00:01\r\u001b[K     |██████████▍                     | 20 kB 28.9 MB/s eta 0:00:01\r\u001b[K     |███████████████▋                | 30 kB 31.8 MB/s eta 0:00:01\r\u001b[K     |████████████████████▊           | 40 kB 21.7 MB/s eta 0:00:01\r\u001b[K     |██████████████████████████      | 51 kB 25.0 MB/s eta 0:00:01\r\u001b[K     |███████████████████████████████▏| 61 kB 9.1 MB/s eta 0:00:01\r\u001b[K     |████████████████████████████████| 63 kB 1.6 MB/s \n",
            "\u001b[?25hRequirement already satisfied: six>=1.15.0 in /usr/local/lib/python3.7/dist-packages (from spotipy) (1.15.0)\n",
            "Collecting urllib3>=1.26.0\n",
            "  Downloading urllib3-1.26.8-py2.py3-none-any.whl (138 kB)\n",
            "\u001b[K     |████████████████████████████████| 138 kB 15.4 MB/s \n",
            "\u001b[?25hRequirement already satisfied: idna<4,>=2.5 in /usr/local/lib/python3.7/dist-packages (from requests>=2.25.0->spotipy) (2.10)\n",
            "Requirement already satisfied: charset-normalizer~=2.0.0 in /usr/local/lib/python3.7/dist-packages (from requests>=2.25.0->spotipy) (2.0.10)\n",
            "Requirement already satisfied: certifi>=2017.4.17 in /usr/local/lib/python3.7/dist-packages (from requests>=2.25.0->spotipy) (2021.10.8)\n",
            "Installing collected packages: urllib3, requests, spotipy\n",
            "  Attempting uninstall: urllib3\n",
            "    Found existing installation: urllib3 1.24.3\n",
            "    Uninstalling urllib3-1.24.3:\n",
            "      Successfully uninstalled urllib3-1.24.3\n",
            "  Attempting uninstall: requests\n",
            "    Found existing installation: requests 2.23.0\n",
            "    Uninstalling requests-2.23.0:\n",
            "      Successfully uninstalled requests-2.23.0\n",
            "\u001b[31mERROR: pip's dependency resolver does not currently take into account all the packages that are installed. This behaviour is the source of the following dependency conflicts.\n",
            "google-colab 1.0.0 requires requests~=2.23.0, but you have requests 2.27.1 which is incompatible.\n",
            "datascience 0.10.6 requires folium==0.2.1, but you have folium 0.8.3 which is incompatible.\u001b[0m\n",
            "Successfully installed requests-2.27.1 spotipy-2.19.0 urllib3-1.26.8\n"
          ]
        }
      ]
    },
    {
      "cell_type": "code",
      "execution_count": 2,
      "metadata": {
        "id": "mRrytiLX8BQT"
      },
      "outputs": [],
      "source": [
        "import spotipy\n",
        "from spotipy.oauth2 import SpotifyClientCredentials"
      ]
    },
    {
      "cell_type": "markdown",
      "source": [
        "Primero se trabaja con la autenticación, que es lo que nos permite acceder a la infroamció de nuestra aplicación que accede a la API. Para la autenticación es necesario mostrar las credenciales de la app; `client_id` y `client_secret`."
      ],
      "metadata": {
        "id": "SeAlA9NdD8oZ"
      }
    },
    {
      "cell_type": "code",
      "source": [
        "SPOTIPY_CLIENT_ID = \"b60b5dc276ba4ef2bcd8afa267744726\"\n",
        "SPOTIPY_CLIENT_SECRET = \"37d13316a4d34f248a778463aef6eadf\""
      ],
      "metadata": {
        "id": "M02OOaxKDE2F"
      },
      "execution_count": 3,
      "outputs": []
    },
    {
      "cell_type": "code",
      "source": [
        "auth_manager = SpotifyClientCredentials(client_id  = SPOTIPY_CLIENT_ID, client_secret = SPOTIPY_CLIENT_SECRET)\n",
        "sp = spotipy.Spotify(auth_manager=auth_manager)"
      ],
      "metadata": {
        "id": "KF_-0XfNGkd6"
      },
      "execution_count": 4,
      "outputs": []
    },
    {
      "cell_type": "code",
      "source": [
        "# Album\n",
        "album_sample_url = \"https://open.spotify.com/album/0ZOlC4fldjBdSBnEbX6R9A?si=hFIDZ1RBSMy_v6gbRtbKWw\"\n",
        "album_sample = sp.album(album_sample_url)\n",
        "type(album_sample)"
      ],
      "metadata": {
        "id": "Pk7I_TnyHliB",
        "colab": {
          "base_uri": "https://localhost:8080/"
        },
        "outputId": "7b09edc5-fff2-429a-f4b4-3e4131a59252"
      },
      "execution_count": 5,
      "outputs": [
        {
          "output_type": "execute_result",
          "data": {
            "text/plain": [
              "dict"
            ]
          },
          "metadata": {},
          "execution_count": 5
        }
      ]
    },
    {
      "cell_type": "code",
      "source": [
        "for key,value in album_sample.items():\n",
        "  print(key,\" // \", value)"
      ],
      "metadata": {
        "colab": {
          "base_uri": "https://localhost:8080/"
        },
        "id": "7KnfCIoEdv0B",
        "outputId": "250660d2-05dc-407f-a719-d6620d0adf37"
      },
      "execution_count": 6,
      "outputs": [
        {
          "output_type": "stream",
          "name": "stdout",
          "text": [
            "album_type  //  album\n",
            "artists  //  [{'external_urls': {'spotify': 'https://open.spotify.com/artist/5ZbRDyTYX4HhXveONcZQn2'}, 'href': 'https://api.spotify.com/v1/artists/5ZbRDyTYX4HhXveONcZQn2', 'id': '5ZbRDyTYX4HhXveONcZQn2', 'name': 'Mystery Skulls', 'type': 'artist', 'uri': 'spotify:artist:5ZbRDyTYX4HhXveONcZQn2'}]\n",
            "available_markets  //  ['AD', 'AE', 'AG', 'AL', 'AM', 'AO', 'AR', 'AT', 'AU', 'AZ', 'BA', 'BB', 'BD', 'BE', 'BF', 'BG', 'BH', 'BI', 'BJ', 'BN', 'BO', 'BR', 'BS', 'BT', 'BW', 'BY', 'BZ', 'CA', 'CD', 'CG', 'CH', 'CI', 'CL', 'CM', 'CO', 'CR', 'CV', 'CW', 'CY', 'CZ', 'DE', 'DJ', 'DK', 'DM', 'DO', 'DZ', 'EC', 'EE', 'EG', 'ES', 'FI', 'FJ', 'FM', 'FR', 'GA', 'GB', 'GD', 'GE', 'GH', 'GM', 'GN', 'GQ', 'GR', 'GT', 'GW', 'GY', 'HK', 'HN', 'HR', 'HT', 'HU', 'ID', 'IE', 'IL', 'IN', 'IQ', 'IS', 'IT', 'JM', 'JO', 'JP', 'KE', 'KG', 'KH', 'KI', 'KM', 'KN', 'KR', 'KW', 'KZ', 'LA', 'LB', 'LC', 'LI', 'LK', 'LR', 'LS', 'LT', 'LU', 'LV', 'LY', 'MA', 'MC', 'MD', 'ME', 'MG', 'MH', 'MK', 'ML', 'MN', 'MO', 'MR', 'MT', 'MU', 'MV', 'MW', 'MX', 'MY', 'MZ', 'NA', 'NE', 'NG', 'NI', 'NL', 'NO', 'NP', 'NR', 'NZ', 'OM', 'PA', 'PE', 'PG', 'PH', 'PK', 'PL', 'PS', 'PT', 'PW', 'PY', 'QA', 'RO', 'RS', 'RU', 'RW', 'SA', 'SB', 'SC', 'SE', 'SG', 'SI', 'SK', 'SL', 'SM', 'SN', 'SR', 'ST', 'SV', 'SZ', 'TD', 'TG', 'TH', 'TJ', 'TL', 'TN', 'TO', 'TR', 'TT', 'TV', 'TW', 'TZ', 'UA', 'UG', 'US', 'UY', 'UZ', 'VC', 'VE', 'VN', 'VU', 'WS', 'XK', 'ZA', 'ZM', 'ZW']\n",
            "copyrights  //  [{'text': '2019 MysterySkulls Music', 'type': 'P'}]\n",
            "external_ids  //  {'upc': '193436134897'}\n",
            "external_urls  //  {'spotify': 'https://open.spotify.com/album/0ZOlC4fldjBdSBnEbX6R9A'}\n",
            "genres  //  []\n",
            "href  //  https://api.spotify.com/v1/albums/0ZOlC4fldjBdSBnEbX6R9A\n",
            "id  //  0ZOlC4fldjBdSBnEbX6R9A\n",
            "images  //  [{'height': 640, 'url': 'https://i.scdn.co/image/ab67616d0000b273d73a81c7c96b3775f3cb98a3', 'width': 640}, {'height': 300, 'url': 'https://i.scdn.co/image/ab67616d00001e02d73a81c7c96b3775f3cb98a3', 'width': 300}, {'height': 64, 'url': 'https://i.scdn.co/image/ab67616d00004851d73a81c7c96b3775f3cb98a3', 'width': 64}]\n",
            "label  //  MysterySkulls Music\n",
            "name  //  Back To Life\n",
            "popularity  //  50\n",
            "release_date  //  2019-04-19\n",
            "release_date_precision  //  day\n",
            "total_tracks  //  12\n",
            "tracks  //  {'href': 'https://api.spotify.com/v1/albums/0ZOlC4fldjBdSBnEbX6R9A/tracks?offset=0&limit=50', 'items': [{'artists': [{'external_urls': {'spotify': 'https://open.spotify.com/artist/5ZbRDyTYX4HhXveONcZQn2'}, 'href': 'https://api.spotify.com/v1/artists/5ZbRDyTYX4HhXveONcZQn2', 'id': '5ZbRDyTYX4HhXveONcZQn2', 'name': 'Mystery Skulls', 'type': 'artist', 'uri': 'spotify:artist:5ZbRDyTYX4HhXveONcZQn2'}], 'available_markets': ['AD', 'AE', 'AG', 'AL', 'AM', 'AO', 'AR', 'AT', 'AU', 'AZ', 'BA', 'BB', 'BD', 'BE', 'BF', 'BG', 'BH', 'BI', 'BJ', 'BN', 'BO', 'BR', 'BS', 'BT', 'BW', 'BY', 'BZ', 'CA', 'CD', 'CG', 'CH', 'CI', 'CL', 'CM', 'CO', 'CR', 'CV', 'CW', 'CY', 'CZ', 'DE', 'DJ', 'DK', 'DM', 'DO', 'DZ', 'EC', 'EE', 'EG', 'ES', 'FI', 'FJ', 'FM', 'FR', 'GA', 'GB', 'GD', 'GE', 'GH', 'GM', 'GN', 'GQ', 'GR', 'GT', 'GW', 'GY', 'HK', 'HN', 'HR', 'HT', 'HU', 'ID', 'IE', 'IL', 'IN', 'IQ', 'IS', 'IT', 'JM', 'JO', 'JP', 'KE', 'KG', 'KH', 'KI', 'KM', 'KN', 'KR', 'KW', 'KZ', 'LA', 'LB', 'LC', 'LI', 'LK', 'LR', 'LS', 'LT', 'LU', 'LV', 'LY', 'MA', 'MC', 'MD', 'ME', 'MG', 'MH', 'MK', 'ML', 'MN', 'MO', 'MR', 'MT', 'MU', 'MV', 'MW', 'MX', 'MY', 'MZ', 'NA', 'NE', 'NG', 'NI', 'NL', 'NO', 'NP', 'NR', 'NZ', 'OM', 'PA', 'PE', 'PG', 'PH', 'PK', 'PL', 'PS', 'PT', 'PW', 'PY', 'QA', 'RO', 'RS', 'RU', 'RW', 'SA', 'SB', 'SC', 'SE', 'SG', 'SI', 'SK', 'SL', 'SM', 'SN', 'SR', 'ST', 'SV', 'SZ', 'TD', 'TG', 'TH', 'TJ', 'TL', 'TN', 'TO', 'TR', 'TT', 'TV', 'TW', 'TZ', 'UA', 'UG', 'US', 'UY', 'UZ', 'VC', 'VE', 'VN', 'VU', 'WS', 'XK', 'ZA', 'ZM', 'ZW'], 'disc_number': 1, 'duration_ms': 108631, 'explicit': False, 'external_urls': {'spotify': 'https://open.spotify.com/track/21paFxL9gudhwBBYoZWah1'}, 'href': 'https://api.spotify.com/v1/tracks/21paFxL9gudhwBBYoZWah1', 'id': '21paFxL9gudhwBBYoZWah1', 'is_local': False, 'name': 'Memory', 'preview_url': 'https://p.scdn.co/mp3-preview/e55ba4182a045603ffe7aea38eea5eaed1f837fa?cid=b60b5dc276ba4ef2bcd8afa267744726', 'track_number': 1, 'type': 'track', 'uri': 'spotify:track:21paFxL9gudhwBBYoZWah1'}, {'artists': [{'external_urls': {'spotify': 'https://open.spotify.com/artist/5ZbRDyTYX4HhXveONcZQn2'}, 'href': 'https://api.spotify.com/v1/artists/5ZbRDyTYX4HhXveONcZQn2', 'id': '5ZbRDyTYX4HhXveONcZQn2', 'name': 'Mystery Skulls', 'type': 'artist', 'uri': 'spotify:artist:5ZbRDyTYX4HhXveONcZQn2'}], 'available_markets': ['AD', 'AE', 'AG', 'AL', 'AM', 'AO', 'AR', 'AT', 'AU', 'AZ', 'BA', 'BB', 'BD', 'BE', 'BF', 'BG', 'BH', 'BI', 'BJ', 'BN', 'BO', 'BR', 'BS', 'BT', 'BW', 'BY', 'BZ', 'CA', 'CD', 'CG', 'CH', 'CI', 'CL', 'CM', 'CO', 'CR', 'CV', 'CW', 'CY', 'CZ', 'DE', 'DJ', 'DK', 'DM', 'DO', 'DZ', 'EC', 'EE', 'EG', 'ES', 'FI', 'FJ', 'FM', 'FR', 'GA', 'GB', 'GD', 'GE', 'GH', 'GM', 'GN', 'GQ', 'GR', 'GT', 'GW', 'GY', 'HK', 'HN', 'HR', 'HT', 'HU', 'ID', 'IE', 'IL', 'IN', 'IQ', 'IS', 'IT', 'JM', 'JO', 'JP', 'KE', 'KG', 'KH', 'KI', 'KM', 'KN', 'KR', 'KW', 'KZ', 'LA', 'LB', 'LC', 'LI', 'LK', 'LR', 'LS', 'LT', 'LU', 'LV', 'LY', 'MA', 'MC', 'MD', 'ME', 'MG', 'MH', 'MK', 'ML', 'MN', 'MO', 'MR', 'MT', 'MU', 'MV', 'MW', 'MX', 'MY', 'MZ', 'NA', 'NE', 'NG', 'NI', 'NL', 'NO', 'NP', 'NR', 'NZ', 'OM', 'PA', 'PE', 'PG', 'PH', 'PK', 'PL', 'PS', 'PT', 'PW', 'PY', 'QA', 'RO', 'RS', 'RU', 'RW', 'SA', 'SB', 'SC', 'SE', 'SG', 'SI', 'SK', 'SL', 'SM', 'SN', 'SR', 'ST', 'SV', 'SZ', 'TD', 'TG', 'TH', 'TJ', 'TL', 'TN', 'TO', 'TR', 'TT', 'TV', 'TW', 'TZ', 'UA', 'UG', 'US', 'UY', 'UZ', 'VC', 'VE', 'VN', 'VU', 'WS', 'XK', 'ZA', 'ZM', 'ZW'], 'disc_number': 1, 'duration_ms': 157250, 'explicit': True, 'external_urls': {'spotify': 'https://open.spotify.com/track/6fecxwRD74xNT3XRjREIiB'}, 'href': 'https://api.spotify.com/v1/tracks/6fecxwRD74xNT3XRjREIiB', 'id': '6fecxwRD74xNT3XRjREIiB', 'is_local': False, 'name': \"Don't Fuck With My Money\", 'preview_url': 'https://p.scdn.co/mp3-preview/137de80f9c9d6abe75fc5125ff0a8136f496d504?cid=b60b5dc276ba4ef2bcd8afa267744726', 'track_number': 2, 'type': 'track', 'uri': 'spotify:track:6fecxwRD74xNT3XRjREIiB'}, {'artists': [{'external_urls': {'spotify': 'https://open.spotify.com/artist/5ZbRDyTYX4HhXveONcZQn2'}, 'href': 'https://api.spotify.com/v1/artists/5ZbRDyTYX4HhXveONcZQn2', 'id': '5ZbRDyTYX4HhXveONcZQn2', 'name': 'Mystery Skulls', 'type': 'artist', 'uri': 'spotify:artist:5ZbRDyTYX4HhXveONcZQn2'}], 'available_markets': ['AD', 'AE', 'AG', 'AL', 'AM', 'AO', 'AR', 'AT', 'AU', 'AZ', 'BA', 'BB', 'BD', 'BE', 'BF', 'BG', 'BH', 'BI', 'BJ', 'BN', 'BO', 'BR', 'BS', 'BT', 'BW', 'BY', 'BZ', 'CA', 'CD', 'CG', 'CH', 'CI', 'CL', 'CM', 'CO', 'CR', 'CV', 'CW', 'CY', 'CZ', 'DE', 'DJ', 'DK', 'DM', 'DO', 'DZ', 'EC', 'EE', 'EG', 'ES', 'FI', 'FJ', 'FM', 'FR', 'GA', 'GB', 'GD', 'GE', 'GH', 'GM', 'GN', 'GQ', 'GR', 'GT', 'GW', 'GY', 'HK', 'HN', 'HR', 'HT', 'HU', 'ID', 'IE', 'IL', 'IN', 'IQ', 'IS', 'IT', 'JM', 'JO', 'JP', 'KE', 'KG', 'KH', 'KI', 'KM', 'KN', 'KR', 'KW', 'KZ', 'LA', 'LB', 'LC', 'LI', 'LK', 'LR', 'LS', 'LT', 'LU', 'LV', 'LY', 'MA', 'MC', 'MD', 'ME', 'MG', 'MH', 'MK', 'ML', 'MN', 'MO', 'MR', 'MT', 'MU', 'MV', 'MW', 'MX', 'MY', 'MZ', 'NA', 'NE', 'NG', 'NI', 'NL', 'NO', 'NP', 'NR', 'NZ', 'OM', 'PA', 'PE', 'PG', 'PH', 'PK', 'PL', 'PS', 'PT', 'PW', 'PY', 'QA', 'RO', 'RS', 'RU', 'RW', 'SA', 'SB', 'SC', 'SE', 'SG', 'SI', 'SK', 'SL', 'SM', 'SN', 'SR', 'ST', 'SV', 'SZ', 'TD', 'TG', 'TH', 'TJ', 'TL', 'TN', 'TO', 'TR', 'TT', 'TV', 'TW', 'TZ', 'UA', 'UG', 'US', 'UY', 'UZ', 'VC', 'VE', 'VN', 'VU', 'WS', 'XK', 'ZA', 'ZM', 'ZW'], 'disc_number': 1, 'duration_ms': 218000, 'explicit': False, 'external_urls': {'spotify': 'https://open.spotify.com/track/7K6UUIAOgwZj3c1t6DefdY'}, 'href': 'https://api.spotify.com/v1/tracks/7K6UUIAOgwZj3c1t6DefdY', 'id': '7K6UUIAOgwZj3c1t6DefdY', 'is_local': False, 'name': 'What Love Is', 'preview_url': 'https://p.scdn.co/mp3-preview/bba55de782ba8ca1a2dc1c2df62fad6dfb4dcdcf?cid=b60b5dc276ba4ef2bcd8afa267744726', 'track_number': 3, 'type': 'track', 'uri': 'spotify:track:7K6UUIAOgwZj3c1t6DefdY'}, {'artists': [{'external_urls': {'spotify': 'https://open.spotify.com/artist/5ZbRDyTYX4HhXveONcZQn2'}, 'href': 'https://api.spotify.com/v1/artists/5ZbRDyTYX4HhXveONcZQn2', 'id': '5ZbRDyTYX4HhXveONcZQn2', 'name': 'Mystery Skulls', 'type': 'artist', 'uri': 'spotify:artist:5ZbRDyTYX4HhXveONcZQn2'}], 'available_markets': ['AD', 'AE', 'AG', 'AL', 'AM', 'AO', 'AR', 'AT', 'AU', 'AZ', 'BA', 'BB', 'BD', 'BE', 'BF', 'BG', 'BH', 'BI', 'BJ', 'BN', 'BO', 'BR', 'BS', 'BT', 'BW', 'BY', 'BZ', 'CA', 'CD', 'CG', 'CH', 'CI', 'CL', 'CM', 'CO', 'CR', 'CV', 'CW', 'CY', 'CZ', 'DE', 'DJ', 'DK', 'DM', 'DO', 'DZ', 'EC', 'EE', 'EG', 'ES', 'FI', 'FJ', 'FM', 'FR', 'GA', 'GB', 'GD', 'GE', 'GH', 'GM', 'GN', 'GQ', 'GR', 'GT', 'GW', 'GY', 'HK', 'HN', 'HR', 'HT', 'HU', 'ID', 'IE', 'IL', 'IN', 'IQ', 'IS', 'IT', 'JM', 'JO', 'JP', 'KE', 'KG', 'KH', 'KI', 'KM', 'KN', 'KR', 'KW', 'KZ', 'LA', 'LB', 'LC', 'LI', 'LK', 'LR', 'LS', 'LT', 'LU', 'LV', 'LY', 'MA', 'MC', 'MD', 'ME', 'MG', 'MH', 'MK', 'ML', 'MN', 'MO', 'MR', 'MT', 'MU', 'MV', 'MW', 'MX', 'MY', 'MZ', 'NA', 'NE', 'NG', 'NI', 'NL', 'NO', 'NP', 'NR', 'NZ', 'OM', 'PA', 'PE', 'PG', 'PH', 'PK', 'PL', 'PS', 'PT', 'PW', 'PY', 'QA', 'RO', 'RS', 'RU', 'RW', 'SA', 'SB', 'SC', 'SE', 'SG', 'SI', 'SK', 'SL', 'SM', 'SN', 'SR', 'ST', 'SV', 'SZ', 'TD', 'TG', 'TH', 'TJ', 'TL', 'TN', 'TO', 'TR', 'TT', 'TV', 'TW', 'TZ', 'UA', 'UG', 'US', 'UY', 'UZ', 'VC', 'VE', 'VN', 'VU', 'WS', 'XK', 'ZA', 'ZM', 'ZW'], 'disc_number': 1, 'duration_ms': 190952, 'explicit': False, 'external_urls': {'spotify': 'https://open.spotify.com/track/2j9JO1SCC21LIBQKzkffhk'}, 'href': 'https://api.spotify.com/v1/tracks/2j9JO1SCC21LIBQKzkffhk', 'id': '2j9JO1SCC21LIBQKzkffhk', 'is_local': False, 'name': 'Without You', 'preview_url': 'https://p.scdn.co/mp3-preview/9d537ad1d46ff17ac9afb4e400e6fdaa5bcb4d9c?cid=b60b5dc276ba4ef2bcd8afa267744726', 'track_number': 4, 'type': 'track', 'uri': 'spotify:track:2j9JO1SCC21LIBQKzkffhk'}, {'artists': [{'external_urls': {'spotify': 'https://open.spotify.com/artist/5ZbRDyTYX4HhXveONcZQn2'}, 'href': 'https://api.spotify.com/v1/artists/5ZbRDyTYX4HhXveONcZQn2', 'id': '5ZbRDyTYX4HhXveONcZQn2', 'name': 'Mystery Skulls', 'type': 'artist', 'uri': 'spotify:artist:5ZbRDyTYX4HhXveONcZQn2'}], 'available_markets': ['AD', 'AE', 'AG', 'AL', 'AM', 'AO', 'AR', 'AT', 'AU', 'AZ', 'BA', 'BB', 'BD', 'BE', 'BF', 'BG', 'BH', 'BI', 'BJ', 'BN', 'BO', 'BR', 'BS', 'BT', 'BW', 'BY', 'BZ', 'CA', 'CD', 'CG', 'CH', 'CI', 'CL', 'CM', 'CO', 'CR', 'CV', 'CW', 'CY', 'CZ', 'DE', 'DJ', 'DK', 'DM', 'DO', 'DZ', 'EC', 'EE', 'EG', 'ES', 'FI', 'FJ', 'FM', 'FR', 'GA', 'GB', 'GD', 'GE', 'GH', 'GM', 'GN', 'GQ', 'GR', 'GT', 'GW', 'GY', 'HK', 'HN', 'HR', 'HT', 'HU', 'ID', 'IE', 'IL', 'IN', 'IQ', 'IS', 'IT', 'JM', 'JO', 'JP', 'KE', 'KG', 'KH', 'KI', 'KM', 'KN', 'KR', 'KW', 'KZ', 'LA', 'LB', 'LC', 'LI', 'LK', 'LR', 'LS', 'LT', 'LU', 'LV', 'LY', 'MA', 'MC', 'MD', 'ME', 'MG', 'MH', 'MK', 'ML', 'MN', 'MO', 'MR', 'MT', 'MU', 'MV', 'MW', 'MX', 'MY', 'MZ', 'NA', 'NE', 'NG', 'NI', 'NL', 'NO', 'NP', 'NR', 'NZ', 'OM', 'PA', 'PE', 'PG', 'PH', 'PK', 'PL', 'PS', 'PT', 'PW', 'PY', 'QA', 'RO', 'RS', 'RU', 'RW', 'SA', 'SB', 'SC', 'SE', 'SG', 'SI', 'SK', 'SL', 'SM', 'SN', 'SR', 'ST', 'SV', 'SZ', 'TD', 'TG', 'TH', 'TJ', 'TL', 'TN', 'TO', 'TR', 'TT', 'TV', 'TW', 'TZ', 'UA', 'UG', 'US', 'UY', 'UZ', 'VC', 'VE', 'VN', 'VU', 'WS', 'XK', 'ZA', 'ZM', 'ZW'], 'disc_number': 1, 'duration_ms': 176146, 'explicit': False, 'external_urls': {'spotify': 'https://open.spotify.com/track/5NptfMnPBChKktA5Z66faw'}, 'href': 'https://api.spotify.com/v1/tracks/5NptfMnPBChKktA5Z66faw', 'id': '5NptfMnPBChKktA5Z66faw', 'is_local': False, 'name': 'Enemy', 'preview_url': 'https://p.scdn.co/mp3-preview/517a54b74ac3e9d64c29e42e574b336a87f6eff6?cid=b60b5dc276ba4ef2bcd8afa267744726', 'track_number': 5, 'type': 'track', 'uri': 'spotify:track:5NptfMnPBChKktA5Z66faw'}, {'artists': [{'external_urls': {'spotify': 'https://open.spotify.com/artist/5ZbRDyTYX4HhXveONcZQn2'}, 'href': 'https://api.spotify.com/v1/artists/5ZbRDyTYX4HhXveONcZQn2', 'id': '5ZbRDyTYX4HhXveONcZQn2', 'name': 'Mystery Skulls', 'type': 'artist', 'uri': 'spotify:artist:5ZbRDyTYX4HhXveONcZQn2'}], 'available_markets': ['AD', 'AE', 'AG', 'AL', 'AM', 'AO', 'AR', 'AT', 'AU', 'AZ', 'BA', 'BB', 'BD', 'BE', 'BF', 'BG', 'BH', 'BI', 'BJ', 'BN', 'BO', 'BR', 'BS', 'BT', 'BW', 'BY', 'BZ', 'CA', 'CD', 'CG', 'CH', 'CI', 'CL', 'CM', 'CO', 'CR', 'CV', 'CW', 'CY', 'CZ', 'DE', 'DJ', 'DK', 'DM', 'DO', 'DZ', 'EC', 'EE', 'EG', 'ES', 'FI', 'FJ', 'FM', 'FR', 'GA', 'GB', 'GD', 'GE', 'GH', 'GM', 'GN', 'GQ', 'GR', 'GT', 'GW', 'GY', 'HK', 'HN', 'HR', 'HT', 'HU', 'ID', 'IE', 'IL', 'IN', 'IQ', 'IS', 'IT', 'JM', 'JO', 'JP', 'KE', 'KG', 'KH', 'KI', 'KM', 'KN', 'KR', 'KW', 'KZ', 'LA', 'LB', 'LC', 'LI', 'LK', 'LR', 'LS', 'LT', 'LU', 'LV', 'LY', 'MA', 'MC', 'MD', 'ME', 'MG', 'MH', 'MK', 'ML', 'MN', 'MO', 'MR', 'MT', 'MU', 'MV', 'MW', 'MX', 'MY', 'MZ', 'NA', 'NE', 'NG', 'NI', 'NL', 'NO', 'NP', 'NR', 'NZ', 'OM', 'PA', 'PE', 'PG', 'PH', 'PK', 'PL', 'PS', 'PT', 'PW', 'PY', 'QA', 'RO', 'RS', 'RU', 'RW', 'SA', 'SB', 'SC', 'SE', 'SG', 'SI', 'SK', 'SL', 'SM', 'SN', 'SR', 'ST', 'SV', 'SZ', 'TD', 'TG', 'TH', 'TJ', 'TL', 'TN', 'TO', 'TR', 'TT', 'TV', 'TW', 'TZ', 'UA', 'UG', 'US', 'UY', 'UZ', 'VC', 'VE', 'VN', 'VU', 'WS', 'XK', 'ZA', 'ZM', 'ZW'], 'disc_number': 1, 'duration_ms': 180000, 'explicit': False, 'external_urls': {'spotify': 'https://open.spotify.com/track/3760Go7UI4B8hgILy8c1Nt'}, 'href': 'https://api.spotify.com/v1/tracks/3760Go7UI4B8hgILy8c1Nt', 'id': '3760Go7UI4B8hgILy8c1Nt', 'is_local': False, 'name': 'Get In The Car', 'preview_url': 'https://p.scdn.co/mp3-preview/df349a2db0db301fc71174c5877f6bfd9cf6a496?cid=b60b5dc276ba4ef2bcd8afa267744726', 'track_number': 6, 'type': 'track', 'uri': 'spotify:track:3760Go7UI4B8hgILy8c1Nt'}, {'artists': [{'external_urls': {'spotify': 'https://open.spotify.com/artist/5ZbRDyTYX4HhXveONcZQn2'}, 'href': 'https://api.spotify.com/v1/artists/5ZbRDyTYX4HhXveONcZQn2', 'id': '5ZbRDyTYX4HhXveONcZQn2', 'name': 'Mystery Skulls', 'type': 'artist', 'uri': 'spotify:artist:5ZbRDyTYX4HhXveONcZQn2'}], 'available_markets': ['AD', 'AE', 'AG', 'AL', 'AM', 'AO', 'AR', 'AT', 'AU', 'AZ', 'BA', 'BB', 'BD', 'BE', 'BF', 'BG', 'BH', 'BI', 'BJ', 'BN', 'BO', 'BR', 'BS', 'BT', 'BW', 'BY', 'BZ', 'CA', 'CD', 'CG', 'CH', 'CI', 'CL', 'CM', 'CO', 'CR', 'CV', 'CW', 'CY', 'CZ', 'DE', 'DJ', 'DK', 'DM', 'DO', 'DZ', 'EC', 'EE', 'EG', 'ES', 'FI', 'FJ', 'FM', 'FR', 'GA', 'GB', 'GD', 'GE', 'GH', 'GM', 'GN', 'GQ', 'GR', 'GT', 'GW', 'GY', 'HK', 'HN', 'HR', 'HT', 'HU', 'ID', 'IE', 'IL', 'IN', 'IQ', 'IS', 'IT', 'JM', 'JO', 'JP', 'KE', 'KG', 'KH', 'KI', 'KM', 'KN', 'KR', 'KW', 'KZ', 'LA', 'LB', 'LC', 'LI', 'LK', 'LR', 'LS', 'LT', 'LU', 'LV', 'LY', 'MA', 'MC', 'MD', 'ME', 'MG', 'MH', 'MK', 'ML', 'MN', 'MO', 'MR', 'MT', 'MU', 'MV', 'MW', 'MX', 'MY', 'MZ', 'NA', 'NE', 'NG', 'NI', 'NL', 'NO', 'NP', 'NR', 'NZ', 'OM', 'PA', 'PE', 'PG', 'PH', 'PK', 'PL', 'PS', 'PT', 'PW', 'PY', 'QA', 'RO', 'RS', 'RU', 'RW', 'SA', 'SB', 'SC', 'SE', 'SG', 'SI', 'SK', 'SL', 'SM', 'SN', 'SR', 'ST', 'SV', 'SZ', 'TD', 'TG', 'TH', 'TJ', 'TL', 'TN', 'TO', 'TR', 'TT', 'TV', 'TW', 'TZ', 'UA', 'UG', 'US', 'UY', 'UZ', 'VC', 'VE', 'VN', 'VU', 'WS', 'XK', 'ZA', 'ZM', 'ZW'], 'disc_number': 1, 'duration_ms': 198000, 'explicit': False, 'external_urls': {'spotify': 'https://open.spotify.com/track/7JXkMlfh2lXZ2tJ7UTRjtH'}, 'href': 'https://api.spotify.com/v1/tracks/7JXkMlfh2lXZ2tJ7UTRjtH', 'id': '7JXkMlfh2lXZ2tJ7UTRjtH', 'is_local': False, 'name': 'Back To Life', 'preview_url': 'https://p.scdn.co/mp3-preview/87269a82fd810afd87a44b0eadaac747468dcdd4?cid=b60b5dc276ba4ef2bcd8afa267744726', 'track_number': 7, 'type': 'track', 'uri': 'spotify:track:7JXkMlfh2lXZ2tJ7UTRjtH'}, {'artists': [{'external_urls': {'spotify': 'https://open.spotify.com/artist/5ZbRDyTYX4HhXveONcZQn2'}, 'href': 'https://api.spotify.com/v1/artists/5ZbRDyTYX4HhXveONcZQn2', 'id': '5ZbRDyTYX4HhXveONcZQn2', 'name': 'Mystery Skulls', 'type': 'artist', 'uri': 'spotify:artist:5ZbRDyTYX4HhXveONcZQn2'}, {'external_urls': {'spotify': 'https://open.spotify.com/artist/6nLpD6tWBhXIbNxVKJC1fH'}, 'href': 'https://api.spotify.com/v1/artists/6nLpD6tWBhXIbNxVKJC1fH', 'id': '6nLpD6tWBhXIbNxVKJC1fH', 'name': 'Snowblood', 'type': 'artist', 'uri': 'spotify:artist:6nLpD6tWBhXIbNxVKJC1fH'}], 'available_markets': ['AD', 'AE', 'AG', 'AL', 'AM', 'AO', 'AR', 'AT', 'AU', 'AZ', 'BA', 'BB', 'BD', 'BE', 'BF', 'BG', 'BH', 'BI', 'BJ', 'BN', 'BO', 'BR', 'BS', 'BT', 'BW', 'BY', 'BZ', 'CA', 'CD', 'CG', 'CH', 'CI', 'CL', 'CM', 'CO', 'CR', 'CV', 'CW', 'CY', 'CZ', 'DE', 'DJ', 'DK', 'DM', 'DO', 'DZ', 'EC', 'EE', 'EG', 'ES', 'FI', 'FJ', 'FM', 'FR', 'GA', 'GB', 'GD', 'GE', 'GH', 'GM', 'GN', 'GQ', 'GR', 'GT', 'GW', 'GY', 'HK', 'HN', 'HR', 'HT', 'HU', 'ID', 'IE', 'IL', 'IN', 'IQ', 'IS', 'IT', 'JM', 'JO', 'JP', 'KE', 'KG', 'KH', 'KI', 'KM', 'KN', 'KR', 'KW', 'KZ', 'LA', 'LB', 'LC', 'LI', 'LK', 'LR', 'LS', 'LT', 'LU', 'LV', 'LY', 'MA', 'MC', 'MD', 'ME', 'MG', 'MH', 'MK', 'ML', 'MN', 'MO', 'MR', 'MT', 'MU', 'MV', 'MW', 'MX', 'MY', 'MZ', 'NA', 'NE', 'NG', 'NI', 'NL', 'NO', 'NP', 'NR', 'NZ', 'OM', 'PA', 'PE', 'PG', 'PH', 'PK', 'PL', 'PS', 'PT', 'PW', 'PY', 'QA', 'RO', 'RS', 'RU', 'RW', 'SA', 'SB', 'SC', 'SE', 'SG', 'SI', 'SK', 'SL', 'SM', 'SN', 'SR', 'ST', 'SV', 'SZ', 'TD', 'TG', 'TH', 'TJ', 'TL', 'TN', 'TO', 'TR', 'TT', 'TV', 'TW', 'TZ', 'UA', 'UG', 'US', 'UY', 'UZ', 'VC', 'VE', 'VN', 'VU', 'WS', 'XK', 'ZA', 'ZM', 'ZW'], 'disc_number': 1, 'duration_ms': 240125, 'explicit': False, 'external_urls': {'spotify': 'https://open.spotify.com/track/7bJl4FKN2Hvj3SCQRJWWFa'}, 'href': 'https://api.spotify.com/v1/tracks/7bJl4FKN2Hvj3SCQRJWWFa', 'id': '7bJl4FKN2Hvj3SCQRJWWFa', 'is_local': False, 'name': 'Dying For You', 'preview_url': 'https://p.scdn.co/mp3-preview/896bbff410feb3cb2a076eaca0994b65f75b462c?cid=b60b5dc276ba4ef2bcd8afa267744726', 'track_number': 8, 'type': 'track', 'uri': 'spotify:track:7bJl4FKN2Hvj3SCQRJWWFa'}, {'artists': [{'external_urls': {'spotify': 'https://open.spotify.com/artist/5ZbRDyTYX4HhXveONcZQn2'}, 'href': 'https://api.spotify.com/v1/artists/5ZbRDyTYX4HhXveONcZQn2', 'id': '5ZbRDyTYX4HhXveONcZQn2', 'name': 'Mystery Skulls', 'type': 'artist', 'uri': 'spotify:artist:5ZbRDyTYX4HhXveONcZQn2'}], 'available_markets': ['AD', 'AE', 'AG', 'AL', 'AM', 'AO', 'AR', 'AT', 'AU', 'AZ', 'BA', 'BB', 'BD', 'BE', 'BF', 'BG', 'BH', 'BI', 'BJ', 'BN', 'BO', 'BR', 'BS', 'BT', 'BW', 'BY', 'BZ', 'CA', 'CD', 'CG', 'CH', 'CI', 'CL', 'CM', 'CO', 'CR', 'CV', 'CW', 'CY', 'CZ', 'DE', 'DJ', 'DK', 'DM', 'DO', 'DZ', 'EC', 'EE', 'EG', 'ES', 'FI', 'FJ', 'FM', 'FR', 'GA', 'GB', 'GD', 'GE', 'GH', 'GM', 'GN', 'GQ', 'GR', 'GT', 'GW', 'GY', 'HK', 'HN', 'HR', 'HT', 'HU', 'ID', 'IE', 'IL', 'IN', 'IQ', 'IS', 'IT', 'JM', 'JO', 'JP', 'KE', 'KG', 'KH', 'KI', 'KM', 'KN', 'KR', 'KW', 'KZ', 'LA', 'LB', 'LC', 'LI', 'LK', 'LR', 'LS', 'LT', 'LU', 'LV', 'LY', 'MA', 'MC', 'MD', 'ME', 'MG', 'MH', 'MK', 'ML', 'MN', 'MO', 'MR', 'MT', 'MU', 'MV', 'MW', 'MX', 'MY', 'MZ', 'NA', 'NE', 'NG', 'NI', 'NL', 'NO', 'NP', 'NR', 'NZ', 'OM', 'PA', 'PE', 'PG', 'PH', 'PK', 'PL', 'PS', 'PT', 'PW', 'PY', 'QA', 'RO', 'RS', 'RU', 'RW', 'SA', 'SB', 'SC', 'SE', 'SG', 'SI', 'SK', 'SL', 'SM', 'SN', 'SR', 'ST', 'SV', 'SZ', 'TD', 'TG', 'TH', 'TJ', 'TL', 'TN', 'TO', 'TR', 'TT', 'TV', 'TW', 'TZ', 'UA', 'UG', 'US', 'UY', 'UZ', 'VC', 'VE', 'VN', 'VU', 'WS', 'XK', 'ZA', 'ZM', 'ZW'], 'disc_number': 1, 'duration_ms': 242000, 'explicit': False, 'external_urls': {'spotify': 'https://open.spotify.com/track/6rUKAFuGr9OJvgHjKppqEG'}, 'href': 'https://api.spotify.com/v1/tracks/6rUKAFuGr9OJvgHjKppqEG', 'id': '6rUKAFuGr9OJvgHjKppqEG', 'is_local': False, 'name': 'In My Dreams', 'preview_url': 'https://p.scdn.co/mp3-preview/e74b78d584d405eb82c7652d911dfb4ff8bc2438?cid=b60b5dc276ba4ef2bcd8afa267744726', 'track_number': 9, 'type': 'track', 'uri': 'spotify:track:6rUKAFuGr9OJvgHjKppqEG'}, {'artists': [{'external_urls': {'spotify': 'https://open.spotify.com/artist/5ZbRDyTYX4HhXveONcZQn2'}, 'href': 'https://api.spotify.com/v1/artists/5ZbRDyTYX4HhXveONcZQn2', 'id': '5ZbRDyTYX4HhXveONcZQn2', 'name': 'Mystery Skulls', 'type': 'artist', 'uri': 'spotify:artist:5ZbRDyTYX4HhXveONcZQn2'}], 'available_markets': ['AD', 'AE', 'AG', 'AL', 'AM', 'AO', 'AR', 'AT', 'AU', 'AZ', 'BA', 'BB', 'BD', 'BE', 'BF', 'BG', 'BH', 'BI', 'BJ', 'BN', 'BO', 'BR', 'BS', 'BT', 'BW', 'BY', 'BZ', 'CA', 'CD', 'CG', 'CH', 'CI', 'CL', 'CM', 'CO', 'CR', 'CV', 'CW', 'CY', 'CZ', 'DE', 'DJ', 'DK', 'DM', 'DO', 'DZ', 'EC', 'EE', 'EG', 'ES', 'FI', 'FJ', 'FM', 'FR', 'GA', 'GB', 'GD', 'GE', 'GH', 'GM', 'GN', 'GQ', 'GR', 'GT', 'GW', 'GY', 'HK', 'HN', 'HR', 'HT', 'HU', 'ID', 'IE', 'IL', 'IN', 'IQ', 'IS', 'IT', 'JM', 'JO', 'JP', 'KE', 'KG', 'KH', 'KI', 'KM', 'KN', 'KR', 'KW', 'KZ', 'LA', 'LB', 'LC', 'LI', 'LK', 'LR', 'LS', 'LT', 'LU', 'LV', 'LY', 'MA', 'MC', 'MD', 'ME', 'MG', 'MH', 'MK', 'ML', 'MN', 'MO', 'MR', 'MT', 'MU', 'MV', 'MW', 'MX', 'MY', 'MZ', 'NA', 'NE', 'NG', 'NI', 'NL', 'NO', 'NP', 'NR', 'NZ', 'OM', 'PA', 'PE', 'PG', 'PH', 'PK', 'PL', 'PS', 'PT', 'PW', 'PY', 'QA', 'RO', 'RS', 'RU', 'RW', 'SA', 'SB', 'SC', 'SE', 'SG', 'SI', 'SK', 'SL', 'SM', 'SN', 'SR', 'ST', 'SV', 'SZ', 'TD', 'TG', 'TH', 'TJ', 'TL', 'TN', 'TO', 'TR', 'TT', 'TV', 'TW', 'TZ', 'UA', 'UG', 'US', 'UY', 'UZ', 'VC', 'VE', 'VN', 'VU', 'WS', 'XK', 'ZA', 'ZM', 'ZW'], 'disc_number': 1, 'duration_ms': 230000, 'explicit': True, 'external_urls': {'spotify': 'https://open.spotify.com/track/1bq7TmGGfBoiQ0YlUGggnp'}, 'href': 'https://api.spotify.com/v1/tracks/1bq7TmGGfBoiQ0YlUGggnp', 'id': '1bq7TmGGfBoiQ0YlUGggnp', 'is_local': False, 'name': 'Everything and More', 'preview_url': 'https://p.scdn.co/mp3-preview/bbeef2e5409fe30082de1102363b37f1c67b2439?cid=b60b5dc276ba4ef2bcd8afa267744726', 'track_number': 10, 'type': 'track', 'uri': 'spotify:track:1bq7TmGGfBoiQ0YlUGggnp'}, {'artists': [{'external_urls': {'spotify': 'https://open.spotify.com/artist/5ZbRDyTYX4HhXveONcZQn2'}, 'href': 'https://api.spotify.com/v1/artists/5ZbRDyTYX4HhXveONcZQn2', 'id': '5ZbRDyTYX4HhXveONcZQn2', 'name': 'Mystery Skulls', 'type': 'artist', 'uri': 'spotify:artist:5ZbRDyTYX4HhXveONcZQn2'}], 'available_markets': ['AD', 'AE', 'AG', 'AL', 'AM', 'AO', 'AR', 'AT', 'AU', 'AZ', 'BA', 'BB', 'BD', 'BE', 'BF', 'BG', 'BH', 'BI', 'BJ', 'BN', 'BO', 'BR', 'BS', 'BT', 'BW', 'BY', 'BZ', 'CA', 'CD', 'CG', 'CH', 'CI', 'CL', 'CM', 'CO', 'CR', 'CV', 'CW', 'CY', 'CZ', 'DE', 'DJ', 'DK', 'DM', 'DO', 'DZ', 'EC', 'EE', 'EG', 'ES', 'FI', 'FJ', 'FM', 'FR', 'GA', 'GB', 'GD', 'GE', 'GH', 'GM', 'GN', 'GQ', 'GR', 'GT', 'GW', 'GY', 'HK', 'HN', 'HR', 'HT', 'HU', 'ID', 'IE', 'IL', 'IN', 'IQ', 'IS', 'IT', 'JM', 'JO', 'JP', 'KE', 'KG', 'KH', 'KI', 'KM', 'KN', 'KR', 'KW', 'KZ', 'LA', 'LB', 'LC', 'LI', 'LK', 'LR', 'LS', 'LT', 'LU', 'LV', 'LY', 'MA', 'MC', 'MD', 'ME', 'MG', 'MH', 'MK', 'ML', 'MN', 'MO', 'MR', 'MT', 'MU', 'MV', 'MW', 'MX', 'MY', 'MZ', 'NA', 'NE', 'NG', 'NI', 'NL', 'NO', 'NP', 'NR', 'NZ', 'OM', 'PA', 'PE', 'PG', 'PH', 'PK', 'PL', 'PS', 'PT', 'PW', 'PY', 'QA', 'RO', 'RS', 'RU', 'RW', 'SA', 'SB', 'SC', 'SE', 'SG', 'SI', 'SK', 'SL', 'SM', 'SN', 'SR', 'ST', 'SV', 'SZ', 'TD', 'TG', 'TH', 'TJ', 'TL', 'TN', 'TO', 'TR', 'TT', 'TV', 'TW', 'TZ', 'UA', 'UG', 'US', 'UY', 'UZ', 'VC', 'VE', 'VN', 'VU', 'WS', 'XK', 'ZA', 'ZM', 'ZW'], 'disc_number': 1, 'duration_ms': 185000, 'explicit': True, 'external_urls': {'spotify': 'https://open.spotify.com/track/3Ze1UU1Jb7wkzcWkiOUYCN'}, 'href': 'https://api.spotify.com/v1/tracks/3Ze1UU1Jb7wkzcWkiOUYCN', 'id': '3Ze1UU1Jb7wkzcWkiOUYCN', 'is_local': False, 'name': 'Stronger', 'preview_url': 'https://p.scdn.co/mp3-preview/06b44b2f485667c370c518a94e20ec2899d739e4?cid=b60b5dc276ba4ef2bcd8afa267744726', 'track_number': 11, 'type': 'track', 'uri': 'spotify:track:3Ze1UU1Jb7wkzcWkiOUYCN'}, {'artists': [{'external_urls': {'spotify': 'https://open.spotify.com/artist/5ZbRDyTYX4HhXveONcZQn2'}, 'href': 'https://api.spotify.com/v1/artists/5ZbRDyTYX4HhXveONcZQn2', 'id': '5ZbRDyTYX4HhXveONcZQn2', 'name': 'Mystery Skulls', 'type': 'artist', 'uri': 'spotify:artist:5ZbRDyTYX4HhXveONcZQn2'}], 'available_markets': ['AD', 'AE', 'AG', 'AL', 'AM', 'AO', 'AR', 'AT', 'AU', 'AZ', 'BA', 'BB', 'BD', 'BE', 'BF', 'BG', 'BH', 'BI', 'BJ', 'BN', 'BO', 'BR', 'BS', 'BT', 'BW', 'BY', 'BZ', 'CA', 'CD', 'CG', 'CH', 'CI', 'CL', 'CM', 'CO', 'CR', 'CV', 'CW', 'CY', 'CZ', 'DE', 'DJ', 'DK', 'DM', 'DO', 'DZ', 'EC', 'EE', 'EG', 'ES', 'FI', 'FJ', 'FM', 'FR', 'GA', 'GB', 'GD', 'GE', 'GH', 'GM', 'GN', 'GQ', 'GR', 'GT', 'GW', 'GY', 'HK', 'HN', 'HR', 'HT', 'HU', 'ID', 'IE', 'IL', 'IN', 'IQ', 'IS', 'IT', 'JM', 'JO', 'JP', 'KE', 'KG', 'KH', 'KI', 'KM', 'KN', 'KR', 'KW', 'KZ', 'LA', 'LB', 'LC', 'LI', 'LK', 'LR', 'LS', 'LT', 'LU', 'LV', 'LY', 'MA', 'MC', 'MD', 'ME', 'MG', 'MH', 'MK', 'ML', 'MN', 'MO', 'MR', 'MT', 'MU', 'MV', 'MW', 'MX', 'MY', 'MZ', 'NA', 'NE', 'NG', 'NI', 'NL', 'NO', 'NP', 'NR', 'NZ', 'OM', 'PA', 'PE', 'PG', 'PH', 'PK', 'PL', 'PS', 'PT', 'PW', 'PY', 'QA', 'RO', 'RS', 'RU', 'RW', 'SA', 'SB', 'SC', 'SE', 'SG', 'SI', 'SK', 'SL', 'SM', 'SN', 'SR', 'ST', 'SV', 'SZ', 'TD', 'TG', 'TH', 'TJ', 'TL', 'TN', 'TO', 'TR', 'TT', 'TV', 'TW', 'TZ', 'UA', 'UG', 'US', 'UY', 'UZ', 'VC', 'VE', 'VN', 'VU', 'WS', 'XK', 'ZA', 'ZM', 'ZW'], 'disc_number': 1, 'duration_ms': 157948, 'explicit': False, 'external_urls': {'spotify': 'https://open.spotify.com/track/3oQl9l5jJC4aMI7c9JEkJJ'}, 'href': 'https://api.spotify.com/v1/tracks/3oQl9l5jJC4aMI7c9JEkJJ', 'id': '3oQl9l5jJC4aMI7c9JEkJJ', 'is_local': False, 'name': 'Its Mine', 'preview_url': 'https://p.scdn.co/mp3-preview/99922dfa051647ed5c7dd020d65abc2ac1386795?cid=b60b5dc276ba4ef2bcd8afa267744726', 'track_number': 12, 'type': 'track', 'uri': 'spotify:track:3oQl9l5jJC4aMI7c9JEkJJ'}], 'limit': 50, 'next': None, 'offset': 0, 'previous': None, 'total': 12}\n",
            "type  //  album\n",
            "uri  //  spotify:album:0ZOlC4fldjBdSBnEbX6R9A\n"
          ]
        }
      ]
    },
    {
      "cell_type": "code",
      "source": [
        "sample_tracks = album_sample[\"tracks\"]\n",
        "type(sample_tracks)"
      ],
      "metadata": {
        "id": "IvduBo3Vjzjc",
        "colab": {
          "base_uri": "https://localhost:8080/"
        },
        "outputId": "cb62e655-a16a-4424-f070-72744c8f24a9"
      },
      "execution_count": 7,
      "outputs": [
        {
          "output_type": "execute_result",
          "data": {
            "text/plain": [
              "dict"
            ]
          },
          "metadata": {},
          "execution_count": 7
        }
      ]
    },
    {
      "cell_type": "code",
      "source": [
        "for key,value in sample_tracks.items():\n",
        "  print(key,\" // \", value)"
      ],
      "metadata": {
        "colab": {
          "base_uri": "https://localhost:8080/"
        },
        "id": "1F1G3QELiQzy",
        "outputId": "348f2e36-c7b2-481d-a673-1e3bc2d350b2"
      },
      "execution_count": 8,
      "outputs": [
        {
          "output_type": "stream",
          "name": "stdout",
          "text": [
            "href  //  https://api.spotify.com/v1/albums/0ZOlC4fldjBdSBnEbX6R9A/tracks?offset=0&limit=50\n",
            "items  //  [{'artists': [{'external_urls': {'spotify': 'https://open.spotify.com/artist/5ZbRDyTYX4HhXveONcZQn2'}, 'href': 'https://api.spotify.com/v1/artists/5ZbRDyTYX4HhXveONcZQn2', 'id': '5ZbRDyTYX4HhXveONcZQn2', 'name': 'Mystery Skulls', 'type': 'artist', 'uri': 'spotify:artist:5ZbRDyTYX4HhXveONcZQn2'}], 'available_markets': ['AD', 'AE', 'AG', 'AL', 'AM', 'AO', 'AR', 'AT', 'AU', 'AZ', 'BA', 'BB', 'BD', 'BE', 'BF', 'BG', 'BH', 'BI', 'BJ', 'BN', 'BO', 'BR', 'BS', 'BT', 'BW', 'BY', 'BZ', 'CA', 'CD', 'CG', 'CH', 'CI', 'CL', 'CM', 'CO', 'CR', 'CV', 'CW', 'CY', 'CZ', 'DE', 'DJ', 'DK', 'DM', 'DO', 'DZ', 'EC', 'EE', 'EG', 'ES', 'FI', 'FJ', 'FM', 'FR', 'GA', 'GB', 'GD', 'GE', 'GH', 'GM', 'GN', 'GQ', 'GR', 'GT', 'GW', 'GY', 'HK', 'HN', 'HR', 'HT', 'HU', 'ID', 'IE', 'IL', 'IN', 'IQ', 'IS', 'IT', 'JM', 'JO', 'JP', 'KE', 'KG', 'KH', 'KI', 'KM', 'KN', 'KR', 'KW', 'KZ', 'LA', 'LB', 'LC', 'LI', 'LK', 'LR', 'LS', 'LT', 'LU', 'LV', 'LY', 'MA', 'MC', 'MD', 'ME', 'MG', 'MH', 'MK', 'ML', 'MN', 'MO', 'MR', 'MT', 'MU', 'MV', 'MW', 'MX', 'MY', 'MZ', 'NA', 'NE', 'NG', 'NI', 'NL', 'NO', 'NP', 'NR', 'NZ', 'OM', 'PA', 'PE', 'PG', 'PH', 'PK', 'PL', 'PS', 'PT', 'PW', 'PY', 'QA', 'RO', 'RS', 'RU', 'RW', 'SA', 'SB', 'SC', 'SE', 'SG', 'SI', 'SK', 'SL', 'SM', 'SN', 'SR', 'ST', 'SV', 'SZ', 'TD', 'TG', 'TH', 'TJ', 'TL', 'TN', 'TO', 'TR', 'TT', 'TV', 'TW', 'TZ', 'UA', 'UG', 'US', 'UY', 'UZ', 'VC', 'VE', 'VN', 'VU', 'WS', 'XK', 'ZA', 'ZM', 'ZW'], 'disc_number': 1, 'duration_ms': 108631, 'explicit': False, 'external_urls': {'spotify': 'https://open.spotify.com/track/21paFxL9gudhwBBYoZWah1'}, 'href': 'https://api.spotify.com/v1/tracks/21paFxL9gudhwBBYoZWah1', 'id': '21paFxL9gudhwBBYoZWah1', 'is_local': False, 'name': 'Memory', 'preview_url': 'https://p.scdn.co/mp3-preview/e55ba4182a045603ffe7aea38eea5eaed1f837fa?cid=b60b5dc276ba4ef2bcd8afa267744726', 'track_number': 1, 'type': 'track', 'uri': 'spotify:track:21paFxL9gudhwBBYoZWah1'}, {'artists': [{'external_urls': {'spotify': 'https://open.spotify.com/artist/5ZbRDyTYX4HhXveONcZQn2'}, 'href': 'https://api.spotify.com/v1/artists/5ZbRDyTYX4HhXveONcZQn2', 'id': '5ZbRDyTYX4HhXveONcZQn2', 'name': 'Mystery Skulls', 'type': 'artist', 'uri': 'spotify:artist:5ZbRDyTYX4HhXveONcZQn2'}], 'available_markets': ['AD', 'AE', 'AG', 'AL', 'AM', 'AO', 'AR', 'AT', 'AU', 'AZ', 'BA', 'BB', 'BD', 'BE', 'BF', 'BG', 'BH', 'BI', 'BJ', 'BN', 'BO', 'BR', 'BS', 'BT', 'BW', 'BY', 'BZ', 'CA', 'CD', 'CG', 'CH', 'CI', 'CL', 'CM', 'CO', 'CR', 'CV', 'CW', 'CY', 'CZ', 'DE', 'DJ', 'DK', 'DM', 'DO', 'DZ', 'EC', 'EE', 'EG', 'ES', 'FI', 'FJ', 'FM', 'FR', 'GA', 'GB', 'GD', 'GE', 'GH', 'GM', 'GN', 'GQ', 'GR', 'GT', 'GW', 'GY', 'HK', 'HN', 'HR', 'HT', 'HU', 'ID', 'IE', 'IL', 'IN', 'IQ', 'IS', 'IT', 'JM', 'JO', 'JP', 'KE', 'KG', 'KH', 'KI', 'KM', 'KN', 'KR', 'KW', 'KZ', 'LA', 'LB', 'LC', 'LI', 'LK', 'LR', 'LS', 'LT', 'LU', 'LV', 'LY', 'MA', 'MC', 'MD', 'ME', 'MG', 'MH', 'MK', 'ML', 'MN', 'MO', 'MR', 'MT', 'MU', 'MV', 'MW', 'MX', 'MY', 'MZ', 'NA', 'NE', 'NG', 'NI', 'NL', 'NO', 'NP', 'NR', 'NZ', 'OM', 'PA', 'PE', 'PG', 'PH', 'PK', 'PL', 'PS', 'PT', 'PW', 'PY', 'QA', 'RO', 'RS', 'RU', 'RW', 'SA', 'SB', 'SC', 'SE', 'SG', 'SI', 'SK', 'SL', 'SM', 'SN', 'SR', 'ST', 'SV', 'SZ', 'TD', 'TG', 'TH', 'TJ', 'TL', 'TN', 'TO', 'TR', 'TT', 'TV', 'TW', 'TZ', 'UA', 'UG', 'US', 'UY', 'UZ', 'VC', 'VE', 'VN', 'VU', 'WS', 'XK', 'ZA', 'ZM', 'ZW'], 'disc_number': 1, 'duration_ms': 157250, 'explicit': True, 'external_urls': {'spotify': 'https://open.spotify.com/track/6fecxwRD74xNT3XRjREIiB'}, 'href': 'https://api.spotify.com/v1/tracks/6fecxwRD74xNT3XRjREIiB', 'id': '6fecxwRD74xNT3XRjREIiB', 'is_local': False, 'name': \"Don't Fuck With My Money\", 'preview_url': 'https://p.scdn.co/mp3-preview/137de80f9c9d6abe75fc5125ff0a8136f496d504?cid=b60b5dc276ba4ef2bcd8afa267744726', 'track_number': 2, 'type': 'track', 'uri': 'spotify:track:6fecxwRD74xNT3XRjREIiB'}, {'artists': [{'external_urls': {'spotify': 'https://open.spotify.com/artist/5ZbRDyTYX4HhXveONcZQn2'}, 'href': 'https://api.spotify.com/v1/artists/5ZbRDyTYX4HhXveONcZQn2', 'id': '5ZbRDyTYX4HhXveONcZQn2', 'name': 'Mystery Skulls', 'type': 'artist', 'uri': 'spotify:artist:5ZbRDyTYX4HhXveONcZQn2'}], 'available_markets': ['AD', 'AE', 'AG', 'AL', 'AM', 'AO', 'AR', 'AT', 'AU', 'AZ', 'BA', 'BB', 'BD', 'BE', 'BF', 'BG', 'BH', 'BI', 'BJ', 'BN', 'BO', 'BR', 'BS', 'BT', 'BW', 'BY', 'BZ', 'CA', 'CD', 'CG', 'CH', 'CI', 'CL', 'CM', 'CO', 'CR', 'CV', 'CW', 'CY', 'CZ', 'DE', 'DJ', 'DK', 'DM', 'DO', 'DZ', 'EC', 'EE', 'EG', 'ES', 'FI', 'FJ', 'FM', 'FR', 'GA', 'GB', 'GD', 'GE', 'GH', 'GM', 'GN', 'GQ', 'GR', 'GT', 'GW', 'GY', 'HK', 'HN', 'HR', 'HT', 'HU', 'ID', 'IE', 'IL', 'IN', 'IQ', 'IS', 'IT', 'JM', 'JO', 'JP', 'KE', 'KG', 'KH', 'KI', 'KM', 'KN', 'KR', 'KW', 'KZ', 'LA', 'LB', 'LC', 'LI', 'LK', 'LR', 'LS', 'LT', 'LU', 'LV', 'LY', 'MA', 'MC', 'MD', 'ME', 'MG', 'MH', 'MK', 'ML', 'MN', 'MO', 'MR', 'MT', 'MU', 'MV', 'MW', 'MX', 'MY', 'MZ', 'NA', 'NE', 'NG', 'NI', 'NL', 'NO', 'NP', 'NR', 'NZ', 'OM', 'PA', 'PE', 'PG', 'PH', 'PK', 'PL', 'PS', 'PT', 'PW', 'PY', 'QA', 'RO', 'RS', 'RU', 'RW', 'SA', 'SB', 'SC', 'SE', 'SG', 'SI', 'SK', 'SL', 'SM', 'SN', 'SR', 'ST', 'SV', 'SZ', 'TD', 'TG', 'TH', 'TJ', 'TL', 'TN', 'TO', 'TR', 'TT', 'TV', 'TW', 'TZ', 'UA', 'UG', 'US', 'UY', 'UZ', 'VC', 'VE', 'VN', 'VU', 'WS', 'XK', 'ZA', 'ZM', 'ZW'], 'disc_number': 1, 'duration_ms': 218000, 'explicit': False, 'external_urls': {'spotify': 'https://open.spotify.com/track/7K6UUIAOgwZj3c1t6DefdY'}, 'href': 'https://api.spotify.com/v1/tracks/7K6UUIAOgwZj3c1t6DefdY', 'id': '7K6UUIAOgwZj3c1t6DefdY', 'is_local': False, 'name': 'What Love Is', 'preview_url': 'https://p.scdn.co/mp3-preview/bba55de782ba8ca1a2dc1c2df62fad6dfb4dcdcf?cid=b60b5dc276ba4ef2bcd8afa267744726', 'track_number': 3, 'type': 'track', 'uri': 'spotify:track:7K6UUIAOgwZj3c1t6DefdY'}, {'artists': [{'external_urls': {'spotify': 'https://open.spotify.com/artist/5ZbRDyTYX4HhXveONcZQn2'}, 'href': 'https://api.spotify.com/v1/artists/5ZbRDyTYX4HhXveONcZQn2', 'id': '5ZbRDyTYX4HhXveONcZQn2', 'name': 'Mystery Skulls', 'type': 'artist', 'uri': 'spotify:artist:5ZbRDyTYX4HhXveONcZQn2'}], 'available_markets': ['AD', 'AE', 'AG', 'AL', 'AM', 'AO', 'AR', 'AT', 'AU', 'AZ', 'BA', 'BB', 'BD', 'BE', 'BF', 'BG', 'BH', 'BI', 'BJ', 'BN', 'BO', 'BR', 'BS', 'BT', 'BW', 'BY', 'BZ', 'CA', 'CD', 'CG', 'CH', 'CI', 'CL', 'CM', 'CO', 'CR', 'CV', 'CW', 'CY', 'CZ', 'DE', 'DJ', 'DK', 'DM', 'DO', 'DZ', 'EC', 'EE', 'EG', 'ES', 'FI', 'FJ', 'FM', 'FR', 'GA', 'GB', 'GD', 'GE', 'GH', 'GM', 'GN', 'GQ', 'GR', 'GT', 'GW', 'GY', 'HK', 'HN', 'HR', 'HT', 'HU', 'ID', 'IE', 'IL', 'IN', 'IQ', 'IS', 'IT', 'JM', 'JO', 'JP', 'KE', 'KG', 'KH', 'KI', 'KM', 'KN', 'KR', 'KW', 'KZ', 'LA', 'LB', 'LC', 'LI', 'LK', 'LR', 'LS', 'LT', 'LU', 'LV', 'LY', 'MA', 'MC', 'MD', 'ME', 'MG', 'MH', 'MK', 'ML', 'MN', 'MO', 'MR', 'MT', 'MU', 'MV', 'MW', 'MX', 'MY', 'MZ', 'NA', 'NE', 'NG', 'NI', 'NL', 'NO', 'NP', 'NR', 'NZ', 'OM', 'PA', 'PE', 'PG', 'PH', 'PK', 'PL', 'PS', 'PT', 'PW', 'PY', 'QA', 'RO', 'RS', 'RU', 'RW', 'SA', 'SB', 'SC', 'SE', 'SG', 'SI', 'SK', 'SL', 'SM', 'SN', 'SR', 'ST', 'SV', 'SZ', 'TD', 'TG', 'TH', 'TJ', 'TL', 'TN', 'TO', 'TR', 'TT', 'TV', 'TW', 'TZ', 'UA', 'UG', 'US', 'UY', 'UZ', 'VC', 'VE', 'VN', 'VU', 'WS', 'XK', 'ZA', 'ZM', 'ZW'], 'disc_number': 1, 'duration_ms': 190952, 'explicit': False, 'external_urls': {'spotify': 'https://open.spotify.com/track/2j9JO1SCC21LIBQKzkffhk'}, 'href': 'https://api.spotify.com/v1/tracks/2j9JO1SCC21LIBQKzkffhk', 'id': '2j9JO1SCC21LIBQKzkffhk', 'is_local': False, 'name': 'Without You', 'preview_url': 'https://p.scdn.co/mp3-preview/9d537ad1d46ff17ac9afb4e400e6fdaa5bcb4d9c?cid=b60b5dc276ba4ef2bcd8afa267744726', 'track_number': 4, 'type': 'track', 'uri': 'spotify:track:2j9JO1SCC21LIBQKzkffhk'}, {'artists': [{'external_urls': {'spotify': 'https://open.spotify.com/artist/5ZbRDyTYX4HhXveONcZQn2'}, 'href': 'https://api.spotify.com/v1/artists/5ZbRDyTYX4HhXveONcZQn2', 'id': '5ZbRDyTYX4HhXveONcZQn2', 'name': 'Mystery Skulls', 'type': 'artist', 'uri': 'spotify:artist:5ZbRDyTYX4HhXveONcZQn2'}], 'available_markets': ['AD', 'AE', 'AG', 'AL', 'AM', 'AO', 'AR', 'AT', 'AU', 'AZ', 'BA', 'BB', 'BD', 'BE', 'BF', 'BG', 'BH', 'BI', 'BJ', 'BN', 'BO', 'BR', 'BS', 'BT', 'BW', 'BY', 'BZ', 'CA', 'CD', 'CG', 'CH', 'CI', 'CL', 'CM', 'CO', 'CR', 'CV', 'CW', 'CY', 'CZ', 'DE', 'DJ', 'DK', 'DM', 'DO', 'DZ', 'EC', 'EE', 'EG', 'ES', 'FI', 'FJ', 'FM', 'FR', 'GA', 'GB', 'GD', 'GE', 'GH', 'GM', 'GN', 'GQ', 'GR', 'GT', 'GW', 'GY', 'HK', 'HN', 'HR', 'HT', 'HU', 'ID', 'IE', 'IL', 'IN', 'IQ', 'IS', 'IT', 'JM', 'JO', 'JP', 'KE', 'KG', 'KH', 'KI', 'KM', 'KN', 'KR', 'KW', 'KZ', 'LA', 'LB', 'LC', 'LI', 'LK', 'LR', 'LS', 'LT', 'LU', 'LV', 'LY', 'MA', 'MC', 'MD', 'ME', 'MG', 'MH', 'MK', 'ML', 'MN', 'MO', 'MR', 'MT', 'MU', 'MV', 'MW', 'MX', 'MY', 'MZ', 'NA', 'NE', 'NG', 'NI', 'NL', 'NO', 'NP', 'NR', 'NZ', 'OM', 'PA', 'PE', 'PG', 'PH', 'PK', 'PL', 'PS', 'PT', 'PW', 'PY', 'QA', 'RO', 'RS', 'RU', 'RW', 'SA', 'SB', 'SC', 'SE', 'SG', 'SI', 'SK', 'SL', 'SM', 'SN', 'SR', 'ST', 'SV', 'SZ', 'TD', 'TG', 'TH', 'TJ', 'TL', 'TN', 'TO', 'TR', 'TT', 'TV', 'TW', 'TZ', 'UA', 'UG', 'US', 'UY', 'UZ', 'VC', 'VE', 'VN', 'VU', 'WS', 'XK', 'ZA', 'ZM', 'ZW'], 'disc_number': 1, 'duration_ms': 176146, 'explicit': False, 'external_urls': {'spotify': 'https://open.spotify.com/track/5NptfMnPBChKktA5Z66faw'}, 'href': 'https://api.spotify.com/v1/tracks/5NptfMnPBChKktA5Z66faw', 'id': '5NptfMnPBChKktA5Z66faw', 'is_local': False, 'name': 'Enemy', 'preview_url': 'https://p.scdn.co/mp3-preview/517a54b74ac3e9d64c29e42e574b336a87f6eff6?cid=b60b5dc276ba4ef2bcd8afa267744726', 'track_number': 5, 'type': 'track', 'uri': 'spotify:track:5NptfMnPBChKktA5Z66faw'}, {'artists': [{'external_urls': {'spotify': 'https://open.spotify.com/artist/5ZbRDyTYX4HhXveONcZQn2'}, 'href': 'https://api.spotify.com/v1/artists/5ZbRDyTYX4HhXveONcZQn2', 'id': '5ZbRDyTYX4HhXveONcZQn2', 'name': 'Mystery Skulls', 'type': 'artist', 'uri': 'spotify:artist:5ZbRDyTYX4HhXveONcZQn2'}], 'available_markets': ['AD', 'AE', 'AG', 'AL', 'AM', 'AO', 'AR', 'AT', 'AU', 'AZ', 'BA', 'BB', 'BD', 'BE', 'BF', 'BG', 'BH', 'BI', 'BJ', 'BN', 'BO', 'BR', 'BS', 'BT', 'BW', 'BY', 'BZ', 'CA', 'CD', 'CG', 'CH', 'CI', 'CL', 'CM', 'CO', 'CR', 'CV', 'CW', 'CY', 'CZ', 'DE', 'DJ', 'DK', 'DM', 'DO', 'DZ', 'EC', 'EE', 'EG', 'ES', 'FI', 'FJ', 'FM', 'FR', 'GA', 'GB', 'GD', 'GE', 'GH', 'GM', 'GN', 'GQ', 'GR', 'GT', 'GW', 'GY', 'HK', 'HN', 'HR', 'HT', 'HU', 'ID', 'IE', 'IL', 'IN', 'IQ', 'IS', 'IT', 'JM', 'JO', 'JP', 'KE', 'KG', 'KH', 'KI', 'KM', 'KN', 'KR', 'KW', 'KZ', 'LA', 'LB', 'LC', 'LI', 'LK', 'LR', 'LS', 'LT', 'LU', 'LV', 'LY', 'MA', 'MC', 'MD', 'ME', 'MG', 'MH', 'MK', 'ML', 'MN', 'MO', 'MR', 'MT', 'MU', 'MV', 'MW', 'MX', 'MY', 'MZ', 'NA', 'NE', 'NG', 'NI', 'NL', 'NO', 'NP', 'NR', 'NZ', 'OM', 'PA', 'PE', 'PG', 'PH', 'PK', 'PL', 'PS', 'PT', 'PW', 'PY', 'QA', 'RO', 'RS', 'RU', 'RW', 'SA', 'SB', 'SC', 'SE', 'SG', 'SI', 'SK', 'SL', 'SM', 'SN', 'SR', 'ST', 'SV', 'SZ', 'TD', 'TG', 'TH', 'TJ', 'TL', 'TN', 'TO', 'TR', 'TT', 'TV', 'TW', 'TZ', 'UA', 'UG', 'US', 'UY', 'UZ', 'VC', 'VE', 'VN', 'VU', 'WS', 'XK', 'ZA', 'ZM', 'ZW'], 'disc_number': 1, 'duration_ms': 180000, 'explicit': False, 'external_urls': {'spotify': 'https://open.spotify.com/track/3760Go7UI4B8hgILy8c1Nt'}, 'href': 'https://api.spotify.com/v1/tracks/3760Go7UI4B8hgILy8c1Nt', 'id': '3760Go7UI4B8hgILy8c1Nt', 'is_local': False, 'name': 'Get In The Car', 'preview_url': 'https://p.scdn.co/mp3-preview/df349a2db0db301fc71174c5877f6bfd9cf6a496?cid=b60b5dc276ba4ef2bcd8afa267744726', 'track_number': 6, 'type': 'track', 'uri': 'spotify:track:3760Go7UI4B8hgILy8c1Nt'}, {'artists': [{'external_urls': {'spotify': 'https://open.spotify.com/artist/5ZbRDyTYX4HhXveONcZQn2'}, 'href': 'https://api.spotify.com/v1/artists/5ZbRDyTYX4HhXveONcZQn2', 'id': '5ZbRDyTYX4HhXveONcZQn2', 'name': 'Mystery Skulls', 'type': 'artist', 'uri': 'spotify:artist:5ZbRDyTYX4HhXveONcZQn2'}], 'available_markets': ['AD', 'AE', 'AG', 'AL', 'AM', 'AO', 'AR', 'AT', 'AU', 'AZ', 'BA', 'BB', 'BD', 'BE', 'BF', 'BG', 'BH', 'BI', 'BJ', 'BN', 'BO', 'BR', 'BS', 'BT', 'BW', 'BY', 'BZ', 'CA', 'CD', 'CG', 'CH', 'CI', 'CL', 'CM', 'CO', 'CR', 'CV', 'CW', 'CY', 'CZ', 'DE', 'DJ', 'DK', 'DM', 'DO', 'DZ', 'EC', 'EE', 'EG', 'ES', 'FI', 'FJ', 'FM', 'FR', 'GA', 'GB', 'GD', 'GE', 'GH', 'GM', 'GN', 'GQ', 'GR', 'GT', 'GW', 'GY', 'HK', 'HN', 'HR', 'HT', 'HU', 'ID', 'IE', 'IL', 'IN', 'IQ', 'IS', 'IT', 'JM', 'JO', 'JP', 'KE', 'KG', 'KH', 'KI', 'KM', 'KN', 'KR', 'KW', 'KZ', 'LA', 'LB', 'LC', 'LI', 'LK', 'LR', 'LS', 'LT', 'LU', 'LV', 'LY', 'MA', 'MC', 'MD', 'ME', 'MG', 'MH', 'MK', 'ML', 'MN', 'MO', 'MR', 'MT', 'MU', 'MV', 'MW', 'MX', 'MY', 'MZ', 'NA', 'NE', 'NG', 'NI', 'NL', 'NO', 'NP', 'NR', 'NZ', 'OM', 'PA', 'PE', 'PG', 'PH', 'PK', 'PL', 'PS', 'PT', 'PW', 'PY', 'QA', 'RO', 'RS', 'RU', 'RW', 'SA', 'SB', 'SC', 'SE', 'SG', 'SI', 'SK', 'SL', 'SM', 'SN', 'SR', 'ST', 'SV', 'SZ', 'TD', 'TG', 'TH', 'TJ', 'TL', 'TN', 'TO', 'TR', 'TT', 'TV', 'TW', 'TZ', 'UA', 'UG', 'US', 'UY', 'UZ', 'VC', 'VE', 'VN', 'VU', 'WS', 'XK', 'ZA', 'ZM', 'ZW'], 'disc_number': 1, 'duration_ms': 198000, 'explicit': False, 'external_urls': {'spotify': 'https://open.spotify.com/track/7JXkMlfh2lXZ2tJ7UTRjtH'}, 'href': 'https://api.spotify.com/v1/tracks/7JXkMlfh2lXZ2tJ7UTRjtH', 'id': '7JXkMlfh2lXZ2tJ7UTRjtH', 'is_local': False, 'name': 'Back To Life', 'preview_url': 'https://p.scdn.co/mp3-preview/87269a82fd810afd87a44b0eadaac747468dcdd4?cid=b60b5dc276ba4ef2bcd8afa267744726', 'track_number': 7, 'type': 'track', 'uri': 'spotify:track:7JXkMlfh2lXZ2tJ7UTRjtH'}, {'artists': [{'external_urls': {'spotify': 'https://open.spotify.com/artist/5ZbRDyTYX4HhXveONcZQn2'}, 'href': 'https://api.spotify.com/v1/artists/5ZbRDyTYX4HhXveONcZQn2', 'id': '5ZbRDyTYX4HhXveONcZQn2', 'name': 'Mystery Skulls', 'type': 'artist', 'uri': 'spotify:artist:5ZbRDyTYX4HhXveONcZQn2'}, {'external_urls': {'spotify': 'https://open.spotify.com/artist/6nLpD6tWBhXIbNxVKJC1fH'}, 'href': 'https://api.spotify.com/v1/artists/6nLpD6tWBhXIbNxVKJC1fH', 'id': '6nLpD6tWBhXIbNxVKJC1fH', 'name': 'Snowblood', 'type': 'artist', 'uri': 'spotify:artist:6nLpD6tWBhXIbNxVKJC1fH'}], 'available_markets': ['AD', 'AE', 'AG', 'AL', 'AM', 'AO', 'AR', 'AT', 'AU', 'AZ', 'BA', 'BB', 'BD', 'BE', 'BF', 'BG', 'BH', 'BI', 'BJ', 'BN', 'BO', 'BR', 'BS', 'BT', 'BW', 'BY', 'BZ', 'CA', 'CD', 'CG', 'CH', 'CI', 'CL', 'CM', 'CO', 'CR', 'CV', 'CW', 'CY', 'CZ', 'DE', 'DJ', 'DK', 'DM', 'DO', 'DZ', 'EC', 'EE', 'EG', 'ES', 'FI', 'FJ', 'FM', 'FR', 'GA', 'GB', 'GD', 'GE', 'GH', 'GM', 'GN', 'GQ', 'GR', 'GT', 'GW', 'GY', 'HK', 'HN', 'HR', 'HT', 'HU', 'ID', 'IE', 'IL', 'IN', 'IQ', 'IS', 'IT', 'JM', 'JO', 'JP', 'KE', 'KG', 'KH', 'KI', 'KM', 'KN', 'KR', 'KW', 'KZ', 'LA', 'LB', 'LC', 'LI', 'LK', 'LR', 'LS', 'LT', 'LU', 'LV', 'LY', 'MA', 'MC', 'MD', 'ME', 'MG', 'MH', 'MK', 'ML', 'MN', 'MO', 'MR', 'MT', 'MU', 'MV', 'MW', 'MX', 'MY', 'MZ', 'NA', 'NE', 'NG', 'NI', 'NL', 'NO', 'NP', 'NR', 'NZ', 'OM', 'PA', 'PE', 'PG', 'PH', 'PK', 'PL', 'PS', 'PT', 'PW', 'PY', 'QA', 'RO', 'RS', 'RU', 'RW', 'SA', 'SB', 'SC', 'SE', 'SG', 'SI', 'SK', 'SL', 'SM', 'SN', 'SR', 'ST', 'SV', 'SZ', 'TD', 'TG', 'TH', 'TJ', 'TL', 'TN', 'TO', 'TR', 'TT', 'TV', 'TW', 'TZ', 'UA', 'UG', 'US', 'UY', 'UZ', 'VC', 'VE', 'VN', 'VU', 'WS', 'XK', 'ZA', 'ZM', 'ZW'], 'disc_number': 1, 'duration_ms': 240125, 'explicit': False, 'external_urls': {'spotify': 'https://open.spotify.com/track/7bJl4FKN2Hvj3SCQRJWWFa'}, 'href': 'https://api.spotify.com/v1/tracks/7bJl4FKN2Hvj3SCQRJWWFa', 'id': '7bJl4FKN2Hvj3SCQRJWWFa', 'is_local': False, 'name': 'Dying For You', 'preview_url': 'https://p.scdn.co/mp3-preview/896bbff410feb3cb2a076eaca0994b65f75b462c?cid=b60b5dc276ba4ef2bcd8afa267744726', 'track_number': 8, 'type': 'track', 'uri': 'spotify:track:7bJl4FKN2Hvj3SCQRJWWFa'}, {'artists': [{'external_urls': {'spotify': 'https://open.spotify.com/artist/5ZbRDyTYX4HhXveONcZQn2'}, 'href': 'https://api.spotify.com/v1/artists/5ZbRDyTYX4HhXveONcZQn2', 'id': '5ZbRDyTYX4HhXveONcZQn2', 'name': 'Mystery Skulls', 'type': 'artist', 'uri': 'spotify:artist:5ZbRDyTYX4HhXveONcZQn2'}], 'available_markets': ['AD', 'AE', 'AG', 'AL', 'AM', 'AO', 'AR', 'AT', 'AU', 'AZ', 'BA', 'BB', 'BD', 'BE', 'BF', 'BG', 'BH', 'BI', 'BJ', 'BN', 'BO', 'BR', 'BS', 'BT', 'BW', 'BY', 'BZ', 'CA', 'CD', 'CG', 'CH', 'CI', 'CL', 'CM', 'CO', 'CR', 'CV', 'CW', 'CY', 'CZ', 'DE', 'DJ', 'DK', 'DM', 'DO', 'DZ', 'EC', 'EE', 'EG', 'ES', 'FI', 'FJ', 'FM', 'FR', 'GA', 'GB', 'GD', 'GE', 'GH', 'GM', 'GN', 'GQ', 'GR', 'GT', 'GW', 'GY', 'HK', 'HN', 'HR', 'HT', 'HU', 'ID', 'IE', 'IL', 'IN', 'IQ', 'IS', 'IT', 'JM', 'JO', 'JP', 'KE', 'KG', 'KH', 'KI', 'KM', 'KN', 'KR', 'KW', 'KZ', 'LA', 'LB', 'LC', 'LI', 'LK', 'LR', 'LS', 'LT', 'LU', 'LV', 'LY', 'MA', 'MC', 'MD', 'ME', 'MG', 'MH', 'MK', 'ML', 'MN', 'MO', 'MR', 'MT', 'MU', 'MV', 'MW', 'MX', 'MY', 'MZ', 'NA', 'NE', 'NG', 'NI', 'NL', 'NO', 'NP', 'NR', 'NZ', 'OM', 'PA', 'PE', 'PG', 'PH', 'PK', 'PL', 'PS', 'PT', 'PW', 'PY', 'QA', 'RO', 'RS', 'RU', 'RW', 'SA', 'SB', 'SC', 'SE', 'SG', 'SI', 'SK', 'SL', 'SM', 'SN', 'SR', 'ST', 'SV', 'SZ', 'TD', 'TG', 'TH', 'TJ', 'TL', 'TN', 'TO', 'TR', 'TT', 'TV', 'TW', 'TZ', 'UA', 'UG', 'US', 'UY', 'UZ', 'VC', 'VE', 'VN', 'VU', 'WS', 'XK', 'ZA', 'ZM', 'ZW'], 'disc_number': 1, 'duration_ms': 242000, 'explicit': False, 'external_urls': {'spotify': 'https://open.spotify.com/track/6rUKAFuGr9OJvgHjKppqEG'}, 'href': 'https://api.spotify.com/v1/tracks/6rUKAFuGr9OJvgHjKppqEG', 'id': '6rUKAFuGr9OJvgHjKppqEG', 'is_local': False, 'name': 'In My Dreams', 'preview_url': 'https://p.scdn.co/mp3-preview/e74b78d584d405eb82c7652d911dfb4ff8bc2438?cid=b60b5dc276ba4ef2bcd8afa267744726', 'track_number': 9, 'type': 'track', 'uri': 'spotify:track:6rUKAFuGr9OJvgHjKppqEG'}, {'artists': [{'external_urls': {'spotify': 'https://open.spotify.com/artist/5ZbRDyTYX4HhXveONcZQn2'}, 'href': 'https://api.spotify.com/v1/artists/5ZbRDyTYX4HhXveONcZQn2', 'id': '5ZbRDyTYX4HhXveONcZQn2', 'name': 'Mystery Skulls', 'type': 'artist', 'uri': 'spotify:artist:5ZbRDyTYX4HhXveONcZQn2'}], 'available_markets': ['AD', 'AE', 'AG', 'AL', 'AM', 'AO', 'AR', 'AT', 'AU', 'AZ', 'BA', 'BB', 'BD', 'BE', 'BF', 'BG', 'BH', 'BI', 'BJ', 'BN', 'BO', 'BR', 'BS', 'BT', 'BW', 'BY', 'BZ', 'CA', 'CD', 'CG', 'CH', 'CI', 'CL', 'CM', 'CO', 'CR', 'CV', 'CW', 'CY', 'CZ', 'DE', 'DJ', 'DK', 'DM', 'DO', 'DZ', 'EC', 'EE', 'EG', 'ES', 'FI', 'FJ', 'FM', 'FR', 'GA', 'GB', 'GD', 'GE', 'GH', 'GM', 'GN', 'GQ', 'GR', 'GT', 'GW', 'GY', 'HK', 'HN', 'HR', 'HT', 'HU', 'ID', 'IE', 'IL', 'IN', 'IQ', 'IS', 'IT', 'JM', 'JO', 'JP', 'KE', 'KG', 'KH', 'KI', 'KM', 'KN', 'KR', 'KW', 'KZ', 'LA', 'LB', 'LC', 'LI', 'LK', 'LR', 'LS', 'LT', 'LU', 'LV', 'LY', 'MA', 'MC', 'MD', 'ME', 'MG', 'MH', 'MK', 'ML', 'MN', 'MO', 'MR', 'MT', 'MU', 'MV', 'MW', 'MX', 'MY', 'MZ', 'NA', 'NE', 'NG', 'NI', 'NL', 'NO', 'NP', 'NR', 'NZ', 'OM', 'PA', 'PE', 'PG', 'PH', 'PK', 'PL', 'PS', 'PT', 'PW', 'PY', 'QA', 'RO', 'RS', 'RU', 'RW', 'SA', 'SB', 'SC', 'SE', 'SG', 'SI', 'SK', 'SL', 'SM', 'SN', 'SR', 'ST', 'SV', 'SZ', 'TD', 'TG', 'TH', 'TJ', 'TL', 'TN', 'TO', 'TR', 'TT', 'TV', 'TW', 'TZ', 'UA', 'UG', 'US', 'UY', 'UZ', 'VC', 'VE', 'VN', 'VU', 'WS', 'XK', 'ZA', 'ZM', 'ZW'], 'disc_number': 1, 'duration_ms': 230000, 'explicit': True, 'external_urls': {'spotify': 'https://open.spotify.com/track/1bq7TmGGfBoiQ0YlUGggnp'}, 'href': 'https://api.spotify.com/v1/tracks/1bq7TmGGfBoiQ0YlUGggnp', 'id': '1bq7TmGGfBoiQ0YlUGggnp', 'is_local': False, 'name': 'Everything and More', 'preview_url': 'https://p.scdn.co/mp3-preview/bbeef2e5409fe30082de1102363b37f1c67b2439?cid=b60b5dc276ba4ef2bcd8afa267744726', 'track_number': 10, 'type': 'track', 'uri': 'spotify:track:1bq7TmGGfBoiQ0YlUGggnp'}, {'artists': [{'external_urls': {'spotify': 'https://open.spotify.com/artist/5ZbRDyTYX4HhXveONcZQn2'}, 'href': 'https://api.spotify.com/v1/artists/5ZbRDyTYX4HhXveONcZQn2', 'id': '5ZbRDyTYX4HhXveONcZQn2', 'name': 'Mystery Skulls', 'type': 'artist', 'uri': 'spotify:artist:5ZbRDyTYX4HhXveONcZQn2'}], 'available_markets': ['AD', 'AE', 'AG', 'AL', 'AM', 'AO', 'AR', 'AT', 'AU', 'AZ', 'BA', 'BB', 'BD', 'BE', 'BF', 'BG', 'BH', 'BI', 'BJ', 'BN', 'BO', 'BR', 'BS', 'BT', 'BW', 'BY', 'BZ', 'CA', 'CD', 'CG', 'CH', 'CI', 'CL', 'CM', 'CO', 'CR', 'CV', 'CW', 'CY', 'CZ', 'DE', 'DJ', 'DK', 'DM', 'DO', 'DZ', 'EC', 'EE', 'EG', 'ES', 'FI', 'FJ', 'FM', 'FR', 'GA', 'GB', 'GD', 'GE', 'GH', 'GM', 'GN', 'GQ', 'GR', 'GT', 'GW', 'GY', 'HK', 'HN', 'HR', 'HT', 'HU', 'ID', 'IE', 'IL', 'IN', 'IQ', 'IS', 'IT', 'JM', 'JO', 'JP', 'KE', 'KG', 'KH', 'KI', 'KM', 'KN', 'KR', 'KW', 'KZ', 'LA', 'LB', 'LC', 'LI', 'LK', 'LR', 'LS', 'LT', 'LU', 'LV', 'LY', 'MA', 'MC', 'MD', 'ME', 'MG', 'MH', 'MK', 'ML', 'MN', 'MO', 'MR', 'MT', 'MU', 'MV', 'MW', 'MX', 'MY', 'MZ', 'NA', 'NE', 'NG', 'NI', 'NL', 'NO', 'NP', 'NR', 'NZ', 'OM', 'PA', 'PE', 'PG', 'PH', 'PK', 'PL', 'PS', 'PT', 'PW', 'PY', 'QA', 'RO', 'RS', 'RU', 'RW', 'SA', 'SB', 'SC', 'SE', 'SG', 'SI', 'SK', 'SL', 'SM', 'SN', 'SR', 'ST', 'SV', 'SZ', 'TD', 'TG', 'TH', 'TJ', 'TL', 'TN', 'TO', 'TR', 'TT', 'TV', 'TW', 'TZ', 'UA', 'UG', 'US', 'UY', 'UZ', 'VC', 'VE', 'VN', 'VU', 'WS', 'XK', 'ZA', 'ZM', 'ZW'], 'disc_number': 1, 'duration_ms': 185000, 'explicit': True, 'external_urls': {'spotify': 'https://open.spotify.com/track/3Ze1UU1Jb7wkzcWkiOUYCN'}, 'href': 'https://api.spotify.com/v1/tracks/3Ze1UU1Jb7wkzcWkiOUYCN', 'id': '3Ze1UU1Jb7wkzcWkiOUYCN', 'is_local': False, 'name': 'Stronger', 'preview_url': 'https://p.scdn.co/mp3-preview/06b44b2f485667c370c518a94e20ec2899d739e4?cid=b60b5dc276ba4ef2bcd8afa267744726', 'track_number': 11, 'type': 'track', 'uri': 'spotify:track:3Ze1UU1Jb7wkzcWkiOUYCN'}, {'artists': [{'external_urls': {'spotify': 'https://open.spotify.com/artist/5ZbRDyTYX4HhXveONcZQn2'}, 'href': 'https://api.spotify.com/v1/artists/5ZbRDyTYX4HhXveONcZQn2', 'id': '5ZbRDyTYX4HhXveONcZQn2', 'name': 'Mystery Skulls', 'type': 'artist', 'uri': 'spotify:artist:5ZbRDyTYX4HhXveONcZQn2'}], 'available_markets': ['AD', 'AE', 'AG', 'AL', 'AM', 'AO', 'AR', 'AT', 'AU', 'AZ', 'BA', 'BB', 'BD', 'BE', 'BF', 'BG', 'BH', 'BI', 'BJ', 'BN', 'BO', 'BR', 'BS', 'BT', 'BW', 'BY', 'BZ', 'CA', 'CD', 'CG', 'CH', 'CI', 'CL', 'CM', 'CO', 'CR', 'CV', 'CW', 'CY', 'CZ', 'DE', 'DJ', 'DK', 'DM', 'DO', 'DZ', 'EC', 'EE', 'EG', 'ES', 'FI', 'FJ', 'FM', 'FR', 'GA', 'GB', 'GD', 'GE', 'GH', 'GM', 'GN', 'GQ', 'GR', 'GT', 'GW', 'GY', 'HK', 'HN', 'HR', 'HT', 'HU', 'ID', 'IE', 'IL', 'IN', 'IQ', 'IS', 'IT', 'JM', 'JO', 'JP', 'KE', 'KG', 'KH', 'KI', 'KM', 'KN', 'KR', 'KW', 'KZ', 'LA', 'LB', 'LC', 'LI', 'LK', 'LR', 'LS', 'LT', 'LU', 'LV', 'LY', 'MA', 'MC', 'MD', 'ME', 'MG', 'MH', 'MK', 'ML', 'MN', 'MO', 'MR', 'MT', 'MU', 'MV', 'MW', 'MX', 'MY', 'MZ', 'NA', 'NE', 'NG', 'NI', 'NL', 'NO', 'NP', 'NR', 'NZ', 'OM', 'PA', 'PE', 'PG', 'PH', 'PK', 'PL', 'PS', 'PT', 'PW', 'PY', 'QA', 'RO', 'RS', 'RU', 'RW', 'SA', 'SB', 'SC', 'SE', 'SG', 'SI', 'SK', 'SL', 'SM', 'SN', 'SR', 'ST', 'SV', 'SZ', 'TD', 'TG', 'TH', 'TJ', 'TL', 'TN', 'TO', 'TR', 'TT', 'TV', 'TW', 'TZ', 'UA', 'UG', 'US', 'UY', 'UZ', 'VC', 'VE', 'VN', 'VU', 'WS', 'XK', 'ZA', 'ZM', 'ZW'], 'disc_number': 1, 'duration_ms': 157948, 'explicit': False, 'external_urls': {'spotify': 'https://open.spotify.com/track/3oQl9l5jJC4aMI7c9JEkJJ'}, 'href': 'https://api.spotify.com/v1/tracks/3oQl9l5jJC4aMI7c9JEkJJ', 'id': '3oQl9l5jJC4aMI7c9JEkJJ', 'is_local': False, 'name': 'Its Mine', 'preview_url': 'https://p.scdn.co/mp3-preview/99922dfa051647ed5c7dd020d65abc2ac1386795?cid=b60b5dc276ba4ef2bcd8afa267744726', 'track_number': 12, 'type': 'track', 'uri': 'spotify:track:3oQl9l5jJC4aMI7c9JEkJJ'}]\n",
            "limit  //  50\n",
            "next  //  None\n",
            "offset  //  0\n",
            "previous  //  None\n",
            "total  //  12\n"
          ]
        }
      ]
    },
    {
      "cell_type": "code",
      "source": [
        "sample_tracks = sample_tracks[\"items\"]\n",
        "type(sample_tracks)"
      ],
      "metadata": {
        "colab": {
          "base_uri": "https://localhost:8080/"
        },
        "id": "_7FrO7uIidG-",
        "outputId": "0c0f89ce-e420-4dc5-9250-7b8adfe63154"
      },
      "execution_count": 9,
      "outputs": [
        {
          "output_type": "execute_result",
          "data": {
            "text/plain": [
              "list"
            ]
          },
          "metadata": {},
          "execution_count": 9
        }
      ]
    },
    {
      "cell_type": "code",
      "source": [
        "for i in sample_tracks:\n",
        "  print(i)"
      ],
      "metadata": {
        "colab": {
          "base_uri": "https://localhost:8080/"
        },
        "id": "fbtr2IYSio72",
        "outputId": "bb79ddd8-be55-4bb1-a516-c3d5bf557360"
      },
      "execution_count": 10,
      "outputs": [
        {
          "output_type": "stream",
          "name": "stdout",
          "text": [
            "{'artists': [{'external_urls': {'spotify': 'https://open.spotify.com/artist/5ZbRDyTYX4HhXveONcZQn2'}, 'href': 'https://api.spotify.com/v1/artists/5ZbRDyTYX4HhXveONcZQn2', 'id': '5ZbRDyTYX4HhXveONcZQn2', 'name': 'Mystery Skulls', 'type': 'artist', 'uri': 'spotify:artist:5ZbRDyTYX4HhXveONcZQn2'}], 'available_markets': ['AD', 'AE', 'AG', 'AL', 'AM', 'AO', 'AR', 'AT', 'AU', 'AZ', 'BA', 'BB', 'BD', 'BE', 'BF', 'BG', 'BH', 'BI', 'BJ', 'BN', 'BO', 'BR', 'BS', 'BT', 'BW', 'BY', 'BZ', 'CA', 'CD', 'CG', 'CH', 'CI', 'CL', 'CM', 'CO', 'CR', 'CV', 'CW', 'CY', 'CZ', 'DE', 'DJ', 'DK', 'DM', 'DO', 'DZ', 'EC', 'EE', 'EG', 'ES', 'FI', 'FJ', 'FM', 'FR', 'GA', 'GB', 'GD', 'GE', 'GH', 'GM', 'GN', 'GQ', 'GR', 'GT', 'GW', 'GY', 'HK', 'HN', 'HR', 'HT', 'HU', 'ID', 'IE', 'IL', 'IN', 'IQ', 'IS', 'IT', 'JM', 'JO', 'JP', 'KE', 'KG', 'KH', 'KI', 'KM', 'KN', 'KR', 'KW', 'KZ', 'LA', 'LB', 'LC', 'LI', 'LK', 'LR', 'LS', 'LT', 'LU', 'LV', 'LY', 'MA', 'MC', 'MD', 'ME', 'MG', 'MH', 'MK', 'ML', 'MN', 'MO', 'MR', 'MT', 'MU', 'MV', 'MW', 'MX', 'MY', 'MZ', 'NA', 'NE', 'NG', 'NI', 'NL', 'NO', 'NP', 'NR', 'NZ', 'OM', 'PA', 'PE', 'PG', 'PH', 'PK', 'PL', 'PS', 'PT', 'PW', 'PY', 'QA', 'RO', 'RS', 'RU', 'RW', 'SA', 'SB', 'SC', 'SE', 'SG', 'SI', 'SK', 'SL', 'SM', 'SN', 'SR', 'ST', 'SV', 'SZ', 'TD', 'TG', 'TH', 'TJ', 'TL', 'TN', 'TO', 'TR', 'TT', 'TV', 'TW', 'TZ', 'UA', 'UG', 'US', 'UY', 'UZ', 'VC', 'VE', 'VN', 'VU', 'WS', 'XK', 'ZA', 'ZM', 'ZW'], 'disc_number': 1, 'duration_ms': 108631, 'explicit': False, 'external_urls': {'spotify': 'https://open.spotify.com/track/21paFxL9gudhwBBYoZWah1'}, 'href': 'https://api.spotify.com/v1/tracks/21paFxL9gudhwBBYoZWah1', 'id': '21paFxL9gudhwBBYoZWah1', 'is_local': False, 'name': 'Memory', 'preview_url': 'https://p.scdn.co/mp3-preview/e55ba4182a045603ffe7aea38eea5eaed1f837fa?cid=b60b5dc276ba4ef2bcd8afa267744726', 'track_number': 1, 'type': 'track', 'uri': 'spotify:track:21paFxL9gudhwBBYoZWah1'}\n",
            "{'artists': [{'external_urls': {'spotify': 'https://open.spotify.com/artist/5ZbRDyTYX4HhXveONcZQn2'}, 'href': 'https://api.spotify.com/v1/artists/5ZbRDyTYX4HhXveONcZQn2', 'id': '5ZbRDyTYX4HhXveONcZQn2', 'name': 'Mystery Skulls', 'type': 'artist', 'uri': 'spotify:artist:5ZbRDyTYX4HhXveONcZQn2'}], 'available_markets': ['AD', 'AE', 'AG', 'AL', 'AM', 'AO', 'AR', 'AT', 'AU', 'AZ', 'BA', 'BB', 'BD', 'BE', 'BF', 'BG', 'BH', 'BI', 'BJ', 'BN', 'BO', 'BR', 'BS', 'BT', 'BW', 'BY', 'BZ', 'CA', 'CD', 'CG', 'CH', 'CI', 'CL', 'CM', 'CO', 'CR', 'CV', 'CW', 'CY', 'CZ', 'DE', 'DJ', 'DK', 'DM', 'DO', 'DZ', 'EC', 'EE', 'EG', 'ES', 'FI', 'FJ', 'FM', 'FR', 'GA', 'GB', 'GD', 'GE', 'GH', 'GM', 'GN', 'GQ', 'GR', 'GT', 'GW', 'GY', 'HK', 'HN', 'HR', 'HT', 'HU', 'ID', 'IE', 'IL', 'IN', 'IQ', 'IS', 'IT', 'JM', 'JO', 'JP', 'KE', 'KG', 'KH', 'KI', 'KM', 'KN', 'KR', 'KW', 'KZ', 'LA', 'LB', 'LC', 'LI', 'LK', 'LR', 'LS', 'LT', 'LU', 'LV', 'LY', 'MA', 'MC', 'MD', 'ME', 'MG', 'MH', 'MK', 'ML', 'MN', 'MO', 'MR', 'MT', 'MU', 'MV', 'MW', 'MX', 'MY', 'MZ', 'NA', 'NE', 'NG', 'NI', 'NL', 'NO', 'NP', 'NR', 'NZ', 'OM', 'PA', 'PE', 'PG', 'PH', 'PK', 'PL', 'PS', 'PT', 'PW', 'PY', 'QA', 'RO', 'RS', 'RU', 'RW', 'SA', 'SB', 'SC', 'SE', 'SG', 'SI', 'SK', 'SL', 'SM', 'SN', 'SR', 'ST', 'SV', 'SZ', 'TD', 'TG', 'TH', 'TJ', 'TL', 'TN', 'TO', 'TR', 'TT', 'TV', 'TW', 'TZ', 'UA', 'UG', 'US', 'UY', 'UZ', 'VC', 'VE', 'VN', 'VU', 'WS', 'XK', 'ZA', 'ZM', 'ZW'], 'disc_number': 1, 'duration_ms': 157250, 'explicit': True, 'external_urls': {'spotify': 'https://open.spotify.com/track/6fecxwRD74xNT3XRjREIiB'}, 'href': 'https://api.spotify.com/v1/tracks/6fecxwRD74xNT3XRjREIiB', 'id': '6fecxwRD74xNT3XRjREIiB', 'is_local': False, 'name': \"Don't Fuck With My Money\", 'preview_url': 'https://p.scdn.co/mp3-preview/137de80f9c9d6abe75fc5125ff0a8136f496d504?cid=b60b5dc276ba4ef2bcd8afa267744726', 'track_number': 2, 'type': 'track', 'uri': 'spotify:track:6fecxwRD74xNT3XRjREIiB'}\n",
            "{'artists': [{'external_urls': {'spotify': 'https://open.spotify.com/artist/5ZbRDyTYX4HhXveONcZQn2'}, 'href': 'https://api.spotify.com/v1/artists/5ZbRDyTYX4HhXveONcZQn2', 'id': '5ZbRDyTYX4HhXveONcZQn2', 'name': 'Mystery Skulls', 'type': 'artist', 'uri': 'spotify:artist:5ZbRDyTYX4HhXveONcZQn2'}], 'available_markets': ['AD', 'AE', 'AG', 'AL', 'AM', 'AO', 'AR', 'AT', 'AU', 'AZ', 'BA', 'BB', 'BD', 'BE', 'BF', 'BG', 'BH', 'BI', 'BJ', 'BN', 'BO', 'BR', 'BS', 'BT', 'BW', 'BY', 'BZ', 'CA', 'CD', 'CG', 'CH', 'CI', 'CL', 'CM', 'CO', 'CR', 'CV', 'CW', 'CY', 'CZ', 'DE', 'DJ', 'DK', 'DM', 'DO', 'DZ', 'EC', 'EE', 'EG', 'ES', 'FI', 'FJ', 'FM', 'FR', 'GA', 'GB', 'GD', 'GE', 'GH', 'GM', 'GN', 'GQ', 'GR', 'GT', 'GW', 'GY', 'HK', 'HN', 'HR', 'HT', 'HU', 'ID', 'IE', 'IL', 'IN', 'IQ', 'IS', 'IT', 'JM', 'JO', 'JP', 'KE', 'KG', 'KH', 'KI', 'KM', 'KN', 'KR', 'KW', 'KZ', 'LA', 'LB', 'LC', 'LI', 'LK', 'LR', 'LS', 'LT', 'LU', 'LV', 'LY', 'MA', 'MC', 'MD', 'ME', 'MG', 'MH', 'MK', 'ML', 'MN', 'MO', 'MR', 'MT', 'MU', 'MV', 'MW', 'MX', 'MY', 'MZ', 'NA', 'NE', 'NG', 'NI', 'NL', 'NO', 'NP', 'NR', 'NZ', 'OM', 'PA', 'PE', 'PG', 'PH', 'PK', 'PL', 'PS', 'PT', 'PW', 'PY', 'QA', 'RO', 'RS', 'RU', 'RW', 'SA', 'SB', 'SC', 'SE', 'SG', 'SI', 'SK', 'SL', 'SM', 'SN', 'SR', 'ST', 'SV', 'SZ', 'TD', 'TG', 'TH', 'TJ', 'TL', 'TN', 'TO', 'TR', 'TT', 'TV', 'TW', 'TZ', 'UA', 'UG', 'US', 'UY', 'UZ', 'VC', 'VE', 'VN', 'VU', 'WS', 'XK', 'ZA', 'ZM', 'ZW'], 'disc_number': 1, 'duration_ms': 218000, 'explicit': False, 'external_urls': {'spotify': 'https://open.spotify.com/track/7K6UUIAOgwZj3c1t6DefdY'}, 'href': 'https://api.spotify.com/v1/tracks/7K6UUIAOgwZj3c1t6DefdY', 'id': '7K6UUIAOgwZj3c1t6DefdY', 'is_local': False, 'name': 'What Love Is', 'preview_url': 'https://p.scdn.co/mp3-preview/bba55de782ba8ca1a2dc1c2df62fad6dfb4dcdcf?cid=b60b5dc276ba4ef2bcd8afa267744726', 'track_number': 3, 'type': 'track', 'uri': 'spotify:track:7K6UUIAOgwZj3c1t6DefdY'}\n",
            "{'artists': [{'external_urls': {'spotify': 'https://open.spotify.com/artist/5ZbRDyTYX4HhXveONcZQn2'}, 'href': 'https://api.spotify.com/v1/artists/5ZbRDyTYX4HhXveONcZQn2', 'id': '5ZbRDyTYX4HhXveONcZQn2', 'name': 'Mystery Skulls', 'type': 'artist', 'uri': 'spotify:artist:5ZbRDyTYX4HhXveONcZQn2'}], 'available_markets': ['AD', 'AE', 'AG', 'AL', 'AM', 'AO', 'AR', 'AT', 'AU', 'AZ', 'BA', 'BB', 'BD', 'BE', 'BF', 'BG', 'BH', 'BI', 'BJ', 'BN', 'BO', 'BR', 'BS', 'BT', 'BW', 'BY', 'BZ', 'CA', 'CD', 'CG', 'CH', 'CI', 'CL', 'CM', 'CO', 'CR', 'CV', 'CW', 'CY', 'CZ', 'DE', 'DJ', 'DK', 'DM', 'DO', 'DZ', 'EC', 'EE', 'EG', 'ES', 'FI', 'FJ', 'FM', 'FR', 'GA', 'GB', 'GD', 'GE', 'GH', 'GM', 'GN', 'GQ', 'GR', 'GT', 'GW', 'GY', 'HK', 'HN', 'HR', 'HT', 'HU', 'ID', 'IE', 'IL', 'IN', 'IQ', 'IS', 'IT', 'JM', 'JO', 'JP', 'KE', 'KG', 'KH', 'KI', 'KM', 'KN', 'KR', 'KW', 'KZ', 'LA', 'LB', 'LC', 'LI', 'LK', 'LR', 'LS', 'LT', 'LU', 'LV', 'LY', 'MA', 'MC', 'MD', 'ME', 'MG', 'MH', 'MK', 'ML', 'MN', 'MO', 'MR', 'MT', 'MU', 'MV', 'MW', 'MX', 'MY', 'MZ', 'NA', 'NE', 'NG', 'NI', 'NL', 'NO', 'NP', 'NR', 'NZ', 'OM', 'PA', 'PE', 'PG', 'PH', 'PK', 'PL', 'PS', 'PT', 'PW', 'PY', 'QA', 'RO', 'RS', 'RU', 'RW', 'SA', 'SB', 'SC', 'SE', 'SG', 'SI', 'SK', 'SL', 'SM', 'SN', 'SR', 'ST', 'SV', 'SZ', 'TD', 'TG', 'TH', 'TJ', 'TL', 'TN', 'TO', 'TR', 'TT', 'TV', 'TW', 'TZ', 'UA', 'UG', 'US', 'UY', 'UZ', 'VC', 'VE', 'VN', 'VU', 'WS', 'XK', 'ZA', 'ZM', 'ZW'], 'disc_number': 1, 'duration_ms': 190952, 'explicit': False, 'external_urls': {'spotify': 'https://open.spotify.com/track/2j9JO1SCC21LIBQKzkffhk'}, 'href': 'https://api.spotify.com/v1/tracks/2j9JO1SCC21LIBQKzkffhk', 'id': '2j9JO1SCC21LIBQKzkffhk', 'is_local': False, 'name': 'Without You', 'preview_url': 'https://p.scdn.co/mp3-preview/9d537ad1d46ff17ac9afb4e400e6fdaa5bcb4d9c?cid=b60b5dc276ba4ef2bcd8afa267744726', 'track_number': 4, 'type': 'track', 'uri': 'spotify:track:2j9JO1SCC21LIBQKzkffhk'}\n",
            "{'artists': [{'external_urls': {'spotify': 'https://open.spotify.com/artist/5ZbRDyTYX4HhXveONcZQn2'}, 'href': 'https://api.spotify.com/v1/artists/5ZbRDyTYX4HhXveONcZQn2', 'id': '5ZbRDyTYX4HhXveONcZQn2', 'name': 'Mystery Skulls', 'type': 'artist', 'uri': 'spotify:artist:5ZbRDyTYX4HhXveONcZQn2'}], 'available_markets': ['AD', 'AE', 'AG', 'AL', 'AM', 'AO', 'AR', 'AT', 'AU', 'AZ', 'BA', 'BB', 'BD', 'BE', 'BF', 'BG', 'BH', 'BI', 'BJ', 'BN', 'BO', 'BR', 'BS', 'BT', 'BW', 'BY', 'BZ', 'CA', 'CD', 'CG', 'CH', 'CI', 'CL', 'CM', 'CO', 'CR', 'CV', 'CW', 'CY', 'CZ', 'DE', 'DJ', 'DK', 'DM', 'DO', 'DZ', 'EC', 'EE', 'EG', 'ES', 'FI', 'FJ', 'FM', 'FR', 'GA', 'GB', 'GD', 'GE', 'GH', 'GM', 'GN', 'GQ', 'GR', 'GT', 'GW', 'GY', 'HK', 'HN', 'HR', 'HT', 'HU', 'ID', 'IE', 'IL', 'IN', 'IQ', 'IS', 'IT', 'JM', 'JO', 'JP', 'KE', 'KG', 'KH', 'KI', 'KM', 'KN', 'KR', 'KW', 'KZ', 'LA', 'LB', 'LC', 'LI', 'LK', 'LR', 'LS', 'LT', 'LU', 'LV', 'LY', 'MA', 'MC', 'MD', 'ME', 'MG', 'MH', 'MK', 'ML', 'MN', 'MO', 'MR', 'MT', 'MU', 'MV', 'MW', 'MX', 'MY', 'MZ', 'NA', 'NE', 'NG', 'NI', 'NL', 'NO', 'NP', 'NR', 'NZ', 'OM', 'PA', 'PE', 'PG', 'PH', 'PK', 'PL', 'PS', 'PT', 'PW', 'PY', 'QA', 'RO', 'RS', 'RU', 'RW', 'SA', 'SB', 'SC', 'SE', 'SG', 'SI', 'SK', 'SL', 'SM', 'SN', 'SR', 'ST', 'SV', 'SZ', 'TD', 'TG', 'TH', 'TJ', 'TL', 'TN', 'TO', 'TR', 'TT', 'TV', 'TW', 'TZ', 'UA', 'UG', 'US', 'UY', 'UZ', 'VC', 'VE', 'VN', 'VU', 'WS', 'XK', 'ZA', 'ZM', 'ZW'], 'disc_number': 1, 'duration_ms': 176146, 'explicit': False, 'external_urls': {'spotify': 'https://open.spotify.com/track/5NptfMnPBChKktA5Z66faw'}, 'href': 'https://api.spotify.com/v1/tracks/5NptfMnPBChKktA5Z66faw', 'id': '5NptfMnPBChKktA5Z66faw', 'is_local': False, 'name': 'Enemy', 'preview_url': 'https://p.scdn.co/mp3-preview/517a54b74ac3e9d64c29e42e574b336a87f6eff6?cid=b60b5dc276ba4ef2bcd8afa267744726', 'track_number': 5, 'type': 'track', 'uri': 'spotify:track:5NptfMnPBChKktA5Z66faw'}\n",
            "{'artists': [{'external_urls': {'spotify': 'https://open.spotify.com/artist/5ZbRDyTYX4HhXveONcZQn2'}, 'href': 'https://api.spotify.com/v1/artists/5ZbRDyTYX4HhXveONcZQn2', 'id': '5ZbRDyTYX4HhXveONcZQn2', 'name': 'Mystery Skulls', 'type': 'artist', 'uri': 'spotify:artist:5ZbRDyTYX4HhXveONcZQn2'}], 'available_markets': ['AD', 'AE', 'AG', 'AL', 'AM', 'AO', 'AR', 'AT', 'AU', 'AZ', 'BA', 'BB', 'BD', 'BE', 'BF', 'BG', 'BH', 'BI', 'BJ', 'BN', 'BO', 'BR', 'BS', 'BT', 'BW', 'BY', 'BZ', 'CA', 'CD', 'CG', 'CH', 'CI', 'CL', 'CM', 'CO', 'CR', 'CV', 'CW', 'CY', 'CZ', 'DE', 'DJ', 'DK', 'DM', 'DO', 'DZ', 'EC', 'EE', 'EG', 'ES', 'FI', 'FJ', 'FM', 'FR', 'GA', 'GB', 'GD', 'GE', 'GH', 'GM', 'GN', 'GQ', 'GR', 'GT', 'GW', 'GY', 'HK', 'HN', 'HR', 'HT', 'HU', 'ID', 'IE', 'IL', 'IN', 'IQ', 'IS', 'IT', 'JM', 'JO', 'JP', 'KE', 'KG', 'KH', 'KI', 'KM', 'KN', 'KR', 'KW', 'KZ', 'LA', 'LB', 'LC', 'LI', 'LK', 'LR', 'LS', 'LT', 'LU', 'LV', 'LY', 'MA', 'MC', 'MD', 'ME', 'MG', 'MH', 'MK', 'ML', 'MN', 'MO', 'MR', 'MT', 'MU', 'MV', 'MW', 'MX', 'MY', 'MZ', 'NA', 'NE', 'NG', 'NI', 'NL', 'NO', 'NP', 'NR', 'NZ', 'OM', 'PA', 'PE', 'PG', 'PH', 'PK', 'PL', 'PS', 'PT', 'PW', 'PY', 'QA', 'RO', 'RS', 'RU', 'RW', 'SA', 'SB', 'SC', 'SE', 'SG', 'SI', 'SK', 'SL', 'SM', 'SN', 'SR', 'ST', 'SV', 'SZ', 'TD', 'TG', 'TH', 'TJ', 'TL', 'TN', 'TO', 'TR', 'TT', 'TV', 'TW', 'TZ', 'UA', 'UG', 'US', 'UY', 'UZ', 'VC', 'VE', 'VN', 'VU', 'WS', 'XK', 'ZA', 'ZM', 'ZW'], 'disc_number': 1, 'duration_ms': 180000, 'explicit': False, 'external_urls': {'spotify': 'https://open.spotify.com/track/3760Go7UI4B8hgILy8c1Nt'}, 'href': 'https://api.spotify.com/v1/tracks/3760Go7UI4B8hgILy8c1Nt', 'id': '3760Go7UI4B8hgILy8c1Nt', 'is_local': False, 'name': 'Get In The Car', 'preview_url': 'https://p.scdn.co/mp3-preview/df349a2db0db301fc71174c5877f6bfd9cf6a496?cid=b60b5dc276ba4ef2bcd8afa267744726', 'track_number': 6, 'type': 'track', 'uri': 'spotify:track:3760Go7UI4B8hgILy8c1Nt'}\n",
            "{'artists': [{'external_urls': {'spotify': 'https://open.spotify.com/artist/5ZbRDyTYX4HhXveONcZQn2'}, 'href': 'https://api.spotify.com/v1/artists/5ZbRDyTYX4HhXveONcZQn2', 'id': '5ZbRDyTYX4HhXveONcZQn2', 'name': 'Mystery Skulls', 'type': 'artist', 'uri': 'spotify:artist:5ZbRDyTYX4HhXveONcZQn2'}], 'available_markets': ['AD', 'AE', 'AG', 'AL', 'AM', 'AO', 'AR', 'AT', 'AU', 'AZ', 'BA', 'BB', 'BD', 'BE', 'BF', 'BG', 'BH', 'BI', 'BJ', 'BN', 'BO', 'BR', 'BS', 'BT', 'BW', 'BY', 'BZ', 'CA', 'CD', 'CG', 'CH', 'CI', 'CL', 'CM', 'CO', 'CR', 'CV', 'CW', 'CY', 'CZ', 'DE', 'DJ', 'DK', 'DM', 'DO', 'DZ', 'EC', 'EE', 'EG', 'ES', 'FI', 'FJ', 'FM', 'FR', 'GA', 'GB', 'GD', 'GE', 'GH', 'GM', 'GN', 'GQ', 'GR', 'GT', 'GW', 'GY', 'HK', 'HN', 'HR', 'HT', 'HU', 'ID', 'IE', 'IL', 'IN', 'IQ', 'IS', 'IT', 'JM', 'JO', 'JP', 'KE', 'KG', 'KH', 'KI', 'KM', 'KN', 'KR', 'KW', 'KZ', 'LA', 'LB', 'LC', 'LI', 'LK', 'LR', 'LS', 'LT', 'LU', 'LV', 'LY', 'MA', 'MC', 'MD', 'ME', 'MG', 'MH', 'MK', 'ML', 'MN', 'MO', 'MR', 'MT', 'MU', 'MV', 'MW', 'MX', 'MY', 'MZ', 'NA', 'NE', 'NG', 'NI', 'NL', 'NO', 'NP', 'NR', 'NZ', 'OM', 'PA', 'PE', 'PG', 'PH', 'PK', 'PL', 'PS', 'PT', 'PW', 'PY', 'QA', 'RO', 'RS', 'RU', 'RW', 'SA', 'SB', 'SC', 'SE', 'SG', 'SI', 'SK', 'SL', 'SM', 'SN', 'SR', 'ST', 'SV', 'SZ', 'TD', 'TG', 'TH', 'TJ', 'TL', 'TN', 'TO', 'TR', 'TT', 'TV', 'TW', 'TZ', 'UA', 'UG', 'US', 'UY', 'UZ', 'VC', 'VE', 'VN', 'VU', 'WS', 'XK', 'ZA', 'ZM', 'ZW'], 'disc_number': 1, 'duration_ms': 198000, 'explicit': False, 'external_urls': {'spotify': 'https://open.spotify.com/track/7JXkMlfh2lXZ2tJ7UTRjtH'}, 'href': 'https://api.spotify.com/v1/tracks/7JXkMlfh2lXZ2tJ7UTRjtH', 'id': '7JXkMlfh2lXZ2tJ7UTRjtH', 'is_local': False, 'name': 'Back To Life', 'preview_url': 'https://p.scdn.co/mp3-preview/87269a82fd810afd87a44b0eadaac747468dcdd4?cid=b60b5dc276ba4ef2bcd8afa267744726', 'track_number': 7, 'type': 'track', 'uri': 'spotify:track:7JXkMlfh2lXZ2tJ7UTRjtH'}\n",
            "{'artists': [{'external_urls': {'spotify': 'https://open.spotify.com/artist/5ZbRDyTYX4HhXveONcZQn2'}, 'href': 'https://api.spotify.com/v1/artists/5ZbRDyTYX4HhXveONcZQn2', 'id': '5ZbRDyTYX4HhXveONcZQn2', 'name': 'Mystery Skulls', 'type': 'artist', 'uri': 'spotify:artist:5ZbRDyTYX4HhXveONcZQn2'}, {'external_urls': {'spotify': 'https://open.spotify.com/artist/6nLpD6tWBhXIbNxVKJC1fH'}, 'href': 'https://api.spotify.com/v1/artists/6nLpD6tWBhXIbNxVKJC1fH', 'id': '6nLpD6tWBhXIbNxVKJC1fH', 'name': 'Snowblood', 'type': 'artist', 'uri': 'spotify:artist:6nLpD6tWBhXIbNxVKJC1fH'}], 'available_markets': ['AD', 'AE', 'AG', 'AL', 'AM', 'AO', 'AR', 'AT', 'AU', 'AZ', 'BA', 'BB', 'BD', 'BE', 'BF', 'BG', 'BH', 'BI', 'BJ', 'BN', 'BO', 'BR', 'BS', 'BT', 'BW', 'BY', 'BZ', 'CA', 'CD', 'CG', 'CH', 'CI', 'CL', 'CM', 'CO', 'CR', 'CV', 'CW', 'CY', 'CZ', 'DE', 'DJ', 'DK', 'DM', 'DO', 'DZ', 'EC', 'EE', 'EG', 'ES', 'FI', 'FJ', 'FM', 'FR', 'GA', 'GB', 'GD', 'GE', 'GH', 'GM', 'GN', 'GQ', 'GR', 'GT', 'GW', 'GY', 'HK', 'HN', 'HR', 'HT', 'HU', 'ID', 'IE', 'IL', 'IN', 'IQ', 'IS', 'IT', 'JM', 'JO', 'JP', 'KE', 'KG', 'KH', 'KI', 'KM', 'KN', 'KR', 'KW', 'KZ', 'LA', 'LB', 'LC', 'LI', 'LK', 'LR', 'LS', 'LT', 'LU', 'LV', 'LY', 'MA', 'MC', 'MD', 'ME', 'MG', 'MH', 'MK', 'ML', 'MN', 'MO', 'MR', 'MT', 'MU', 'MV', 'MW', 'MX', 'MY', 'MZ', 'NA', 'NE', 'NG', 'NI', 'NL', 'NO', 'NP', 'NR', 'NZ', 'OM', 'PA', 'PE', 'PG', 'PH', 'PK', 'PL', 'PS', 'PT', 'PW', 'PY', 'QA', 'RO', 'RS', 'RU', 'RW', 'SA', 'SB', 'SC', 'SE', 'SG', 'SI', 'SK', 'SL', 'SM', 'SN', 'SR', 'ST', 'SV', 'SZ', 'TD', 'TG', 'TH', 'TJ', 'TL', 'TN', 'TO', 'TR', 'TT', 'TV', 'TW', 'TZ', 'UA', 'UG', 'US', 'UY', 'UZ', 'VC', 'VE', 'VN', 'VU', 'WS', 'XK', 'ZA', 'ZM', 'ZW'], 'disc_number': 1, 'duration_ms': 240125, 'explicit': False, 'external_urls': {'spotify': 'https://open.spotify.com/track/7bJl4FKN2Hvj3SCQRJWWFa'}, 'href': 'https://api.spotify.com/v1/tracks/7bJl4FKN2Hvj3SCQRJWWFa', 'id': '7bJl4FKN2Hvj3SCQRJWWFa', 'is_local': False, 'name': 'Dying For You', 'preview_url': 'https://p.scdn.co/mp3-preview/896bbff410feb3cb2a076eaca0994b65f75b462c?cid=b60b5dc276ba4ef2bcd8afa267744726', 'track_number': 8, 'type': 'track', 'uri': 'spotify:track:7bJl4FKN2Hvj3SCQRJWWFa'}\n",
            "{'artists': [{'external_urls': {'spotify': 'https://open.spotify.com/artist/5ZbRDyTYX4HhXveONcZQn2'}, 'href': 'https://api.spotify.com/v1/artists/5ZbRDyTYX4HhXveONcZQn2', 'id': '5ZbRDyTYX4HhXveONcZQn2', 'name': 'Mystery Skulls', 'type': 'artist', 'uri': 'spotify:artist:5ZbRDyTYX4HhXveONcZQn2'}], 'available_markets': ['AD', 'AE', 'AG', 'AL', 'AM', 'AO', 'AR', 'AT', 'AU', 'AZ', 'BA', 'BB', 'BD', 'BE', 'BF', 'BG', 'BH', 'BI', 'BJ', 'BN', 'BO', 'BR', 'BS', 'BT', 'BW', 'BY', 'BZ', 'CA', 'CD', 'CG', 'CH', 'CI', 'CL', 'CM', 'CO', 'CR', 'CV', 'CW', 'CY', 'CZ', 'DE', 'DJ', 'DK', 'DM', 'DO', 'DZ', 'EC', 'EE', 'EG', 'ES', 'FI', 'FJ', 'FM', 'FR', 'GA', 'GB', 'GD', 'GE', 'GH', 'GM', 'GN', 'GQ', 'GR', 'GT', 'GW', 'GY', 'HK', 'HN', 'HR', 'HT', 'HU', 'ID', 'IE', 'IL', 'IN', 'IQ', 'IS', 'IT', 'JM', 'JO', 'JP', 'KE', 'KG', 'KH', 'KI', 'KM', 'KN', 'KR', 'KW', 'KZ', 'LA', 'LB', 'LC', 'LI', 'LK', 'LR', 'LS', 'LT', 'LU', 'LV', 'LY', 'MA', 'MC', 'MD', 'ME', 'MG', 'MH', 'MK', 'ML', 'MN', 'MO', 'MR', 'MT', 'MU', 'MV', 'MW', 'MX', 'MY', 'MZ', 'NA', 'NE', 'NG', 'NI', 'NL', 'NO', 'NP', 'NR', 'NZ', 'OM', 'PA', 'PE', 'PG', 'PH', 'PK', 'PL', 'PS', 'PT', 'PW', 'PY', 'QA', 'RO', 'RS', 'RU', 'RW', 'SA', 'SB', 'SC', 'SE', 'SG', 'SI', 'SK', 'SL', 'SM', 'SN', 'SR', 'ST', 'SV', 'SZ', 'TD', 'TG', 'TH', 'TJ', 'TL', 'TN', 'TO', 'TR', 'TT', 'TV', 'TW', 'TZ', 'UA', 'UG', 'US', 'UY', 'UZ', 'VC', 'VE', 'VN', 'VU', 'WS', 'XK', 'ZA', 'ZM', 'ZW'], 'disc_number': 1, 'duration_ms': 242000, 'explicit': False, 'external_urls': {'spotify': 'https://open.spotify.com/track/6rUKAFuGr9OJvgHjKppqEG'}, 'href': 'https://api.spotify.com/v1/tracks/6rUKAFuGr9OJvgHjKppqEG', 'id': '6rUKAFuGr9OJvgHjKppqEG', 'is_local': False, 'name': 'In My Dreams', 'preview_url': 'https://p.scdn.co/mp3-preview/e74b78d584d405eb82c7652d911dfb4ff8bc2438?cid=b60b5dc276ba4ef2bcd8afa267744726', 'track_number': 9, 'type': 'track', 'uri': 'spotify:track:6rUKAFuGr9OJvgHjKppqEG'}\n",
            "{'artists': [{'external_urls': {'spotify': 'https://open.spotify.com/artist/5ZbRDyTYX4HhXveONcZQn2'}, 'href': 'https://api.spotify.com/v1/artists/5ZbRDyTYX4HhXveONcZQn2', 'id': '5ZbRDyTYX4HhXveONcZQn2', 'name': 'Mystery Skulls', 'type': 'artist', 'uri': 'spotify:artist:5ZbRDyTYX4HhXveONcZQn2'}], 'available_markets': ['AD', 'AE', 'AG', 'AL', 'AM', 'AO', 'AR', 'AT', 'AU', 'AZ', 'BA', 'BB', 'BD', 'BE', 'BF', 'BG', 'BH', 'BI', 'BJ', 'BN', 'BO', 'BR', 'BS', 'BT', 'BW', 'BY', 'BZ', 'CA', 'CD', 'CG', 'CH', 'CI', 'CL', 'CM', 'CO', 'CR', 'CV', 'CW', 'CY', 'CZ', 'DE', 'DJ', 'DK', 'DM', 'DO', 'DZ', 'EC', 'EE', 'EG', 'ES', 'FI', 'FJ', 'FM', 'FR', 'GA', 'GB', 'GD', 'GE', 'GH', 'GM', 'GN', 'GQ', 'GR', 'GT', 'GW', 'GY', 'HK', 'HN', 'HR', 'HT', 'HU', 'ID', 'IE', 'IL', 'IN', 'IQ', 'IS', 'IT', 'JM', 'JO', 'JP', 'KE', 'KG', 'KH', 'KI', 'KM', 'KN', 'KR', 'KW', 'KZ', 'LA', 'LB', 'LC', 'LI', 'LK', 'LR', 'LS', 'LT', 'LU', 'LV', 'LY', 'MA', 'MC', 'MD', 'ME', 'MG', 'MH', 'MK', 'ML', 'MN', 'MO', 'MR', 'MT', 'MU', 'MV', 'MW', 'MX', 'MY', 'MZ', 'NA', 'NE', 'NG', 'NI', 'NL', 'NO', 'NP', 'NR', 'NZ', 'OM', 'PA', 'PE', 'PG', 'PH', 'PK', 'PL', 'PS', 'PT', 'PW', 'PY', 'QA', 'RO', 'RS', 'RU', 'RW', 'SA', 'SB', 'SC', 'SE', 'SG', 'SI', 'SK', 'SL', 'SM', 'SN', 'SR', 'ST', 'SV', 'SZ', 'TD', 'TG', 'TH', 'TJ', 'TL', 'TN', 'TO', 'TR', 'TT', 'TV', 'TW', 'TZ', 'UA', 'UG', 'US', 'UY', 'UZ', 'VC', 'VE', 'VN', 'VU', 'WS', 'XK', 'ZA', 'ZM', 'ZW'], 'disc_number': 1, 'duration_ms': 230000, 'explicit': True, 'external_urls': {'spotify': 'https://open.spotify.com/track/1bq7TmGGfBoiQ0YlUGggnp'}, 'href': 'https://api.spotify.com/v1/tracks/1bq7TmGGfBoiQ0YlUGggnp', 'id': '1bq7TmGGfBoiQ0YlUGggnp', 'is_local': False, 'name': 'Everything and More', 'preview_url': 'https://p.scdn.co/mp3-preview/bbeef2e5409fe30082de1102363b37f1c67b2439?cid=b60b5dc276ba4ef2bcd8afa267744726', 'track_number': 10, 'type': 'track', 'uri': 'spotify:track:1bq7TmGGfBoiQ0YlUGggnp'}\n",
            "{'artists': [{'external_urls': {'spotify': 'https://open.spotify.com/artist/5ZbRDyTYX4HhXveONcZQn2'}, 'href': 'https://api.spotify.com/v1/artists/5ZbRDyTYX4HhXveONcZQn2', 'id': '5ZbRDyTYX4HhXveONcZQn2', 'name': 'Mystery Skulls', 'type': 'artist', 'uri': 'spotify:artist:5ZbRDyTYX4HhXveONcZQn2'}], 'available_markets': ['AD', 'AE', 'AG', 'AL', 'AM', 'AO', 'AR', 'AT', 'AU', 'AZ', 'BA', 'BB', 'BD', 'BE', 'BF', 'BG', 'BH', 'BI', 'BJ', 'BN', 'BO', 'BR', 'BS', 'BT', 'BW', 'BY', 'BZ', 'CA', 'CD', 'CG', 'CH', 'CI', 'CL', 'CM', 'CO', 'CR', 'CV', 'CW', 'CY', 'CZ', 'DE', 'DJ', 'DK', 'DM', 'DO', 'DZ', 'EC', 'EE', 'EG', 'ES', 'FI', 'FJ', 'FM', 'FR', 'GA', 'GB', 'GD', 'GE', 'GH', 'GM', 'GN', 'GQ', 'GR', 'GT', 'GW', 'GY', 'HK', 'HN', 'HR', 'HT', 'HU', 'ID', 'IE', 'IL', 'IN', 'IQ', 'IS', 'IT', 'JM', 'JO', 'JP', 'KE', 'KG', 'KH', 'KI', 'KM', 'KN', 'KR', 'KW', 'KZ', 'LA', 'LB', 'LC', 'LI', 'LK', 'LR', 'LS', 'LT', 'LU', 'LV', 'LY', 'MA', 'MC', 'MD', 'ME', 'MG', 'MH', 'MK', 'ML', 'MN', 'MO', 'MR', 'MT', 'MU', 'MV', 'MW', 'MX', 'MY', 'MZ', 'NA', 'NE', 'NG', 'NI', 'NL', 'NO', 'NP', 'NR', 'NZ', 'OM', 'PA', 'PE', 'PG', 'PH', 'PK', 'PL', 'PS', 'PT', 'PW', 'PY', 'QA', 'RO', 'RS', 'RU', 'RW', 'SA', 'SB', 'SC', 'SE', 'SG', 'SI', 'SK', 'SL', 'SM', 'SN', 'SR', 'ST', 'SV', 'SZ', 'TD', 'TG', 'TH', 'TJ', 'TL', 'TN', 'TO', 'TR', 'TT', 'TV', 'TW', 'TZ', 'UA', 'UG', 'US', 'UY', 'UZ', 'VC', 'VE', 'VN', 'VU', 'WS', 'XK', 'ZA', 'ZM', 'ZW'], 'disc_number': 1, 'duration_ms': 185000, 'explicit': True, 'external_urls': {'spotify': 'https://open.spotify.com/track/3Ze1UU1Jb7wkzcWkiOUYCN'}, 'href': 'https://api.spotify.com/v1/tracks/3Ze1UU1Jb7wkzcWkiOUYCN', 'id': '3Ze1UU1Jb7wkzcWkiOUYCN', 'is_local': False, 'name': 'Stronger', 'preview_url': 'https://p.scdn.co/mp3-preview/06b44b2f485667c370c518a94e20ec2899d739e4?cid=b60b5dc276ba4ef2bcd8afa267744726', 'track_number': 11, 'type': 'track', 'uri': 'spotify:track:3Ze1UU1Jb7wkzcWkiOUYCN'}\n",
            "{'artists': [{'external_urls': {'spotify': 'https://open.spotify.com/artist/5ZbRDyTYX4HhXveONcZQn2'}, 'href': 'https://api.spotify.com/v1/artists/5ZbRDyTYX4HhXveONcZQn2', 'id': '5ZbRDyTYX4HhXveONcZQn2', 'name': 'Mystery Skulls', 'type': 'artist', 'uri': 'spotify:artist:5ZbRDyTYX4HhXveONcZQn2'}], 'available_markets': ['AD', 'AE', 'AG', 'AL', 'AM', 'AO', 'AR', 'AT', 'AU', 'AZ', 'BA', 'BB', 'BD', 'BE', 'BF', 'BG', 'BH', 'BI', 'BJ', 'BN', 'BO', 'BR', 'BS', 'BT', 'BW', 'BY', 'BZ', 'CA', 'CD', 'CG', 'CH', 'CI', 'CL', 'CM', 'CO', 'CR', 'CV', 'CW', 'CY', 'CZ', 'DE', 'DJ', 'DK', 'DM', 'DO', 'DZ', 'EC', 'EE', 'EG', 'ES', 'FI', 'FJ', 'FM', 'FR', 'GA', 'GB', 'GD', 'GE', 'GH', 'GM', 'GN', 'GQ', 'GR', 'GT', 'GW', 'GY', 'HK', 'HN', 'HR', 'HT', 'HU', 'ID', 'IE', 'IL', 'IN', 'IQ', 'IS', 'IT', 'JM', 'JO', 'JP', 'KE', 'KG', 'KH', 'KI', 'KM', 'KN', 'KR', 'KW', 'KZ', 'LA', 'LB', 'LC', 'LI', 'LK', 'LR', 'LS', 'LT', 'LU', 'LV', 'LY', 'MA', 'MC', 'MD', 'ME', 'MG', 'MH', 'MK', 'ML', 'MN', 'MO', 'MR', 'MT', 'MU', 'MV', 'MW', 'MX', 'MY', 'MZ', 'NA', 'NE', 'NG', 'NI', 'NL', 'NO', 'NP', 'NR', 'NZ', 'OM', 'PA', 'PE', 'PG', 'PH', 'PK', 'PL', 'PS', 'PT', 'PW', 'PY', 'QA', 'RO', 'RS', 'RU', 'RW', 'SA', 'SB', 'SC', 'SE', 'SG', 'SI', 'SK', 'SL', 'SM', 'SN', 'SR', 'ST', 'SV', 'SZ', 'TD', 'TG', 'TH', 'TJ', 'TL', 'TN', 'TO', 'TR', 'TT', 'TV', 'TW', 'TZ', 'UA', 'UG', 'US', 'UY', 'UZ', 'VC', 'VE', 'VN', 'VU', 'WS', 'XK', 'ZA', 'ZM', 'ZW'], 'disc_number': 1, 'duration_ms': 157948, 'explicit': False, 'external_urls': {'spotify': 'https://open.spotify.com/track/3oQl9l5jJC4aMI7c9JEkJJ'}, 'href': 'https://api.spotify.com/v1/tracks/3oQl9l5jJC4aMI7c9JEkJJ', 'id': '3oQl9l5jJC4aMI7c9JEkJJ', 'is_local': False, 'name': 'Its Mine', 'preview_url': 'https://p.scdn.co/mp3-preview/99922dfa051647ed5c7dd020d65abc2ac1386795?cid=b60b5dc276ba4ef2bcd8afa267744726', 'track_number': 12, 'type': 'track', 'uri': 'spotify:track:3oQl9l5jJC4aMI7c9JEkJJ'}\n"
          ]
        }
      ]
    },
    {
      "cell_type": "code",
      "source": [
        "type(sample_tracks[0])"
      ],
      "metadata": {
        "colab": {
          "base_uri": "https://localhost:8080/"
        },
        "id": "oT6wbkdfjHRK",
        "outputId": "974a5d8e-4955-4520-8f4c-676a30c871ac"
      },
      "execution_count": 11,
      "outputs": [
        {
          "output_type": "execute_result",
          "data": {
            "text/plain": [
              "dict"
            ]
          },
          "metadata": {},
          "execution_count": 11
        }
      ]
    },
    {
      "cell_type": "code",
      "source": [
        "for key,value in sample_tracks[0].items():\n",
        "  print(key,\" // \", value)"
      ],
      "metadata": {
        "colab": {
          "base_uri": "https://localhost:8080/"
        },
        "id": "MrOsy4SYjN54",
        "outputId": "c9756a1b-4442-40a0-d923-9534ed6e1168"
      },
      "execution_count": 12,
      "outputs": [
        {
          "output_type": "stream",
          "name": "stdout",
          "text": [
            "artists  //  [{'external_urls': {'spotify': 'https://open.spotify.com/artist/5ZbRDyTYX4HhXveONcZQn2'}, 'href': 'https://api.spotify.com/v1/artists/5ZbRDyTYX4HhXveONcZQn2', 'id': '5ZbRDyTYX4HhXveONcZQn2', 'name': 'Mystery Skulls', 'type': 'artist', 'uri': 'spotify:artist:5ZbRDyTYX4HhXveONcZQn2'}]\n",
            "available_markets  //  ['AD', 'AE', 'AG', 'AL', 'AM', 'AO', 'AR', 'AT', 'AU', 'AZ', 'BA', 'BB', 'BD', 'BE', 'BF', 'BG', 'BH', 'BI', 'BJ', 'BN', 'BO', 'BR', 'BS', 'BT', 'BW', 'BY', 'BZ', 'CA', 'CD', 'CG', 'CH', 'CI', 'CL', 'CM', 'CO', 'CR', 'CV', 'CW', 'CY', 'CZ', 'DE', 'DJ', 'DK', 'DM', 'DO', 'DZ', 'EC', 'EE', 'EG', 'ES', 'FI', 'FJ', 'FM', 'FR', 'GA', 'GB', 'GD', 'GE', 'GH', 'GM', 'GN', 'GQ', 'GR', 'GT', 'GW', 'GY', 'HK', 'HN', 'HR', 'HT', 'HU', 'ID', 'IE', 'IL', 'IN', 'IQ', 'IS', 'IT', 'JM', 'JO', 'JP', 'KE', 'KG', 'KH', 'KI', 'KM', 'KN', 'KR', 'KW', 'KZ', 'LA', 'LB', 'LC', 'LI', 'LK', 'LR', 'LS', 'LT', 'LU', 'LV', 'LY', 'MA', 'MC', 'MD', 'ME', 'MG', 'MH', 'MK', 'ML', 'MN', 'MO', 'MR', 'MT', 'MU', 'MV', 'MW', 'MX', 'MY', 'MZ', 'NA', 'NE', 'NG', 'NI', 'NL', 'NO', 'NP', 'NR', 'NZ', 'OM', 'PA', 'PE', 'PG', 'PH', 'PK', 'PL', 'PS', 'PT', 'PW', 'PY', 'QA', 'RO', 'RS', 'RU', 'RW', 'SA', 'SB', 'SC', 'SE', 'SG', 'SI', 'SK', 'SL', 'SM', 'SN', 'SR', 'ST', 'SV', 'SZ', 'TD', 'TG', 'TH', 'TJ', 'TL', 'TN', 'TO', 'TR', 'TT', 'TV', 'TW', 'TZ', 'UA', 'UG', 'US', 'UY', 'UZ', 'VC', 'VE', 'VN', 'VU', 'WS', 'XK', 'ZA', 'ZM', 'ZW']\n",
            "disc_number  //  1\n",
            "duration_ms  //  108631\n",
            "explicit  //  False\n",
            "external_urls  //  {'spotify': 'https://open.spotify.com/track/21paFxL9gudhwBBYoZWah1'}\n",
            "href  //  https://api.spotify.com/v1/tracks/21paFxL9gudhwBBYoZWah1\n",
            "id  //  21paFxL9gudhwBBYoZWah1\n",
            "is_local  //  False\n",
            "name  //  Memory\n",
            "preview_url  //  https://p.scdn.co/mp3-preview/e55ba4182a045603ffe7aea38eea5eaed1f837fa?cid=b60b5dc276ba4ef2bcd8afa267744726\n",
            "track_number  //  1\n",
            "type  //  track\n",
            "uri  //  spotify:track:21paFxL9gudhwBBYoZWah1\n"
          ]
        }
      ]
    },
    {
      "cell_type": "code",
      "source": [
        "import pandas as pd"
      ],
      "metadata": {
        "id": "EIjDZsTtkLBe"
      },
      "execution_count": 13,
      "outputs": []
    },
    {
      "cell_type": "code",
      "source": [
        "tracks = {\"name\": [], \"duration_ms\": [], \"track_id\": [], \"track_uri\": []}\n",
        "for i in sample_tracks:\n",
        "  tracks[\"name\"].append(i[\"name\"])\n",
        "  tracks[\"duration_ms\"].append(i[\"duration_ms\"])\n",
        "  tracks[\"track_id\"].append(i[\"id\"])\n",
        "  tracks[\"track_uri\"].append(i[\"uri\"])\n",
        "\n",
        "tracks"
      ],
      "metadata": {
        "colab": {
          "base_uri": "https://localhost:8080/"
        },
        "id": "pRnWRdvYlS_k",
        "outputId": "a3257791-79ea-4de2-e230-6753d1e9bb40"
      },
      "execution_count": 14,
      "outputs": [
        {
          "output_type": "execute_result",
          "data": {
            "text/plain": [
              "{'duration_ms': [108631,\n",
              "  157250,\n",
              "  218000,\n",
              "  190952,\n",
              "  176146,\n",
              "  180000,\n",
              "  198000,\n",
              "  240125,\n",
              "  242000,\n",
              "  230000,\n",
              "  185000,\n",
              "  157948],\n",
              " 'name': ['Memory',\n",
              "  \"Don't Fuck With My Money\",\n",
              "  'What Love Is',\n",
              "  'Without You',\n",
              "  'Enemy',\n",
              "  'Get In The Car',\n",
              "  'Back To Life',\n",
              "  'Dying For You',\n",
              "  'In My Dreams',\n",
              "  'Everything and More',\n",
              "  'Stronger',\n",
              "  'Its Mine'],\n",
              " 'track_id': ['21paFxL9gudhwBBYoZWah1',\n",
              "  '6fecxwRD74xNT3XRjREIiB',\n",
              "  '7K6UUIAOgwZj3c1t6DefdY',\n",
              "  '2j9JO1SCC21LIBQKzkffhk',\n",
              "  '5NptfMnPBChKktA5Z66faw',\n",
              "  '3760Go7UI4B8hgILy8c1Nt',\n",
              "  '7JXkMlfh2lXZ2tJ7UTRjtH',\n",
              "  '7bJl4FKN2Hvj3SCQRJWWFa',\n",
              "  '6rUKAFuGr9OJvgHjKppqEG',\n",
              "  '1bq7TmGGfBoiQ0YlUGggnp',\n",
              "  '3Ze1UU1Jb7wkzcWkiOUYCN',\n",
              "  '3oQl9l5jJC4aMI7c9JEkJJ'],\n",
              " 'track_uri': ['spotify:track:21paFxL9gudhwBBYoZWah1',\n",
              "  'spotify:track:6fecxwRD74xNT3XRjREIiB',\n",
              "  'spotify:track:7K6UUIAOgwZj3c1t6DefdY',\n",
              "  'spotify:track:2j9JO1SCC21LIBQKzkffhk',\n",
              "  'spotify:track:5NptfMnPBChKktA5Z66faw',\n",
              "  'spotify:track:3760Go7UI4B8hgILy8c1Nt',\n",
              "  'spotify:track:7JXkMlfh2lXZ2tJ7UTRjtH',\n",
              "  'spotify:track:7bJl4FKN2Hvj3SCQRJWWFa',\n",
              "  'spotify:track:6rUKAFuGr9OJvgHjKppqEG',\n",
              "  'spotify:track:1bq7TmGGfBoiQ0YlUGggnp',\n",
              "  'spotify:track:3Ze1UU1Jb7wkzcWkiOUYCN',\n",
              "  'spotify:track:3oQl9l5jJC4aMI7c9JEkJJ']}"
            ]
          },
          "metadata": {},
          "execution_count": 14
        }
      ]
    },
    {
      "cell_type": "code",
      "source": [
        "album_frame = pd.DataFrame(tracks) \n",
        "album_frame"
      ],
      "metadata": {
        "colab": {
          "base_uri": "https://localhost:8080/",
          "height": 426
        },
        "id": "D3yx6am1ndCl",
        "outputId": "53ee6b2b-ffae-42b0-9e5b-0aaba0e4d6b0"
      },
      "execution_count": 15,
      "outputs": [
        {
          "output_type": "execute_result",
          "data": {
            "text/html": [
              "\n",
              "  <div id=\"df-4099ba4d-e6f8-46e3-9503-d35c271eb3c8\">\n",
              "    <div class=\"colab-df-container\">\n",
              "      <div>\n",
              "<style scoped>\n",
              "    .dataframe tbody tr th:only-of-type {\n",
              "        vertical-align: middle;\n",
              "    }\n",
              "\n",
              "    .dataframe tbody tr th {\n",
              "        vertical-align: top;\n",
              "    }\n",
              "\n",
              "    .dataframe thead th {\n",
              "        text-align: right;\n",
              "    }\n",
              "</style>\n",
              "<table border=\"1\" class=\"dataframe\">\n",
              "  <thead>\n",
              "    <tr style=\"text-align: right;\">\n",
              "      <th></th>\n",
              "      <th>name</th>\n",
              "      <th>duration_ms</th>\n",
              "      <th>track_id</th>\n",
              "      <th>track_uri</th>\n",
              "    </tr>\n",
              "  </thead>\n",
              "  <tbody>\n",
              "    <tr>\n",
              "      <th>0</th>\n",
              "      <td>Memory</td>\n",
              "      <td>108631</td>\n",
              "      <td>21paFxL9gudhwBBYoZWah1</td>\n",
              "      <td>spotify:track:21paFxL9gudhwBBYoZWah1</td>\n",
              "    </tr>\n",
              "    <tr>\n",
              "      <th>1</th>\n",
              "      <td>Don't Fuck With My Money</td>\n",
              "      <td>157250</td>\n",
              "      <td>6fecxwRD74xNT3XRjREIiB</td>\n",
              "      <td>spotify:track:6fecxwRD74xNT3XRjREIiB</td>\n",
              "    </tr>\n",
              "    <tr>\n",
              "      <th>2</th>\n",
              "      <td>What Love Is</td>\n",
              "      <td>218000</td>\n",
              "      <td>7K6UUIAOgwZj3c1t6DefdY</td>\n",
              "      <td>spotify:track:7K6UUIAOgwZj3c1t6DefdY</td>\n",
              "    </tr>\n",
              "    <tr>\n",
              "      <th>3</th>\n",
              "      <td>Without You</td>\n",
              "      <td>190952</td>\n",
              "      <td>2j9JO1SCC21LIBQKzkffhk</td>\n",
              "      <td>spotify:track:2j9JO1SCC21LIBQKzkffhk</td>\n",
              "    </tr>\n",
              "    <tr>\n",
              "      <th>4</th>\n",
              "      <td>Enemy</td>\n",
              "      <td>176146</td>\n",
              "      <td>5NptfMnPBChKktA5Z66faw</td>\n",
              "      <td>spotify:track:5NptfMnPBChKktA5Z66faw</td>\n",
              "    </tr>\n",
              "    <tr>\n",
              "      <th>5</th>\n",
              "      <td>Get In The Car</td>\n",
              "      <td>180000</td>\n",
              "      <td>3760Go7UI4B8hgILy8c1Nt</td>\n",
              "      <td>spotify:track:3760Go7UI4B8hgILy8c1Nt</td>\n",
              "    </tr>\n",
              "    <tr>\n",
              "      <th>6</th>\n",
              "      <td>Back To Life</td>\n",
              "      <td>198000</td>\n",
              "      <td>7JXkMlfh2lXZ2tJ7UTRjtH</td>\n",
              "      <td>spotify:track:7JXkMlfh2lXZ2tJ7UTRjtH</td>\n",
              "    </tr>\n",
              "    <tr>\n",
              "      <th>7</th>\n",
              "      <td>Dying For You</td>\n",
              "      <td>240125</td>\n",
              "      <td>7bJl4FKN2Hvj3SCQRJWWFa</td>\n",
              "      <td>spotify:track:7bJl4FKN2Hvj3SCQRJWWFa</td>\n",
              "    </tr>\n",
              "    <tr>\n",
              "      <th>8</th>\n",
              "      <td>In My Dreams</td>\n",
              "      <td>242000</td>\n",
              "      <td>6rUKAFuGr9OJvgHjKppqEG</td>\n",
              "      <td>spotify:track:6rUKAFuGr9OJvgHjKppqEG</td>\n",
              "    </tr>\n",
              "    <tr>\n",
              "      <th>9</th>\n",
              "      <td>Everything and More</td>\n",
              "      <td>230000</td>\n",
              "      <td>1bq7TmGGfBoiQ0YlUGggnp</td>\n",
              "      <td>spotify:track:1bq7TmGGfBoiQ0YlUGggnp</td>\n",
              "    </tr>\n",
              "    <tr>\n",
              "      <th>10</th>\n",
              "      <td>Stronger</td>\n",
              "      <td>185000</td>\n",
              "      <td>3Ze1UU1Jb7wkzcWkiOUYCN</td>\n",
              "      <td>spotify:track:3Ze1UU1Jb7wkzcWkiOUYCN</td>\n",
              "    </tr>\n",
              "    <tr>\n",
              "      <th>11</th>\n",
              "      <td>Its Mine</td>\n",
              "      <td>157948</td>\n",
              "      <td>3oQl9l5jJC4aMI7c9JEkJJ</td>\n",
              "      <td>spotify:track:3oQl9l5jJC4aMI7c9JEkJJ</td>\n",
              "    </tr>\n",
              "  </tbody>\n",
              "</table>\n",
              "</div>\n",
              "      <button class=\"colab-df-convert\" onclick=\"convertToInteractive('df-4099ba4d-e6f8-46e3-9503-d35c271eb3c8')\"\n",
              "              title=\"Convert this dataframe to an interactive table.\"\n",
              "              style=\"display:none;\">\n",
              "        \n",
              "  <svg xmlns=\"http://www.w3.org/2000/svg\" height=\"24px\"viewBox=\"0 0 24 24\"\n",
              "       width=\"24px\">\n",
              "    <path d=\"M0 0h24v24H0V0z\" fill=\"none\"/>\n",
              "    <path d=\"M18.56 5.44l.94 2.06.94-2.06 2.06-.94-2.06-.94-.94-2.06-.94 2.06-2.06.94zm-11 1L8.5 8.5l.94-2.06 2.06-.94-2.06-.94L8.5 2.5l-.94 2.06-2.06.94zm10 10l.94 2.06.94-2.06 2.06-.94-2.06-.94-.94-2.06-.94 2.06-2.06.94z\"/><path d=\"M17.41 7.96l-1.37-1.37c-.4-.4-.92-.59-1.43-.59-.52 0-1.04.2-1.43.59L10.3 9.45l-7.72 7.72c-.78.78-.78 2.05 0 2.83L4 21.41c.39.39.9.59 1.41.59.51 0 1.02-.2 1.41-.59l7.78-7.78 2.81-2.81c.8-.78.8-2.07 0-2.86zM5.41 20L4 18.59l7.72-7.72 1.47 1.35L5.41 20z\"/>\n",
              "  </svg>\n",
              "      </button>\n",
              "      \n",
              "  <style>\n",
              "    .colab-df-container {\n",
              "      display:flex;\n",
              "      flex-wrap:wrap;\n",
              "      gap: 12px;\n",
              "    }\n",
              "\n",
              "    .colab-df-convert {\n",
              "      background-color: #E8F0FE;\n",
              "      border: none;\n",
              "      border-radius: 50%;\n",
              "      cursor: pointer;\n",
              "      display: none;\n",
              "      fill: #1967D2;\n",
              "      height: 32px;\n",
              "      padding: 0 0 0 0;\n",
              "      width: 32px;\n",
              "    }\n",
              "\n",
              "    .colab-df-convert:hover {\n",
              "      background-color: #E2EBFA;\n",
              "      box-shadow: 0px 1px 2px rgba(60, 64, 67, 0.3), 0px 1px 3px 1px rgba(60, 64, 67, 0.15);\n",
              "      fill: #174EA6;\n",
              "    }\n",
              "\n",
              "    [theme=dark] .colab-df-convert {\n",
              "      background-color: #3B4455;\n",
              "      fill: #D2E3FC;\n",
              "    }\n",
              "\n",
              "    [theme=dark] .colab-df-convert:hover {\n",
              "      background-color: #434B5C;\n",
              "      box-shadow: 0px 1px 3px 1px rgba(0, 0, 0, 0.15);\n",
              "      filter: drop-shadow(0px 1px 2px rgba(0, 0, 0, 0.3));\n",
              "      fill: #FFFFFF;\n",
              "    }\n",
              "  </style>\n",
              "\n",
              "      <script>\n",
              "        const buttonEl =\n",
              "          document.querySelector('#df-4099ba4d-e6f8-46e3-9503-d35c271eb3c8 button.colab-df-convert');\n",
              "        buttonEl.style.display =\n",
              "          google.colab.kernel.accessAllowed ? 'block' : 'none';\n",
              "\n",
              "        async function convertToInteractive(key) {\n",
              "          const element = document.querySelector('#df-4099ba4d-e6f8-46e3-9503-d35c271eb3c8');\n",
              "          const dataTable =\n",
              "            await google.colab.kernel.invokeFunction('convertToInteractive',\n",
              "                                                     [key], {});\n",
              "          if (!dataTable) return;\n",
              "\n",
              "          const docLinkHtml = 'Like what you see? Visit the ' +\n",
              "            '<a target=\"_blank\" href=https://colab.research.google.com/notebooks/data_table.ipynb>data table notebook</a>'\n",
              "            + ' to learn more about interactive tables.';\n",
              "          element.innerHTML = '';\n",
              "          dataTable['output_type'] = 'display_data';\n",
              "          await google.colab.output.renderOutput(dataTable, element);\n",
              "          const docLink = document.createElement('div');\n",
              "          docLink.innerHTML = docLinkHtml;\n",
              "          element.appendChild(docLink);\n",
              "        }\n",
              "      </script>\n",
              "    </div>\n",
              "  </div>\n",
              "  "
            ],
            "text/plain": [
              "                        name  ...                             track_uri\n",
              "0                     Memory  ...  spotify:track:21paFxL9gudhwBBYoZWah1\n",
              "1   Don't Fuck With My Money  ...  spotify:track:6fecxwRD74xNT3XRjREIiB\n",
              "2               What Love Is  ...  spotify:track:7K6UUIAOgwZj3c1t6DefdY\n",
              "3                Without You  ...  spotify:track:2j9JO1SCC21LIBQKzkffhk\n",
              "4                      Enemy  ...  spotify:track:5NptfMnPBChKktA5Z66faw\n",
              "5             Get In The Car  ...  spotify:track:3760Go7UI4B8hgILy8c1Nt\n",
              "6               Back To Life  ...  spotify:track:7JXkMlfh2lXZ2tJ7UTRjtH\n",
              "7              Dying For You  ...  spotify:track:7bJl4FKN2Hvj3SCQRJWWFa\n",
              "8               In My Dreams  ...  spotify:track:6rUKAFuGr9OJvgHjKppqEG\n",
              "9        Everything and More  ...  spotify:track:1bq7TmGGfBoiQ0YlUGggnp\n",
              "10                  Stronger  ...  spotify:track:3Ze1UU1Jb7wkzcWkiOUYCN\n",
              "11                  Its Mine  ...  spotify:track:3oQl9l5jJC4aMI7c9JEkJJ\n",
              "\n",
              "[12 rows x 4 columns]"
            ]
          },
          "metadata": {},
          "execution_count": 15
        }
      ]
    },
    {
      "cell_type": "code",
      "source": [
        "tracks2 = sp.album_tracks(album_sample_url)['items']\n",
        "for i in tracks2:\n",
        "  print(i)"
      ],
      "metadata": {
        "id": "UN4Fu0L0oIUB",
        "colab": {
          "base_uri": "https://localhost:8080/"
        },
        "outputId": "fc45e3aa-0d81-4e66-e5d2-723087740c1c"
      },
      "execution_count": 16,
      "outputs": [
        {
          "output_type": "stream",
          "name": "stdout",
          "text": [
            "{'artists': [{'external_urls': {'spotify': 'https://open.spotify.com/artist/5ZbRDyTYX4HhXveONcZQn2'}, 'href': 'https://api.spotify.com/v1/artists/5ZbRDyTYX4HhXveONcZQn2', 'id': '5ZbRDyTYX4HhXveONcZQn2', 'name': 'Mystery Skulls', 'type': 'artist', 'uri': 'spotify:artist:5ZbRDyTYX4HhXveONcZQn2'}], 'available_markets': ['AD', 'AE', 'AG', 'AL', 'AM', 'AO', 'AR', 'AT', 'AU', 'AZ', 'BA', 'BB', 'BD', 'BE', 'BF', 'BG', 'BH', 'BI', 'BJ', 'BN', 'BO', 'BR', 'BS', 'BT', 'BW', 'BY', 'BZ', 'CA', 'CD', 'CG', 'CH', 'CI', 'CL', 'CM', 'CO', 'CR', 'CV', 'CW', 'CY', 'CZ', 'DE', 'DJ', 'DK', 'DM', 'DO', 'DZ', 'EC', 'EE', 'EG', 'ES', 'FI', 'FJ', 'FM', 'FR', 'GA', 'GB', 'GD', 'GE', 'GH', 'GM', 'GN', 'GQ', 'GR', 'GT', 'GW', 'GY', 'HK', 'HN', 'HR', 'HT', 'HU', 'ID', 'IE', 'IL', 'IN', 'IQ', 'IS', 'IT', 'JM', 'JO', 'JP', 'KE', 'KG', 'KH', 'KI', 'KM', 'KN', 'KR', 'KW', 'KZ', 'LA', 'LB', 'LC', 'LI', 'LK', 'LR', 'LS', 'LT', 'LU', 'LV', 'LY', 'MA', 'MC', 'MD', 'ME', 'MG', 'MH', 'MK', 'ML', 'MN', 'MO', 'MR', 'MT', 'MU', 'MV', 'MW', 'MX', 'MY', 'MZ', 'NA', 'NE', 'NG', 'NI', 'NL', 'NO', 'NP', 'NR', 'NZ', 'OM', 'PA', 'PE', 'PG', 'PH', 'PK', 'PL', 'PS', 'PT', 'PW', 'PY', 'QA', 'RO', 'RS', 'RU', 'RW', 'SA', 'SB', 'SC', 'SE', 'SG', 'SI', 'SK', 'SL', 'SM', 'SN', 'SR', 'ST', 'SV', 'SZ', 'TD', 'TG', 'TH', 'TJ', 'TL', 'TN', 'TO', 'TR', 'TT', 'TV', 'TW', 'TZ', 'UA', 'UG', 'US', 'UY', 'UZ', 'VC', 'VE', 'VN', 'VU', 'WS', 'XK', 'ZA', 'ZM', 'ZW'], 'disc_number': 1, 'duration_ms': 108631, 'explicit': False, 'external_urls': {'spotify': 'https://open.spotify.com/track/21paFxL9gudhwBBYoZWah1'}, 'href': 'https://api.spotify.com/v1/tracks/21paFxL9gudhwBBYoZWah1', 'id': '21paFxL9gudhwBBYoZWah1', 'is_local': False, 'name': 'Memory', 'preview_url': 'https://p.scdn.co/mp3-preview/e55ba4182a045603ffe7aea38eea5eaed1f837fa?cid=b60b5dc276ba4ef2bcd8afa267744726', 'track_number': 1, 'type': 'track', 'uri': 'spotify:track:21paFxL9gudhwBBYoZWah1'}\n",
            "{'artists': [{'external_urls': {'spotify': 'https://open.spotify.com/artist/5ZbRDyTYX4HhXveONcZQn2'}, 'href': 'https://api.spotify.com/v1/artists/5ZbRDyTYX4HhXveONcZQn2', 'id': '5ZbRDyTYX4HhXveONcZQn2', 'name': 'Mystery Skulls', 'type': 'artist', 'uri': 'spotify:artist:5ZbRDyTYX4HhXveONcZQn2'}], 'available_markets': ['AD', 'AE', 'AG', 'AL', 'AM', 'AO', 'AR', 'AT', 'AU', 'AZ', 'BA', 'BB', 'BD', 'BE', 'BF', 'BG', 'BH', 'BI', 'BJ', 'BN', 'BO', 'BR', 'BS', 'BT', 'BW', 'BY', 'BZ', 'CA', 'CD', 'CG', 'CH', 'CI', 'CL', 'CM', 'CO', 'CR', 'CV', 'CW', 'CY', 'CZ', 'DE', 'DJ', 'DK', 'DM', 'DO', 'DZ', 'EC', 'EE', 'EG', 'ES', 'FI', 'FJ', 'FM', 'FR', 'GA', 'GB', 'GD', 'GE', 'GH', 'GM', 'GN', 'GQ', 'GR', 'GT', 'GW', 'GY', 'HK', 'HN', 'HR', 'HT', 'HU', 'ID', 'IE', 'IL', 'IN', 'IQ', 'IS', 'IT', 'JM', 'JO', 'JP', 'KE', 'KG', 'KH', 'KI', 'KM', 'KN', 'KR', 'KW', 'KZ', 'LA', 'LB', 'LC', 'LI', 'LK', 'LR', 'LS', 'LT', 'LU', 'LV', 'LY', 'MA', 'MC', 'MD', 'ME', 'MG', 'MH', 'MK', 'ML', 'MN', 'MO', 'MR', 'MT', 'MU', 'MV', 'MW', 'MX', 'MY', 'MZ', 'NA', 'NE', 'NG', 'NI', 'NL', 'NO', 'NP', 'NR', 'NZ', 'OM', 'PA', 'PE', 'PG', 'PH', 'PK', 'PL', 'PS', 'PT', 'PW', 'PY', 'QA', 'RO', 'RS', 'RU', 'RW', 'SA', 'SB', 'SC', 'SE', 'SG', 'SI', 'SK', 'SL', 'SM', 'SN', 'SR', 'ST', 'SV', 'SZ', 'TD', 'TG', 'TH', 'TJ', 'TL', 'TN', 'TO', 'TR', 'TT', 'TV', 'TW', 'TZ', 'UA', 'UG', 'US', 'UY', 'UZ', 'VC', 'VE', 'VN', 'VU', 'WS', 'XK', 'ZA', 'ZM', 'ZW'], 'disc_number': 1, 'duration_ms': 157250, 'explicit': True, 'external_urls': {'spotify': 'https://open.spotify.com/track/6fecxwRD74xNT3XRjREIiB'}, 'href': 'https://api.spotify.com/v1/tracks/6fecxwRD74xNT3XRjREIiB', 'id': '6fecxwRD74xNT3XRjREIiB', 'is_local': False, 'name': \"Don't Fuck With My Money\", 'preview_url': 'https://p.scdn.co/mp3-preview/137de80f9c9d6abe75fc5125ff0a8136f496d504?cid=b60b5dc276ba4ef2bcd8afa267744726', 'track_number': 2, 'type': 'track', 'uri': 'spotify:track:6fecxwRD74xNT3XRjREIiB'}\n",
            "{'artists': [{'external_urls': {'spotify': 'https://open.spotify.com/artist/5ZbRDyTYX4HhXveONcZQn2'}, 'href': 'https://api.spotify.com/v1/artists/5ZbRDyTYX4HhXveONcZQn2', 'id': '5ZbRDyTYX4HhXveONcZQn2', 'name': 'Mystery Skulls', 'type': 'artist', 'uri': 'spotify:artist:5ZbRDyTYX4HhXveONcZQn2'}], 'available_markets': ['AD', 'AE', 'AG', 'AL', 'AM', 'AO', 'AR', 'AT', 'AU', 'AZ', 'BA', 'BB', 'BD', 'BE', 'BF', 'BG', 'BH', 'BI', 'BJ', 'BN', 'BO', 'BR', 'BS', 'BT', 'BW', 'BY', 'BZ', 'CA', 'CD', 'CG', 'CH', 'CI', 'CL', 'CM', 'CO', 'CR', 'CV', 'CW', 'CY', 'CZ', 'DE', 'DJ', 'DK', 'DM', 'DO', 'DZ', 'EC', 'EE', 'EG', 'ES', 'FI', 'FJ', 'FM', 'FR', 'GA', 'GB', 'GD', 'GE', 'GH', 'GM', 'GN', 'GQ', 'GR', 'GT', 'GW', 'GY', 'HK', 'HN', 'HR', 'HT', 'HU', 'ID', 'IE', 'IL', 'IN', 'IQ', 'IS', 'IT', 'JM', 'JO', 'JP', 'KE', 'KG', 'KH', 'KI', 'KM', 'KN', 'KR', 'KW', 'KZ', 'LA', 'LB', 'LC', 'LI', 'LK', 'LR', 'LS', 'LT', 'LU', 'LV', 'LY', 'MA', 'MC', 'MD', 'ME', 'MG', 'MH', 'MK', 'ML', 'MN', 'MO', 'MR', 'MT', 'MU', 'MV', 'MW', 'MX', 'MY', 'MZ', 'NA', 'NE', 'NG', 'NI', 'NL', 'NO', 'NP', 'NR', 'NZ', 'OM', 'PA', 'PE', 'PG', 'PH', 'PK', 'PL', 'PS', 'PT', 'PW', 'PY', 'QA', 'RO', 'RS', 'RU', 'RW', 'SA', 'SB', 'SC', 'SE', 'SG', 'SI', 'SK', 'SL', 'SM', 'SN', 'SR', 'ST', 'SV', 'SZ', 'TD', 'TG', 'TH', 'TJ', 'TL', 'TN', 'TO', 'TR', 'TT', 'TV', 'TW', 'TZ', 'UA', 'UG', 'US', 'UY', 'UZ', 'VC', 'VE', 'VN', 'VU', 'WS', 'XK', 'ZA', 'ZM', 'ZW'], 'disc_number': 1, 'duration_ms': 218000, 'explicit': False, 'external_urls': {'spotify': 'https://open.spotify.com/track/7K6UUIAOgwZj3c1t6DefdY'}, 'href': 'https://api.spotify.com/v1/tracks/7K6UUIAOgwZj3c1t6DefdY', 'id': '7K6UUIAOgwZj3c1t6DefdY', 'is_local': False, 'name': 'What Love Is', 'preview_url': 'https://p.scdn.co/mp3-preview/bba55de782ba8ca1a2dc1c2df62fad6dfb4dcdcf?cid=b60b5dc276ba4ef2bcd8afa267744726', 'track_number': 3, 'type': 'track', 'uri': 'spotify:track:7K6UUIAOgwZj3c1t6DefdY'}\n",
            "{'artists': [{'external_urls': {'spotify': 'https://open.spotify.com/artist/5ZbRDyTYX4HhXveONcZQn2'}, 'href': 'https://api.spotify.com/v1/artists/5ZbRDyTYX4HhXveONcZQn2', 'id': '5ZbRDyTYX4HhXveONcZQn2', 'name': 'Mystery Skulls', 'type': 'artist', 'uri': 'spotify:artist:5ZbRDyTYX4HhXveONcZQn2'}], 'available_markets': ['AD', 'AE', 'AG', 'AL', 'AM', 'AO', 'AR', 'AT', 'AU', 'AZ', 'BA', 'BB', 'BD', 'BE', 'BF', 'BG', 'BH', 'BI', 'BJ', 'BN', 'BO', 'BR', 'BS', 'BT', 'BW', 'BY', 'BZ', 'CA', 'CD', 'CG', 'CH', 'CI', 'CL', 'CM', 'CO', 'CR', 'CV', 'CW', 'CY', 'CZ', 'DE', 'DJ', 'DK', 'DM', 'DO', 'DZ', 'EC', 'EE', 'EG', 'ES', 'FI', 'FJ', 'FM', 'FR', 'GA', 'GB', 'GD', 'GE', 'GH', 'GM', 'GN', 'GQ', 'GR', 'GT', 'GW', 'GY', 'HK', 'HN', 'HR', 'HT', 'HU', 'ID', 'IE', 'IL', 'IN', 'IQ', 'IS', 'IT', 'JM', 'JO', 'JP', 'KE', 'KG', 'KH', 'KI', 'KM', 'KN', 'KR', 'KW', 'KZ', 'LA', 'LB', 'LC', 'LI', 'LK', 'LR', 'LS', 'LT', 'LU', 'LV', 'LY', 'MA', 'MC', 'MD', 'ME', 'MG', 'MH', 'MK', 'ML', 'MN', 'MO', 'MR', 'MT', 'MU', 'MV', 'MW', 'MX', 'MY', 'MZ', 'NA', 'NE', 'NG', 'NI', 'NL', 'NO', 'NP', 'NR', 'NZ', 'OM', 'PA', 'PE', 'PG', 'PH', 'PK', 'PL', 'PS', 'PT', 'PW', 'PY', 'QA', 'RO', 'RS', 'RU', 'RW', 'SA', 'SB', 'SC', 'SE', 'SG', 'SI', 'SK', 'SL', 'SM', 'SN', 'SR', 'ST', 'SV', 'SZ', 'TD', 'TG', 'TH', 'TJ', 'TL', 'TN', 'TO', 'TR', 'TT', 'TV', 'TW', 'TZ', 'UA', 'UG', 'US', 'UY', 'UZ', 'VC', 'VE', 'VN', 'VU', 'WS', 'XK', 'ZA', 'ZM', 'ZW'], 'disc_number': 1, 'duration_ms': 190952, 'explicit': False, 'external_urls': {'spotify': 'https://open.spotify.com/track/2j9JO1SCC21LIBQKzkffhk'}, 'href': 'https://api.spotify.com/v1/tracks/2j9JO1SCC21LIBQKzkffhk', 'id': '2j9JO1SCC21LIBQKzkffhk', 'is_local': False, 'name': 'Without You', 'preview_url': 'https://p.scdn.co/mp3-preview/9d537ad1d46ff17ac9afb4e400e6fdaa5bcb4d9c?cid=b60b5dc276ba4ef2bcd8afa267744726', 'track_number': 4, 'type': 'track', 'uri': 'spotify:track:2j9JO1SCC21LIBQKzkffhk'}\n",
            "{'artists': [{'external_urls': {'spotify': 'https://open.spotify.com/artist/5ZbRDyTYX4HhXveONcZQn2'}, 'href': 'https://api.spotify.com/v1/artists/5ZbRDyTYX4HhXveONcZQn2', 'id': '5ZbRDyTYX4HhXveONcZQn2', 'name': 'Mystery Skulls', 'type': 'artist', 'uri': 'spotify:artist:5ZbRDyTYX4HhXveONcZQn2'}], 'available_markets': ['AD', 'AE', 'AG', 'AL', 'AM', 'AO', 'AR', 'AT', 'AU', 'AZ', 'BA', 'BB', 'BD', 'BE', 'BF', 'BG', 'BH', 'BI', 'BJ', 'BN', 'BO', 'BR', 'BS', 'BT', 'BW', 'BY', 'BZ', 'CA', 'CD', 'CG', 'CH', 'CI', 'CL', 'CM', 'CO', 'CR', 'CV', 'CW', 'CY', 'CZ', 'DE', 'DJ', 'DK', 'DM', 'DO', 'DZ', 'EC', 'EE', 'EG', 'ES', 'FI', 'FJ', 'FM', 'FR', 'GA', 'GB', 'GD', 'GE', 'GH', 'GM', 'GN', 'GQ', 'GR', 'GT', 'GW', 'GY', 'HK', 'HN', 'HR', 'HT', 'HU', 'ID', 'IE', 'IL', 'IN', 'IQ', 'IS', 'IT', 'JM', 'JO', 'JP', 'KE', 'KG', 'KH', 'KI', 'KM', 'KN', 'KR', 'KW', 'KZ', 'LA', 'LB', 'LC', 'LI', 'LK', 'LR', 'LS', 'LT', 'LU', 'LV', 'LY', 'MA', 'MC', 'MD', 'ME', 'MG', 'MH', 'MK', 'ML', 'MN', 'MO', 'MR', 'MT', 'MU', 'MV', 'MW', 'MX', 'MY', 'MZ', 'NA', 'NE', 'NG', 'NI', 'NL', 'NO', 'NP', 'NR', 'NZ', 'OM', 'PA', 'PE', 'PG', 'PH', 'PK', 'PL', 'PS', 'PT', 'PW', 'PY', 'QA', 'RO', 'RS', 'RU', 'RW', 'SA', 'SB', 'SC', 'SE', 'SG', 'SI', 'SK', 'SL', 'SM', 'SN', 'SR', 'ST', 'SV', 'SZ', 'TD', 'TG', 'TH', 'TJ', 'TL', 'TN', 'TO', 'TR', 'TT', 'TV', 'TW', 'TZ', 'UA', 'UG', 'US', 'UY', 'UZ', 'VC', 'VE', 'VN', 'VU', 'WS', 'XK', 'ZA', 'ZM', 'ZW'], 'disc_number': 1, 'duration_ms': 176146, 'explicit': False, 'external_urls': {'spotify': 'https://open.spotify.com/track/5NptfMnPBChKktA5Z66faw'}, 'href': 'https://api.spotify.com/v1/tracks/5NptfMnPBChKktA5Z66faw', 'id': '5NptfMnPBChKktA5Z66faw', 'is_local': False, 'name': 'Enemy', 'preview_url': 'https://p.scdn.co/mp3-preview/517a54b74ac3e9d64c29e42e574b336a87f6eff6?cid=b60b5dc276ba4ef2bcd8afa267744726', 'track_number': 5, 'type': 'track', 'uri': 'spotify:track:5NptfMnPBChKktA5Z66faw'}\n",
            "{'artists': [{'external_urls': {'spotify': 'https://open.spotify.com/artist/5ZbRDyTYX4HhXveONcZQn2'}, 'href': 'https://api.spotify.com/v1/artists/5ZbRDyTYX4HhXveONcZQn2', 'id': '5ZbRDyTYX4HhXveONcZQn2', 'name': 'Mystery Skulls', 'type': 'artist', 'uri': 'spotify:artist:5ZbRDyTYX4HhXveONcZQn2'}], 'available_markets': ['AD', 'AE', 'AG', 'AL', 'AM', 'AO', 'AR', 'AT', 'AU', 'AZ', 'BA', 'BB', 'BD', 'BE', 'BF', 'BG', 'BH', 'BI', 'BJ', 'BN', 'BO', 'BR', 'BS', 'BT', 'BW', 'BY', 'BZ', 'CA', 'CD', 'CG', 'CH', 'CI', 'CL', 'CM', 'CO', 'CR', 'CV', 'CW', 'CY', 'CZ', 'DE', 'DJ', 'DK', 'DM', 'DO', 'DZ', 'EC', 'EE', 'EG', 'ES', 'FI', 'FJ', 'FM', 'FR', 'GA', 'GB', 'GD', 'GE', 'GH', 'GM', 'GN', 'GQ', 'GR', 'GT', 'GW', 'GY', 'HK', 'HN', 'HR', 'HT', 'HU', 'ID', 'IE', 'IL', 'IN', 'IQ', 'IS', 'IT', 'JM', 'JO', 'JP', 'KE', 'KG', 'KH', 'KI', 'KM', 'KN', 'KR', 'KW', 'KZ', 'LA', 'LB', 'LC', 'LI', 'LK', 'LR', 'LS', 'LT', 'LU', 'LV', 'LY', 'MA', 'MC', 'MD', 'ME', 'MG', 'MH', 'MK', 'ML', 'MN', 'MO', 'MR', 'MT', 'MU', 'MV', 'MW', 'MX', 'MY', 'MZ', 'NA', 'NE', 'NG', 'NI', 'NL', 'NO', 'NP', 'NR', 'NZ', 'OM', 'PA', 'PE', 'PG', 'PH', 'PK', 'PL', 'PS', 'PT', 'PW', 'PY', 'QA', 'RO', 'RS', 'RU', 'RW', 'SA', 'SB', 'SC', 'SE', 'SG', 'SI', 'SK', 'SL', 'SM', 'SN', 'SR', 'ST', 'SV', 'SZ', 'TD', 'TG', 'TH', 'TJ', 'TL', 'TN', 'TO', 'TR', 'TT', 'TV', 'TW', 'TZ', 'UA', 'UG', 'US', 'UY', 'UZ', 'VC', 'VE', 'VN', 'VU', 'WS', 'XK', 'ZA', 'ZM', 'ZW'], 'disc_number': 1, 'duration_ms': 180000, 'explicit': False, 'external_urls': {'spotify': 'https://open.spotify.com/track/3760Go7UI4B8hgILy8c1Nt'}, 'href': 'https://api.spotify.com/v1/tracks/3760Go7UI4B8hgILy8c1Nt', 'id': '3760Go7UI4B8hgILy8c1Nt', 'is_local': False, 'name': 'Get In The Car', 'preview_url': 'https://p.scdn.co/mp3-preview/df349a2db0db301fc71174c5877f6bfd9cf6a496?cid=b60b5dc276ba4ef2bcd8afa267744726', 'track_number': 6, 'type': 'track', 'uri': 'spotify:track:3760Go7UI4B8hgILy8c1Nt'}\n",
            "{'artists': [{'external_urls': {'spotify': 'https://open.spotify.com/artist/5ZbRDyTYX4HhXveONcZQn2'}, 'href': 'https://api.spotify.com/v1/artists/5ZbRDyTYX4HhXveONcZQn2', 'id': '5ZbRDyTYX4HhXveONcZQn2', 'name': 'Mystery Skulls', 'type': 'artist', 'uri': 'spotify:artist:5ZbRDyTYX4HhXveONcZQn2'}], 'available_markets': ['AD', 'AE', 'AG', 'AL', 'AM', 'AO', 'AR', 'AT', 'AU', 'AZ', 'BA', 'BB', 'BD', 'BE', 'BF', 'BG', 'BH', 'BI', 'BJ', 'BN', 'BO', 'BR', 'BS', 'BT', 'BW', 'BY', 'BZ', 'CA', 'CD', 'CG', 'CH', 'CI', 'CL', 'CM', 'CO', 'CR', 'CV', 'CW', 'CY', 'CZ', 'DE', 'DJ', 'DK', 'DM', 'DO', 'DZ', 'EC', 'EE', 'EG', 'ES', 'FI', 'FJ', 'FM', 'FR', 'GA', 'GB', 'GD', 'GE', 'GH', 'GM', 'GN', 'GQ', 'GR', 'GT', 'GW', 'GY', 'HK', 'HN', 'HR', 'HT', 'HU', 'ID', 'IE', 'IL', 'IN', 'IQ', 'IS', 'IT', 'JM', 'JO', 'JP', 'KE', 'KG', 'KH', 'KI', 'KM', 'KN', 'KR', 'KW', 'KZ', 'LA', 'LB', 'LC', 'LI', 'LK', 'LR', 'LS', 'LT', 'LU', 'LV', 'LY', 'MA', 'MC', 'MD', 'ME', 'MG', 'MH', 'MK', 'ML', 'MN', 'MO', 'MR', 'MT', 'MU', 'MV', 'MW', 'MX', 'MY', 'MZ', 'NA', 'NE', 'NG', 'NI', 'NL', 'NO', 'NP', 'NR', 'NZ', 'OM', 'PA', 'PE', 'PG', 'PH', 'PK', 'PL', 'PS', 'PT', 'PW', 'PY', 'QA', 'RO', 'RS', 'RU', 'RW', 'SA', 'SB', 'SC', 'SE', 'SG', 'SI', 'SK', 'SL', 'SM', 'SN', 'SR', 'ST', 'SV', 'SZ', 'TD', 'TG', 'TH', 'TJ', 'TL', 'TN', 'TO', 'TR', 'TT', 'TV', 'TW', 'TZ', 'UA', 'UG', 'US', 'UY', 'UZ', 'VC', 'VE', 'VN', 'VU', 'WS', 'XK', 'ZA', 'ZM', 'ZW'], 'disc_number': 1, 'duration_ms': 198000, 'explicit': False, 'external_urls': {'spotify': 'https://open.spotify.com/track/7JXkMlfh2lXZ2tJ7UTRjtH'}, 'href': 'https://api.spotify.com/v1/tracks/7JXkMlfh2lXZ2tJ7UTRjtH', 'id': '7JXkMlfh2lXZ2tJ7UTRjtH', 'is_local': False, 'name': 'Back To Life', 'preview_url': 'https://p.scdn.co/mp3-preview/87269a82fd810afd87a44b0eadaac747468dcdd4?cid=b60b5dc276ba4ef2bcd8afa267744726', 'track_number': 7, 'type': 'track', 'uri': 'spotify:track:7JXkMlfh2lXZ2tJ7UTRjtH'}\n",
            "{'artists': [{'external_urls': {'spotify': 'https://open.spotify.com/artist/5ZbRDyTYX4HhXveONcZQn2'}, 'href': 'https://api.spotify.com/v1/artists/5ZbRDyTYX4HhXveONcZQn2', 'id': '5ZbRDyTYX4HhXveONcZQn2', 'name': 'Mystery Skulls', 'type': 'artist', 'uri': 'spotify:artist:5ZbRDyTYX4HhXveONcZQn2'}, {'external_urls': {'spotify': 'https://open.spotify.com/artist/6nLpD6tWBhXIbNxVKJC1fH'}, 'href': 'https://api.spotify.com/v1/artists/6nLpD6tWBhXIbNxVKJC1fH', 'id': '6nLpD6tWBhXIbNxVKJC1fH', 'name': 'Snowblood', 'type': 'artist', 'uri': 'spotify:artist:6nLpD6tWBhXIbNxVKJC1fH'}], 'available_markets': ['AD', 'AE', 'AG', 'AL', 'AM', 'AO', 'AR', 'AT', 'AU', 'AZ', 'BA', 'BB', 'BD', 'BE', 'BF', 'BG', 'BH', 'BI', 'BJ', 'BN', 'BO', 'BR', 'BS', 'BT', 'BW', 'BY', 'BZ', 'CA', 'CD', 'CG', 'CH', 'CI', 'CL', 'CM', 'CO', 'CR', 'CV', 'CW', 'CY', 'CZ', 'DE', 'DJ', 'DK', 'DM', 'DO', 'DZ', 'EC', 'EE', 'EG', 'ES', 'FI', 'FJ', 'FM', 'FR', 'GA', 'GB', 'GD', 'GE', 'GH', 'GM', 'GN', 'GQ', 'GR', 'GT', 'GW', 'GY', 'HK', 'HN', 'HR', 'HT', 'HU', 'ID', 'IE', 'IL', 'IN', 'IQ', 'IS', 'IT', 'JM', 'JO', 'JP', 'KE', 'KG', 'KH', 'KI', 'KM', 'KN', 'KR', 'KW', 'KZ', 'LA', 'LB', 'LC', 'LI', 'LK', 'LR', 'LS', 'LT', 'LU', 'LV', 'LY', 'MA', 'MC', 'MD', 'ME', 'MG', 'MH', 'MK', 'ML', 'MN', 'MO', 'MR', 'MT', 'MU', 'MV', 'MW', 'MX', 'MY', 'MZ', 'NA', 'NE', 'NG', 'NI', 'NL', 'NO', 'NP', 'NR', 'NZ', 'OM', 'PA', 'PE', 'PG', 'PH', 'PK', 'PL', 'PS', 'PT', 'PW', 'PY', 'QA', 'RO', 'RS', 'RU', 'RW', 'SA', 'SB', 'SC', 'SE', 'SG', 'SI', 'SK', 'SL', 'SM', 'SN', 'SR', 'ST', 'SV', 'SZ', 'TD', 'TG', 'TH', 'TJ', 'TL', 'TN', 'TO', 'TR', 'TT', 'TV', 'TW', 'TZ', 'UA', 'UG', 'US', 'UY', 'UZ', 'VC', 'VE', 'VN', 'VU', 'WS', 'XK', 'ZA', 'ZM', 'ZW'], 'disc_number': 1, 'duration_ms': 240125, 'explicit': False, 'external_urls': {'spotify': 'https://open.spotify.com/track/7bJl4FKN2Hvj3SCQRJWWFa'}, 'href': 'https://api.spotify.com/v1/tracks/7bJl4FKN2Hvj3SCQRJWWFa', 'id': '7bJl4FKN2Hvj3SCQRJWWFa', 'is_local': False, 'name': 'Dying For You', 'preview_url': 'https://p.scdn.co/mp3-preview/896bbff410feb3cb2a076eaca0994b65f75b462c?cid=b60b5dc276ba4ef2bcd8afa267744726', 'track_number': 8, 'type': 'track', 'uri': 'spotify:track:7bJl4FKN2Hvj3SCQRJWWFa'}\n",
            "{'artists': [{'external_urls': {'spotify': 'https://open.spotify.com/artist/5ZbRDyTYX4HhXveONcZQn2'}, 'href': 'https://api.spotify.com/v1/artists/5ZbRDyTYX4HhXveONcZQn2', 'id': '5ZbRDyTYX4HhXveONcZQn2', 'name': 'Mystery Skulls', 'type': 'artist', 'uri': 'spotify:artist:5ZbRDyTYX4HhXveONcZQn2'}], 'available_markets': ['AD', 'AE', 'AG', 'AL', 'AM', 'AO', 'AR', 'AT', 'AU', 'AZ', 'BA', 'BB', 'BD', 'BE', 'BF', 'BG', 'BH', 'BI', 'BJ', 'BN', 'BO', 'BR', 'BS', 'BT', 'BW', 'BY', 'BZ', 'CA', 'CD', 'CG', 'CH', 'CI', 'CL', 'CM', 'CO', 'CR', 'CV', 'CW', 'CY', 'CZ', 'DE', 'DJ', 'DK', 'DM', 'DO', 'DZ', 'EC', 'EE', 'EG', 'ES', 'FI', 'FJ', 'FM', 'FR', 'GA', 'GB', 'GD', 'GE', 'GH', 'GM', 'GN', 'GQ', 'GR', 'GT', 'GW', 'GY', 'HK', 'HN', 'HR', 'HT', 'HU', 'ID', 'IE', 'IL', 'IN', 'IQ', 'IS', 'IT', 'JM', 'JO', 'JP', 'KE', 'KG', 'KH', 'KI', 'KM', 'KN', 'KR', 'KW', 'KZ', 'LA', 'LB', 'LC', 'LI', 'LK', 'LR', 'LS', 'LT', 'LU', 'LV', 'LY', 'MA', 'MC', 'MD', 'ME', 'MG', 'MH', 'MK', 'ML', 'MN', 'MO', 'MR', 'MT', 'MU', 'MV', 'MW', 'MX', 'MY', 'MZ', 'NA', 'NE', 'NG', 'NI', 'NL', 'NO', 'NP', 'NR', 'NZ', 'OM', 'PA', 'PE', 'PG', 'PH', 'PK', 'PL', 'PS', 'PT', 'PW', 'PY', 'QA', 'RO', 'RS', 'RU', 'RW', 'SA', 'SB', 'SC', 'SE', 'SG', 'SI', 'SK', 'SL', 'SM', 'SN', 'SR', 'ST', 'SV', 'SZ', 'TD', 'TG', 'TH', 'TJ', 'TL', 'TN', 'TO', 'TR', 'TT', 'TV', 'TW', 'TZ', 'UA', 'UG', 'US', 'UY', 'UZ', 'VC', 'VE', 'VN', 'VU', 'WS', 'XK', 'ZA', 'ZM', 'ZW'], 'disc_number': 1, 'duration_ms': 242000, 'explicit': False, 'external_urls': {'spotify': 'https://open.spotify.com/track/6rUKAFuGr9OJvgHjKppqEG'}, 'href': 'https://api.spotify.com/v1/tracks/6rUKAFuGr9OJvgHjKppqEG', 'id': '6rUKAFuGr9OJvgHjKppqEG', 'is_local': False, 'name': 'In My Dreams', 'preview_url': 'https://p.scdn.co/mp3-preview/e74b78d584d405eb82c7652d911dfb4ff8bc2438?cid=b60b5dc276ba4ef2bcd8afa267744726', 'track_number': 9, 'type': 'track', 'uri': 'spotify:track:6rUKAFuGr9OJvgHjKppqEG'}\n",
            "{'artists': [{'external_urls': {'spotify': 'https://open.spotify.com/artist/5ZbRDyTYX4HhXveONcZQn2'}, 'href': 'https://api.spotify.com/v1/artists/5ZbRDyTYX4HhXveONcZQn2', 'id': '5ZbRDyTYX4HhXveONcZQn2', 'name': 'Mystery Skulls', 'type': 'artist', 'uri': 'spotify:artist:5ZbRDyTYX4HhXveONcZQn2'}], 'available_markets': ['AD', 'AE', 'AG', 'AL', 'AM', 'AO', 'AR', 'AT', 'AU', 'AZ', 'BA', 'BB', 'BD', 'BE', 'BF', 'BG', 'BH', 'BI', 'BJ', 'BN', 'BO', 'BR', 'BS', 'BT', 'BW', 'BY', 'BZ', 'CA', 'CD', 'CG', 'CH', 'CI', 'CL', 'CM', 'CO', 'CR', 'CV', 'CW', 'CY', 'CZ', 'DE', 'DJ', 'DK', 'DM', 'DO', 'DZ', 'EC', 'EE', 'EG', 'ES', 'FI', 'FJ', 'FM', 'FR', 'GA', 'GB', 'GD', 'GE', 'GH', 'GM', 'GN', 'GQ', 'GR', 'GT', 'GW', 'GY', 'HK', 'HN', 'HR', 'HT', 'HU', 'ID', 'IE', 'IL', 'IN', 'IQ', 'IS', 'IT', 'JM', 'JO', 'JP', 'KE', 'KG', 'KH', 'KI', 'KM', 'KN', 'KR', 'KW', 'KZ', 'LA', 'LB', 'LC', 'LI', 'LK', 'LR', 'LS', 'LT', 'LU', 'LV', 'LY', 'MA', 'MC', 'MD', 'ME', 'MG', 'MH', 'MK', 'ML', 'MN', 'MO', 'MR', 'MT', 'MU', 'MV', 'MW', 'MX', 'MY', 'MZ', 'NA', 'NE', 'NG', 'NI', 'NL', 'NO', 'NP', 'NR', 'NZ', 'OM', 'PA', 'PE', 'PG', 'PH', 'PK', 'PL', 'PS', 'PT', 'PW', 'PY', 'QA', 'RO', 'RS', 'RU', 'RW', 'SA', 'SB', 'SC', 'SE', 'SG', 'SI', 'SK', 'SL', 'SM', 'SN', 'SR', 'ST', 'SV', 'SZ', 'TD', 'TG', 'TH', 'TJ', 'TL', 'TN', 'TO', 'TR', 'TT', 'TV', 'TW', 'TZ', 'UA', 'UG', 'US', 'UY', 'UZ', 'VC', 'VE', 'VN', 'VU', 'WS', 'XK', 'ZA', 'ZM', 'ZW'], 'disc_number': 1, 'duration_ms': 230000, 'explicit': True, 'external_urls': {'spotify': 'https://open.spotify.com/track/1bq7TmGGfBoiQ0YlUGggnp'}, 'href': 'https://api.spotify.com/v1/tracks/1bq7TmGGfBoiQ0YlUGggnp', 'id': '1bq7TmGGfBoiQ0YlUGggnp', 'is_local': False, 'name': 'Everything and More', 'preview_url': 'https://p.scdn.co/mp3-preview/bbeef2e5409fe30082de1102363b37f1c67b2439?cid=b60b5dc276ba4ef2bcd8afa267744726', 'track_number': 10, 'type': 'track', 'uri': 'spotify:track:1bq7TmGGfBoiQ0YlUGggnp'}\n",
            "{'artists': [{'external_urls': {'spotify': 'https://open.spotify.com/artist/5ZbRDyTYX4HhXveONcZQn2'}, 'href': 'https://api.spotify.com/v1/artists/5ZbRDyTYX4HhXveONcZQn2', 'id': '5ZbRDyTYX4HhXveONcZQn2', 'name': 'Mystery Skulls', 'type': 'artist', 'uri': 'spotify:artist:5ZbRDyTYX4HhXveONcZQn2'}], 'available_markets': ['AD', 'AE', 'AG', 'AL', 'AM', 'AO', 'AR', 'AT', 'AU', 'AZ', 'BA', 'BB', 'BD', 'BE', 'BF', 'BG', 'BH', 'BI', 'BJ', 'BN', 'BO', 'BR', 'BS', 'BT', 'BW', 'BY', 'BZ', 'CA', 'CD', 'CG', 'CH', 'CI', 'CL', 'CM', 'CO', 'CR', 'CV', 'CW', 'CY', 'CZ', 'DE', 'DJ', 'DK', 'DM', 'DO', 'DZ', 'EC', 'EE', 'EG', 'ES', 'FI', 'FJ', 'FM', 'FR', 'GA', 'GB', 'GD', 'GE', 'GH', 'GM', 'GN', 'GQ', 'GR', 'GT', 'GW', 'GY', 'HK', 'HN', 'HR', 'HT', 'HU', 'ID', 'IE', 'IL', 'IN', 'IQ', 'IS', 'IT', 'JM', 'JO', 'JP', 'KE', 'KG', 'KH', 'KI', 'KM', 'KN', 'KR', 'KW', 'KZ', 'LA', 'LB', 'LC', 'LI', 'LK', 'LR', 'LS', 'LT', 'LU', 'LV', 'LY', 'MA', 'MC', 'MD', 'ME', 'MG', 'MH', 'MK', 'ML', 'MN', 'MO', 'MR', 'MT', 'MU', 'MV', 'MW', 'MX', 'MY', 'MZ', 'NA', 'NE', 'NG', 'NI', 'NL', 'NO', 'NP', 'NR', 'NZ', 'OM', 'PA', 'PE', 'PG', 'PH', 'PK', 'PL', 'PS', 'PT', 'PW', 'PY', 'QA', 'RO', 'RS', 'RU', 'RW', 'SA', 'SB', 'SC', 'SE', 'SG', 'SI', 'SK', 'SL', 'SM', 'SN', 'SR', 'ST', 'SV', 'SZ', 'TD', 'TG', 'TH', 'TJ', 'TL', 'TN', 'TO', 'TR', 'TT', 'TV', 'TW', 'TZ', 'UA', 'UG', 'US', 'UY', 'UZ', 'VC', 'VE', 'VN', 'VU', 'WS', 'XK', 'ZA', 'ZM', 'ZW'], 'disc_number': 1, 'duration_ms': 185000, 'explicit': True, 'external_urls': {'spotify': 'https://open.spotify.com/track/3Ze1UU1Jb7wkzcWkiOUYCN'}, 'href': 'https://api.spotify.com/v1/tracks/3Ze1UU1Jb7wkzcWkiOUYCN', 'id': '3Ze1UU1Jb7wkzcWkiOUYCN', 'is_local': False, 'name': 'Stronger', 'preview_url': 'https://p.scdn.co/mp3-preview/06b44b2f485667c370c518a94e20ec2899d739e4?cid=b60b5dc276ba4ef2bcd8afa267744726', 'track_number': 11, 'type': 'track', 'uri': 'spotify:track:3Ze1UU1Jb7wkzcWkiOUYCN'}\n",
            "{'artists': [{'external_urls': {'spotify': 'https://open.spotify.com/artist/5ZbRDyTYX4HhXveONcZQn2'}, 'href': 'https://api.spotify.com/v1/artists/5ZbRDyTYX4HhXveONcZQn2', 'id': '5ZbRDyTYX4HhXveONcZQn2', 'name': 'Mystery Skulls', 'type': 'artist', 'uri': 'spotify:artist:5ZbRDyTYX4HhXveONcZQn2'}], 'available_markets': ['AD', 'AE', 'AG', 'AL', 'AM', 'AO', 'AR', 'AT', 'AU', 'AZ', 'BA', 'BB', 'BD', 'BE', 'BF', 'BG', 'BH', 'BI', 'BJ', 'BN', 'BO', 'BR', 'BS', 'BT', 'BW', 'BY', 'BZ', 'CA', 'CD', 'CG', 'CH', 'CI', 'CL', 'CM', 'CO', 'CR', 'CV', 'CW', 'CY', 'CZ', 'DE', 'DJ', 'DK', 'DM', 'DO', 'DZ', 'EC', 'EE', 'EG', 'ES', 'FI', 'FJ', 'FM', 'FR', 'GA', 'GB', 'GD', 'GE', 'GH', 'GM', 'GN', 'GQ', 'GR', 'GT', 'GW', 'GY', 'HK', 'HN', 'HR', 'HT', 'HU', 'ID', 'IE', 'IL', 'IN', 'IQ', 'IS', 'IT', 'JM', 'JO', 'JP', 'KE', 'KG', 'KH', 'KI', 'KM', 'KN', 'KR', 'KW', 'KZ', 'LA', 'LB', 'LC', 'LI', 'LK', 'LR', 'LS', 'LT', 'LU', 'LV', 'LY', 'MA', 'MC', 'MD', 'ME', 'MG', 'MH', 'MK', 'ML', 'MN', 'MO', 'MR', 'MT', 'MU', 'MV', 'MW', 'MX', 'MY', 'MZ', 'NA', 'NE', 'NG', 'NI', 'NL', 'NO', 'NP', 'NR', 'NZ', 'OM', 'PA', 'PE', 'PG', 'PH', 'PK', 'PL', 'PS', 'PT', 'PW', 'PY', 'QA', 'RO', 'RS', 'RU', 'RW', 'SA', 'SB', 'SC', 'SE', 'SG', 'SI', 'SK', 'SL', 'SM', 'SN', 'SR', 'ST', 'SV', 'SZ', 'TD', 'TG', 'TH', 'TJ', 'TL', 'TN', 'TO', 'TR', 'TT', 'TV', 'TW', 'TZ', 'UA', 'UG', 'US', 'UY', 'UZ', 'VC', 'VE', 'VN', 'VU', 'WS', 'XK', 'ZA', 'ZM', 'ZW'], 'disc_number': 1, 'duration_ms': 157948, 'explicit': False, 'external_urls': {'spotify': 'https://open.spotify.com/track/3oQl9l5jJC4aMI7c9JEkJJ'}, 'href': 'https://api.spotify.com/v1/tracks/3oQl9l5jJC4aMI7c9JEkJJ', 'id': '3oQl9l5jJC4aMI7c9JEkJJ', 'is_local': False, 'name': 'Its Mine', 'preview_url': 'https://p.scdn.co/mp3-preview/99922dfa051647ed5c7dd020d65abc2ac1386795?cid=b60b5dc276ba4ef2bcd8afa267744726', 'track_number': 12, 'type': 'track', 'uri': 'spotify:track:3oQl9l5jJC4aMI7c9JEkJJ'}\n"
          ]
        }
      ]
    },
    {
      "cell_type": "code",
      "source": [
        "MysterySkulls = sp.artist('spotify:artist:5ZbRDyTYX4HhXveONcZQn2')\n",
        "for key,value in MysterySkulls.items():\n",
        "  print(key, \": \", value)"
      ],
      "metadata": {
        "colab": {
          "base_uri": "https://localhost:8080/"
        },
        "id": "DPBZ1kWStfz8",
        "outputId": "264c5270-05a8-43ad-e5db-c1a879f77c73"
      },
      "execution_count": 17,
      "outputs": [
        {
          "output_type": "stream",
          "name": "stdout",
          "text": [
            "external_urls :  {'spotify': 'https://open.spotify.com/artist/5ZbRDyTYX4HhXveONcZQn2'}\n",
            "followers :  {'href': None, 'total': 186116}\n",
            "genres :  ['otacore', 'solipsynthm']\n",
            "href :  https://api.spotify.com/v1/artists/5ZbRDyTYX4HhXveONcZQn2\n",
            "id :  5ZbRDyTYX4HhXveONcZQn2\n",
            "images :  [{'height': 640, 'url': 'https://i.scdn.co/image/ab6761610000e5ebb54580902c3b7fe3772129ef', 'width': 640}, {'height': 320, 'url': 'https://i.scdn.co/image/ab67616100005174b54580902c3b7fe3772129ef', 'width': 320}, {'height': 160, 'url': 'https://i.scdn.co/image/ab6761610000f178b54580902c3b7fe3772129ef', 'width': 160}]\n",
            "name :  Mystery Skulls\n",
            "popularity :  57\n",
            "type :  artist\n",
            "uri :  spotify:artist:5ZbRDyTYX4HhXveONcZQn2\n"
          ]
        }
      ]
    },
    {
      "cell_type": "code",
      "source": [
        "MysterySkulls_albums = []\n",
        "for i in range(1, 4):\n",
        "  msa = sp.artist_albums('spotify:artist:5ZbRDyTYX4HhXveONcZQn2', limit = 50,offset = i)[\"items\"]\n",
        "  for j in msa:\n",
        "    if j[\"album_group\"] != \"appears_on\" and j[\"album_type\"] != 'single':\n",
        "      MysterySkulls_albums.append(j)\n",
        "\n",
        "for k in MysterySkulls_albums:\n",
        "  for key,value in k.items():\n",
        "    print(key, \": \", value)\n",
        "  print(\"*\" * 50)"
      ],
      "metadata": {
        "colab": {
          "base_uri": "https://localhost:8080/"
        },
        "id": "Y0u1iGNkFau6",
        "outputId": "ae02cf3c-6a9b-47f4-c89a-8cf6c2c6989d"
      },
      "execution_count": 18,
      "outputs": [
        {
          "output_type": "stream",
          "name": "stdout",
          "text": [
            "album_group :  album\n",
            "album_type :  album\n",
            "artists :  [{'external_urls': {'spotify': 'https://open.spotify.com/artist/5ZbRDyTYX4HhXveONcZQn2'}, 'href': 'https://api.spotify.com/v1/artists/5ZbRDyTYX4HhXveONcZQn2', 'id': '5ZbRDyTYX4HhXveONcZQn2', 'name': 'Mystery Skulls', 'type': 'artist', 'uri': 'spotify:artist:5ZbRDyTYX4HhXveONcZQn2'}]\n",
            "available_markets :  ['AD', 'AE', 'AG', 'AL', 'AM', 'AO', 'AR', 'AT', 'AU', 'AZ', 'BA', 'BB', 'BD', 'BE', 'BF', 'BG', 'BH', 'BI', 'BJ', 'BN', 'BO', 'BR', 'BS', 'BT', 'BW', 'BY', 'BZ', 'CA', 'CD', 'CG', 'CH', 'CI', 'CL', 'CM', 'CO', 'CR', 'CV', 'CW', 'CY', 'CZ', 'DE', 'DJ', 'DK', 'DM', 'DO', 'DZ', 'EC', 'EE', 'EG', 'ES', 'FI', 'FJ', 'FM', 'FR', 'GA', 'GB', 'GD', 'GE', 'GH', 'GM', 'GN', 'GQ', 'GR', 'GT', 'GW', 'GY', 'HK', 'HN', 'HR', 'HT', 'HU', 'ID', 'IE', 'IL', 'IN', 'IQ', 'IS', 'IT', 'JM', 'JO', 'JP', 'KE', 'KG', 'KH', 'KI', 'KM', 'KN', 'KR', 'KW', 'KZ', 'LA', 'LB', 'LC', 'LI', 'LK', 'LR', 'LS', 'LT', 'LU', 'LV', 'LY', 'MA', 'MC', 'MD', 'ME', 'MG', 'MH', 'MK', 'ML', 'MN', 'MO', 'MR', 'MT', 'MU', 'MV', 'MW', 'MX', 'MY', 'MZ', 'NA', 'NE', 'NG', 'NI', 'NL', 'NO', 'NP', 'NR', 'NZ', 'OM', 'PA', 'PE', 'PG', 'PH', 'PK', 'PL', 'PS', 'PT', 'PW', 'PY', 'QA', 'RO', 'RS', 'RU', 'RW', 'SA', 'SB', 'SC', 'SE', 'SG', 'SI', 'SK', 'SL', 'SM', 'SN', 'SR', 'ST', 'SV', 'SZ', 'TD', 'TG', 'TH', 'TJ', 'TL', 'TN', 'TO', 'TR', 'TT', 'TV', 'TW', 'TZ', 'UA', 'UG', 'US', 'UY', 'UZ', 'VC', 'VE', 'VN', 'VU', 'WS', 'XK', 'ZA', 'ZM', 'ZW']\n",
            "external_urls :  {'spotify': 'https://open.spotify.com/album/0ZOlC4fldjBdSBnEbX6R9A'}\n",
            "href :  https://api.spotify.com/v1/albums/0ZOlC4fldjBdSBnEbX6R9A\n",
            "id :  0ZOlC4fldjBdSBnEbX6R9A\n",
            "images :  [{'height': 640, 'url': 'https://i.scdn.co/image/ab67616d0000b273d73a81c7c96b3775f3cb98a3', 'width': 640}, {'height': 300, 'url': 'https://i.scdn.co/image/ab67616d00001e02d73a81c7c96b3775f3cb98a3', 'width': 300}, {'height': 64, 'url': 'https://i.scdn.co/image/ab67616d00004851d73a81c7c96b3775f3cb98a3', 'width': 64}]\n",
            "name :  Back To Life\n",
            "release_date :  2019-04-19\n",
            "release_date_precision :  day\n",
            "total_tracks :  12\n",
            "type :  album\n",
            "uri :  spotify:album:0ZOlC4fldjBdSBnEbX6R9A\n",
            "**************************************************\n",
            "album_group :  album\n",
            "album_type :  album\n",
            "artists :  [{'external_urls': {'spotify': 'https://open.spotify.com/artist/5ZbRDyTYX4HhXveONcZQn2'}, 'href': 'https://api.spotify.com/v1/artists/5ZbRDyTYX4HhXveONcZQn2', 'id': '5ZbRDyTYX4HhXveONcZQn2', 'name': 'Mystery Skulls', 'type': 'artist', 'uri': 'spotify:artist:5ZbRDyTYX4HhXveONcZQn2'}]\n",
            "available_markets :  ['AD', 'AE', 'AG', 'AL', 'AM', 'AO', 'AR', 'AT', 'AU', 'AZ', 'BA', 'BB', 'BD', 'BE', 'BF', 'BG', 'BH', 'BI', 'BJ', 'BN', 'BO', 'BR', 'BS', 'BT', 'BW', 'BY', 'BZ', 'CA', 'CD', 'CG', 'CH', 'CI', 'CL', 'CM', 'CO', 'CR', 'CV', 'CW', 'CY', 'CZ', 'DE', 'DJ', 'DK', 'DM', 'DO', 'DZ', 'EC', 'EE', 'EG', 'ES', 'FI', 'FJ', 'FM', 'FR', 'GA', 'GB', 'GD', 'GE', 'GH', 'GM', 'GN', 'GQ', 'GR', 'GT', 'GW', 'GY', 'HK', 'HN', 'HR', 'HT', 'HU', 'ID', 'IE', 'IL', 'IN', 'IQ', 'IS', 'IT', 'JM', 'JO', 'JP', 'KE', 'KG', 'KH', 'KI', 'KM', 'KN', 'KR', 'KW', 'KZ', 'LA', 'LB', 'LC', 'LI', 'LK', 'LR', 'LS', 'LT', 'LU', 'LV', 'LY', 'MA', 'MC', 'MD', 'ME', 'MG', 'MH', 'MK', 'ML', 'MN', 'MO', 'MR', 'MT', 'MU', 'MV', 'MW', 'MX', 'MY', 'MZ', 'NA', 'NE', 'NG', 'NI', 'NL', 'NO', 'NP', 'NR', 'NZ', 'OM', 'PA', 'PE', 'PG', 'PH', 'PK', 'PL', 'PS', 'PT', 'PW', 'PY', 'QA', 'RO', 'RS', 'RU', 'RW', 'SA', 'SB', 'SC', 'SE', 'SG', 'SI', 'SK', 'SL', 'SM', 'SN', 'SR', 'ST', 'SV', 'SZ', 'TD', 'TG', 'TH', 'TJ', 'TL', 'TN', 'TO', 'TR', 'TT', 'TV', 'TW', 'TZ', 'UA', 'UG', 'US', 'UY', 'UZ', 'VC', 'VE', 'VN', 'VU', 'WS', 'XK', 'ZA', 'ZM', 'ZW']\n",
            "external_urls :  {'spotify': 'https://open.spotify.com/album/0Ji9dvRqo86dvwEO7bOJYa'}\n",
            "href :  https://api.spotify.com/v1/albums/0Ji9dvRqo86dvwEO7bOJYa\n",
            "id :  0Ji9dvRqo86dvwEO7bOJYa\n",
            "images :  [{'height': 640, 'url': 'https://i.scdn.co/image/ab67616d0000b27361e659d62b03c3d3c6df5a01', 'width': 640}, {'height': 300, 'url': 'https://i.scdn.co/image/ab67616d00001e0261e659d62b03c3d3c6df5a01', 'width': 300}, {'height': 64, 'url': 'https://i.scdn.co/image/ab67616d0000485161e659d62b03c3d3c6df5a01', 'width': 64}]\n",
            "name :  One of Us\n",
            "release_date :  2017-08-04\n",
            "release_date_precision :  day\n",
            "total_tracks :  10\n",
            "type :  album\n",
            "uri :  spotify:album:0Ji9dvRqo86dvwEO7bOJYa\n",
            "**************************************************\n",
            "album_group :  album\n",
            "album_type :  album\n",
            "artists :  [{'external_urls': {'spotify': 'https://open.spotify.com/artist/5ZbRDyTYX4HhXveONcZQn2'}, 'href': 'https://api.spotify.com/v1/artists/5ZbRDyTYX4HhXveONcZQn2', 'id': '5ZbRDyTYX4HhXveONcZQn2', 'name': 'Mystery Skulls', 'type': 'artist', 'uri': 'spotify:artist:5ZbRDyTYX4HhXveONcZQn2'}]\n",
            "available_markets :  ['AE', 'BF', 'BH', 'BN', 'BY', 'EG', 'IN', 'JO', 'KR', 'LB', 'NP', 'OM', 'QA', 'SA', 'UZ']\n",
            "external_urls :  {'spotify': 'https://open.spotify.com/album/4P3C2B9gqZrEIqIBu4jj8o'}\n",
            "href :  https://api.spotify.com/v1/albums/4P3C2B9gqZrEIqIBu4jj8o\n",
            "id :  4P3C2B9gqZrEIqIBu4jj8o\n",
            "images :  [{'height': 640, 'url': 'https://i.scdn.co/image/ab67616d0000b273d5f8fc080058f4f1fde5335a', 'width': 640}, {'height': 300, 'url': 'https://i.scdn.co/image/ab67616d00001e02d5f8fc080058f4f1fde5335a', 'width': 300}, {'height': 64, 'url': 'https://i.scdn.co/image/ab67616d00004851d5f8fc080058f4f1fde5335a', 'width': 64}]\n",
            "name :  One of Us\n",
            "release_date :  2017-08-04\n",
            "release_date_precision :  day\n",
            "total_tracks :  10\n",
            "type :  album\n",
            "uri :  spotify:album:4P3C2B9gqZrEIqIBu4jj8o\n",
            "**************************************************\n",
            "album_group :  album\n",
            "album_type :  album\n",
            "artists :  [{'external_urls': {'spotify': 'https://open.spotify.com/artist/5ZbRDyTYX4HhXveONcZQn2'}, 'href': 'https://api.spotify.com/v1/artists/5ZbRDyTYX4HhXveONcZQn2', 'id': '5ZbRDyTYX4HhXveONcZQn2', 'name': 'Mystery Skulls', 'type': 'artist', 'uri': 'spotify:artist:5ZbRDyTYX4HhXveONcZQn2'}]\n",
            "available_markets :  ['AD', 'AE', 'AG', 'AL', 'AM', 'AO', 'AR', 'AT', 'AU', 'AZ', 'BA', 'BB', 'BD', 'BE', 'BF', 'BG', 'BH', 'BI', 'BJ', 'BN', 'BO', 'BR', 'BS', 'BT', 'BW', 'BY', 'BZ', 'CA', 'CD', 'CG', 'CH', 'CI', 'CL', 'CM', 'CO', 'CR', 'CV', 'CW', 'CY', 'CZ', 'DE', 'DJ', 'DK', 'DM', 'DO', 'DZ', 'EC', 'EE', 'EG', 'ES', 'FI', 'FJ', 'FM', 'FR', 'GA', 'GB', 'GD', 'GE', 'GH', 'GM', 'GN', 'GQ', 'GR', 'GT', 'GW', 'GY', 'HK', 'HN', 'HR', 'HT', 'HU', 'ID', 'IE', 'IL', 'IN', 'IQ', 'IS', 'IT', 'JM', 'JO', 'JP', 'KE', 'KG', 'KH', 'KI', 'KM', 'KN', 'KR', 'KW', 'KZ', 'LA', 'LB', 'LC', 'LI', 'LK', 'LR', 'LS', 'LT', 'LU', 'LV', 'LY', 'MA', 'MC', 'MD', 'ME', 'MG', 'MH', 'MK', 'ML', 'MN', 'MO', 'MR', 'MT', 'MU', 'MV', 'MW', 'MX', 'MY', 'MZ', 'NA', 'NE', 'NG', 'NI', 'NL', 'NO', 'NP', 'NR', 'NZ', 'OM', 'PA', 'PE', 'PG', 'PH', 'PK', 'PL', 'PS', 'PT', 'PW', 'PY', 'QA', 'RO', 'RS', 'RU', 'RW', 'SA', 'SB', 'SC', 'SE', 'SG', 'SI', 'SK', 'SL', 'SM', 'SN', 'SR', 'ST', 'SV', 'SZ', 'TD', 'TG', 'TH', 'TJ', 'TL', 'TN', 'TO', 'TR', 'TT', 'TV', 'TW', 'TZ', 'UA', 'UG', 'US', 'UY', 'UZ', 'VC', 'VE', 'VN', 'VU', 'WS', 'XK', 'ZA', 'ZM', 'ZW']\n",
            "external_urls :  {'spotify': 'https://open.spotify.com/album/6aAgu2T5lmJysbqC0Gj4Rm'}\n",
            "href :  https://api.spotify.com/v1/albums/6aAgu2T5lmJysbqC0Gj4Rm\n",
            "id :  6aAgu2T5lmJysbqC0Gj4Rm\n",
            "images :  [{'height': 640, 'url': 'https://i.scdn.co/image/ab67616d0000b2736c5ed8ec6664ac39910a821b', 'width': 640}, {'height': 300, 'url': 'https://i.scdn.co/image/ab67616d00001e026c5ed8ec6664ac39910a821b', 'width': 300}, {'height': 64, 'url': 'https://i.scdn.co/image/ab67616d000048516c5ed8ec6664ac39910a821b', 'width': 64}]\n",
            "name :  Ultra Rare Vol 1\n",
            "release_date :  2015-09-22\n",
            "release_date_precision :  day\n",
            "total_tracks :  14\n",
            "type :  album\n",
            "uri :  spotify:album:6aAgu2T5lmJysbqC0Gj4Rm\n",
            "**************************************************\n",
            "album_group :  album\n",
            "album_type :  album\n",
            "artists :  [{'external_urls': {'spotify': 'https://open.spotify.com/artist/5ZbRDyTYX4HhXveONcZQn2'}, 'href': 'https://api.spotify.com/v1/artists/5ZbRDyTYX4HhXveONcZQn2', 'id': '5ZbRDyTYX4HhXveONcZQn2', 'name': 'Mystery Skulls', 'type': 'artist', 'uri': 'spotify:artist:5ZbRDyTYX4HhXveONcZQn2'}]\n",
            "available_markets :  ['AD', 'AE', 'AG', 'AL', 'AM', 'AO', 'AR', 'AT', 'AU', 'AZ', 'BA', 'BB', 'BD', 'BE', 'BF', 'BG', 'BH', 'BI', 'BJ', 'BN', 'BO', 'BR', 'BS', 'BW', 'BY', 'BZ', 'CA', 'CD', 'CG', 'CH', 'CI', 'CL', 'CM', 'CO', 'CR', 'CV', 'CW', 'CY', 'CZ', 'DE', 'DJ', 'DK', 'DM', 'DO', 'DZ', 'EC', 'EE', 'EG', 'ES', 'FI', 'FJ', 'FM', 'FR', 'GA', 'GB', 'GD', 'GH', 'GM', 'GN', 'GQ', 'GR', 'GT', 'GW', 'HK', 'HN', 'HR', 'HT', 'HU', 'ID', 'IE', 'IL', 'IN', 'IQ', 'IS', 'IT', 'JM', 'JO', 'JP', 'KE', 'KG', 'KH', 'KM', 'KN', 'KR', 'KW', 'KZ', 'LA', 'LB', 'LC', 'LI', 'LK', 'LR', 'LS', 'LT', 'LU', 'LV', 'LY', 'MA', 'MC', 'MD', 'ME', 'MG', 'MK', 'ML', 'MN', 'MO', 'MR', 'MT', 'MU', 'MW', 'MX', 'MY', 'MZ', 'NA', 'NE', 'NG', 'NI', 'NL', 'NO', 'NP', 'NZ', 'OM', 'PA', 'PE', 'PG', 'PH', 'PK', 'PL', 'PS', 'PT', 'PY', 'QA', 'RO', 'RS', 'RU', 'RW', 'SA', 'SC', 'SE', 'SG', 'SI', 'SK', 'SL', 'SM', 'SN', 'ST', 'SV', 'SZ', 'TD', 'TG', 'TH', 'TJ', 'TL', 'TN', 'TR', 'TT', 'TW', 'TZ', 'UA', 'UG', 'US', 'UY', 'UZ', 'VC', 'VE', 'VN', 'XK', 'ZA', 'ZM', 'ZW']\n",
            "external_urls :  {'spotify': 'https://open.spotify.com/album/0XcZCBXRVvpy0xK6bURwjP'}\n",
            "href :  https://api.spotify.com/v1/albums/0XcZCBXRVvpy0xK6bURwjP\n",
            "id :  0XcZCBXRVvpy0xK6bURwjP\n",
            "images :  [{'height': 640, 'url': 'https://i.scdn.co/image/ab67616d0000b273bc50c3b509f956b35d34ad11', 'width': 640}, {'height': 300, 'url': 'https://i.scdn.co/image/ab67616d00001e02bc50c3b509f956b35d34ad11', 'width': 300}, {'height': 64, 'url': 'https://i.scdn.co/image/ab67616d00004851bc50c3b509f956b35d34ad11', 'width': 64}]\n",
            "name :  Forever\n",
            "release_date :  2014-10-27\n",
            "release_date_precision :  day\n",
            "total_tracks :  11\n",
            "type :  album\n",
            "uri :  spotify:album:0XcZCBXRVvpy0xK6bURwjP\n",
            "**************************************************\n",
            "album_group :  album\n",
            "album_type :  album\n",
            "artists :  [{'external_urls': {'spotify': 'https://open.spotify.com/artist/5ZbRDyTYX4HhXveONcZQn2'}, 'href': 'https://api.spotify.com/v1/artists/5ZbRDyTYX4HhXveONcZQn2', 'id': '5ZbRDyTYX4HhXveONcZQn2', 'name': 'Mystery Skulls', 'type': 'artist', 'uri': 'spotify:artist:5ZbRDyTYX4HhXveONcZQn2'}]\n",
            "available_markets :  ['BN', 'CA', 'US']\n",
            "external_urls :  {'spotify': 'https://open.spotify.com/album/04nlTDq2mKxyaIMfeFNvUO'}\n",
            "href :  https://api.spotify.com/v1/albums/04nlTDq2mKxyaIMfeFNvUO\n",
            "id :  04nlTDq2mKxyaIMfeFNvUO\n",
            "images :  [{'height': 640, 'url': 'https://i.scdn.co/image/ab67616d0000b2733905249e649ab26beb737fd6', 'width': 640}, {'height': 300, 'url': 'https://i.scdn.co/image/ab67616d00001e023905249e649ab26beb737fd6', 'width': 300}, {'height': 64, 'url': 'https://i.scdn.co/image/ab67616d000048513905249e649ab26beb737fd6', 'width': 64}]\n",
            "name :  Forever\n",
            "release_date :  2014-10-27\n",
            "release_date_precision :  day\n",
            "total_tracks :  11\n",
            "type :  album\n",
            "uri :  spotify:album:04nlTDq2mKxyaIMfeFNvUO\n",
            "**************************************************\n",
            "album_group :  album\n",
            "album_type :  album\n",
            "artists :  [{'external_urls': {'spotify': 'https://open.spotify.com/artist/5ZbRDyTYX4HhXveONcZQn2'}, 'href': 'https://api.spotify.com/v1/artists/5ZbRDyTYX4HhXveONcZQn2', 'id': '5ZbRDyTYX4HhXveONcZQn2', 'name': 'Mystery Skulls', 'type': 'artist', 'uri': 'spotify:artist:5ZbRDyTYX4HhXveONcZQn2'}]\n",
            "available_markets :  ['AD', 'AE', 'AG', 'AL', 'AM', 'AO', 'AR', 'AT', 'AU', 'AZ', 'BA', 'BB', 'BD', 'BE', 'BF', 'BG', 'BH', 'BI', 'BJ', 'BN', 'BO', 'BR', 'BS', 'BT', 'BW', 'BY', 'BZ', 'CA', 'CD', 'CG', 'CH', 'CI', 'CL', 'CM', 'CO', 'CR', 'CV', 'CW', 'CY', 'CZ', 'DE', 'DJ', 'DK', 'DM', 'DO', 'DZ', 'EC', 'EE', 'EG', 'ES', 'FI', 'FJ', 'FM', 'FR', 'GA', 'GB', 'GD', 'GE', 'GH', 'GM', 'GN', 'GQ', 'GR', 'GT', 'GW', 'GY', 'HK', 'HN', 'HR', 'HT', 'HU', 'ID', 'IE', 'IL', 'IN', 'IQ', 'IS', 'IT', 'JM', 'JO', 'JP', 'KE', 'KG', 'KH', 'KI', 'KM', 'KN', 'KR', 'KW', 'KZ', 'LA', 'LB', 'LC', 'LI', 'LK', 'LR', 'LS', 'LT', 'LU', 'LV', 'LY', 'MA', 'MC', 'MD', 'ME', 'MG', 'MH', 'MK', 'ML', 'MN', 'MO', 'MR', 'MT', 'MU', 'MV', 'MW', 'MX', 'MY', 'MZ', 'NA', 'NE', 'NG', 'NI', 'NL', 'NO', 'NP', 'NR', 'NZ', 'OM', 'PA', 'PE', 'PG', 'PH', 'PK', 'PL', 'PS', 'PT', 'PW', 'PY', 'QA', 'RO', 'RS', 'RU', 'RW', 'SA', 'SB', 'SC', 'SE', 'SG', 'SI', 'SK', 'SL', 'SM', 'SN', 'SR', 'ST', 'SV', 'SZ', 'TD', 'TG', 'TH', 'TJ', 'TL', 'TN', 'TO', 'TR', 'TT', 'TV', 'TW', 'TZ', 'UA', 'UG', 'US', 'UY', 'UZ', 'VC', 'VE', 'VN', 'VU', 'WS', 'XK', 'ZA', 'ZM', 'ZW']\n",
            "external_urls :  {'spotify': 'https://open.spotify.com/album/0Ji9dvRqo86dvwEO7bOJYa'}\n",
            "href :  https://api.spotify.com/v1/albums/0Ji9dvRqo86dvwEO7bOJYa\n",
            "id :  0Ji9dvRqo86dvwEO7bOJYa\n",
            "images :  [{'height': 640, 'url': 'https://i.scdn.co/image/ab67616d0000b27361e659d62b03c3d3c6df5a01', 'width': 640}, {'height': 300, 'url': 'https://i.scdn.co/image/ab67616d00001e0261e659d62b03c3d3c6df5a01', 'width': 300}, {'height': 64, 'url': 'https://i.scdn.co/image/ab67616d0000485161e659d62b03c3d3c6df5a01', 'width': 64}]\n",
            "name :  One of Us\n",
            "release_date :  2017-08-04\n",
            "release_date_precision :  day\n",
            "total_tracks :  10\n",
            "type :  album\n",
            "uri :  spotify:album:0Ji9dvRqo86dvwEO7bOJYa\n",
            "**************************************************\n",
            "album_group :  album\n",
            "album_type :  album\n",
            "artists :  [{'external_urls': {'spotify': 'https://open.spotify.com/artist/5ZbRDyTYX4HhXveONcZQn2'}, 'href': 'https://api.spotify.com/v1/artists/5ZbRDyTYX4HhXveONcZQn2', 'id': '5ZbRDyTYX4HhXveONcZQn2', 'name': 'Mystery Skulls', 'type': 'artist', 'uri': 'spotify:artist:5ZbRDyTYX4HhXveONcZQn2'}]\n",
            "available_markets :  ['AE', 'BF', 'BH', 'BN', 'BY', 'EG', 'IN', 'JO', 'KR', 'LB', 'NP', 'OM', 'QA', 'SA', 'UZ']\n",
            "external_urls :  {'spotify': 'https://open.spotify.com/album/4P3C2B9gqZrEIqIBu4jj8o'}\n",
            "href :  https://api.spotify.com/v1/albums/4P3C2B9gqZrEIqIBu4jj8o\n",
            "id :  4P3C2B9gqZrEIqIBu4jj8o\n",
            "images :  [{'height': 640, 'url': 'https://i.scdn.co/image/ab67616d0000b273d5f8fc080058f4f1fde5335a', 'width': 640}, {'height': 300, 'url': 'https://i.scdn.co/image/ab67616d00001e02d5f8fc080058f4f1fde5335a', 'width': 300}, {'height': 64, 'url': 'https://i.scdn.co/image/ab67616d00004851d5f8fc080058f4f1fde5335a', 'width': 64}]\n",
            "name :  One of Us\n",
            "release_date :  2017-08-04\n",
            "release_date_precision :  day\n",
            "total_tracks :  10\n",
            "type :  album\n",
            "uri :  spotify:album:4P3C2B9gqZrEIqIBu4jj8o\n",
            "**************************************************\n",
            "album_group :  album\n",
            "album_type :  album\n",
            "artists :  [{'external_urls': {'spotify': 'https://open.spotify.com/artist/5ZbRDyTYX4HhXveONcZQn2'}, 'href': 'https://api.spotify.com/v1/artists/5ZbRDyTYX4HhXveONcZQn2', 'id': '5ZbRDyTYX4HhXveONcZQn2', 'name': 'Mystery Skulls', 'type': 'artist', 'uri': 'spotify:artist:5ZbRDyTYX4HhXveONcZQn2'}]\n",
            "available_markets :  ['AD', 'AE', 'AG', 'AL', 'AM', 'AO', 'AR', 'AT', 'AU', 'AZ', 'BA', 'BB', 'BD', 'BE', 'BF', 'BG', 'BH', 'BI', 'BJ', 'BN', 'BO', 'BR', 'BS', 'BT', 'BW', 'BY', 'BZ', 'CA', 'CD', 'CG', 'CH', 'CI', 'CL', 'CM', 'CO', 'CR', 'CV', 'CW', 'CY', 'CZ', 'DE', 'DJ', 'DK', 'DM', 'DO', 'DZ', 'EC', 'EE', 'EG', 'ES', 'FI', 'FJ', 'FM', 'FR', 'GA', 'GB', 'GD', 'GE', 'GH', 'GM', 'GN', 'GQ', 'GR', 'GT', 'GW', 'GY', 'HK', 'HN', 'HR', 'HT', 'HU', 'ID', 'IE', 'IL', 'IN', 'IQ', 'IS', 'IT', 'JM', 'JO', 'JP', 'KE', 'KG', 'KH', 'KI', 'KM', 'KN', 'KR', 'KW', 'KZ', 'LA', 'LB', 'LC', 'LI', 'LK', 'LR', 'LS', 'LT', 'LU', 'LV', 'LY', 'MA', 'MC', 'MD', 'ME', 'MG', 'MH', 'MK', 'ML', 'MN', 'MO', 'MR', 'MT', 'MU', 'MV', 'MW', 'MX', 'MY', 'MZ', 'NA', 'NE', 'NG', 'NI', 'NL', 'NO', 'NP', 'NR', 'NZ', 'OM', 'PA', 'PE', 'PG', 'PH', 'PK', 'PL', 'PS', 'PT', 'PW', 'PY', 'QA', 'RO', 'RS', 'RU', 'RW', 'SA', 'SB', 'SC', 'SE', 'SG', 'SI', 'SK', 'SL', 'SM', 'SN', 'SR', 'ST', 'SV', 'SZ', 'TD', 'TG', 'TH', 'TJ', 'TL', 'TN', 'TO', 'TR', 'TT', 'TV', 'TW', 'TZ', 'UA', 'UG', 'US', 'UY', 'UZ', 'VC', 'VE', 'VN', 'VU', 'WS', 'XK', 'ZA', 'ZM', 'ZW']\n",
            "external_urls :  {'spotify': 'https://open.spotify.com/album/6aAgu2T5lmJysbqC0Gj4Rm'}\n",
            "href :  https://api.spotify.com/v1/albums/6aAgu2T5lmJysbqC0Gj4Rm\n",
            "id :  6aAgu2T5lmJysbqC0Gj4Rm\n",
            "images :  [{'height': 640, 'url': 'https://i.scdn.co/image/ab67616d0000b2736c5ed8ec6664ac39910a821b', 'width': 640}, {'height': 300, 'url': 'https://i.scdn.co/image/ab67616d00001e026c5ed8ec6664ac39910a821b', 'width': 300}, {'height': 64, 'url': 'https://i.scdn.co/image/ab67616d000048516c5ed8ec6664ac39910a821b', 'width': 64}]\n",
            "name :  Ultra Rare Vol 1\n",
            "release_date :  2015-09-22\n",
            "release_date_precision :  day\n",
            "total_tracks :  14\n",
            "type :  album\n",
            "uri :  spotify:album:6aAgu2T5lmJysbqC0Gj4Rm\n",
            "**************************************************\n",
            "album_group :  album\n",
            "album_type :  album\n",
            "artists :  [{'external_urls': {'spotify': 'https://open.spotify.com/artist/5ZbRDyTYX4HhXveONcZQn2'}, 'href': 'https://api.spotify.com/v1/artists/5ZbRDyTYX4HhXveONcZQn2', 'id': '5ZbRDyTYX4HhXveONcZQn2', 'name': 'Mystery Skulls', 'type': 'artist', 'uri': 'spotify:artist:5ZbRDyTYX4HhXveONcZQn2'}]\n",
            "available_markets :  ['AD', 'AE', 'AG', 'AL', 'AM', 'AO', 'AR', 'AT', 'AU', 'AZ', 'BA', 'BB', 'BD', 'BE', 'BF', 'BG', 'BH', 'BI', 'BJ', 'BN', 'BO', 'BR', 'BS', 'BW', 'BY', 'BZ', 'CA', 'CD', 'CG', 'CH', 'CI', 'CL', 'CM', 'CO', 'CR', 'CV', 'CW', 'CY', 'CZ', 'DE', 'DJ', 'DK', 'DM', 'DO', 'DZ', 'EC', 'EE', 'EG', 'ES', 'FI', 'FJ', 'FM', 'FR', 'GA', 'GB', 'GD', 'GH', 'GM', 'GN', 'GQ', 'GR', 'GT', 'GW', 'HK', 'HN', 'HR', 'HT', 'HU', 'ID', 'IE', 'IL', 'IN', 'IQ', 'IS', 'IT', 'JM', 'JO', 'JP', 'KE', 'KG', 'KH', 'KM', 'KN', 'KR', 'KW', 'KZ', 'LA', 'LB', 'LC', 'LI', 'LK', 'LR', 'LS', 'LT', 'LU', 'LV', 'LY', 'MA', 'MC', 'MD', 'ME', 'MG', 'MK', 'ML', 'MN', 'MO', 'MR', 'MT', 'MU', 'MW', 'MX', 'MY', 'MZ', 'NA', 'NE', 'NG', 'NI', 'NL', 'NO', 'NP', 'NZ', 'OM', 'PA', 'PE', 'PG', 'PH', 'PK', 'PL', 'PS', 'PT', 'PY', 'QA', 'RO', 'RS', 'RU', 'RW', 'SA', 'SC', 'SE', 'SG', 'SI', 'SK', 'SL', 'SM', 'SN', 'ST', 'SV', 'SZ', 'TD', 'TG', 'TH', 'TJ', 'TL', 'TN', 'TR', 'TT', 'TW', 'TZ', 'UA', 'UG', 'US', 'UY', 'UZ', 'VC', 'VE', 'VN', 'XK', 'ZA', 'ZM', 'ZW']\n",
            "external_urls :  {'spotify': 'https://open.spotify.com/album/0XcZCBXRVvpy0xK6bURwjP'}\n",
            "href :  https://api.spotify.com/v1/albums/0XcZCBXRVvpy0xK6bURwjP\n",
            "id :  0XcZCBXRVvpy0xK6bURwjP\n",
            "images :  [{'height': 640, 'url': 'https://i.scdn.co/image/ab67616d0000b273bc50c3b509f956b35d34ad11', 'width': 640}, {'height': 300, 'url': 'https://i.scdn.co/image/ab67616d00001e02bc50c3b509f956b35d34ad11', 'width': 300}, {'height': 64, 'url': 'https://i.scdn.co/image/ab67616d00004851bc50c3b509f956b35d34ad11', 'width': 64}]\n",
            "name :  Forever\n",
            "release_date :  2014-10-27\n",
            "release_date_precision :  day\n",
            "total_tracks :  11\n",
            "type :  album\n",
            "uri :  spotify:album:0XcZCBXRVvpy0xK6bURwjP\n",
            "**************************************************\n",
            "album_group :  album\n",
            "album_type :  album\n",
            "artists :  [{'external_urls': {'spotify': 'https://open.spotify.com/artist/5ZbRDyTYX4HhXveONcZQn2'}, 'href': 'https://api.spotify.com/v1/artists/5ZbRDyTYX4HhXveONcZQn2', 'id': '5ZbRDyTYX4HhXveONcZQn2', 'name': 'Mystery Skulls', 'type': 'artist', 'uri': 'spotify:artist:5ZbRDyTYX4HhXveONcZQn2'}]\n",
            "available_markets :  ['BN', 'CA', 'US']\n",
            "external_urls :  {'spotify': 'https://open.spotify.com/album/04nlTDq2mKxyaIMfeFNvUO'}\n",
            "href :  https://api.spotify.com/v1/albums/04nlTDq2mKxyaIMfeFNvUO\n",
            "id :  04nlTDq2mKxyaIMfeFNvUO\n",
            "images :  [{'height': 640, 'url': 'https://i.scdn.co/image/ab67616d0000b2733905249e649ab26beb737fd6', 'width': 640}, {'height': 300, 'url': 'https://i.scdn.co/image/ab67616d00001e023905249e649ab26beb737fd6', 'width': 300}, {'height': 64, 'url': 'https://i.scdn.co/image/ab67616d000048513905249e649ab26beb737fd6', 'width': 64}]\n",
            "name :  Forever\n",
            "release_date :  2014-10-27\n",
            "release_date_precision :  day\n",
            "total_tracks :  11\n",
            "type :  album\n",
            "uri :  spotify:album:04nlTDq2mKxyaIMfeFNvUO\n",
            "**************************************************\n",
            "album_group :  album\n",
            "album_type :  album\n",
            "artists :  [{'external_urls': {'spotify': 'https://open.spotify.com/artist/5ZbRDyTYX4HhXveONcZQn2'}, 'href': 'https://api.spotify.com/v1/artists/5ZbRDyTYX4HhXveONcZQn2', 'id': '5ZbRDyTYX4HhXveONcZQn2', 'name': 'Mystery Skulls', 'type': 'artist', 'uri': 'spotify:artist:5ZbRDyTYX4HhXveONcZQn2'}]\n",
            "available_markets :  ['AE', 'BF', 'BH', 'BN', 'BY', 'EG', 'IN', 'JO', 'KR', 'LB', 'NP', 'OM', 'QA', 'SA', 'UZ']\n",
            "external_urls :  {'spotify': 'https://open.spotify.com/album/4P3C2B9gqZrEIqIBu4jj8o'}\n",
            "href :  https://api.spotify.com/v1/albums/4P3C2B9gqZrEIqIBu4jj8o\n",
            "id :  4P3C2B9gqZrEIqIBu4jj8o\n",
            "images :  [{'height': 640, 'url': 'https://i.scdn.co/image/ab67616d0000b273d5f8fc080058f4f1fde5335a', 'width': 640}, {'height': 300, 'url': 'https://i.scdn.co/image/ab67616d00001e02d5f8fc080058f4f1fde5335a', 'width': 300}, {'height': 64, 'url': 'https://i.scdn.co/image/ab67616d00004851d5f8fc080058f4f1fde5335a', 'width': 64}]\n",
            "name :  One of Us\n",
            "release_date :  2017-08-04\n",
            "release_date_precision :  day\n",
            "total_tracks :  10\n",
            "type :  album\n",
            "uri :  spotify:album:4P3C2B9gqZrEIqIBu4jj8o\n",
            "**************************************************\n",
            "album_group :  album\n",
            "album_type :  album\n",
            "artists :  [{'external_urls': {'spotify': 'https://open.spotify.com/artist/5ZbRDyTYX4HhXveONcZQn2'}, 'href': 'https://api.spotify.com/v1/artists/5ZbRDyTYX4HhXveONcZQn2', 'id': '5ZbRDyTYX4HhXveONcZQn2', 'name': 'Mystery Skulls', 'type': 'artist', 'uri': 'spotify:artist:5ZbRDyTYX4HhXveONcZQn2'}]\n",
            "available_markets :  ['AD', 'AE', 'AG', 'AL', 'AM', 'AO', 'AR', 'AT', 'AU', 'AZ', 'BA', 'BB', 'BD', 'BE', 'BF', 'BG', 'BH', 'BI', 'BJ', 'BN', 'BO', 'BR', 'BS', 'BT', 'BW', 'BY', 'BZ', 'CA', 'CD', 'CG', 'CH', 'CI', 'CL', 'CM', 'CO', 'CR', 'CV', 'CW', 'CY', 'CZ', 'DE', 'DJ', 'DK', 'DM', 'DO', 'DZ', 'EC', 'EE', 'EG', 'ES', 'FI', 'FJ', 'FM', 'FR', 'GA', 'GB', 'GD', 'GE', 'GH', 'GM', 'GN', 'GQ', 'GR', 'GT', 'GW', 'GY', 'HK', 'HN', 'HR', 'HT', 'HU', 'ID', 'IE', 'IL', 'IN', 'IQ', 'IS', 'IT', 'JM', 'JO', 'JP', 'KE', 'KG', 'KH', 'KI', 'KM', 'KN', 'KR', 'KW', 'KZ', 'LA', 'LB', 'LC', 'LI', 'LK', 'LR', 'LS', 'LT', 'LU', 'LV', 'LY', 'MA', 'MC', 'MD', 'ME', 'MG', 'MH', 'MK', 'ML', 'MN', 'MO', 'MR', 'MT', 'MU', 'MV', 'MW', 'MX', 'MY', 'MZ', 'NA', 'NE', 'NG', 'NI', 'NL', 'NO', 'NP', 'NR', 'NZ', 'OM', 'PA', 'PE', 'PG', 'PH', 'PK', 'PL', 'PS', 'PT', 'PW', 'PY', 'QA', 'RO', 'RS', 'RU', 'RW', 'SA', 'SB', 'SC', 'SE', 'SG', 'SI', 'SK', 'SL', 'SM', 'SN', 'SR', 'ST', 'SV', 'SZ', 'TD', 'TG', 'TH', 'TJ', 'TL', 'TN', 'TO', 'TR', 'TT', 'TV', 'TW', 'TZ', 'UA', 'UG', 'US', 'UY', 'UZ', 'VC', 'VE', 'VN', 'VU', 'WS', 'XK', 'ZA', 'ZM', 'ZW']\n",
            "external_urls :  {'spotify': 'https://open.spotify.com/album/6aAgu2T5lmJysbqC0Gj4Rm'}\n",
            "href :  https://api.spotify.com/v1/albums/6aAgu2T5lmJysbqC0Gj4Rm\n",
            "id :  6aAgu2T5lmJysbqC0Gj4Rm\n",
            "images :  [{'height': 640, 'url': 'https://i.scdn.co/image/ab67616d0000b2736c5ed8ec6664ac39910a821b', 'width': 640}, {'height': 300, 'url': 'https://i.scdn.co/image/ab67616d00001e026c5ed8ec6664ac39910a821b', 'width': 300}, {'height': 64, 'url': 'https://i.scdn.co/image/ab67616d000048516c5ed8ec6664ac39910a821b', 'width': 64}]\n",
            "name :  Ultra Rare Vol 1\n",
            "release_date :  2015-09-22\n",
            "release_date_precision :  day\n",
            "total_tracks :  14\n",
            "type :  album\n",
            "uri :  spotify:album:6aAgu2T5lmJysbqC0Gj4Rm\n",
            "**************************************************\n",
            "album_group :  album\n",
            "album_type :  album\n",
            "artists :  [{'external_urls': {'spotify': 'https://open.spotify.com/artist/5ZbRDyTYX4HhXveONcZQn2'}, 'href': 'https://api.spotify.com/v1/artists/5ZbRDyTYX4HhXveONcZQn2', 'id': '5ZbRDyTYX4HhXveONcZQn2', 'name': 'Mystery Skulls', 'type': 'artist', 'uri': 'spotify:artist:5ZbRDyTYX4HhXveONcZQn2'}]\n",
            "available_markets :  ['AD', 'AE', 'AG', 'AL', 'AM', 'AO', 'AR', 'AT', 'AU', 'AZ', 'BA', 'BB', 'BD', 'BE', 'BF', 'BG', 'BH', 'BI', 'BJ', 'BN', 'BO', 'BR', 'BS', 'BW', 'BY', 'BZ', 'CA', 'CD', 'CG', 'CH', 'CI', 'CL', 'CM', 'CO', 'CR', 'CV', 'CW', 'CY', 'CZ', 'DE', 'DJ', 'DK', 'DM', 'DO', 'DZ', 'EC', 'EE', 'EG', 'ES', 'FI', 'FJ', 'FM', 'FR', 'GA', 'GB', 'GD', 'GH', 'GM', 'GN', 'GQ', 'GR', 'GT', 'GW', 'HK', 'HN', 'HR', 'HT', 'HU', 'ID', 'IE', 'IL', 'IN', 'IQ', 'IS', 'IT', 'JM', 'JO', 'JP', 'KE', 'KG', 'KH', 'KM', 'KN', 'KR', 'KW', 'KZ', 'LA', 'LB', 'LC', 'LI', 'LK', 'LR', 'LS', 'LT', 'LU', 'LV', 'LY', 'MA', 'MC', 'MD', 'ME', 'MG', 'MK', 'ML', 'MN', 'MO', 'MR', 'MT', 'MU', 'MW', 'MX', 'MY', 'MZ', 'NA', 'NE', 'NG', 'NI', 'NL', 'NO', 'NP', 'NZ', 'OM', 'PA', 'PE', 'PG', 'PH', 'PK', 'PL', 'PS', 'PT', 'PY', 'QA', 'RO', 'RS', 'RU', 'RW', 'SA', 'SC', 'SE', 'SG', 'SI', 'SK', 'SL', 'SM', 'SN', 'ST', 'SV', 'SZ', 'TD', 'TG', 'TH', 'TJ', 'TL', 'TN', 'TR', 'TT', 'TW', 'TZ', 'UA', 'UG', 'US', 'UY', 'UZ', 'VC', 'VE', 'VN', 'XK', 'ZA', 'ZM', 'ZW']\n",
            "external_urls :  {'spotify': 'https://open.spotify.com/album/0XcZCBXRVvpy0xK6bURwjP'}\n",
            "href :  https://api.spotify.com/v1/albums/0XcZCBXRVvpy0xK6bURwjP\n",
            "id :  0XcZCBXRVvpy0xK6bURwjP\n",
            "images :  [{'height': 640, 'url': 'https://i.scdn.co/image/ab67616d0000b273bc50c3b509f956b35d34ad11', 'width': 640}, {'height': 300, 'url': 'https://i.scdn.co/image/ab67616d00001e02bc50c3b509f956b35d34ad11', 'width': 300}, {'height': 64, 'url': 'https://i.scdn.co/image/ab67616d00004851bc50c3b509f956b35d34ad11', 'width': 64}]\n",
            "name :  Forever\n",
            "release_date :  2014-10-27\n",
            "release_date_precision :  day\n",
            "total_tracks :  11\n",
            "type :  album\n",
            "uri :  spotify:album:0XcZCBXRVvpy0xK6bURwjP\n",
            "**************************************************\n",
            "album_group :  album\n",
            "album_type :  album\n",
            "artists :  [{'external_urls': {'spotify': 'https://open.spotify.com/artist/5ZbRDyTYX4HhXveONcZQn2'}, 'href': 'https://api.spotify.com/v1/artists/5ZbRDyTYX4HhXveONcZQn2', 'id': '5ZbRDyTYX4HhXveONcZQn2', 'name': 'Mystery Skulls', 'type': 'artist', 'uri': 'spotify:artist:5ZbRDyTYX4HhXveONcZQn2'}]\n",
            "available_markets :  ['BN', 'CA', 'US']\n",
            "external_urls :  {'spotify': 'https://open.spotify.com/album/04nlTDq2mKxyaIMfeFNvUO'}\n",
            "href :  https://api.spotify.com/v1/albums/04nlTDq2mKxyaIMfeFNvUO\n",
            "id :  04nlTDq2mKxyaIMfeFNvUO\n",
            "images :  [{'height': 640, 'url': 'https://i.scdn.co/image/ab67616d0000b2733905249e649ab26beb737fd6', 'width': 640}, {'height': 300, 'url': 'https://i.scdn.co/image/ab67616d00001e023905249e649ab26beb737fd6', 'width': 300}, {'height': 64, 'url': 'https://i.scdn.co/image/ab67616d000048513905249e649ab26beb737fd6', 'width': 64}]\n",
            "name :  Forever\n",
            "release_date :  2014-10-27\n",
            "release_date_precision :  day\n",
            "total_tracks :  11\n",
            "type :  album\n",
            "uri :  spotify:album:04nlTDq2mKxyaIMfeFNvUO\n",
            "**************************************************\n"
          ]
        }
      ]
    },
    {
      "cell_type": "code",
      "source": [
        "artist_r = sp.artist_related_artists('spotify:artist:5ZbRDyTYX4HhXveONcZQn2')\n",
        "type(artist_r[\"artists\"])"
      ],
      "metadata": {
        "id": "SLcR1o4eGNtf",
        "colab": {
          "base_uri": "https://localhost:8080/"
        },
        "outputId": "d63dde06-71e0-4124-fb92-6a11599f57b1"
      },
      "execution_count": 26,
      "outputs": [
        {
          "output_type": "execute_result",
          "data": {
            "text/plain": [
              "list"
            ]
          },
          "metadata": {},
          "execution_count": 26
        }
      ]
    },
    {
      "cell_type": "code",
      "source": [
        "for i in artist_r[\"artists\"]:\n",
        "  print(i)"
      ],
      "metadata": {
        "colab": {
          "base_uri": "https://localhost:8080/"
        },
        "id": "pFr-H7wDGZ0h",
        "outputId": "537d4959-9395-4381-991f-c0feb3e90d1d"
      },
      "execution_count": 27,
      "outputs": [
        {
          "output_type": "stream",
          "name": "stdout",
          "text": [
            "{'external_urls': {'spotify': 'https://open.spotify.com/artist/1x2YcZB1QpRZB3HT9gdUCQ'}, 'followers': {'href': None, 'total': 118053}, 'genres': ['antiviral pop', 'comic', 'otacore'], 'href': 'https://api.spotify.com/v1/artists/1x2YcZB1QpRZB3HT9gdUCQ', 'id': '1x2YcZB1QpRZB3HT9gdUCQ', 'images': [{'height': 640, 'url': 'https://i.scdn.co/image/ab6761610000e5ebefafd38c204b3e3c1bfd176e', 'width': 640}, {'height': 320, 'url': 'https://i.scdn.co/image/ab67616100005174efafd38c204b3e3c1bfd176e', 'width': 320}, {'height': 160, 'url': 'https://i.scdn.co/image/ab6761610000f178efafd38c204b3e3c1bfd176e', 'width': 160}], 'name': 'Ken Ashcorp', 'popularity': 52, 'type': 'artist', 'uri': 'spotify:artist:1x2YcZB1QpRZB3HT9gdUCQ'}\n",
            "{'external_urls': {'spotify': 'https://open.spotify.com/artist/7J1NAfiNw9FD5T18Mx0LdR'}, 'followers': {'href': None, 'total': 16435}, 'genres': ['otacore', 'pony'], 'href': 'https://api.spotify.com/v1/artists/7J1NAfiNw9FD5T18Mx0LdR', 'id': '7J1NAfiNw9FD5T18Mx0LdR', 'images': [{'height': 640, 'url': 'https://i.scdn.co/image/ab67616d0000b273bb7a95c4881a58d45265b07b', 'width': 640}, {'height': 300, 'url': 'https://i.scdn.co/image/ab67616d00001e02bb7a95c4881a58d45265b07b', 'width': 300}, {'height': 64, 'url': 'https://i.scdn.co/image/ab67616d00004851bb7a95c4881a58d45265b07b', 'width': 64}], 'name': 'GLAZE', 'popularity': 42, 'type': 'artist', 'uri': 'spotify:artist:7J1NAfiNw9FD5T18Mx0LdR'}\n",
            "{'external_urls': {'spotify': 'https://open.spotify.com/artist/7avo0PmlW8O1YLEt9DnWQT'}, 'followers': {'href': None, 'total': 195973}, 'genres': [], 'href': 'https://api.spotify.com/v1/artists/7avo0PmlW8O1YLEt9DnWQT', 'id': '7avo0PmlW8O1YLEt9DnWQT', 'images': [{'height': 640, 'url': 'https://i.scdn.co/image/ab6761610000e5eb18f8834c5bbb892d97a5ae54', 'width': 640}, {'height': 320, 'url': 'https://i.scdn.co/image/ab6761610000517418f8834c5bbb892d97a5ae54', 'width': 320}, {'height': 160, 'url': 'https://i.scdn.co/image/ab6761610000f17818f8834c5bbb892d97a5ae54', 'width': 160}], 'name': 'Studio Killers', 'popularity': 65, 'type': 'artist', 'uri': 'spotify:artist:7avo0PmlW8O1YLEt9DnWQT'}\n",
            "{'external_urls': {'spotify': 'https://open.spotify.com/artist/1DLKitfb8fshL0DtCecRpY'}, 'followers': {'href': None, 'total': 175254}, 'genres': ['social media pop'], 'href': 'https://api.spotify.com/v1/artists/1DLKitfb8fshL0DtCecRpY', 'id': '1DLKitfb8fshL0DtCecRpY', 'images': [{'height': 640, 'url': 'https://i.scdn.co/image/ab6761610000e5ebd4bd0b64b55b7a6958022c54', 'width': 640}, {'height': 320, 'url': 'https://i.scdn.co/image/ab67616100005174d4bd0b64b55b7a6958022c54', 'width': 320}, {'height': 160, 'url': 'https://i.scdn.co/image/ab6761610000f178d4bd0b64b55b7a6958022c54', 'width': 160}], 'name': 'Shawn Wasabi', 'popularity': 60, 'type': 'artist', 'uri': 'spotify:artist:1DLKitfb8fshL0DtCecRpY'}\n",
            "{'external_urls': {'spotify': 'https://open.spotify.com/artist/6N3egqZ7OtcYYXyU6PBdNr'}, 'followers': {'href': None, 'total': 112829}, 'genres': ['comic', 'nightrun'], 'href': 'https://api.spotify.com/v1/artists/6N3egqZ7OtcYYXyU6PBdNr', 'id': '6N3egqZ7OtcYYXyU6PBdNr', 'images': [{'height': 640, 'url': 'https://i.scdn.co/image/ab6761610000e5eb34d6ac4fb5adfd3da81eda38', 'width': 640}, {'height': 320, 'url': 'https://i.scdn.co/image/ab6761610000517434d6ac4fb5adfd3da81eda38', 'width': 320}, {'height': 160, 'url': 'https://i.scdn.co/image/ab6761610000f17834d6ac4fb5adfd3da81eda38', 'width': 160}], 'name': 'TWRP', 'popularity': 54, 'type': 'artist', 'uri': 'spotify:artist:6N3egqZ7OtcYYXyU6PBdNr'}\n",
            "{'external_urls': {'spotify': 'https://open.spotify.com/artist/68NOjWuVYBRXzYwhel3jAl'}, 'followers': {'href': None, 'total': 173332}, 'genres': ['pop argentino'], 'href': 'https://api.spotify.com/v1/artists/68NOjWuVYBRXzYwhel3jAl', 'id': '68NOjWuVYBRXzYwhel3jAl', 'images': [{'height': 640, 'url': 'https://i.scdn.co/image/ab6761610000e5eb8b5a4e411d629b8554952a38', 'width': 640}, {'height': 320, 'url': 'https://i.scdn.co/image/ab676161000051748b5a4e411d629b8554952a38', 'width': 320}, {'height': 160, 'url': 'https://i.scdn.co/image/ab6761610000f1788b5a4e411d629b8554952a38', 'width': 160}], 'name': 'SIAMES', 'popularity': 59, 'type': 'artist', 'uri': 'spotify:artist:68NOjWuVYBRXzYwhel3jAl'}\n",
            "{'external_urls': {'spotify': 'https://open.spotify.com/artist/3GfNJrDTZY7voXPDx8gH9I'}, 'followers': {'href': None, 'total': 68902}, 'genres': ['otacore'], 'href': 'https://api.spotify.com/v1/artists/3GfNJrDTZY7voXPDx8gH9I', 'id': '3GfNJrDTZY7voXPDx8gH9I', 'images': [{'height': 640, 'url': 'https://i.scdn.co/image/ab6761610000e5ebead651731a78a976102a53ae', 'width': 640}, {'height': 320, 'url': 'https://i.scdn.co/image/ab67616100005174ead651731a78a976102a53ae', 'width': 320}, {'height': 160, 'url': 'https://i.scdn.co/image/ab6761610000f178ead651731a78a976102a53ae', 'width': 160}], 'name': 'TeddyLoid', 'popularity': 54, 'type': 'artist', 'uri': 'spotify:artist:3GfNJrDTZY7voXPDx8gH9I'}\n",
            "{'external_urls': {'spotify': 'https://open.spotify.com/artist/2TdEIqWbLnZZHYRDWvVj67'}, 'followers': {'href': None, 'total': 37410}, 'genres': ['la indie', 'modern alternative rock'], 'href': 'https://api.spotify.com/v1/artists/2TdEIqWbLnZZHYRDWvVj67', 'id': '2TdEIqWbLnZZHYRDWvVj67', 'images': [{'height': 640, 'url': 'https://i.scdn.co/image/ab6761610000e5eb0a42e07569e9e6275f99ec3f', 'width': 640}, {'height': 320, 'url': 'https://i.scdn.co/image/ab676161000051740a42e07569e9e6275f99ec3f', 'width': 320}, {'height': 160, 'url': 'https://i.scdn.co/image/ab6761610000f1780a42e07569e9e6275f99ec3f', 'width': 160}], 'name': 'Battle Tapes', 'popularity': 48, 'type': 'artist', 'uri': 'spotify:artist:2TdEIqWbLnZZHYRDWvVj67'}\n",
            "{'external_urls': {'spotify': 'https://open.spotify.com/artist/6xMMOflXnoIA3grU3seMjh'}, 'followers': {'href': None, 'total': 11081}, 'genres': ['vgm remix'], 'href': 'https://api.spotify.com/v1/artists/6xMMOflXnoIA3grU3seMjh', 'id': '6xMMOflXnoIA3grU3seMjh', 'images': [{'height': 640, 'url': 'https://i.scdn.co/image/ab6761610000e5ebbc1fc09259d276dba3fc8761', 'width': 640}, {'height': 320, 'url': 'https://i.scdn.co/image/ab67616100005174bc1fc09259d276dba3fc8761', 'width': 320}, {'height': 160, 'url': 'https://i.scdn.co/image/ab6761610000f178bc1fc09259d276dba3fc8761', 'width': 160}], 'name': 'James Landino', 'popularity': 46, 'type': 'artist', 'uri': 'spotify:artist:6xMMOflXnoIA3grU3seMjh'}\n",
            "{'external_urls': {'spotify': 'https://open.spotify.com/artist/3VvmUsYPzFheK2wJGKcXxp'}, 'followers': {'href': None, 'total': 52253}, 'genres': ['electro swing', 'nu jazz'], 'href': 'https://api.spotify.com/v1/artists/3VvmUsYPzFheK2wJGKcXxp', 'id': '3VvmUsYPzFheK2wJGKcXxp', 'images': [{'height': 640, 'url': 'https://i.scdn.co/image/ab6761610000e5ebae8182aab668a49134181bfe', 'width': 640}, {'height': 320, 'url': 'https://i.scdn.co/image/ab67616100005174ae8182aab668a49134181bfe', 'width': 320}, {'height': 160, 'url': 'https://i.scdn.co/image/ab6761610000f178ae8182aab668a49134181bfe', 'width': 160}], 'name': 'The Correspondents', 'popularity': 48, 'type': 'artist', 'uri': 'spotify:artist:3VvmUsYPzFheK2wJGKcXxp'}\n",
            "{'external_urls': {'spotify': 'https://open.spotify.com/artist/1N1JZ3SRv6PSzAsOEW2aZp'}, 'followers': {'href': None, 'total': 43184}, 'genres': ['phoenix indie'], 'href': 'https://api.spotify.com/v1/artists/1N1JZ3SRv6PSzAsOEW2aZp', 'id': '1N1JZ3SRv6PSzAsOEW2aZp', 'images': [{'height': 640, 'url': 'https://i.scdn.co/image/ab6761610000e5eb53f2ebc47c5c11a93ad6c40e', 'width': 640}, {'height': 320, 'url': 'https://i.scdn.co/image/ab6761610000517453f2ebc47c5c11a93ad6c40e', 'width': 320}, {'height': 160, 'url': 'https://i.scdn.co/image/ab6761610000f17853f2ebc47c5c11a93ad6c40e', 'width': 160}], 'name': 'Bear Ghost', 'popularity': 50, 'type': 'artist', 'uri': 'spotify:artist:1N1JZ3SRv6PSzAsOEW2aZp'}\n",
            "{'external_urls': {'spotify': 'https://open.spotify.com/artist/3jsyANBBy6gOZUSQhiGclx'}, 'followers': {'href': None, 'total': 351343}, 'genres': ['comic'], 'href': 'https://api.spotify.com/v1/artists/3jsyANBBy6gOZUSQhiGclx', 'id': '3jsyANBBy6gOZUSQhiGclx', 'images': [{'height': 640, 'url': 'https://i.scdn.co/image/ab6761610000e5eb1b32be3b9b341931eb2a985a', 'width': 640}, {'height': 320, 'url': 'https://i.scdn.co/image/ab676161000051741b32be3b9b341931eb2a985a', 'width': 320}, {'height': 160, 'url': 'https://i.scdn.co/image/ab6761610000f1781b32be3b9b341931eb2a985a', 'width': 160}], 'name': 'Ninja Sex Party', 'popularity': 60, 'type': 'artist', 'uri': 'spotify:artist:3jsyANBBy6gOZUSQhiGclx'}\n",
            "{'external_urls': {'spotify': 'https://open.spotify.com/artist/3wvCMqwyJachksGLF0kjMJ'}, 'followers': {'href': None, 'total': 60035}, 'genres': [], 'href': 'https://api.spotify.com/v1/artists/3wvCMqwyJachksGLF0kjMJ', 'id': '3wvCMqwyJachksGLF0kjMJ', 'images': [{'height': 640, 'url': 'https://i.scdn.co/image/ab6761610000e5ebf277c87cda2a5a420ab6ff60', 'width': 640}, {'height': 320, 'url': 'https://i.scdn.co/image/ab67616100005174f277c87cda2a5a420ab6ff60', 'width': 320}, {'height': 160, 'url': 'https://i.scdn.co/image/ab6761610000f178f277c87cda2a5a420ab6ff60', 'width': 160}], 'name': 'FAKE TYPE.', 'popularity': 49, 'type': 'artist', 'uri': 'spotify:artist:3wvCMqwyJachksGLF0kjMJ'}\n",
            "{'external_urls': {'spotify': 'https://open.spotify.com/artist/1DLBs2535MM32RYqirYYY4'}, 'followers': {'href': None, 'total': 239347}, 'genres': ['antiviral pop', 'comic', 'otacore'], 'href': 'https://api.spotify.com/v1/artists/1DLBs2535MM32RYqirYYY4', 'id': '1DLBs2535MM32RYqirYYY4', 'images': [{'height': 640, 'url': 'https://i.scdn.co/image/ab6761610000e5eb01db25a04bac6ea9a5071640', 'width': 640}, {'height': 320, 'url': 'https://i.scdn.co/image/ab6761610000517401db25a04bac6ea9a5071640', 'width': 320}, {'height': 160, 'url': 'https://i.scdn.co/image/ab6761610000f17801db25a04bac6ea9a5071640', 'width': 160}], 'name': 'Starbomb', 'popularity': 51, 'type': 'artist', 'uri': 'spotify:artist:1DLBs2535MM32RYqirYYY4'}\n",
            "{'external_urls': {'spotify': 'https://open.spotify.com/artist/042mLfOBpH8OoX8A6sUYhf'}, 'followers': {'href': None, 'total': 102594}, 'genres': ['future funk'], 'href': 'https://api.spotify.com/v1/artists/042mLfOBpH8OoX8A6sUYhf', 'id': '042mLfOBpH8OoX8A6sUYhf', 'images': [{'height': 640, 'url': 'https://i.scdn.co/image/ab6761610000e5eb31c1cacc3557db40269376a3', 'width': 640}, {'height': 320, 'url': 'https://i.scdn.co/image/ab6761610000517431c1cacc3557db40269376a3', 'width': 320}, {'height': 160, 'url': 'https://i.scdn.co/image/ab6761610000f17831c1cacc3557db40269376a3', 'width': 160}], 'name': 'GHOST DATA', 'popularity': 55, 'type': 'artist', 'uri': 'spotify:artist:042mLfOBpH8OoX8A6sUYhf'}\n",
            "{'external_urls': {'spotify': 'https://open.spotify.com/artist/7cvljqLNhWNFMb8wP2NImJ'}, 'followers': {'href': None, 'total': 231523}, 'genres': ['future funk', 'kawaii future bass'], 'href': 'https://api.spotify.com/v1/artists/7cvljqLNhWNFMb8wP2NImJ', 'id': '7cvljqLNhWNFMb8wP2NImJ', 'images': [{'height': 640, 'url': 'https://i.scdn.co/image/ab6761610000e5eb286103c92ac948a14fcd4dba', 'width': 640}, {'height': 320, 'url': 'https://i.scdn.co/image/ab67616100005174286103c92ac948a14fcd4dba', 'width': 320}, {'height': 160, 'url': 'https://i.scdn.co/image/ab6761610000f178286103c92ac948a14fcd4dba', 'width': 160}], 'name': 'Moe Shop', 'popularity': 61, 'type': 'artist', 'uri': 'spotify:artist:7cvljqLNhWNFMb8wP2NImJ'}\n",
            "{'external_urls': {'spotify': 'https://open.spotify.com/artist/0gnBpQrAfWy73XpB4ZZZYX'}, 'followers': {'href': None, 'total': 87660}, 'genres': ['otacore', 'vocaloid'], 'href': 'https://api.spotify.com/v1/artists/0gnBpQrAfWy73XpB4ZZZYX', 'id': '0gnBpQrAfWy73XpB4ZZZYX', 'images': [{'height': 640, 'url': 'https://i.scdn.co/image/ab6761610000e5eb3dde9801b0e89d6d8d48cce3', 'width': 640}, {'height': 320, 'url': 'https://i.scdn.co/image/ab676161000051743dde9801b0e89d6d8d48cce3', 'width': 320}, {'height': 160, 'url': 'https://i.scdn.co/image/ab6761610000f1783dde9801b0e89d6d8d48cce3', 'width': 160}], 'name': 'Crusher-P', 'popularity': 58, 'type': 'artist', 'uri': 'spotify:artist:0gnBpQrAfWy73XpB4ZZZYX'}\n",
            "{'external_urls': {'spotify': 'https://open.spotify.com/artist/1OpE6RVs0OBi3NtYklybgW'}, 'followers': {'href': None, 'total': 19928}, 'genres': ['complextro', 'electro house', 'gamecore'], 'href': 'https://api.spotify.com/v1/artists/1OpE6RVs0OBi3NtYklybgW', 'id': '1OpE6RVs0OBi3NtYklybgW', 'images': [{'height': 640, 'url': 'https://i.scdn.co/image/ab67616d0000b273a5dbafb6e339c8aee6fd23b7', 'width': 640}, {'height': 300, 'url': 'https://i.scdn.co/image/ab67616d00001e02a5dbafb6e339c8aee6fd23b7', 'width': 300}, {'height': 64, 'url': 'https://i.scdn.co/image/ab67616d00004851a5dbafb6e339c8aee6fd23b7', 'width': 64}], 'name': 'PrototypeRaptor', 'popularity': 44, 'type': 'artist', 'uri': 'spotify:artist:1OpE6RVs0OBi3NtYklybgW'}\n",
            "{'external_urls': {'spotify': 'https://open.spotify.com/artist/3xNCp8cktZ1IGwRregR2yO'}, 'followers': {'href': None, 'total': 67918}, 'genres': ['fnaf', 'otacore'], 'href': 'https://api.spotify.com/v1/artists/3xNCp8cktZ1IGwRregR2yO', 'id': '3xNCp8cktZ1IGwRregR2yO', 'images': [{'height': 640, 'url': 'https://i.scdn.co/image/ab6761610000e5eb6da6cedfb8a81101fb663cd2', 'width': 640}, {'height': 320, 'url': 'https://i.scdn.co/image/ab676161000051746da6cedfb8a81101fb663cd2', 'width': 320}, {'height': 160, 'url': 'https://i.scdn.co/image/ab6761610000f1786da6cedfb8a81101fb663cd2', 'width': 160}], 'name': 'Aviators', 'popularity': 54, 'type': 'artist', 'uri': 'spotify:artist:3xNCp8cktZ1IGwRregR2yO'}\n",
            "{'external_urls': {'spotify': 'https://open.spotify.com/artist/37J1PlAkhRK7yrZUtqaUpQ'}, 'followers': {'href': None, 'total': 880827}, 'genres': ['electro swing', 'nu jazz'], 'href': 'https://api.spotify.com/v1/artists/37J1PlAkhRK7yrZUtqaUpQ', 'id': '37J1PlAkhRK7yrZUtqaUpQ', 'images': [{'height': 640, 'url': 'https://i.scdn.co/image/ab6761610000e5ebdedbe7030797b73b6a77e39f', 'width': 640}, {'height': 320, 'url': 'https://i.scdn.co/image/ab67616100005174dedbe7030797b73b6a77e39f', 'width': 320}, {'height': 160, 'url': 'https://i.scdn.co/image/ab6761610000f178dedbe7030797b73b6a77e39f', 'width': 160}], 'name': 'Caravan Palace', 'popularity': 65, 'type': 'artist', 'uri': 'spotify:artist:37J1PlAkhRK7yrZUtqaUpQ'}\n"
          ]
        }
      ]
    },
    {
      "cell_type": "code",
      "source": [
        "artists_top = sp.artist_top_tracks('spotify:artist:5ZbRDyTYX4HhXveONcZQn2', \"MX\")\n",
        "len(artists_top[\"tracks\"])"
      ],
      "metadata": {
        "colab": {
          "base_uri": "https://localhost:8080/"
        },
        "id": "Gv8Q42_UOCSn",
        "outputId": "79d60490-1533-4d3a-c40c-407b6cfb10e0"
      },
      "execution_count": 30,
      "outputs": [
        {
          "output_type": "execute_result",
          "data": {
            "text/plain": [
              "10"
            ]
          },
          "metadata": {},
          "execution_count": 30
        }
      ]
    },
    {
      "cell_type": "code",
      "source": [
        "for i in artists_top[\"tracks\"]:\n",
        "  print(i)"
      ],
      "metadata": {
        "colab": {
          "base_uri": "https://localhost:8080/"
        },
        "id": "Sp8GV22FPMA6",
        "outputId": "aa975b79-5499-431b-a4f2-4d1fad890b87"
      },
      "execution_count": 31,
      "outputs": [
        {
          "output_type": "stream",
          "name": "stdout",
          "text": [
            "{'album': {'album_type': 'album', 'artists': [{'external_urls': {'spotify': 'https://open.spotify.com/artist/5ZbRDyTYX4HhXveONcZQn2'}, 'href': 'https://api.spotify.com/v1/artists/5ZbRDyTYX4HhXveONcZQn2', 'id': '5ZbRDyTYX4HhXveONcZQn2', 'name': 'Mystery Skulls', 'type': 'artist', 'uri': 'spotify:artist:5ZbRDyTYX4HhXveONcZQn2'}], 'external_urls': {'spotify': 'https://open.spotify.com/album/0XcZCBXRVvpy0xK6bURwjP'}, 'href': 'https://api.spotify.com/v1/albums/0XcZCBXRVvpy0xK6bURwjP', 'id': '0XcZCBXRVvpy0xK6bURwjP', 'images': [{'height': 640, 'url': 'https://i.scdn.co/image/ab67616d0000b273bc50c3b509f956b35d34ad11', 'width': 640}, {'height': 300, 'url': 'https://i.scdn.co/image/ab67616d00001e02bc50c3b509f956b35d34ad11', 'width': 300}, {'height': 64, 'url': 'https://i.scdn.co/image/ab67616d00004851bc50c3b509f956b35d34ad11', 'width': 64}], 'name': 'Forever', 'release_date': '2014-10-27', 'release_date_precision': 'day', 'total_tracks': 11, 'type': 'album', 'uri': 'spotify:album:0XcZCBXRVvpy0xK6bURwjP'}, 'artists': [{'external_urls': {'spotify': 'https://open.spotify.com/artist/5ZbRDyTYX4HhXveONcZQn2'}, 'href': 'https://api.spotify.com/v1/artists/5ZbRDyTYX4HhXveONcZQn2', 'id': '5ZbRDyTYX4HhXveONcZQn2', 'name': 'Mystery Skulls', 'type': 'artist', 'uri': 'spotify:artist:5ZbRDyTYX4HhXveONcZQn2'}], 'disc_number': 1, 'duration_ms': 259079, 'explicit': True, 'external_ids': {'isrc': 'USWB11303675'}, 'external_urls': {'spotify': 'https://open.spotify.com/track/63TVmH2fC4DpbnH5o3p8qi'}, 'href': 'https://api.spotify.com/v1/tracks/63TVmH2fC4DpbnH5o3p8qi', 'id': '63TVmH2fC4DpbnH5o3p8qi', 'is_local': False, 'is_playable': True, 'name': 'Ghost', 'popularity': 58, 'preview_url': 'https://p.scdn.co/mp3-preview/a087ae241ab7a2e32d6aed7be3bb25e0d6f0c056?cid=b60b5dc276ba4ef2bcd8afa267744726', 'track_number': 6, 'type': 'track', 'uri': 'spotify:track:63TVmH2fC4DpbnH5o3p8qi'}\n",
            "{'album': {'album_type': 'album', 'artists': [{'external_urls': {'spotify': 'https://open.spotify.com/artist/5ZbRDyTYX4HhXveONcZQn2'}, 'href': 'https://api.spotify.com/v1/artists/5ZbRDyTYX4HhXveONcZQn2', 'id': '5ZbRDyTYX4HhXveONcZQn2', 'name': 'Mystery Skulls', 'type': 'artist', 'uri': 'spotify:artist:5ZbRDyTYX4HhXveONcZQn2'}], 'external_urls': {'spotify': 'https://open.spotify.com/album/0Ji9dvRqo86dvwEO7bOJYa'}, 'href': 'https://api.spotify.com/v1/albums/0Ji9dvRqo86dvwEO7bOJYa', 'id': '0Ji9dvRqo86dvwEO7bOJYa', 'images': [{'height': 640, 'url': 'https://i.scdn.co/image/ab67616d0000b27361e659d62b03c3d3c6df5a01', 'width': 640}, {'height': 300, 'url': 'https://i.scdn.co/image/ab67616d00001e0261e659d62b03c3d3c6df5a01', 'width': 300}, {'height': 64, 'url': 'https://i.scdn.co/image/ab67616d0000485161e659d62b03c3d3c6df5a01', 'width': 64}], 'name': 'One of Us', 'release_date': '2017-08-04', 'release_date_precision': 'day', 'total_tracks': 10, 'type': 'album', 'uri': 'spotify:album:0Ji9dvRqo86dvwEO7bOJYa'}, 'artists': [{'external_urls': {'spotify': 'https://open.spotify.com/artist/5ZbRDyTYX4HhXveONcZQn2'}, 'href': 'https://api.spotify.com/v1/artists/5ZbRDyTYX4HhXveONcZQn2', 'id': '5ZbRDyTYX4HhXveONcZQn2', 'name': 'Mystery Skulls', 'type': 'artist', 'uri': 'spotify:artist:5ZbRDyTYX4HhXveONcZQn2'}], 'disc_number': 1, 'duration_ms': 179160, 'explicit': False, 'external_ids': {'isrc': 'USWB11700798'}, 'external_urls': {'spotify': 'https://open.spotify.com/track/1DXXWu8Del2WXqBsuB4TcL'}, 'href': 'https://api.spotify.com/v1/tracks/1DXXWu8Del2WXqBsuB4TcL', 'id': '1DXXWu8Del2WXqBsuB4TcL', 'is_local': False, 'is_playable': True, 'name': 'Losing My Mind', 'popularity': 56, 'preview_url': 'https://p.scdn.co/mp3-preview/8ff53832cee75a19ce5560cb5607a2df4fba88e7?cid=b60b5dc276ba4ef2bcd8afa267744726', 'track_number': 2, 'type': 'track', 'uri': 'spotify:track:1DXXWu8Del2WXqBsuB4TcL'}\n",
            "{'album': {'album_type': 'album', 'artists': [{'external_urls': {'spotify': 'https://open.spotify.com/artist/5ZbRDyTYX4HhXveONcZQn2'}, 'href': 'https://api.spotify.com/v1/artists/5ZbRDyTYX4HhXveONcZQn2', 'id': '5ZbRDyTYX4HhXveONcZQn2', 'name': 'Mystery Skulls', 'type': 'artist', 'uri': 'spotify:artist:5ZbRDyTYX4HhXveONcZQn2'}], 'external_urls': {'spotify': 'https://open.spotify.com/album/6aAgu2T5lmJysbqC0Gj4Rm'}, 'href': 'https://api.spotify.com/v1/albums/6aAgu2T5lmJysbqC0Gj4Rm', 'id': '6aAgu2T5lmJysbqC0Gj4Rm', 'images': [{'height': 640, 'url': 'https://i.scdn.co/image/ab67616d0000b2736c5ed8ec6664ac39910a821b', 'width': 640}, {'height': 300, 'url': 'https://i.scdn.co/image/ab67616d00001e026c5ed8ec6664ac39910a821b', 'width': 300}, {'height': 64, 'url': 'https://i.scdn.co/image/ab67616d000048516c5ed8ec6664ac39910a821b', 'width': 64}], 'name': 'Ultra Rare Vol 1', 'release_date': '2015-09-22', 'release_date_precision': 'day', 'total_tracks': 14, 'type': 'album', 'uri': 'spotify:album:6aAgu2T5lmJysbqC0Gj4Rm'}, 'artists': [{'external_urls': {'spotify': 'https://open.spotify.com/artist/5ZbRDyTYX4HhXveONcZQn2'}, 'href': 'https://api.spotify.com/v1/artists/5ZbRDyTYX4HhXveONcZQn2', 'id': '5ZbRDyTYX4HhXveONcZQn2', 'name': 'Mystery Skulls', 'type': 'artist', 'uri': 'spotify:artist:5ZbRDyTYX4HhXveONcZQn2'}], 'disc_number': 1, 'duration_ms': 213000, 'explicit': False, 'external_ids': {'isrc': 'QM24S1928011'}, 'external_urls': {'spotify': 'https://open.spotify.com/track/6Z29f6uaUKnNkBvLfLDR0G'}, 'href': 'https://api.spotify.com/v1/tracks/6Z29f6uaUKnNkBvLfLDR0G', 'id': '6Z29f6uaUKnNkBvLfLDR0G', 'is_local': False, 'is_playable': True, 'name': 'Freaking Out', 'popularity': 53, 'preview_url': 'https://p.scdn.co/mp3-preview/3f7d050c8ae58a59e72563e8a5638ebc1c8456c3?cid=b60b5dc276ba4ef2bcd8afa267744726', 'track_number': 3, 'type': 'track', 'uri': 'spotify:track:6Z29f6uaUKnNkBvLfLDR0G'}\n",
            "{'album': {'album_type': 'album', 'artists': [{'external_urls': {'spotify': 'https://open.spotify.com/artist/5ZbRDyTYX4HhXveONcZQn2'}, 'href': 'https://api.spotify.com/v1/artists/5ZbRDyTYX4HhXveONcZQn2', 'id': '5ZbRDyTYX4HhXveONcZQn2', 'name': 'Mystery Skulls', 'type': 'artist', 'uri': 'spotify:artist:5ZbRDyTYX4HhXveONcZQn2'}], 'external_urls': {'spotify': 'https://open.spotify.com/album/0XcZCBXRVvpy0xK6bURwjP'}, 'href': 'https://api.spotify.com/v1/albums/0XcZCBXRVvpy0xK6bURwjP', 'id': '0XcZCBXRVvpy0xK6bURwjP', 'images': [{'height': 640, 'url': 'https://i.scdn.co/image/ab67616d0000b273bc50c3b509f956b35d34ad11', 'width': 640}, {'height': 300, 'url': 'https://i.scdn.co/image/ab67616d00001e02bc50c3b509f956b35d34ad11', 'width': 300}, {'height': 64, 'url': 'https://i.scdn.co/image/ab67616d00004851bc50c3b509f956b35d34ad11', 'width': 64}], 'name': 'Forever', 'release_date': '2014-10-27', 'release_date_precision': 'day', 'total_tracks': 11, 'type': 'album', 'uri': 'spotify:album:0XcZCBXRVvpy0xK6bURwjP'}, 'artists': [{'external_urls': {'spotify': 'https://open.spotify.com/artist/5ZbRDyTYX4HhXveONcZQn2'}, 'href': 'https://api.spotify.com/v1/artists/5ZbRDyTYX4HhXveONcZQn2', 'id': '5ZbRDyTYX4HhXveONcZQn2', 'name': 'Mystery Skulls', 'type': 'artist', 'uri': 'spotify:artist:5ZbRDyTYX4HhXveONcZQn2'}, {'external_urls': {'spotify': 'https://open.spotify.com/artist/6nLpD6tWBhXIbNxVKJC1fH'}, 'href': 'https://api.spotify.com/v1/artists/6nLpD6tWBhXIbNxVKJC1fH', 'id': '6nLpD6tWBhXIbNxVKJC1fH', 'name': 'Snowblood', 'type': 'artist', 'uri': 'spotify:artist:6nLpD6tWBhXIbNxVKJC1fH'}], 'disc_number': 1, 'duration_ms': 173213, 'explicit': False, 'external_ids': {'isrc': 'USWB11402669'}, 'external_urls': {'spotify': 'https://open.spotify.com/track/2fR9vtB9inzLi5i54NwtSo'}, 'href': 'https://api.spotify.com/v1/tracks/2fR9vtB9inzLi5i54NwtSo', 'id': '2fR9vtB9inzLi5i54NwtSo', 'is_local': False, 'is_playable': True, 'name': 'Hellbent (feat. Snowblood)', 'popularity': 53, 'preview_url': 'https://p.scdn.co/mp3-preview/f272a9f5cb2910541ee3f20eafdb32a26ad63ebf?cid=b60b5dc276ba4ef2bcd8afa267744726', 'track_number': 4, 'type': 'track', 'uri': 'spotify:track:2fR9vtB9inzLi5i54NwtSo'}\n",
            "{'album': {'album_type': 'album', 'artists': [{'external_urls': {'spotify': 'https://open.spotify.com/artist/5ZbRDyTYX4HhXveONcZQn2'}, 'href': 'https://api.spotify.com/v1/artists/5ZbRDyTYX4HhXveONcZQn2', 'id': '5ZbRDyTYX4HhXveONcZQn2', 'name': 'Mystery Skulls', 'type': 'artist', 'uri': 'spotify:artist:5ZbRDyTYX4HhXveONcZQn2'}], 'external_urls': {'spotify': 'https://open.spotify.com/album/0ZOlC4fldjBdSBnEbX6R9A'}, 'href': 'https://api.spotify.com/v1/albums/0ZOlC4fldjBdSBnEbX6R9A', 'id': '0ZOlC4fldjBdSBnEbX6R9A', 'images': [{'height': 640, 'url': 'https://i.scdn.co/image/ab67616d0000b273d73a81c7c96b3775f3cb98a3', 'width': 640}, {'height': 300, 'url': 'https://i.scdn.co/image/ab67616d00001e02d73a81c7c96b3775f3cb98a3', 'width': 300}, {'height': 64, 'url': 'https://i.scdn.co/image/ab67616d00004851d73a81c7c96b3775f3cb98a3', 'width': 64}], 'name': 'Back To Life', 'release_date': '2019-04-19', 'release_date_precision': 'day', 'total_tracks': 12, 'type': 'album', 'uri': 'spotify:album:0ZOlC4fldjBdSBnEbX6R9A'}, 'artists': [{'external_urls': {'spotify': 'https://open.spotify.com/artist/5ZbRDyTYX4HhXveONcZQn2'}, 'href': 'https://api.spotify.com/v1/artists/5ZbRDyTYX4HhXveONcZQn2', 'id': '5ZbRDyTYX4HhXveONcZQn2', 'name': 'Mystery Skulls', 'type': 'artist', 'uri': 'spotify:artist:5ZbRDyTYX4HhXveONcZQn2'}], 'disc_number': 1, 'duration_ms': 157948, 'explicit': False, 'external_ids': {'isrc': 'QM24S1915421'}, 'external_urls': {'spotify': 'https://open.spotify.com/track/3oQl9l5jJC4aMI7c9JEkJJ'}, 'href': 'https://api.spotify.com/v1/tracks/3oQl9l5jJC4aMI7c9JEkJJ', 'id': '3oQl9l5jJC4aMI7c9JEkJJ', 'is_local': False, 'is_playable': True, 'name': 'Its Mine', 'popularity': 51, 'preview_url': 'https://p.scdn.co/mp3-preview/99922dfa051647ed5c7dd020d65abc2ac1386795?cid=b60b5dc276ba4ef2bcd8afa267744726', 'track_number': 12, 'type': 'track', 'uri': 'spotify:track:3oQl9l5jJC4aMI7c9JEkJJ'}\n",
            "{'album': {'album_type': 'album', 'artists': [{'external_urls': {'spotify': 'https://open.spotify.com/artist/5ZbRDyTYX4HhXveONcZQn2'}, 'href': 'https://api.spotify.com/v1/artists/5ZbRDyTYX4HhXveONcZQn2', 'id': '5ZbRDyTYX4HhXveONcZQn2', 'name': 'Mystery Skulls', 'type': 'artist', 'uri': 'spotify:artist:5ZbRDyTYX4HhXveONcZQn2'}], 'external_urls': {'spotify': 'https://open.spotify.com/album/0XcZCBXRVvpy0xK6bURwjP'}, 'href': 'https://api.spotify.com/v1/albums/0XcZCBXRVvpy0xK6bURwjP', 'id': '0XcZCBXRVvpy0xK6bURwjP', 'images': [{'height': 640, 'url': 'https://i.scdn.co/image/ab67616d0000b273bc50c3b509f956b35d34ad11', 'width': 640}, {'height': 300, 'url': 'https://i.scdn.co/image/ab67616d00001e02bc50c3b509f956b35d34ad11', 'width': 300}, {'height': 64, 'url': 'https://i.scdn.co/image/ab67616d00004851bc50c3b509f956b35d34ad11', 'width': 64}], 'name': 'Forever', 'release_date': '2014-10-27', 'release_date_precision': 'day', 'total_tracks': 11, 'type': 'album', 'uri': 'spotify:album:0XcZCBXRVvpy0xK6bURwjP'}, 'artists': [{'external_urls': {'spotify': 'https://open.spotify.com/artist/5ZbRDyTYX4HhXveONcZQn2'}, 'href': 'https://api.spotify.com/v1/artists/5ZbRDyTYX4HhXveONcZQn2', 'id': '5ZbRDyTYX4HhXveONcZQn2', 'name': 'Mystery Skulls', 'type': 'artist', 'uri': 'spotify:artist:5ZbRDyTYX4HhXveONcZQn2'}], 'disc_number': 1, 'duration_ms': 223533, 'explicit': True, 'external_ids': {'isrc': 'USWB11402667'}, 'external_urls': {'spotify': 'https://open.spotify.com/track/1zNPQv792Cf51iswrZoeyt'}, 'href': 'https://api.spotify.com/v1/tracks/1zNPQv792Cf51iswrZoeyt', 'id': '1zNPQv792Cf51iswrZoeyt', 'is_local': False, 'is_playable': True, 'name': 'The Future', 'popularity': 51, 'preview_url': 'https://p.scdn.co/mp3-preview/72d243663a2abda3aefaead6a42c019f981628a5?cid=b60b5dc276ba4ef2bcd8afa267744726', 'track_number': 2, 'type': 'track', 'uri': 'spotify:track:1zNPQv792Cf51iswrZoeyt'}\n",
            "{'album': {'album_type': 'single', 'artists': [{'external_urls': {'spotify': 'https://open.spotify.com/artist/5ZbRDyTYX4HhXveONcZQn2'}, 'href': 'https://api.spotify.com/v1/artists/5ZbRDyTYX4HhXveONcZQn2', 'id': '5ZbRDyTYX4HhXveONcZQn2', 'name': 'Mystery Skulls', 'type': 'artist', 'uri': 'spotify:artist:5ZbRDyTYX4HhXveONcZQn2'}], 'external_urls': {'spotify': 'https://open.spotify.com/album/2TtR622HYizqI5tQLu8Ka9'}, 'href': 'https://api.spotify.com/v1/albums/2TtR622HYizqI5tQLu8Ka9', 'id': '2TtR622HYizqI5tQLu8Ka9', 'images': [{'height': 640, 'url': 'https://i.scdn.co/image/ab67616d0000b27337a75853ad6bbcd9886bc9f3', 'width': 640}, {'height': 300, 'url': 'https://i.scdn.co/image/ab67616d00001e0237a75853ad6bbcd9886bc9f3', 'width': 300}, {'height': 64, 'url': 'https://i.scdn.co/image/ab67616d0000485137a75853ad6bbcd9886bc9f3', 'width': 64}], 'name': 'EP', 'release_date': '2011-12-28', 'release_date_precision': 'day', 'total_tracks': 5, 'type': 'album', 'uri': 'spotify:album:2TtR622HYizqI5tQLu8Ka9'}, 'artists': [{'external_urls': {'spotify': 'https://open.spotify.com/artist/5ZbRDyTYX4HhXveONcZQn2'}, 'href': 'https://api.spotify.com/v1/artists/5ZbRDyTYX4HhXveONcZQn2', 'id': '5ZbRDyTYX4HhXveONcZQn2', 'name': 'Mystery Skulls', 'type': 'artist', 'uri': 'spotify:artist:5ZbRDyTYX4HhXveONcZQn2'}], 'disc_number': 1, 'duration_ms': 218400, 'explicit': False, 'external_ids': {'isrc': 'QM24S1927981'}, 'external_urls': {'spotify': 'https://open.spotify.com/track/6uoccjn6gLDixD0EKYH3AY'}, 'href': 'https://api.spotify.com/v1/tracks/6uoccjn6gLDixD0EKYH3AY', 'id': '6uoccjn6gLDixD0EKYH3AY', 'is_local': False, 'is_playable': True, 'name': 'Money', 'popularity': 51, 'preview_url': 'https://p.scdn.co/mp3-preview/f8d09f9640a5b50582f86c6e2f65f4518628982c?cid=b60b5dc276ba4ef2bcd8afa267744726', 'track_number': 2, 'type': 'track', 'uri': 'spotify:track:6uoccjn6gLDixD0EKYH3AY'}\n",
            "{'album': {'album_type': 'album', 'artists': [{'external_urls': {'spotify': 'https://open.spotify.com/artist/5ZbRDyTYX4HhXveONcZQn2'}, 'href': 'https://api.spotify.com/v1/artists/5ZbRDyTYX4HhXveONcZQn2', 'id': '5ZbRDyTYX4HhXveONcZQn2', 'name': 'Mystery Skulls', 'type': 'artist', 'uri': 'spotify:artist:5ZbRDyTYX4HhXveONcZQn2'}], 'external_urls': {'spotify': 'https://open.spotify.com/album/0XcZCBXRVvpy0xK6bURwjP'}, 'href': 'https://api.spotify.com/v1/albums/0XcZCBXRVvpy0xK6bURwjP', 'id': '0XcZCBXRVvpy0xK6bURwjP', 'images': [{'height': 640, 'url': 'https://i.scdn.co/image/ab67616d0000b273bc50c3b509f956b35d34ad11', 'width': 640}, {'height': 300, 'url': 'https://i.scdn.co/image/ab67616d00001e02bc50c3b509f956b35d34ad11', 'width': 300}, {'height': 64, 'url': 'https://i.scdn.co/image/ab67616d00004851bc50c3b509f956b35d34ad11', 'width': 64}], 'name': 'Forever', 'release_date': '2014-10-27', 'release_date_precision': 'day', 'total_tracks': 11, 'type': 'album', 'uri': 'spotify:album:0XcZCBXRVvpy0xK6bURwjP'}, 'artists': [{'external_urls': {'spotify': 'https://open.spotify.com/artist/5ZbRDyTYX4HhXveONcZQn2'}, 'href': 'https://api.spotify.com/v1/artists/5ZbRDyTYX4HhXveONcZQn2', 'id': '5ZbRDyTYX4HhXveONcZQn2', 'name': 'Mystery Skulls', 'type': 'artist', 'uri': 'spotify:artist:5ZbRDyTYX4HhXveONcZQn2'}, {'external_urls': {'spotify': 'https://open.spotify.com/artist/3yDIp0kaq9EFKe07X1X2rz'}, 'href': 'https://api.spotify.com/v1/artists/3yDIp0kaq9EFKe07X1X2rz', 'id': '3yDIp0kaq9EFKe07X1X2rz', 'name': 'Nile Rodgers', 'type': 'artist', 'uri': 'spotify:artist:3yDIp0kaq9EFKe07X1X2rz'}, {'external_urls': {'spotify': 'https://open.spotify.com/artist/05oH07COxkXKIMt6mIPRee'}, 'href': 'https://api.spotify.com/v1/artists/05oH07COxkXKIMt6mIPRee', 'id': '05oH07COxkXKIMt6mIPRee', 'name': 'Brandy', 'type': 'artist', 'uri': 'spotify:artist:05oH07COxkXKIMt6mIPRee'}], 'disc_number': 1, 'duration_ms': 268786, 'explicit': False, 'external_ids': {'isrc': 'USWB11402671'}, 'external_urls': {'spotify': 'https://open.spotify.com/track/50rdn3WBWEzRLavq6tQD4K'}, 'href': 'https://api.spotify.com/v1/tracks/50rdn3WBWEzRLavq6tQD4K', 'id': '50rdn3WBWEzRLavq6tQD4K', 'is_local': False, 'is_playable': True, 'name': 'Magic (feat. Nile Rodgers and Brandy)', 'popularity': 49, 'preview_url': 'https://p.scdn.co/mp3-preview/354410eb7760dbd903e09a45293cb0c2941135aa?cid=b60b5dc276ba4ef2bcd8afa267744726', 'track_number': 7, 'type': 'track', 'uri': 'spotify:track:50rdn3WBWEzRLavq6tQD4K'}\n",
            "{'album': {'album_type': 'album', 'artists': [{'external_urls': {'spotify': 'https://open.spotify.com/artist/5ZbRDyTYX4HhXveONcZQn2'}, 'href': 'https://api.spotify.com/v1/artists/5ZbRDyTYX4HhXveONcZQn2', 'id': '5ZbRDyTYX4HhXveONcZQn2', 'name': 'Mystery Skulls', 'type': 'artist', 'uri': 'spotify:artist:5ZbRDyTYX4HhXveONcZQn2'}], 'external_urls': {'spotify': 'https://open.spotify.com/album/0XcZCBXRVvpy0xK6bURwjP'}, 'href': 'https://api.spotify.com/v1/albums/0XcZCBXRVvpy0xK6bURwjP', 'id': '0XcZCBXRVvpy0xK6bURwjP', 'images': [{'height': 640, 'url': 'https://i.scdn.co/image/ab67616d0000b273bc50c3b509f956b35d34ad11', 'width': 640}, {'height': 300, 'url': 'https://i.scdn.co/image/ab67616d00001e02bc50c3b509f956b35d34ad11', 'width': 300}, {'height': 64, 'url': 'https://i.scdn.co/image/ab67616d00004851bc50c3b509f956b35d34ad11', 'width': 64}], 'name': 'Forever', 'release_date': '2014-10-27', 'release_date_precision': 'day', 'total_tracks': 11, 'type': 'album', 'uri': 'spotify:album:0XcZCBXRVvpy0xK6bURwjP'}, 'artists': [{'external_urls': {'spotify': 'https://open.spotify.com/artist/5ZbRDyTYX4HhXveONcZQn2'}, 'href': 'https://api.spotify.com/v1/artists/5ZbRDyTYX4HhXveONcZQn2', 'id': '5ZbRDyTYX4HhXveONcZQn2', 'name': 'Mystery Skulls', 'type': 'artist', 'uri': 'spotify:artist:5ZbRDyTYX4HhXveONcZQn2'}], 'disc_number': 1, 'duration_ms': 188346, 'explicit': True, 'external_ids': {'isrc': 'USWB11402668'}, 'external_urls': {'spotify': 'https://open.spotify.com/track/4inf6mZVhlOoAL3HQNZx6C'}, 'href': 'https://api.spotify.com/v1/tracks/4inf6mZVhlOoAL3HQNZx6C', 'id': '4inf6mZVhlOoAL3HQNZx6C', 'is_local': False, 'is_playable': True, 'name': 'Paralyzed', 'popularity': 49, 'preview_url': 'https://p.scdn.co/mp3-preview/7b15aa853d8c1c2f974a5c76eed2920d0ecfef7c?cid=b60b5dc276ba4ef2bcd8afa267744726', 'track_number': 3, 'type': 'track', 'uri': 'spotify:track:4inf6mZVhlOoAL3HQNZx6C'}\n",
            "{'album': {'album_type': 'album', 'artists': [{'external_urls': {'spotify': 'https://open.spotify.com/artist/5ZbRDyTYX4HhXveONcZQn2'}, 'href': 'https://api.spotify.com/v1/artists/5ZbRDyTYX4HhXveONcZQn2', 'id': '5ZbRDyTYX4HhXveONcZQn2', 'name': 'Mystery Skulls', 'type': 'artist', 'uri': 'spotify:artist:5ZbRDyTYX4HhXveONcZQn2'}], 'external_urls': {'spotify': 'https://open.spotify.com/album/0ZOlC4fldjBdSBnEbX6R9A'}, 'href': 'https://api.spotify.com/v1/albums/0ZOlC4fldjBdSBnEbX6R9A', 'id': '0ZOlC4fldjBdSBnEbX6R9A', 'images': [{'height': 640, 'url': 'https://i.scdn.co/image/ab67616d0000b273d73a81c7c96b3775f3cb98a3', 'width': 640}, {'height': 300, 'url': 'https://i.scdn.co/image/ab67616d00001e02d73a81c7c96b3775f3cb98a3', 'width': 300}, {'height': 64, 'url': 'https://i.scdn.co/image/ab67616d00004851d73a81c7c96b3775f3cb98a3', 'width': 64}], 'name': 'Back To Life', 'release_date': '2019-04-19', 'release_date_precision': 'day', 'total_tracks': 12, 'type': 'album', 'uri': 'spotify:album:0ZOlC4fldjBdSBnEbX6R9A'}, 'artists': [{'external_urls': {'spotify': 'https://open.spotify.com/artist/5ZbRDyTYX4HhXveONcZQn2'}, 'href': 'https://api.spotify.com/v1/artists/5ZbRDyTYX4HhXveONcZQn2', 'id': '5ZbRDyTYX4HhXveONcZQn2', 'name': 'Mystery Skulls', 'type': 'artist', 'uri': 'spotify:artist:5ZbRDyTYX4HhXveONcZQn2'}], 'disc_number': 1, 'duration_ms': 157250, 'explicit': True, 'external_ids': {'isrc': 'QM24S1845074'}, 'external_urls': {'spotify': 'https://open.spotify.com/track/6fecxwRD74xNT3XRjREIiB'}, 'href': 'https://api.spotify.com/v1/tracks/6fecxwRD74xNT3XRjREIiB', 'id': '6fecxwRD74xNT3XRjREIiB', 'is_local': False, 'is_playable': True, 'name': \"Don't Fuck With My Money\", 'popularity': 47, 'preview_url': 'https://p.scdn.co/mp3-preview/137de80f9c9d6abe75fc5125ff0a8136f496d504?cid=b60b5dc276ba4ef2bcd8afa267744726', 'track_number': 2, 'type': 'track', 'uri': 'spotify:track:6fecxwRD74xNT3XRjREIiB'}\n"
          ]
        }
      ]
    },
    {
      "cell_type": "code",
      "source": [
        "artist = sp.artists(['spotify:artist:5ZbRDyTYX4HhXveONcZQn2'])\n",
        "artist"
      ],
      "metadata": {
        "colab": {
          "base_uri": "https://localhost:8080/"
        },
        "id": "lolr5vRNPZsg",
        "outputId": "f877024e-da54-4256-c8fc-7a9b1e9da76c"
      },
      "execution_count": 33,
      "outputs": [
        {
          "output_type": "execute_result",
          "data": {
            "text/plain": [
              "{'artists': [{'external_urls': {'spotify': 'https://open.spotify.com/artist/5ZbRDyTYX4HhXveONcZQn2'},\n",
              "   'followers': {'href': None, 'total': 186116},\n",
              "   'genres': ['otacore', 'solipsynthm'],\n",
              "   'href': 'https://api.spotify.com/v1/artists/5ZbRDyTYX4HhXveONcZQn2',\n",
              "   'id': '5ZbRDyTYX4HhXveONcZQn2',\n",
              "   'images': [{'height': 640,\n",
              "     'url': 'https://i.scdn.co/image/ab6761610000e5ebb54580902c3b7fe3772129ef',\n",
              "     'width': 640},\n",
              "    {'height': 320,\n",
              "     'url': 'https://i.scdn.co/image/ab67616100005174b54580902c3b7fe3772129ef',\n",
              "     'width': 320},\n",
              "    {'height': 160,\n",
              "     'url': 'https://i.scdn.co/image/ab6761610000f178b54580902c3b7fe3772129ef',\n",
              "     'width': 160}],\n",
              "   'name': 'Mystery Skulls',\n",
              "   'popularity': 57,\n",
              "   'type': 'artist',\n",
              "   'uri': 'spotify:artist:5ZbRDyTYX4HhXveONcZQn2'}]}"
            ]
          },
          "metadata": {},
          "execution_count": 33
        }
      ]
    },
    {
      "cell_type": "code",
      "source": [
        ""
      ],
      "metadata": {
        "id": "2gPkwd5cQ9o8"
      },
      "execution_count": null,
      "outputs": []
    }
  ]
}