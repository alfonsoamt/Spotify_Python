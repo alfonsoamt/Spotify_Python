{
  "nbformat": 4,
  "nbformat_minor": 0,
  "metadata": {
    "colab": {
      "name": "Learning how to use Spotipy.ipynb",
      "provenance": [],
      "authorship_tag": "ABX9TyOxab0pd+n330bGaklgoFQf",
      "include_colab_link": true
    },
    "kernelspec": {
      "name": "python3",
      "display_name": "Python 3"
    },
    "language_info": {
      "name": "python"
    }
  },
  "cells": [
    {
      "cell_type": "markdown",
      "metadata": {
        "id": "view-in-github",
        "colab_type": "text"
      },
      "source": [
        "<a href=\"https://colab.research.google.com/github/alfonsoamt/Spotify_Python/blob/main/Spotify_Python/Learning_how_to_use_Spotipy.ipynb\" target=\"_parent\"><img src=\"https://colab.research.google.com/assets/colab-badge.svg\" alt=\"Open In Colab\"/></a>"
      ]
    },
    {
      "cell_type": "markdown",
      "source": [
        "# **Spotipy**\n",
        "\n",
        "**Spotipy** es una librería de **Python** que nos permite utilizar la **API** de **Spotify**. En este notebook se exploran las diferentes funcionalidades de la librería para posteriormente hacer una extracción de datos de playlists o las caniones más escuchadas de algún usuario. "
      ],
      "metadata": {
        "id": "dKZelzGX-_kv"
      }
    },
    {
      "cell_type": "code",
      "source": [
        "!pip install spotipy"
      ],
      "metadata": {
        "colab": {
          "base_uri": "https://localhost:8080/"
        },
        "id": "xhgzifDlfd1b",
        "outputId": "10d6d7d3-183c-48b2-bb5b-5cbefd62403c"
      },
      "execution_count": 18,
      "outputs": [
        {
          "output_type": "stream",
          "name": "stdout",
          "text": [
            "Requirement already satisfied: spotipy in /usr/local/lib/python3.7/dist-packages (2.19.0)\n",
            "Requirement already satisfied: six>=1.15.0 in /usr/local/lib/python3.7/dist-packages (from spotipy) (1.15.0)\n",
            "Requirement already satisfied: urllib3>=1.26.0 in /usr/local/lib/python3.7/dist-packages (from spotipy) (1.26.8)\n",
            "Requirement already satisfied: requests>=2.25.0 in /usr/local/lib/python3.7/dist-packages (from spotipy) (2.27.1)\n",
            "Requirement already satisfied: certifi>=2017.4.17 in /usr/local/lib/python3.7/dist-packages (from requests>=2.25.0->spotipy) (2021.10.8)\n",
            "Requirement already satisfied: charset-normalizer~=2.0.0 in /usr/local/lib/python3.7/dist-packages (from requests>=2.25.0->spotipy) (2.0.10)\n",
            "Requirement already satisfied: idna<4,>=2.5 in /usr/local/lib/python3.7/dist-packages (from requests>=2.25.0->spotipy) (2.10)\n"
          ]
        }
      ]
    },
    {
      "cell_type": "code",
      "execution_count": 19,
      "metadata": {
        "id": "mRrytiLX8BQT"
      },
      "outputs": [],
      "source": [
        "import spotipy\n",
        "from spotipy.oauth2 import SpotifyClientCredentials"
      ]
    },
    {
      "cell_type": "markdown",
      "source": [
        "Primero se trabaja con la autenticación, que es lo que nos permite acceder a la infroamció de nuestra aplicación que accede a la API. Para la autenticación es necesario mostrar las credenciales de la app; `client_id` y `client_secret`."
      ],
      "metadata": {
        "id": "SeAlA9NdD8oZ"
      }
    },
    {
      "cell_type": "code",
      "source": [
        "SPOTIPY_CLIENT_ID = \"b60b5dc276ba4ef2bcd8afa267744726\"\n",
        "SPOTIPY_CLIENT_SECRET = \"37d13316a4d34f248a778463aef6eadf\""
      ],
      "metadata": {
        "id": "M02OOaxKDE2F"
      },
      "execution_count": 20,
      "outputs": []
    },
    {
      "cell_type": "code",
      "source": [
        "auth_manager = SpotifyClientCredentials(client_id  = SPOTIPY_CLIENT_ID, client_secret = SPOTIPY_CLIENT_SECRET)\n",
        "sp = spotipy.Spotify(auth_manager=auth_manager)"
      ],
      "metadata": {
        "id": "KF_-0XfNGkd6"
      },
      "execution_count": 21,
      "outputs": []
    },
    {
      "cell_type": "code",
      "source": [
        "# Album\n",
        "album_sample_url = \"https://open.spotify.com/album/0ZOlC4fldjBdSBnEbX6R9A?si=hFIDZ1RBSMy_v6gbRtbKWw\"\n",
        "album_sample = sp.album(album_sample_url)\n",
        "type(album_sample)"
      ],
      "metadata": {
        "id": "Pk7I_TnyHliB",
        "colab": {
          "base_uri": "https://localhost:8080/"
        },
        "outputId": "ed83847c-eec3-4a1a-b7e0-d4fa130e22b8"
      },
      "execution_count": 22,
      "outputs": [
        {
          "output_type": "execute_result",
          "data": {
            "text/plain": [
              "dict"
            ]
          },
          "metadata": {},
          "execution_count": 22
        }
      ]
    },
    {
      "cell_type": "code",
      "source": [
        "for key,value in album_sample.items():\n",
        "  print(key,\" // \", value)"
      ],
      "metadata": {
        "colab": {
          "base_uri": "https://localhost:8080/"
        },
        "id": "7KnfCIoEdv0B",
        "outputId": "87e5fb72-c0aa-494c-8b91-f4ea22fa19d4"
      },
      "execution_count": 23,
      "outputs": [
        {
          "output_type": "stream",
          "name": "stdout",
          "text": [
            "album_type  //  album\n",
            "artists  //  [{'external_urls': {'spotify': 'https://open.spotify.com/artist/5ZbRDyTYX4HhXveONcZQn2'}, 'href': 'https://api.spotify.com/v1/artists/5ZbRDyTYX4HhXveONcZQn2', 'id': '5ZbRDyTYX4HhXveONcZQn2', 'name': 'Mystery Skulls', 'type': 'artist', 'uri': 'spotify:artist:5ZbRDyTYX4HhXveONcZQn2'}]\n",
            "available_markets  //  ['AD', 'AE', 'AG', 'AL', 'AM', 'AO', 'AR', 'AT', 'AU', 'AZ', 'BA', 'BB', 'BD', 'BE', 'BF', 'BG', 'BH', 'BI', 'BJ', 'BN', 'BO', 'BR', 'BS', 'BT', 'BW', 'BY', 'BZ', 'CA', 'CD', 'CG', 'CH', 'CI', 'CL', 'CM', 'CO', 'CR', 'CV', 'CW', 'CY', 'CZ', 'DE', 'DJ', 'DK', 'DM', 'DO', 'DZ', 'EC', 'EE', 'EG', 'ES', 'FI', 'FJ', 'FM', 'FR', 'GA', 'GB', 'GD', 'GE', 'GH', 'GM', 'GN', 'GQ', 'GR', 'GT', 'GW', 'GY', 'HK', 'HN', 'HR', 'HT', 'HU', 'ID', 'IE', 'IL', 'IN', 'IQ', 'IS', 'IT', 'JM', 'JO', 'JP', 'KE', 'KG', 'KH', 'KI', 'KM', 'KN', 'KR', 'KW', 'KZ', 'LA', 'LB', 'LC', 'LI', 'LK', 'LR', 'LS', 'LT', 'LU', 'LV', 'LY', 'MA', 'MC', 'MD', 'ME', 'MG', 'MH', 'MK', 'ML', 'MN', 'MO', 'MR', 'MT', 'MU', 'MV', 'MW', 'MX', 'MY', 'MZ', 'NA', 'NE', 'NG', 'NI', 'NL', 'NO', 'NP', 'NR', 'NZ', 'OM', 'PA', 'PE', 'PG', 'PH', 'PK', 'PL', 'PS', 'PT', 'PW', 'PY', 'QA', 'RO', 'RS', 'RU', 'RW', 'SA', 'SB', 'SC', 'SE', 'SG', 'SI', 'SK', 'SL', 'SM', 'SN', 'SR', 'ST', 'SV', 'SZ', 'TD', 'TG', 'TH', 'TJ', 'TL', 'TN', 'TO', 'TR', 'TT', 'TV', 'TW', 'TZ', 'UA', 'UG', 'US', 'UY', 'UZ', 'VC', 'VE', 'VN', 'VU', 'WS', 'XK', 'ZA', 'ZM', 'ZW']\n",
            "copyrights  //  [{'text': '2019 MysterySkulls Music', 'type': 'P'}]\n",
            "external_ids  //  {'upc': '193436134897'}\n",
            "external_urls  //  {'spotify': 'https://open.spotify.com/album/0ZOlC4fldjBdSBnEbX6R9A'}\n",
            "genres  //  []\n",
            "href  //  https://api.spotify.com/v1/albums/0ZOlC4fldjBdSBnEbX6R9A\n",
            "id  //  0ZOlC4fldjBdSBnEbX6R9A\n",
            "images  //  [{'height': 640, 'url': 'https://i.scdn.co/image/ab67616d0000b273d73a81c7c96b3775f3cb98a3', 'width': 640}, {'height': 300, 'url': 'https://i.scdn.co/image/ab67616d00001e02d73a81c7c96b3775f3cb98a3', 'width': 300}, {'height': 64, 'url': 'https://i.scdn.co/image/ab67616d00004851d73a81c7c96b3775f3cb98a3', 'width': 64}]\n",
            "label  //  MysterySkulls Music\n",
            "name  //  Back To Life\n",
            "popularity  //  50\n",
            "release_date  //  2019-04-19\n",
            "release_date_precision  //  day\n",
            "total_tracks  //  12\n",
            "tracks  //  {'href': 'https://api.spotify.com/v1/albums/0ZOlC4fldjBdSBnEbX6R9A/tracks?offset=0&limit=50', 'items': [{'artists': [{'external_urls': {'spotify': 'https://open.spotify.com/artist/5ZbRDyTYX4HhXveONcZQn2'}, 'href': 'https://api.spotify.com/v1/artists/5ZbRDyTYX4HhXveONcZQn2', 'id': '5ZbRDyTYX4HhXveONcZQn2', 'name': 'Mystery Skulls', 'type': 'artist', 'uri': 'spotify:artist:5ZbRDyTYX4HhXveONcZQn2'}], 'available_markets': ['AD', 'AE', 'AG', 'AL', 'AM', 'AO', 'AR', 'AT', 'AU', 'AZ', 'BA', 'BB', 'BD', 'BE', 'BF', 'BG', 'BH', 'BI', 'BJ', 'BN', 'BO', 'BR', 'BS', 'BT', 'BW', 'BY', 'BZ', 'CA', 'CD', 'CG', 'CH', 'CI', 'CL', 'CM', 'CO', 'CR', 'CV', 'CW', 'CY', 'CZ', 'DE', 'DJ', 'DK', 'DM', 'DO', 'DZ', 'EC', 'EE', 'EG', 'ES', 'FI', 'FJ', 'FM', 'FR', 'GA', 'GB', 'GD', 'GE', 'GH', 'GM', 'GN', 'GQ', 'GR', 'GT', 'GW', 'GY', 'HK', 'HN', 'HR', 'HT', 'HU', 'ID', 'IE', 'IL', 'IN', 'IQ', 'IS', 'IT', 'JM', 'JO', 'JP', 'KE', 'KG', 'KH', 'KI', 'KM', 'KN', 'KR', 'KW', 'KZ', 'LA', 'LB', 'LC', 'LI', 'LK', 'LR', 'LS', 'LT', 'LU', 'LV', 'LY', 'MA', 'MC', 'MD', 'ME', 'MG', 'MH', 'MK', 'ML', 'MN', 'MO', 'MR', 'MT', 'MU', 'MV', 'MW', 'MX', 'MY', 'MZ', 'NA', 'NE', 'NG', 'NI', 'NL', 'NO', 'NP', 'NR', 'NZ', 'OM', 'PA', 'PE', 'PG', 'PH', 'PK', 'PL', 'PS', 'PT', 'PW', 'PY', 'QA', 'RO', 'RS', 'RU', 'RW', 'SA', 'SB', 'SC', 'SE', 'SG', 'SI', 'SK', 'SL', 'SM', 'SN', 'SR', 'ST', 'SV', 'SZ', 'TD', 'TG', 'TH', 'TJ', 'TL', 'TN', 'TO', 'TR', 'TT', 'TV', 'TW', 'TZ', 'UA', 'UG', 'US', 'UY', 'UZ', 'VC', 'VE', 'VN', 'VU', 'WS', 'XK', 'ZA', 'ZM', 'ZW'], 'disc_number': 1, 'duration_ms': 108631, 'explicit': False, 'external_urls': {'spotify': 'https://open.spotify.com/track/21paFxL9gudhwBBYoZWah1'}, 'href': 'https://api.spotify.com/v1/tracks/21paFxL9gudhwBBYoZWah1', 'id': '21paFxL9gudhwBBYoZWah1', 'is_local': False, 'name': 'Memory', 'preview_url': 'https://p.scdn.co/mp3-preview/e55ba4182a045603ffe7aea38eea5eaed1f837fa?cid=b60b5dc276ba4ef2bcd8afa267744726', 'track_number': 1, 'type': 'track', 'uri': 'spotify:track:21paFxL9gudhwBBYoZWah1'}, {'artists': [{'external_urls': {'spotify': 'https://open.spotify.com/artist/5ZbRDyTYX4HhXveONcZQn2'}, 'href': 'https://api.spotify.com/v1/artists/5ZbRDyTYX4HhXveONcZQn2', 'id': '5ZbRDyTYX4HhXveONcZQn2', 'name': 'Mystery Skulls', 'type': 'artist', 'uri': 'spotify:artist:5ZbRDyTYX4HhXveONcZQn2'}], 'available_markets': ['AD', 'AE', 'AG', 'AL', 'AM', 'AO', 'AR', 'AT', 'AU', 'AZ', 'BA', 'BB', 'BD', 'BE', 'BF', 'BG', 'BH', 'BI', 'BJ', 'BN', 'BO', 'BR', 'BS', 'BT', 'BW', 'BY', 'BZ', 'CA', 'CD', 'CG', 'CH', 'CI', 'CL', 'CM', 'CO', 'CR', 'CV', 'CW', 'CY', 'CZ', 'DE', 'DJ', 'DK', 'DM', 'DO', 'DZ', 'EC', 'EE', 'EG', 'ES', 'FI', 'FJ', 'FM', 'FR', 'GA', 'GB', 'GD', 'GE', 'GH', 'GM', 'GN', 'GQ', 'GR', 'GT', 'GW', 'GY', 'HK', 'HN', 'HR', 'HT', 'HU', 'ID', 'IE', 'IL', 'IN', 'IQ', 'IS', 'IT', 'JM', 'JO', 'JP', 'KE', 'KG', 'KH', 'KI', 'KM', 'KN', 'KR', 'KW', 'KZ', 'LA', 'LB', 'LC', 'LI', 'LK', 'LR', 'LS', 'LT', 'LU', 'LV', 'LY', 'MA', 'MC', 'MD', 'ME', 'MG', 'MH', 'MK', 'ML', 'MN', 'MO', 'MR', 'MT', 'MU', 'MV', 'MW', 'MX', 'MY', 'MZ', 'NA', 'NE', 'NG', 'NI', 'NL', 'NO', 'NP', 'NR', 'NZ', 'OM', 'PA', 'PE', 'PG', 'PH', 'PK', 'PL', 'PS', 'PT', 'PW', 'PY', 'QA', 'RO', 'RS', 'RU', 'RW', 'SA', 'SB', 'SC', 'SE', 'SG', 'SI', 'SK', 'SL', 'SM', 'SN', 'SR', 'ST', 'SV', 'SZ', 'TD', 'TG', 'TH', 'TJ', 'TL', 'TN', 'TO', 'TR', 'TT', 'TV', 'TW', 'TZ', 'UA', 'UG', 'US', 'UY', 'UZ', 'VC', 'VE', 'VN', 'VU', 'WS', 'XK', 'ZA', 'ZM', 'ZW'], 'disc_number': 1, 'duration_ms': 157250, 'explicit': True, 'external_urls': {'spotify': 'https://open.spotify.com/track/6fecxwRD74xNT3XRjREIiB'}, 'href': 'https://api.spotify.com/v1/tracks/6fecxwRD74xNT3XRjREIiB', 'id': '6fecxwRD74xNT3XRjREIiB', 'is_local': False, 'name': \"Don't Fuck With My Money\", 'preview_url': 'https://p.scdn.co/mp3-preview/137de80f9c9d6abe75fc5125ff0a8136f496d504?cid=b60b5dc276ba4ef2bcd8afa267744726', 'track_number': 2, 'type': 'track', 'uri': 'spotify:track:6fecxwRD74xNT3XRjREIiB'}, {'artists': [{'external_urls': {'spotify': 'https://open.spotify.com/artist/5ZbRDyTYX4HhXveONcZQn2'}, 'href': 'https://api.spotify.com/v1/artists/5ZbRDyTYX4HhXveONcZQn2', 'id': '5ZbRDyTYX4HhXveONcZQn2', 'name': 'Mystery Skulls', 'type': 'artist', 'uri': 'spotify:artist:5ZbRDyTYX4HhXveONcZQn2'}], 'available_markets': ['AD', 'AE', 'AG', 'AL', 'AM', 'AO', 'AR', 'AT', 'AU', 'AZ', 'BA', 'BB', 'BD', 'BE', 'BF', 'BG', 'BH', 'BI', 'BJ', 'BN', 'BO', 'BR', 'BS', 'BT', 'BW', 'BY', 'BZ', 'CA', 'CD', 'CG', 'CH', 'CI', 'CL', 'CM', 'CO', 'CR', 'CV', 'CW', 'CY', 'CZ', 'DE', 'DJ', 'DK', 'DM', 'DO', 'DZ', 'EC', 'EE', 'EG', 'ES', 'FI', 'FJ', 'FM', 'FR', 'GA', 'GB', 'GD', 'GE', 'GH', 'GM', 'GN', 'GQ', 'GR', 'GT', 'GW', 'GY', 'HK', 'HN', 'HR', 'HT', 'HU', 'ID', 'IE', 'IL', 'IN', 'IQ', 'IS', 'IT', 'JM', 'JO', 'JP', 'KE', 'KG', 'KH', 'KI', 'KM', 'KN', 'KR', 'KW', 'KZ', 'LA', 'LB', 'LC', 'LI', 'LK', 'LR', 'LS', 'LT', 'LU', 'LV', 'LY', 'MA', 'MC', 'MD', 'ME', 'MG', 'MH', 'MK', 'ML', 'MN', 'MO', 'MR', 'MT', 'MU', 'MV', 'MW', 'MX', 'MY', 'MZ', 'NA', 'NE', 'NG', 'NI', 'NL', 'NO', 'NP', 'NR', 'NZ', 'OM', 'PA', 'PE', 'PG', 'PH', 'PK', 'PL', 'PS', 'PT', 'PW', 'PY', 'QA', 'RO', 'RS', 'RU', 'RW', 'SA', 'SB', 'SC', 'SE', 'SG', 'SI', 'SK', 'SL', 'SM', 'SN', 'SR', 'ST', 'SV', 'SZ', 'TD', 'TG', 'TH', 'TJ', 'TL', 'TN', 'TO', 'TR', 'TT', 'TV', 'TW', 'TZ', 'UA', 'UG', 'US', 'UY', 'UZ', 'VC', 'VE', 'VN', 'VU', 'WS', 'XK', 'ZA', 'ZM', 'ZW'], 'disc_number': 1, 'duration_ms': 218000, 'explicit': False, 'external_urls': {'spotify': 'https://open.spotify.com/track/7K6UUIAOgwZj3c1t6DefdY'}, 'href': 'https://api.spotify.com/v1/tracks/7K6UUIAOgwZj3c1t6DefdY', 'id': '7K6UUIAOgwZj3c1t6DefdY', 'is_local': False, 'name': 'What Love Is', 'preview_url': 'https://p.scdn.co/mp3-preview/bba55de782ba8ca1a2dc1c2df62fad6dfb4dcdcf?cid=b60b5dc276ba4ef2bcd8afa267744726', 'track_number': 3, 'type': 'track', 'uri': 'spotify:track:7K6UUIAOgwZj3c1t6DefdY'}, {'artists': [{'external_urls': {'spotify': 'https://open.spotify.com/artist/5ZbRDyTYX4HhXveONcZQn2'}, 'href': 'https://api.spotify.com/v1/artists/5ZbRDyTYX4HhXveONcZQn2', 'id': '5ZbRDyTYX4HhXveONcZQn2', 'name': 'Mystery Skulls', 'type': 'artist', 'uri': 'spotify:artist:5ZbRDyTYX4HhXveONcZQn2'}], 'available_markets': ['AD', 'AE', 'AG', 'AL', 'AM', 'AO', 'AR', 'AT', 'AU', 'AZ', 'BA', 'BB', 'BD', 'BE', 'BF', 'BG', 'BH', 'BI', 'BJ', 'BN', 'BO', 'BR', 'BS', 'BT', 'BW', 'BY', 'BZ', 'CA', 'CD', 'CG', 'CH', 'CI', 'CL', 'CM', 'CO', 'CR', 'CV', 'CW', 'CY', 'CZ', 'DE', 'DJ', 'DK', 'DM', 'DO', 'DZ', 'EC', 'EE', 'EG', 'ES', 'FI', 'FJ', 'FM', 'FR', 'GA', 'GB', 'GD', 'GE', 'GH', 'GM', 'GN', 'GQ', 'GR', 'GT', 'GW', 'GY', 'HK', 'HN', 'HR', 'HT', 'HU', 'ID', 'IE', 'IL', 'IN', 'IQ', 'IS', 'IT', 'JM', 'JO', 'JP', 'KE', 'KG', 'KH', 'KI', 'KM', 'KN', 'KR', 'KW', 'KZ', 'LA', 'LB', 'LC', 'LI', 'LK', 'LR', 'LS', 'LT', 'LU', 'LV', 'LY', 'MA', 'MC', 'MD', 'ME', 'MG', 'MH', 'MK', 'ML', 'MN', 'MO', 'MR', 'MT', 'MU', 'MV', 'MW', 'MX', 'MY', 'MZ', 'NA', 'NE', 'NG', 'NI', 'NL', 'NO', 'NP', 'NR', 'NZ', 'OM', 'PA', 'PE', 'PG', 'PH', 'PK', 'PL', 'PS', 'PT', 'PW', 'PY', 'QA', 'RO', 'RS', 'RU', 'RW', 'SA', 'SB', 'SC', 'SE', 'SG', 'SI', 'SK', 'SL', 'SM', 'SN', 'SR', 'ST', 'SV', 'SZ', 'TD', 'TG', 'TH', 'TJ', 'TL', 'TN', 'TO', 'TR', 'TT', 'TV', 'TW', 'TZ', 'UA', 'UG', 'US', 'UY', 'UZ', 'VC', 'VE', 'VN', 'VU', 'WS', 'XK', 'ZA', 'ZM', 'ZW'], 'disc_number': 1, 'duration_ms': 190952, 'explicit': False, 'external_urls': {'spotify': 'https://open.spotify.com/track/2j9JO1SCC21LIBQKzkffhk'}, 'href': 'https://api.spotify.com/v1/tracks/2j9JO1SCC21LIBQKzkffhk', 'id': '2j9JO1SCC21LIBQKzkffhk', 'is_local': False, 'name': 'Without You', 'preview_url': 'https://p.scdn.co/mp3-preview/9d537ad1d46ff17ac9afb4e400e6fdaa5bcb4d9c?cid=b60b5dc276ba4ef2bcd8afa267744726', 'track_number': 4, 'type': 'track', 'uri': 'spotify:track:2j9JO1SCC21LIBQKzkffhk'}, {'artists': [{'external_urls': {'spotify': 'https://open.spotify.com/artist/5ZbRDyTYX4HhXveONcZQn2'}, 'href': 'https://api.spotify.com/v1/artists/5ZbRDyTYX4HhXveONcZQn2', 'id': '5ZbRDyTYX4HhXveONcZQn2', 'name': 'Mystery Skulls', 'type': 'artist', 'uri': 'spotify:artist:5ZbRDyTYX4HhXveONcZQn2'}], 'available_markets': ['AD', 'AE', 'AG', 'AL', 'AM', 'AO', 'AR', 'AT', 'AU', 'AZ', 'BA', 'BB', 'BD', 'BE', 'BF', 'BG', 'BH', 'BI', 'BJ', 'BN', 'BO', 'BR', 'BS', 'BT', 'BW', 'BY', 'BZ', 'CA', 'CD', 'CG', 'CH', 'CI', 'CL', 'CM', 'CO', 'CR', 'CV', 'CW', 'CY', 'CZ', 'DE', 'DJ', 'DK', 'DM', 'DO', 'DZ', 'EC', 'EE', 'EG', 'ES', 'FI', 'FJ', 'FM', 'FR', 'GA', 'GB', 'GD', 'GE', 'GH', 'GM', 'GN', 'GQ', 'GR', 'GT', 'GW', 'GY', 'HK', 'HN', 'HR', 'HT', 'HU', 'ID', 'IE', 'IL', 'IN', 'IQ', 'IS', 'IT', 'JM', 'JO', 'JP', 'KE', 'KG', 'KH', 'KI', 'KM', 'KN', 'KR', 'KW', 'KZ', 'LA', 'LB', 'LC', 'LI', 'LK', 'LR', 'LS', 'LT', 'LU', 'LV', 'LY', 'MA', 'MC', 'MD', 'ME', 'MG', 'MH', 'MK', 'ML', 'MN', 'MO', 'MR', 'MT', 'MU', 'MV', 'MW', 'MX', 'MY', 'MZ', 'NA', 'NE', 'NG', 'NI', 'NL', 'NO', 'NP', 'NR', 'NZ', 'OM', 'PA', 'PE', 'PG', 'PH', 'PK', 'PL', 'PS', 'PT', 'PW', 'PY', 'QA', 'RO', 'RS', 'RU', 'RW', 'SA', 'SB', 'SC', 'SE', 'SG', 'SI', 'SK', 'SL', 'SM', 'SN', 'SR', 'ST', 'SV', 'SZ', 'TD', 'TG', 'TH', 'TJ', 'TL', 'TN', 'TO', 'TR', 'TT', 'TV', 'TW', 'TZ', 'UA', 'UG', 'US', 'UY', 'UZ', 'VC', 'VE', 'VN', 'VU', 'WS', 'XK', 'ZA', 'ZM', 'ZW'], 'disc_number': 1, 'duration_ms': 176146, 'explicit': False, 'external_urls': {'spotify': 'https://open.spotify.com/track/5NptfMnPBChKktA5Z66faw'}, 'href': 'https://api.spotify.com/v1/tracks/5NptfMnPBChKktA5Z66faw', 'id': '5NptfMnPBChKktA5Z66faw', 'is_local': False, 'name': 'Enemy', 'preview_url': 'https://p.scdn.co/mp3-preview/517a54b74ac3e9d64c29e42e574b336a87f6eff6?cid=b60b5dc276ba4ef2bcd8afa267744726', 'track_number': 5, 'type': 'track', 'uri': 'spotify:track:5NptfMnPBChKktA5Z66faw'}, {'artists': [{'external_urls': {'spotify': 'https://open.spotify.com/artist/5ZbRDyTYX4HhXveONcZQn2'}, 'href': 'https://api.spotify.com/v1/artists/5ZbRDyTYX4HhXveONcZQn2', 'id': '5ZbRDyTYX4HhXveONcZQn2', 'name': 'Mystery Skulls', 'type': 'artist', 'uri': 'spotify:artist:5ZbRDyTYX4HhXveONcZQn2'}], 'available_markets': ['AD', 'AE', 'AG', 'AL', 'AM', 'AO', 'AR', 'AT', 'AU', 'AZ', 'BA', 'BB', 'BD', 'BE', 'BF', 'BG', 'BH', 'BI', 'BJ', 'BN', 'BO', 'BR', 'BS', 'BT', 'BW', 'BY', 'BZ', 'CA', 'CD', 'CG', 'CH', 'CI', 'CL', 'CM', 'CO', 'CR', 'CV', 'CW', 'CY', 'CZ', 'DE', 'DJ', 'DK', 'DM', 'DO', 'DZ', 'EC', 'EE', 'EG', 'ES', 'FI', 'FJ', 'FM', 'FR', 'GA', 'GB', 'GD', 'GE', 'GH', 'GM', 'GN', 'GQ', 'GR', 'GT', 'GW', 'GY', 'HK', 'HN', 'HR', 'HT', 'HU', 'ID', 'IE', 'IL', 'IN', 'IQ', 'IS', 'IT', 'JM', 'JO', 'JP', 'KE', 'KG', 'KH', 'KI', 'KM', 'KN', 'KR', 'KW', 'KZ', 'LA', 'LB', 'LC', 'LI', 'LK', 'LR', 'LS', 'LT', 'LU', 'LV', 'LY', 'MA', 'MC', 'MD', 'ME', 'MG', 'MH', 'MK', 'ML', 'MN', 'MO', 'MR', 'MT', 'MU', 'MV', 'MW', 'MX', 'MY', 'MZ', 'NA', 'NE', 'NG', 'NI', 'NL', 'NO', 'NP', 'NR', 'NZ', 'OM', 'PA', 'PE', 'PG', 'PH', 'PK', 'PL', 'PS', 'PT', 'PW', 'PY', 'QA', 'RO', 'RS', 'RU', 'RW', 'SA', 'SB', 'SC', 'SE', 'SG', 'SI', 'SK', 'SL', 'SM', 'SN', 'SR', 'ST', 'SV', 'SZ', 'TD', 'TG', 'TH', 'TJ', 'TL', 'TN', 'TO', 'TR', 'TT', 'TV', 'TW', 'TZ', 'UA', 'UG', 'US', 'UY', 'UZ', 'VC', 'VE', 'VN', 'VU', 'WS', 'XK', 'ZA', 'ZM', 'ZW'], 'disc_number': 1, 'duration_ms': 180000, 'explicit': False, 'external_urls': {'spotify': 'https://open.spotify.com/track/3760Go7UI4B8hgILy8c1Nt'}, 'href': 'https://api.spotify.com/v1/tracks/3760Go7UI4B8hgILy8c1Nt', 'id': '3760Go7UI4B8hgILy8c1Nt', 'is_local': False, 'name': 'Get In The Car', 'preview_url': 'https://p.scdn.co/mp3-preview/df349a2db0db301fc71174c5877f6bfd9cf6a496?cid=b60b5dc276ba4ef2bcd8afa267744726', 'track_number': 6, 'type': 'track', 'uri': 'spotify:track:3760Go7UI4B8hgILy8c1Nt'}, {'artists': [{'external_urls': {'spotify': 'https://open.spotify.com/artist/5ZbRDyTYX4HhXveONcZQn2'}, 'href': 'https://api.spotify.com/v1/artists/5ZbRDyTYX4HhXveONcZQn2', 'id': '5ZbRDyTYX4HhXveONcZQn2', 'name': 'Mystery Skulls', 'type': 'artist', 'uri': 'spotify:artist:5ZbRDyTYX4HhXveONcZQn2'}], 'available_markets': ['AD', 'AE', 'AG', 'AL', 'AM', 'AO', 'AR', 'AT', 'AU', 'AZ', 'BA', 'BB', 'BD', 'BE', 'BF', 'BG', 'BH', 'BI', 'BJ', 'BN', 'BO', 'BR', 'BS', 'BT', 'BW', 'BY', 'BZ', 'CA', 'CD', 'CG', 'CH', 'CI', 'CL', 'CM', 'CO', 'CR', 'CV', 'CW', 'CY', 'CZ', 'DE', 'DJ', 'DK', 'DM', 'DO', 'DZ', 'EC', 'EE', 'EG', 'ES', 'FI', 'FJ', 'FM', 'FR', 'GA', 'GB', 'GD', 'GE', 'GH', 'GM', 'GN', 'GQ', 'GR', 'GT', 'GW', 'GY', 'HK', 'HN', 'HR', 'HT', 'HU', 'ID', 'IE', 'IL', 'IN', 'IQ', 'IS', 'IT', 'JM', 'JO', 'JP', 'KE', 'KG', 'KH', 'KI', 'KM', 'KN', 'KR', 'KW', 'KZ', 'LA', 'LB', 'LC', 'LI', 'LK', 'LR', 'LS', 'LT', 'LU', 'LV', 'LY', 'MA', 'MC', 'MD', 'ME', 'MG', 'MH', 'MK', 'ML', 'MN', 'MO', 'MR', 'MT', 'MU', 'MV', 'MW', 'MX', 'MY', 'MZ', 'NA', 'NE', 'NG', 'NI', 'NL', 'NO', 'NP', 'NR', 'NZ', 'OM', 'PA', 'PE', 'PG', 'PH', 'PK', 'PL', 'PS', 'PT', 'PW', 'PY', 'QA', 'RO', 'RS', 'RU', 'RW', 'SA', 'SB', 'SC', 'SE', 'SG', 'SI', 'SK', 'SL', 'SM', 'SN', 'SR', 'ST', 'SV', 'SZ', 'TD', 'TG', 'TH', 'TJ', 'TL', 'TN', 'TO', 'TR', 'TT', 'TV', 'TW', 'TZ', 'UA', 'UG', 'US', 'UY', 'UZ', 'VC', 'VE', 'VN', 'VU', 'WS', 'XK', 'ZA', 'ZM', 'ZW'], 'disc_number': 1, 'duration_ms': 198000, 'explicit': False, 'external_urls': {'spotify': 'https://open.spotify.com/track/7JXkMlfh2lXZ2tJ7UTRjtH'}, 'href': 'https://api.spotify.com/v1/tracks/7JXkMlfh2lXZ2tJ7UTRjtH', 'id': '7JXkMlfh2lXZ2tJ7UTRjtH', 'is_local': False, 'name': 'Back To Life', 'preview_url': 'https://p.scdn.co/mp3-preview/87269a82fd810afd87a44b0eadaac747468dcdd4?cid=b60b5dc276ba4ef2bcd8afa267744726', 'track_number': 7, 'type': 'track', 'uri': 'spotify:track:7JXkMlfh2lXZ2tJ7UTRjtH'}, {'artists': [{'external_urls': {'spotify': 'https://open.spotify.com/artist/5ZbRDyTYX4HhXveONcZQn2'}, 'href': 'https://api.spotify.com/v1/artists/5ZbRDyTYX4HhXveONcZQn2', 'id': '5ZbRDyTYX4HhXveONcZQn2', 'name': 'Mystery Skulls', 'type': 'artist', 'uri': 'spotify:artist:5ZbRDyTYX4HhXveONcZQn2'}, {'external_urls': {'spotify': 'https://open.spotify.com/artist/6nLpD6tWBhXIbNxVKJC1fH'}, 'href': 'https://api.spotify.com/v1/artists/6nLpD6tWBhXIbNxVKJC1fH', 'id': '6nLpD6tWBhXIbNxVKJC1fH', 'name': 'Snowblood', 'type': 'artist', 'uri': 'spotify:artist:6nLpD6tWBhXIbNxVKJC1fH'}], 'available_markets': ['AD', 'AE', 'AG', 'AL', 'AM', 'AO', 'AR', 'AT', 'AU', 'AZ', 'BA', 'BB', 'BD', 'BE', 'BF', 'BG', 'BH', 'BI', 'BJ', 'BN', 'BO', 'BR', 'BS', 'BT', 'BW', 'BY', 'BZ', 'CA', 'CD', 'CG', 'CH', 'CI', 'CL', 'CM', 'CO', 'CR', 'CV', 'CW', 'CY', 'CZ', 'DE', 'DJ', 'DK', 'DM', 'DO', 'DZ', 'EC', 'EE', 'EG', 'ES', 'FI', 'FJ', 'FM', 'FR', 'GA', 'GB', 'GD', 'GE', 'GH', 'GM', 'GN', 'GQ', 'GR', 'GT', 'GW', 'GY', 'HK', 'HN', 'HR', 'HT', 'HU', 'ID', 'IE', 'IL', 'IN', 'IQ', 'IS', 'IT', 'JM', 'JO', 'JP', 'KE', 'KG', 'KH', 'KI', 'KM', 'KN', 'KR', 'KW', 'KZ', 'LA', 'LB', 'LC', 'LI', 'LK', 'LR', 'LS', 'LT', 'LU', 'LV', 'LY', 'MA', 'MC', 'MD', 'ME', 'MG', 'MH', 'MK', 'ML', 'MN', 'MO', 'MR', 'MT', 'MU', 'MV', 'MW', 'MX', 'MY', 'MZ', 'NA', 'NE', 'NG', 'NI', 'NL', 'NO', 'NP', 'NR', 'NZ', 'OM', 'PA', 'PE', 'PG', 'PH', 'PK', 'PL', 'PS', 'PT', 'PW', 'PY', 'QA', 'RO', 'RS', 'RU', 'RW', 'SA', 'SB', 'SC', 'SE', 'SG', 'SI', 'SK', 'SL', 'SM', 'SN', 'SR', 'ST', 'SV', 'SZ', 'TD', 'TG', 'TH', 'TJ', 'TL', 'TN', 'TO', 'TR', 'TT', 'TV', 'TW', 'TZ', 'UA', 'UG', 'US', 'UY', 'UZ', 'VC', 'VE', 'VN', 'VU', 'WS', 'XK', 'ZA', 'ZM', 'ZW'], 'disc_number': 1, 'duration_ms': 240125, 'explicit': False, 'external_urls': {'spotify': 'https://open.spotify.com/track/7bJl4FKN2Hvj3SCQRJWWFa'}, 'href': 'https://api.spotify.com/v1/tracks/7bJl4FKN2Hvj3SCQRJWWFa', 'id': '7bJl4FKN2Hvj3SCQRJWWFa', 'is_local': False, 'name': 'Dying For You', 'preview_url': 'https://p.scdn.co/mp3-preview/896bbff410feb3cb2a076eaca0994b65f75b462c?cid=b60b5dc276ba4ef2bcd8afa267744726', 'track_number': 8, 'type': 'track', 'uri': 'spotify:track:7bJl4FKN2Hvj3SCQRJWWFa'}, {'artists': [{'external_urls': {'spotify': 'https://open.spotify.com/artist/5ZbRDyTYX4HhXveONcZQn2'}, 'href': 'https://api.spotify.com/v1/artists/5ZbRDyTYX4HhXveONcZQn2', 'id': '5ZbRDyTYX4HhXveONcZQn2', 'name': 'Mystery Skulls', 'type': 'artist', 'uri': 'spotify:artist:5ZbRDyTYX4HhXveONcZQn2'}], 'available_markets': ['AD', 'AE', 'AG', 'AL', 'AM', 'AO', 'AR', 'AT', 'AU', 'AZ', 'BA', 'BB', 'BD', 'BE', 'BF', 'BG', 'BH', 'BI', 'BJ', 'BN', 'BO', 'BR', 'BS', 'BT', 'BW', 'BY', 'BZ', 'CA', 'CD', 'CG', 'CH', 'CI', 'CL', 'CM', 'CO', 'CR', 'CV', 'CW', 'CY', 'CZ', 'DE', 'DJ', 'DK', 'DM', 'DO', 'DZ', 'EC', 'EE', 'EG', 'ES', 'FI', 'FJ', 'FM', 'FR', 'GA', 'GB', 'GD', 'GE', 'GH', 'GM', 'GN', 'GQ', 'GR', 'GT', 'GW', 'GY', 'HK', 'HN', 'HR', 'HT', 'HU', 'ID', 'IE', 'IL', 'IN', 'IQ', 'IS', 'IT', 'JM', 'JO', 'JP', 'KE', 'KG', 'KH', 'KI', 'KM', 'KN', 'KR', 'KW', 'KZ', 'LA', 'LB', 'LC', 'LI', 'LK', 'LR', 'LS', 'LT', 'LU', 'LV', 'LY', 'MA', 'MC', 'MD', 'ME', 'MG', 'MH', 'MK', 'ML', 'MN', 'MO', 'MR', 'MT', 'MU', 'MV', 'MW', 'MX', 'MY', 'MZ', 'NA', 'NE', 'NG', 'NI', 'NL', 'NO', 'NP', 'NR', 'NZ', 'OM', 'PA', 'PE', 'PG', 'PH', 'PK', 'PL', 'PS', 'PT', 'PW', 'PY', 'QA', 'RO', 'RS', 'RU', 'RW', 'SA', 'SB', 'SC', 'SE', 'SG', 'SI', 'SK', 'SL', 'SM', 'SN', 'SR', 'ST', 'SV', 'SZ', 'TD', 'TG', 'TH', 'TJ', 'TL', 'TN', 'TO', 'TR', 'TT', 'TV', 'TW', 'TZ', 'UA', 'UG', 'US', 'UY', 'UZ', 'VC', 'VE', 'VN', 'VU', 'WS', 'XK', 'ZA', 'ZM', 'ZW'], 'disc_number': 1, 'duration_ms': 242000, 'explicit': False, 'external_urls': {'spotify': 'https://open.spotify.com/track/6rUKAFuGr9OJvgHjKppqEG'}, 'href': 'https://api.spotify.com/v1/tracks/6rUKAFuGr9OJvgHjKppqEG', 'id': '6rUKAFuGr9OJvgHjKppqEG', 'is_local': False, 'name': 'In My Dreams', 'preview_url': 'https://p.scdn.co/mp3-preview/e74b78d584d405eb82c7652d911dfb4ff8bc2438?cid=b60b5dc276ba4ef2bcd8afa267744726', 'track_number': 9, 'type': 'track', 'uri': 'spotify:track:6rUKAFuGr9OJvgHjKppqEG'}, {'artists': [{'external_urls': {'spotify': 'https://open.spotify.com/artist/5ZbRDyTYX4HhXveONcZQn2'}, 'href': 'https://api.spotify.com/v1/artists/5ZbRDyTYX4HhXveONcZQn2', 'id': '5ZbRDyTYX4HhXveONcZQn2', 'name': 'Mystery Skulls', 'type': 'artist', 'uri': 'spotify:artist:5ZbRDyTYX4HhXveONcZQn2'}], 'available_markets': ['AD', 'AE', 'AG', 'AL', 'AM', 'AO', 'AR', 'AT', 'AU', 'AZ', 'BA', 'BB', 'BD', 'BE', 'BF', 'BG', 'BH', 'BI', 'BJ', 'BN', 'BO', 'BR', 'BS', 'BT', 'BW', 'BY', 'BZ', 'CA', 'CD', 'CG', 'CH', 'CI', 'CL', 'CM', 'CO', 'CR', 'CV', 'CW', 'CY', 'CZ', 'DE', 'DJ', 'DK', 'DM', 'DO', 'DZ', 'EC', 'EE', 'EG', 'ES', 'FI', 'FJ', 'FM', 'FR', 'GA', 'GB', 'GD', 'GE', 'GH', 'GM', 'GN', 'GQ', 'GR', 'GT', 'GW', 'GY', 'HK', 'HN', 'HR', 'HT', 'HU', 'ID', 'IE', 'IL', 'IN', 'IQ', 'IS', 'IT', 'JM', 'JO', 'JP', 'KE', 'KG', 'KH', 'KI', 'KM', 'KN', 'KR', 'KW', 'KZ', 'LA', 'LB', 'LC', 'LI', 'LK', 'LR', 'LS', 'LT', 'LU', 'LV', 'LY', 'MA', 'MC', 'MD', 'ME', 'MG', 'MH', 'MK', 'ML', 'MN', 'MO', 'MR', 'MT', 'MU', 'MV', 'MW', 'MX', 'MY', 'MZ', 'NA', 'NE', 'NG', 'NI', 'NL', 'NO', 'NP', 'NR', 'NZ', 'OM', 'PA', 'PE', 'PG', 'PH', 'PK', 'PL', 'PS', 'PT', 'PW', 'PY', 'QA', 'RO', 'RS', 'RU', 'RW', 'SA', 'SB', 'SC', 'SE', 'SG', 'SI', 'SK', 'SL', 'SM', 'SN', 'SR', 'ST', 'SV', 'SZ', 'TD', 'TG', 'TH', 'TJ', 'TL', 'TN', 'TO', 'TR', 'TT', 'TV', 'TW', 'TZ', 'UA', 'UG', 'US', 'UY', 'UZ', 'VC', 'VE', 'VN', 'VU', 'WS', 'XK', 'ZA', 'ZM', 'ZW'], 'disc_number': 1, 'duration_ms': 230000, 'explicit': True, 'external_urls': {'spotify': 'https://open.spotify.com/track/1bq7TmGGfBoiQ0YlUGggnp'}, 'href': 'https://api.spotify.com/v1/tracks/1bq7TmGGfBoiQ0YlUGggnp', 'id': '1bq7TmGGfBoiQ0YlUGggnp', 'is_local': False, 'name': 'Everything and More', 'preview_url': 'https://p.scdn.co/mp3-preview/bbeef2e5409fe30082de1102363b37f1c67b2439?cid=b60b5dc276ba4ef2bcd8afa267744726', 'track_number': 10, 'type': 'track', 'uri': 'spotify:track:1bq7TmGGfBoiQ0YlUGggnp'}, {'artists': [{'external_urls': {'spotify': 'https://open.spotify.com/artist/5ZbRDyTYX4HhXveONcZQn2'}, 'href': 'https://api.spotify.com/v1/artists/5ZbRDyTYX4HhXveONcZQn2', 'id': '5ZbRDyTYX4HhXveONcZQn2', 'name': 'Mystery Skulls', 'type': 'artist', 'uri': 'spotify:artist:5ZbRDyTYX4HhXveONcZQn2'}], 'available_markets': ['AD', 'AE', 'AG', 'AL', 'AM', 'AO', 'AR', 'AT', 'AU', 'AZ', 'BA', 'BB', 'BD', 'BE', 'BF', 'BG', 'BH', 'BI', 'BJ', 'BN', 'BO', 'BR', 'BS', 'BT', 'BW', 'BY', 'BZ', 'CA', 'CD', 'CG', 'CH', 'CI', 'CL', 'CM', 'CO', 'CR', 'CV', 'CW', 'CY', 'CZ', 'DE', 'DJ', 'DK', 'DM', 'DO', 'DZ', 'EC', 'EE', 'EG', 'ES', 'FI', 'FJ', 'FM', 'FR', 'GA', 'GB', 'GD', 'GE', 'GH', 'GM', 'GN', 'GQ', 'GR', 'GT', 'GW', 'GY', 'HK', 'HN', 'HR', 'HT', 'HU', 'ID', 'IE', 'IL', 'IN', 'IQ', 'IS', 'IT', 'JM', 'JO', 'JP', 'KE', 'KG', 'KH', 'KI', 'KM', 'KN', 'KR', 'KW', 'KZ', 'LA', 'LB', 'LC', 'LI', 'LK', 'LR', 'LS', 'LT', 'LU', 'LV', 'LY', 'MA', 'MC', 'MD', 'ME', 'MG', 'MH', 'MK', 'ML', 'MN', 'MO', 'MR', 'MT', 'MU', 'MV', 'MW', 'MX', 'MY', 'MZ', 'NA', 'NE', 'NG', 'NI', 'NL', 'NO', 'NP', 'NR', 'NZ', 'OM', 'PA', 'PE', 'PG', 'PH', 'PK', 'PL', 'PS', 'PT', 'PW', 'PY', 'QA', 'RO', 'RS', 'RU', 'RW', 'SA', 'SB', 'SC', 'SE', 'SG', 'SI', 'SK', 'SL', 'SM', 'SN', 'SR', 'ST', 'SV', 'SZ', 'TD', 'TG', 'TH', 'TJ', 'TL', 'TN', 'TO', 'TR', 'TT', 'TV', 'TW', 'TZ', 'UA', 'UG', 'US', 'UY', 'UZ', 'VC', 'VE', 'VN', 'VU', 'WS', 'XK', 'ZA', 'ZM', 'ZW'], 'disc_number': 1, 'duration_ms': 185000, 'explicit': True, 'external_urls': {'spotify': 'https://open.spotify.com/track/3Ze1UU1Jb7wkzcWkiOUYCN'}, 'href': 'https://api.spotify.com/v1/tracks/3Ze1UU1Jb7wkzcWkiOUYCN', 'id': '3Ze1UU1Jb7wkzcWkiOUYCN', 'is_local': False, 'name': 'Stronger', 'preview_url': 'https://p.scdn.co/mp3-preview/06b44b2f485667c370c518a94e20ec2899d739e4?cid=b60b5dc276ba4ef2bcd8afa267744726', 'track_number': 11, 'type': 'track', 'uri': 'spotify:track:3Ze1UU1Jb7wkzcWkiOUYCN'}, {'artists': [{'external_urls': {'spotify': 'https://open.spotify.com/artist/5ZbRDyTYX4HhXveONcZQn2'}, 'href': 'https://api.spotify.com/v1/artists/5ZbRDyTYX4HhXveONcZQn2', 'id': '5ZbRDyTYX4HhXveONcZQn2', 'name': 'Mystery Skulls', 'type': 'artist', 'uri': 'spotify:artist:5ZbRDyTYX4HhXveONcZQn2'}], 'available_markets': ['AD', 'AE', 'AG', 'AL', 'AM', 'AO', 'AR', 'AT', 'AU', 'AZ', 'BA', 'BB', 'BD', 'BE', 'BF', 'BG', 'BH', 'BI', 'BJ', 'BN', 'BO', 'BR', 'BS', 'BT', 'BW', 'BY', 'BZ', 'CA', 'CD', 'CG', 'CH', 'CI', 'CL', 'CM', 'CO', 'CR', 'CV', 'CW', 'CY', 'CZ', 'DE', 'DJ', 'DK', 'DM', 'DO', 'DZ', 'EC', 'EE', 'EG', 'ES', 'FI', 'FJ', 'FM', 'FR', 'GA', 'GB', 'GD', 'GE', 'GH', 'GM', 'GN', 'GQ', 'GR', 'GT', 'GW', 'GY', 'HK', 'HN', 'HR', 'HT', 'HU', 'ID', 'IE', 'IL', 'IN', 'IQ', 'IS', 'IT', 'JM', 'JO', 'JP', 'KE', 'KG', 'KH', 'KI', 'KM', 'KN', 'KR', 'KW', 'KZ', 'LA', 'LB', 'LC', 'LI', 'LK', 'LR', 'LS', 'LT', 'LU', 'LV', 'LY', 'MA', 'MC', 'MD', 'ME', 'MG', 'MH', 'MK', 'ML', 'MN', 'MO', 'MR', 'MT', 'MU', 'MV', 'MW', 'MX', 'MY', 'MZ', 'NA', 'NE', 'NG', 'NI', 'NL', 'NO', 'NP', 'NR', 'NZ', 'OM', 'PA', 'PE', 'PG', 'PH', 'PK', 'PL', 'PS', 'PT', 'PW', 'PY', 'QA', 'RO', 'RS', 'RU', 'RW', 'SA', 'SB', 'SC', 'SE', 'SG', 'SI', 'SK', 'SL', 'SM', 'SN', 'SR', 'ST', 'SV', 'SZ', 'TD', 'TG', 'TH', 'TJ', 'TL', 'TN', 'TO', 'TR', 'TT', 'TV', 'TW', 'TZ', 'UA', 'UG', 'US', 'UY', 'UZ', 'VC', 'VE', 'VN', 'VU', 'WS', 'XK', 'ZA', 'ZM', 'ZW'], 'disc_number': 1, 'duration_ms': 157948, 'explicit': False, 'external_urls': {'spotify': 'https://open.spotify.com/track/3oQl9l5jJC4aMI7c9JEkJJ'}, 'href': 'https://api.spotify.com/v1/tracks/3oQl9l5jJC4aMI7c9JEkJJ', 'id': '3oQl9l5jJC4aMI7c9JEkJJ', 'is_local': False, 'name': 'Its Mine', 'preview_url': 'https://p.scdn.co/mp3-preview/99922dfa051647ed5c7dd020d65abc2ac1386795?cid=b60b5dc276ba4ef2bcd8afa267744726', 'track_number': 12, 'type': 'track', 'uri': 'spotify:track:3oQl9l5jJC4aMI7c9JEkJJ'}], 'limit': 50, 'next': None, 'offset': 0, 'previous': None, 'total': 12}\n",
            "type  //  album\n",
            "uri  //  spotify:album:0ZOlC4fldjBdSBnEbX6R9A\n"
          ]
        }
      ]
    },
    {
      "cell_type": "code",
      "source": [
        "sample_tracks = album_sample[\"tracks\"]\n",
        "type(sample_tracks)"
      ],
      "metadata": {
        "id": "IvduBo3Vjzjc",
        "colab": {
          "base_uri": "https://localhost:8080/"
        },
        "outputId": "517cd755-b3dd-4636-9d39-a8a122d9968e"
      },
      "execution_count": 24,
      "outputs": [
        {
          "output_type": "execute_result",
          "data": {
            "text/plain": [
              "dict"
            ]
          },
          "metadata": {},
          "execution_count": 24
        }
      ]
    },
    {
      "cell_type": "code",
      "source": [
        "for key,value in sample_tracks.items():\n",
        "  print(key,\" // \", value)"
      ],
      "metadata": {
        "colab": {
          "base_uri": "https://localhost:8080/"
        },
        "id": "1F1G3QELiQzy",
        "outputId": "e949a5c8-7707-4f22-9456-4b8e62ee8ed3"
      },
      "execution_count": 25,
      "outputs": [
        {
          "output_type": "stream",
          "name": "stdout",
          "text": [
            "href  //  https://api.spotify.com/v1/albums/0ZOlC4fldjBdSBnEbX6R9A/tracks?offset=0&limit=50\n",
            "items  //  [{'artists': [{'external_urls': {'spotify': 'https://open.spotify.com/artist/5ZbRDyTYX4HhXveONcZQn2'}, 'href': 'https://api.spotify.com/v1/artists/5ZbRDyTYX4HhXveONcZQn2', 'id': '5ZbRDyTYX4HhXveONcZQn2', 'name': 'Mystery Skulls', 'type': 'artist', 'uri': 'spotify:artist:5ZbRDyTYX4HhXveONcZQn2'}], 'available_markets': ['AD', 'AE', 'AG', 'AL', 'AM', 'AO', 'AR', 'AT', 'AU', 'AZ', 'BA', 'BB', 'BD', 'BE', 'BF', 'BG', 'BH', 'BI', 'BJ', 'BN', 'BO', 'BR', 'BS', 'BT', 'BW', 'BY', 'BZ', 'CA', 'CD', 'CG', 'CH', 'CI', 'CL', 'CM', 'CO', 'CR', 'CV', 'CW', 'CY', 'CZ', 'DE', 'DJ', 'DK', 'DM', 'DO', 'DZ', 'EC', 'EE', 'EG', 'ES', 'FI', 'FJ', 'FM', 'FR', 'GA', 'GB', 'GD', 'GE', 'GH', 'GM', 'GN', 'GQ', 'GR', 'GT', 'GW', 'GY', 'HK', 'HN', 'HR', 'HT', 'HU', 'ID', 'IE', 'IL', 'IN', 'IQ', 'IS', 'IT', 'JM', 'JO', 'JP', 'KE', 'KG', 'KH', 'KI', 'KM', 'KN', 'KR', 'KW', 'KZ', 'LA', 'LB', 'LC', 'LI', 'LK', 'LR', 'LS', 'LT', 'LU', 'LV', 'LY', 'MA', 'MC', 'MD', 'ME', 'MG', 'MH', 'MK', 'ML', 'MN', 'MO', 'MR', 'MT', 'MU', 'MV', 'MW', 'MX', 'MY', 'MZ', 'NA', 'NE', 'NG', 'NI', 'NL', 'NO', 'NP', 'NR', 'NZ', 'OM', 'PA', 'PE', 'PG', 'PH', 'PK', 'PL', 'PS', 'PT', 'PW', 'PY', 'QA', 'RO', 'RS', 'RU', 'RW', 'SA', 'SB', 'SC', 'SE', 'SG', 'SI', 'SK', 'SL', 'SM', 'SN', 'SR', 'ST', 'SV', 'SZ', 'TD', 'TG', 'TH', 'TJ', 'TL', 'TN', 'TO', 'TR', 'TT', 'TV', 'TW', 'TZ', 'UA', 'UG', 'US', 'UY', 'UZ', 'VC', 'VE', 'VN', 'VU', 'WS', 'XK', 'ZA', 'ZM', 'ZW'], 'disc_number': 1, 'duration_ms': 108631, 'explicit': False, 'external_urls': {'spotify': 'https://open.spotify.com/track/21paFxL9gudhwBBYoZWah1'}, 'href': 'https://api.spotify.com/v1/tracks/21paFxL9gudhwBBYoZWah1', 'id': '21paFxL9gudhwBBYoZWah1', 'is_local': False, 'name': 'Memory', 'preview_url': 'https://p.scdn.co/mp3-preview/e55ba4182a045603ffe7aea38eea5eaed1f837fa?cid=b60b5dc276ba4ef2bcd8afa267744726', 'track_number': 1, 'type': 'track', 'uri': 'spotify:track:21paFxL9gudhwBBYoZWah1'}, {'artists': [{'external_urls': {'spotify': 'https://open.spotify.com/artist/5ZbRDyTYX4HhXveONcZQn2'}, 'href': 'https://api.spotify.com/v1/artists/5ZbRDyTYX4HhXveONcZQn2', 'id': '5ZbRDyTYX4HhXveONcZQn2', 'name': 'Mystery Skulls', 'type': 'artist', 'uri': 'spotify:artist:5ZbRDyTYX4HhXveONcZQn2'}], 'available_markets': ['AD', 'AE', 'AG', 'AL', 'AM', 'AO', 'AR', 'AT', 'AU', 'AZ', 'BA', 'BB', 'BD', 'BE', 'BF', 'BG', 'BH', 'BI', 'BJ', 'BN', 'BO', 'BR', 'BS', 'BT', 'BW', 'BY', 'BZ', 'CA', 'CD', 'CG', 'CH', 'CI', 'CL', 'CM', 'CO', 'CR', 'CV', 'CW', 'CY', 'CZ', 'DE', 'DJ', 'DK', 'DM', 'DO', 'DZ', 'EC', 'EE', 'EG', 'ES', 'FI', 'FJ', 'FM', 'FR', 'GA', 'GB', 'GD', 'GE', 'GH', 'GM', 'GN', 'GQ', 'GR', 'GT', 'GW', 'GY', 'HK', 'HN', 'HR', 'HT', 'HU', 'ID', 'IE', 'IL', 'IN', 'IQ', 'IS', 'IT', 'JM', 'JO', 'JP', 'KE', 'KG', 'KH', 'KI', 'KM', 'KN', 'KR', 'KW', 'KZ', 'LA', 'LB', 'LC', 'LI', 'LK', 'LR', 'LS', 'LT', 'LU', 'LV', 'LY', 'MA', 'MC', 'MD', 'ME', 'MG', 'MH', 'MK', 'ML', 'MN', 'MO', 'MR', 'MT', 'MU', 'MV', 'MW', 'MX', 'MY', 'MZ', 'NA', 'NE', 'NG', 'NI', 'NL', 'NO', 'NP', 'NR', 'NZ', 'OM', 'PA', 'PE', 'PG', 'PH', 'PK', 'PL', 'PS', 'PT', 'PW', 'PY', 'QA', 'RO', 'RS', 'RU', 'RW', 'SA', 'SB', 'SC', 'SE', 'SG', 'SI', 'SK', 'SL', 'SM', 'SN', 'SR', 'ST', 'SV', 'SZ', 'TD', 'TG', 'TH', 'TJ', 'TL', 'TN', 'TO', 'TR', 'TT', 'TV', 'TW', 'TZ', 'UA', 'UG', 'US', 'UY', 'UZ', 'VC', 'VE', 'VN', 'VU', 'WS', 'XK', 'ZA', 'ZM', 'ZW'], 'disc_number': 1, 'duration_ms': 157250, 'explicit': True, 'external_urls': {'spotify': 'https://open.spotify.com/track/6fecxwRD74xNT3XRjREIiB'}, 'href': 'https://api.spotify.com/v1/tracks/6fecxwRD74xNT3XRjREIiB', 'id': '6fecxwRD74xNT3XRjREIiB', 'is_local': False, 'name': \"Don't Fuck With My Money\", 'preview_url': 'https://p.scdn.co/mp3-preview/137de80f9c9d6abe75fc5125ff0a8136f496d504?cid=b60b5dc276ba4ef2bcd8afa267744726', 'track_number': 2, 'type': 'track', 'uri': 'spotify:track:6fecxwRD74xNT3XRjREIiB'}, {'artists': [{'external_urls': {'spotify': 'https://open.spotify.com/artist/5ZbRDyTYX4HhXveONcZQn2'}, 'href': 'https://api.spotify.com/v1/artists/5ZbRDyTYX4HhXveONcZQn2', 'id': '5ZbRDyTYX4HhXveONcZQn2', 'name': 'Mystery Skulls', 'type': 'artist', 'uri': 'spotify:artist:5ZbRDyTYX4HhXveONcZQn2'}], 'available_markets': ['AD', 'AE', 'AG', 'AL', 'AM', 'AO', 'AR', 'AT', 'AU', 'AZ', 'BA', 'BB', 'BD', 'BE', 'BF', 'BG', 'BH', 'BI', 'BJ', 'BN', 'BO', 'BR', 'BS', 'BT', 'BW', 'BY', 'BZ', 'CA', 'CD', 'CG', 'CH', 'CI', 'CL', 'CM', 'CO', 'CR', 'CV', 'CW', 'CY', 'CZ', 'DE', 'DJ', 'DK', 'DM', 'DO', 'DZ', 'EC', 'EE', 'EG', 'ES', 'FI', 'FJ', 'FM', 'FR', 'GA', 'GB', 'GD', 'GE', 'GH', 'GM', 'GN', 'GQ', 'GR', 'GT', 'GW', 'GY', 'HK', 'HN', 'HR', 'HT', 'HU', 'ID', 'IE', 'IL', 'IN', 'IQ', 'IS', 'IT', 'JM', 'JO', 'JP', 'KE', 'KG', 'KH', 'KI', 'KM', 'KN', 'KR', 'KW', 'KZ', 'LA', 'LB', 'LC', 'LI', 'LK', 'LR', 'LS', 'LT', 'LU', 'LV', 'LY', 'MA', 'MC', 'MD', 'ME', 'MG', 'MH', 'MK', 'ML', 'MN', 'MO', 'MR', 'MT', 'MU', 'MV', 'MW', 'MX', 'MY', 'MZ', 'NA', 'NE', 'NG', 'NI', 'NL', 'NO', 'NP', 'NR', 'NZ', 'OM', 'PA', 'PE', 'PG', 'PH', 'PK', 'PL', 'PS', 'PT', 'PW', 'PY', 'QA', 'RO', 'RS', 'RU', 'RW', 'SA', 'SB', 'SC', 'SE', 'SG', 'SI', 'SK', 'SL', 'SM', 'SN', 'SR', 'ST', 'SV', 'SZ', 'TD', 'TG', 'TH', 'TJ', 'TL', 'TN', 'TO', 'TR', 'TT', 'TV', 'TW', 'TZ', 'UA', 'UG', 'US', 'UY', 'UZ', 'VC', 'VE', 'VN', 'VU', 'WS', 'XK', 'ZA', 'ZM', 'ZW'], 'disc_number': 1, 'duration_ms': 218000, 'explicit': False, 'external_urls': {'spotify': 'https://open.spotify.com/track/7K6UUIAOgwZj3c1t6DefdY'}, 'href': 'https://api.spotify.com/v1/tracks/7K6UUIAOgwZj3c1t6DefdY', 'id': '7K6UUIAOgwZj3c1t6DefdY', 'is_local': False, 'name': 'What Love Is', 'preview_url': 'https://p.scdn.co/mp3-preview/bba55de782ba8ca1a2dc1c2df62fad6dfb4dcdcf?cid=b60b5dc276ba4ef2bcd8afa267744726', 'track_number': 3, 'type': 'track', 'uri': 'spotify:track:7K6UUIAOgwZj3c1t6DefdY'}, {'artists': [{'external_urls': {'spotify': 'https://open.spotify.com/artist/5ZbRDyTYX4HhXveONcZQn2'}, 'href': 'https://api.spotify.com/v1/artists/5ZbRDyTYX4HhXveONcZQn2', 'id': '5ZbRDyTYX4HhXveONcZQn2', 'name': 'Mystery Skulls', 'type': 'artist', 'uri': 'spotify:artist:5ZbRDyTYX4HhXveONcZQn2'}], 'available_markets': ['AD', 'AE', 'AG', 'AL', 'AM', 'AO', 'AR', 'AT', 'AU', 'AZ', 'BA', 'BB', 'BD', 'BE', 'BF', 'BG', 'BH', 'BI', 'BJ', 'BN', 'BO', 'BR', 'BS', 'BT', 'BW', 'BY', 'BZ', 'CA', 'CD', 'CG', 'CH', 'CI', 'CL', 'CM', 'CO', 'CR', 'CV', 'CW', 'CY', 'CZ', 'DE', 'DJ', 'DK', 'DM', 'DO', 'DZ', 'EC', 'EE', 'EG', 'ES', 'FI', 'FJ', 'FM', 'FR', 'GA', 'GB', 'GD', 'GE', 'GH', 'GM', 'GN', 'GQ', 'GR', 'GT', 'GW', 'GY', 'HK', 'HN', 'HR', 'HT', 'HU', 'ID', 'IE', 'IL', 'IN', 'IQ', 'IS', 'IT', 'JM', 'JO', 'JP', 'KE', 'KG', 'KH', 'KI', 'KM', 'KN', 'KR', 'KW', 'KZ', 'LA', 'LB', 'LC', 'LI', 'LK', 'LR', 'LS', 'LT', 'LU', 'LV', 'LY', 'MA', 'MC', 'MD', 'ME', 'MG', 'MH', 'MK', 'ML', 'MN', 'MO', 'MR', 'MT', 'MU', 'MV', 'MW', 'MX', 'MY', 'MZ', 'NA', 'NE', 'NG', 'NI', 'NL', 'NO', 'NP', 'NR', 'NZ', 'OM', 'PA', 'PE', 'PG', 'PH', 'PK', 'PL', 'PS', 'PT', 'PW', 'PY', 'QA', 'RO', 'RS', 'RU', 'RW', 'SA', 'SB', 'SC', 'SE', 'SG', 'SI', 'SK', 'SL', 'SM', 'SN', 'SR', 'ST', 'SV', 'SZ', 'TD', 'TG', 'TH', 'TJ', 'TL', 'TN', 'TO', 'TR', 'TT', 'TV', 'TW', 'TZ', 'UA', 'UG', 'US', 'UY', 'UZ', 'VC', 'VE', 'VN', 'VU', 'WS', 'XK', 'ZA', 'ZM', 'ZW'], 'disc_number': 1, 'duration_ms': 190952, 'explicit': False, 'external_urls': {'spotify': 'https://open.spotify.com/track/2j9JO1SCC21LIBQKzkffhk'}, 'href': 'https://api.spotify.com/v1/tracks/2j9JO1SCC21LIBQKzkffhk', 'id': '2j9JO1SCC21LIBQKzkffhk', 'is_local': False, 'name': 'Without You', 'preview_url': 'https://p.scdn.co/mp3-preview/9d537ad1d46ff17ac9afb4e400e6fdaa5bcb4d9c?cid=b60b5dc276ba4ef2bcd8afa267744726', 'track_number': 4, 'type': 'track', 'uri': 'spotify:track:2j9JO1SCC21LIBQKzkffhk'}, {'artists': [{'external_urls': {'spotify': 'https://open.spotify.com/artist/5ZbRDyTYX4HhXveONcZQn2'}, 'href': 'https://api.spotify.com/v1/artists/5ZbRDyTYX4HhXveONcZQn2', 'id': '5ZbRDyTYX4HhXveONcZQn2', 'name': 'Mystery Skulls', 'type': 'artist', 'uri': 'spotify:artist:5ZbRDyTYX4HhXveONcZQn2'}], 'available_markets': ['AD', 'AE', 'AG', 'AL', 'AM', 'AO', 'AR', 'AT', 'AU', 'AZ', 'BA', 'BB', 'BD', 'BE', 'BF', 'BG', 'BH', 'BI', 'BJ', 'BN', 'BO', 'BR', 'BS', 'BT', 'BW', 'BY', 'BZ', 'CA', 'CD', 'CG', 'CH', 'CI', 'CL', 'CM', 'CO', 'CR', 'CV', 'CW', 'CY', 'CZ', 'DE', 'DJ', 'DK', 'DM', 'DO', 'DZ', 'EC', 'EE', 'EG', 'ES', 'FI', 'FJ', 'FM', 'FR', 'GA', 'GB', 'GD', 'GE', 'GH', 'GM', 'GN', 'GQ', 'GR', 'GT', 'GW', 'GY', 'HK', 'HN', 'HR', 'HT', 'HU', 'ID', 'IE', 'IL', 'IN', 'IQ', 'IS', 'IT', 'JM', 'JO', 'JP', 'KE', 'KG', 'KH', 'KI', 'KM', 'KN', 'KR', 'KW', 'KZ', 'LA', 'LB', 'LC', 'LI', 'LK', 'LR', 'LS', 'LT', 'LU', 'LV', 'LY', 'MA', 'MC', 'MD', 'ME', 'MG', 'MH', 'MK', 'ML', 'MN', 'MO', 'MR', 'MT', 'MU', 'MV', 'MW', 'MX', 'MY', 'MZ', 'NA', 'NE', 'NG', 'NI', 'NL', 'NO', 'NP', 'NR', 'NZ', 'OM', 'PA', 'PE', 'PG', 'PH', 'PK', 'PL', 'PS', 'PT', 'PW', 'PY', 'QA', 'RO', 'RS', 'RU', 'RW', 'SA', 'SB', 'SC', 'SE', 'SG', 'SI', 'SK', 'SL', 'SM', 'SN', 'SR', 'ST', 'SV', 'SZ', 'TD', 'TG', 'TH', 'TJ', 'TL', 'TN', 'TO', 'TR', 'TT', 'TV', 'TW', 'TZ', 'UA', 'UG', 'US', 'UY', 'UZ', 'VC', 'VE', 'VN', 'VU', 'WS', 'XK', 'ZA', 'ZM', 'ZW'], 'disc_number': 1, 'duration_ms': 176146, 'explicit': False, 'external_urls': {'spotify': 'https://open.spotify.com/track/5NptfMnPBChKktA5Z66faw'}, 'href': 'https://api.spotify.com/v1/tracks/5NptfMnPBChKktA5Z66faw', 'id': '5NptfMnPBChKktA5Z66faw', 'is_local': False, 'name': 'Enemy', 'preview_url': 'https://p.scdn.co/mp3-preview/517a54b74ac3e9d64c29e42e574b336a87f6eff6?cid=b60b5dc276ba4ef2bcd8afa267744726', 'track_number': 5, 'type': 'track', 'uri': 'spotify:track:5NptfMnPBChKktA5Z66faw'}, {'artists': [{'external_urls': {'spotify': 'https://open.spotify.com/artist/5ZbRDyTYX4HhXveONcZQn2'}, 'href': 'https://api.spotify.com/v1/artists/5ZbRDyTYX4HhXveONcZQn2', 'id': '5ZbRDyTYX4HhXveONcZQn2', 'name': 'Mystery Skulls', 'type': 'artist', 'uri': 'spotify:artist:5ZbRDyTYX4HhXveONcZQn2'}], 'available_markets': ['AD', 'AE', 'AG', 'AL', 'AM', 'AO', 'AR', 'AT', 'AU', 'AZ', 'BA', 'BB', 'BD', 'BE', 'BF', 'BG', 'BH', 'BI', 'BJ', 'BN', 'BO', 'BR', 'BS', 'BT', 'BW', 'BY', 'BZ', 'CA', 'CD', 'CG', 'CH', 'CI', 'CL', 'CM', 'CO', 'CR', 'CV', 'CW', 'CY', 'CZ', 'DE', 'DJ', 'DK', 'DM', 'DO', 'DZ', 'EC', 'EE', 'EG', 'ES', 'FI', 'FJ', 'FM', 'FR', 'GA', 'GB', 'GD', 'GE', 'GH', 'GM', 'GN', 'GQ', 'GR', 'GT', 'GW', 'GY', 'HK', 'HN', 'HR', 'HT', 'HU', 'ID', 'IE', 'IL', 'IN', 'IQ', 'IS', 'IT', 'JM', 'JO', 'JP', 'KE', 'KG', 'KH', 'KI', 'KM', 'KN', 'KR', 'KW', 'KZ', 'LA', 'LB', 'LC', 'LI', 'LK', 'LR', 'LS', 'LT', 'LU', 'LV', 'LY', 'MA', 'MC', 'MD', 'ME', 'MG', 'MH', 'MK', 'ML', 'MN', 'MO', 'MR', 'MT', 'MU', 'MV', 'MW', 'MX', 'MY', 'MZ', 'NA', 'NE', 'NG', 'NI', 'NL', 'NO', 'NP', 'NR', 'NZ', 'OM', 'PA', 'PE', 'PG', 'PH', 'PK', 'PL', 'PS', 'PT', 'PW', 'PY', 'QA', 'RO', 'RS', 'RU', 'RW', 'SA', 'SB', 'SC', 'SE', 'SG', 'SI', 'SK', 'SL', 'SM', 'SN', 'SR', 'ST', 'SV', 'SZ', 'TD', 'TG', 'TH', 'TJ', 'TL', 'TN', 'TO', 'TR', 'TT', 'TV', 'TW', 'TZ', 'UA', 'UG', 'US', 'UY', 'UZ', 'VC', 'VE', 'VN', 'VU', 'WS', 'XK', 'ZA', 'ZM', 'ZW'], 'disc_number': 1, 'duration_ms': 180000, 'explicit': False, 'external_urls': {'spotify': 'https://open.spotify.com/track/3760Go7UI4B8hgILy8c1Nt'}, 'href': 'https://api.spotify.com/v1/tracks/3760Go7UI4B8hgILy8c1Nt', 'id': '3760Go7UI4B8hgILy8c1Nt', 'is_local': False, 'name': 'Get In The Car', 'preview_url': 'https://p.scdn.co/mp3-preview/df349a2db0db301fc71174c5877f6bfd9cf6a496?cid=b60b5dc276ba4ef2bcd8afa267744726', 'track_number': 6, 'type': 'track', 'uri': 'spotify:track:3760Go7UI4B8hgILy8c1Nt'}, {'artists': [{'external_urls': {'spotify': 'https://open.spotify.com/artist/5ZbRDyTYX4HhXveONcZQn2'}, 'href': 'https://api.spotify.com/v1/artists/5ZbRDyTYX4HhXveONcZQn2', 'id': '5ZbRDyTYX4HhXveONcZQn2', 'name': 'Mystery Skulls', 'type': 'artist', 'uri': 'spotify:artist:5ZbRDyTYX4HhXveONcZQn2'}], 'available_markets': ['AD', 'AE', 'AG', 'AL', 'AM', 'AO', 'AR', 'AT', 'AU', 'AZ', 'BA', 'BB', 'BD', 'BE', 'BF', 'BG', 'BH', 'BI', 'BJ', 'BN', 'BO', 'BR', 'BS', 'BT', 'BW', 'BY', 'BZ', 'CA', 'CD', 'CG', 'CH', 'CI', 'CL', 'CM', 'CO', 'CR', 'CV', 'CW', 'CY', 'CZ', 'DE', 'DJ', 'DK', 'DM', 'DO', 'DZ', 'EC', 'EE', 'EG', 'ES', 'FI', 'FJ', 'FM', 'FR', 'GA', 'GB', 'GD', 'GE', 'GH', 'GM', 'GN', 'GQ', 'GR', 'GT', 'GW', 'GY', 'HK', 'HN', 'HR', 'HT', 'HU', 'ID', 'IE', 'IL', 'IN', 'IQ', 'IS', 'IT', 'JM', 'JO', 'JP', 'KE', 'KG', 'KH', 'KI', 'KM', 'KN', 'KR', 'KW', 'KZ', 'LA', 'LB', 'LC', 'LI', 'LK', 'LR', 'LS', 'LT', 'LU', 'LV', 'LY', 'MA', 'MC', 'MD', 'ME', 'MG', 'MH', 'MK', 'ML', 'MN', 'MO', 'MR', 'MT', 'MU', 'MV', 'MW', 'MX', 'MY', 'MZ', 'NA', 'NE', 'NG', 'NI', 'NL', 'NO', 'NP', 'NR', 'NZ', 'OM', 'PA', 'PE', 'PG', 'PH', 'PK', 'PL', 'PS', 'PT', 'PW', 'PY', 'QA', 'RO', 'RS', 'RU', 'RW', 'SA', 'SB', 'SC', 'SE', 'SG', 'SI', 'SK', 'SL', 'SM', 'SN', 'SR', 'ST', 'SV', 'SZ', 'TD', 'TG', 'TH', 'TJ', 'TL', 'TN', 'TO', 'TR', 'TT', 'TV', 'TW', 'TZ', 'UA', 'UG', 'US', 'UY', 'UZ', 'VC', 'VE', 'VN', 'VU', 'WS', 'XK', 'ZA', 'ZM', 'ZW'], 'disc_number': 1, 'duration_ms': 198000, 'explicit': False, 'external_urls': {'spotify': 'https://open.spotify.com/track/7JXkMlfh2lXZ2tJ7UTRjtH'}, 'href': 'https://api.spotify.com/v1/tracks/7JXkMlfh2lXZ2tJ7UTRjtH', 'id': '7JXkMlfh2lXZ2tJ7UTRjtH', 'is_local': False, 'name': 'Back To Life', 'preview_url': 'https://p.scdn.co/mp3-preview/87269a82fd810afd87a44b0eadaac747468dcdd4?cid=b60b5dc276ba4ef2bcd8afa267744726', 'track_number': 7, 'type': 'track', 'uri': 'spotify:track:7JXkMlfh2lXZ2tJ7UTRjtH'}, {'artists': [{'external_urls': {'spotify': 'https://open.spotify.com/artist/5ZbRDyTYX4HhXveONcZQn2'}, 'href': 'https://api.spotify.com/v1/artists/5ZbRDyTYX4HhXveONcZQn2', 'id': '5ZbRDyTYX4HhXveONcZQn2', 'name': 'Mystery Skulls', 'type': 'artist', 'uri': 'spotify:artist:5ZbRDyTYX4HhXveONcZQn2'}, {'external_urls': {'spotify': 'https://open.spotify.com/artist/6nLpD6tWBhXIbNxVKJC1fH'}, 'href': 'https://api.spotify.com/v1/artists/6nLpD6tWBhXIbNxVKJC1fH', 'id': '6nLpD6tWBhXIbNxVKJC1fH', 'name': 'Snowblood', 'type': 'artist', 'uri': 'spotify:artist:6nLpD6tWBhXIbNxVKJC1fH'}], 'available_markets': ['AD', 'AE', 'AG', 'AL', 'AM', 'AO', 'AR', 'AT', 'AU', 'AZ', 'BA', 'BB', 'BD', 'BE', 'BF', 'BG', 'BH', 'BI', 'BJ', 'BN', 'BO', 'BR', 'BS', 'BT', 'BW', 'BY', 'BZ', 'CA', 'CD', 'CG', 'CH', 'CI', 'CL', 'CM', 'CO', 'CR', 'CV', 'CW', 'CY', 'CZ', 'DE', 'DJ', 'DK', 'DM', 'DO', 'DZ', 'EC', 'EE', 'EG', 'ES', 'FI', 'FJ', 'FM', 'FR', 'GA', 'GB', 'GD', 'GE', 'GH', 'GM', 'GN', 'GQ', 'GR', 'GT', 'GW', 'GY', 'HK', 'HN', 'HR', 'HT', 'HU', 'ID', 'IE', 'IL', 'IN', 'IQ', 'IS', 'IT', 'JM', 'JO', 'JP', 'KE', 'KG', 'KH', 'KI', 'KM', 'KN', 'KR', 'KW', 'KZ', 'LA', 'LB', 'LC', 'LI', 'LK', 'LR', 'LS', 'LT', 'LU', 'LV', 'LY', 'MA', 'MC', 'MD', 'ME', 'MG', 'MH', 'MK', 'ML', 'MN', 'MO', 'MR', 'MT', 'MU', 'MV', 'MW', 'MX', 'MY', 'MZ', 'NA', 'NE', 'NG', 'NI', 'NL', 'NO', 'NP', 'NR', 'NZ', 'OM', 'PA', 'PE', 'PG', 'PH', 'PK', 'PL', 'PS', 'PT', 'PW', 'PY', 'QA', 'RO', 'RS', 'RU', 'RW', 'SA', 'SB', 'SC', 'SE', 'SG', 'SI', 'SK', 'SL', 'SM', 'SN', 'SR', 'ST', 'SV', 'SZ', 'TD', 'TG', 'TH', 'TJ', 'TL', 'TN', 'TO', 'TR', 'TT', 'TV', 'TW', 'TZ', 'UA', 'UG', 'US', 'UY', 'UZ', 'VC', 'VE', 'VN', 'VU', 'WS', 'XK', 'ZA', 'ZM', 'ZW'], 'disc_number': 1, 'duration_ms': 240125, 'explicit': False, 'external_urls': {'spotify': 'https://open.spotify.com/track/7bJl4FKN2Hvj3SCQRJWWFa'}, 'href': 'https://api.spotify.com/v1/tracks/7bJl4FKN2Hvj3SCQRJWWFa', 'id': '7bJl4FKN2Hvj3SCQRJWWFa', 'is_local': False, 'name': 'Dying For You', 'preview_url': 'https://p.scdn.co/mp3-preview/896bbff410feb3cb2a076eaca0994b65f75b462c?cid=b60b5dc276ba4ef2bcd8afa267744726', 'track_number': 8, 'type': 'track', 'uri': 'spotify:track:7bJl4FKN2Hvj3SCQRJWWFa'}, {'artists': [{'external_urls': {'spotify': 'https://open.spotify.com/artist/5ZbRDyTYX4HhXveONcZQn2'}, 'href': 'https://api.spotify.com/v1/artists/5ZbRDyTYX4HhXveONcZQn2', 'id': '5ZbRDyTYX4HhXveONcZQn2', 'name': 'Mystery Skulls', 'type': 'artist', 'uri': 'spotify:artist:5ZbRDyTYX4HhXveONcZQn2'}], 'available_markets': ['AD', 'AE', 'AG', 'AL', 'AM', 'AO', 'AR', 'AT', 'AU', 'AZ', 'BA', 'BB', 'BD', 'BE', 'BF', 'BG', 'BH', 'BI', 'BJ', 'BN', 'BO', 'BR', 'BS', 'BT', 'BW', 'BY', 'BZ', 'CA', 'CD', 'CG', 'CH', 'CI', 'CL', 'CM', 'CO', 'CR', 'CV', 'CW', 'CY', 'CZ', 'DE', 'DJ', 'DK', 'DM', 'DO', 'DZ', 'EC', 'EE', 'EG', 'ES', 'FI', 'FJ', 'FM', 'FR', 'GA', 'GB', 'GD', 'GE', 'GH', 'GM', 'GN', 'GQ', 'GR', 'GT', 'GW', 'GY', 'HK', 'HN', 'HR', 'HT', 'HU', 'ID', 'IE', 'IL', 'IN', 'IQ', 'IS', 'IT', 'JM', 'JO', 'JP', 'KE', 'KG', 'KH', 'KI', 'KM', 'KN', 'KR', 'KW', 'KZ', 'LA', 'LB', 'LC', 'LI', 'LK', 'LR', 'LS', 'LT', 'LU', 'LV', 'LY', 'MA', 'MC', 'MD', 'ME', 'MG', 'MH', 'MK', 'ML', 'MN', 'MO', 'MR', 'MT', 'MU', 'MV', 'MW', 'MX', 'MY', 'MZ', 'NA', 'NE', 'NG', 'NI', 'NL', 'NO', 'NP', 'NR', 'NZ', 'OM', 'PA', 'PE', 'PG', 'PH', 'PK', 'PL', 'PS', 'PT', 'PW', 'PY', 'QA', 'RO', 'RS', 'RU', 'RW', 'SA', 'SB', 'SC', 'SE', 'SG', 'SI', 'SK', 'SL', 'SM', 'SN', 'SR', 'ST', 'SV', 'SZ', 'TD', 'TG', 'TH', 'TJ', 'TL', 'TN', 'TO', 'TR', 'TT', 'TV', 'TW', 'TZ', 'UA', 'UG', 'US', 'UY', 'UZ', 'VC', 'VE', 'VN', 'VU', 'WS', 'XK', 'ZA', 'ZM', 'ZW'], 'disc_number': 1, 'duration_ms': 242000, 'explicit': False, 'external_urls': {'spotify': 'https://open.spotify.com/track/6rUKAFuGr9OJvgHjKppqEG'}, 'href': 'https://api.spotify.com/v1/tracks/6rUKAFuGr9OJvgHjKppqEG', 'id': '6rUKAFuGr9OJvgHjKppqEG', 'is_local': False, 'name': 'In My Dreams', 'preview_url': 'https://p.scdn.co/mp3-preview/e74b78d584d405eb82c7652d911dfb4ff8bc2438?cid=b60b5dc276ba4ef2bcd8afa267744726', 'track_number': 9, 'type': 'track', 'uri': 'spotify:track:6rUKAFuGr9OJvgHjKppqEG'}, {'artists': [{'external_urls': {'spotify': 'https://open.spotify.com/artist/5ZbRDyTYX4HhXveONcZQn2'}, 'href': 'https://api.spotify.com/v1/artists/5ZbRDyTYX4HhXveONcZQn2', 'id': '5ZbRDyTYX4HhXveONcZQn2', 'name': 'Mystery Skulls', 'type': 'artist', 'uri': 'spotify:artist:5ZbRDyTYX4HhXveONcZQn2'}], 'available_markets': ['AD', 'AE', 'AG', 'AL', 'AM', 'AO', 'AR', 'AT', 'AU', 'AZ', 'BA', 'BB', 'BD', 'BE', 'BF', 'BG', 'BH', 'BI', 'BJ', 'BN', 'BO', 'BR', 'BS', 'BT', 'BW', 'BY', 'BZ', 'CA', 'CD', 'CG', 'CH', 'CI', 'CL', 'CM', 'CO', 'CR', 'CV', 'CW', 'CY', 'CZ', 'DE', 'DJ', 'DK', 'DM', 'DO', 'DZ', 'EC', 'EE', 'EG', 'ES', 'FI', 'FJ', 'FM', 'FR', 'GA', 'GB', 'GD', 'GE', 'GH', 'GM', 'GN', 'GQ', 'GR', 'GT', 'GW', 'GY', 'HK', 'HN', 'HR', 'HT', 'HU', 'ID', 'IE', 'IL', 'IN', 'IQ', 'IS', 'IT', 'JM', 'JO', 'JP', 'KE', 'KG', 'KH', 'KI', 'KM', 'KN', 'KR', 'KW', 'KZ', 'LA', 'LB', 'LC', 'LI', 'LK', 'LR', 'LS', 'LT', 'LU', 'LV', 'LY', 'MA', 'MC', 'MD', 'ME', 'MG', 'MH', 'MK', 'ML', 'MN', 'MO', 'MR', 'MT', 'MU', 'MV', 'MW', 'MX', 'MY', 'MZ', 'NA', 'NE', 'NG', 'NI', 'NL', 'NO', 'NP', 'NR', 'NZ', 'OM', 'PA', 'PE', 'PG', 'PH', 'PK', 'PL', 'PS', 'PT', 'PW', 'PY', 'QA', 'RO', 'RS', 'RU', 'RW', 'SA', 'SB', 'SC', 'SE', 'SG', 'SI', 'SK', 'SL', 'SM', 'SN', 'SR', 'ST', 'SV', 'SZ', 'TD', 'TG', 'TH', 'TJ', 'TL', 'TN', 'TO', 'TR', 'TT', 'TV', 'TW', 'TZ', 'UA', 'UG', 'US', 'UY', 'UZ', 'VC', 'VE', 'VN', 'VU', 'WS', 'XK', 'ZA', 'ZM', 'ZW'], 'disc_number': 1, 'duration_ms': 230000, 'explicit': True, 'external_urls': {'spotify': 'https://open.spotify.com/track/1bq7TmGGfBoiQ0YlUGggnp'}, 'href': 'https://api.spotify.com/v1/tracks/1bq7TmGGfBoiQ0YlUGggnp', 'id': '1bq7TmGGfBoiQ0YlUGggnp', 'is_local': False, 'name': 'Everything and More', 'preview_url': 'https://p.scdn.co/mp3-preview/bbeef2e5409fe30082de1102363b37f1c67b2439?cid=b60b5dc276ba4ef2bcd8afa267744726', 'track_number': 10, 'type': 'track', 'uri': 'spotify:track:1bq7TmGGfBoiQ0YlUGggnp'}, {'artists': [{'external_urls': {'spotify': 'https://open.spotify.com/artist/5ZbRDyTYX4HhXveONcZQn2'}, 'href': 'https://api.spotify.com/v1/artists/5ZbRDyTYX4HhXveONcZQn2', 'id': '5ZbRDyTYX4HhXveONcZQn2', 'name': 'Mystery Skulls', 'type': 'artist', 'uri': 'spotify:artist:5ZbRDyTYX4HhXveONcZQn2'}], 'available_markets': ['AD', 'AE', 'AG', 'AL', 'AM', 'AO', 'AR', 'AT', 'AU', 'AZ', 'BA', 'BB', 'BD', 'BE', 'BF', 'BG', 'BH', 'BI', 'BJ', 'BN', 'BO', 'BR', 'BS', 'BT', 'BW', 'BY', 'BZ', 'CA', 'CD', 'CG', 'CH', 'CI', 'CL', 'CM', 'CO', 'CR', 'CV', 'CW', 'CY', 'CZ', 'DE', 'DJ', 'DK', 'DM', 'DO', 'DZ', 'EC', 'EE', 'EG', 'ES', 'FI', 'FJ', 'FM', 'FR', 'GA', 'GB', 'GD', 'GE', 'GH', 'GM', 'GN', 'GQ', 'GR', 'GT', 'GW', 'GY', 'HK', 'HN', 'HR', 'HT', 'HU', 'ID', 'IE', 'IL', 'IN', 'IQ', 'IS', 'IT', 'JM', 'JO', 'JP', 'KE', 'KG', 'KH', 'KI', 'KM', 'KN', 'KR', 'KW', 'KZ', 'LA', 'LB', 'LC', 'LI', 'LK', 'LR', 'LS', 'LT', 'LU', 'LV', 'LY', 'MA', 'MC', 'MD', 'ME', 'MG', 'MH', 'MK', 'ML', 'MN', 'MO', 'MR', 'MT', 'MU', 'MV', 'MW', 'MX', 'MY', 'MZ', 'NA', 'NE', 'NG', 'NI', 'NL', 'NO', 'NP', 'NR', 'NZ', 'OM', 'PA', 'PE', 'PG', 'PH', 'PK', 'PL', 'PS', 'PT', 'PW', 'PY', 'QA', 'RO', 'RS', 'RU', 'RW', 'SA', 'SB', 'SC', 'SE', 'SG', 'SI', 'SK', 'SL', 'SM', 'SN', 'SR', 'ST', 'SV', 'SZ', 'TD', 'TG', 'TH', 'TJ', 'TL', 'TN', 'TO', 'TR', 'TT', 'TV', 'TW', 'TZ', 'UA', 'UG', 'US', 'UY', 'UZ', 'VC', 'VE', 'VN', 'VU', 'WS', 'XK', 'ZA', 'ZM', 'ZW'], 'disc_number': 1, 'duration_ms': 185000, 'explicit': True, 'external_urls': {'spotify': 'https://open.spotify.com/track/3Ze1UU1Jb7wkzcWkiOUYCN'}, 'href': 'https://api.spotify.com/v1/tracks/3Ze1UU1Jb7wkzcWkiOUYCN', 'id': '3Ze1UU1Jb7wkzcWkiOUYCN', 'is_local': False, 'name': 'Stronger', 'preview_url': 'https://p.scdn.co/mp3-preview/06b44b2f485667c370c518a94e20ec2899d739e4?cid=b60b5dc276ba4ef2bcd8afa267744726', 'track_number': 11, 'type': 'track', 'uri': 'spotify:track:3Ze1UU1Jb7wkzcWkiOUYCN'}, {'artists': [{'external_urls': {'spotify': 'https://open.spotify.com/artist/5ZbRDyTYX4HhXveONcZQn2'}, 'href': 'https://api.spotify.com/v1/artists/5ZbRDyTYX4HhXveONcZQn2', 'id': '5ZbRDyTYX4HhXveONcZQn2', 'name': 'Mystery Skulls', 'type': 'artist', 'uri': 'spotify:artist:5ZbRDyTYX4HhXveONcZQn2'}], 'available_markets': ['AD', 'AE', 'AG', 'AL', 'AM', 'AO', 'AR', 'AT', 'AU', 'AZ', 'BA', 'BB', 'BD', 'BE', 'BF', 'BG', 'BH', 'BI', 'BJ', 'BN', 'BO', 'BR', 'BS', 'BT', 'BW', 'BY', 'BZ', 'CA', 'CD', 'CG', 'CH', 'CI', 'CL', 'CM', 'CO', 'CR', 'CV', 'CW', 'CY', 'CZ', 'DE', 'DJ', 'DK', 'DM', 'DO', 'DZ', 'EC', 'EE', 'EG', 'ES', 'FI', 'FJ', 'FM', 'FR', 'GA', 'GB', 'GD', 'GE', 'GH', 'GM', 'GN', 'GQ', 'GR', 'GT', 'GW', 'GY', 'HK', 'HN', 'HR', 'HT', 'HU', 'ID', 'IE', 'IL', 'IN', 'IQ', 'IS', 'IT', 'JM', 'JO', 'JP', 'KE', 'KG', 'KH', 'KI', 'KM', 'KN', 'KR', 'KW', 'KZ', 'LA', 'LB', 'LC', 'LI', 'LK', 'LR', 'LS', 'LT', 'LU', 'LV', 'LY', 'MA', 'MC', 'MD', 'ME', 'MG', 'MH', 'MK', 'ML', 'MN', 'MO', 'MR', 'MT', 'MU', 'MV', 'MW', 'MX', 'MY', 'MZ', 'NA', 'NE', 'NG', 'NI', 'NL', 'NO', 'NP', 'NR', 'NZ', 'OM', 'PA', 'PE', 'PG', 'PH', 'PK', 'PL', 'PS', 'PT', 'PW', 'PY', 'QA', 'RO', 'RS', 'RU', 'RW', 'SA', 'SB', 'SC', 'SE', 'SG', 'SI', 'SK', 'SL', 'SM', 'SN', 'SR', 'ST', 'SV', 'SZ', 'TD', 'TG', 'TH', 'TJ', 'TL', 'TN', 'TO', 'TR', 'TT', 'TV', 'TW', 'TZ', 'UA', 'UG', 'US', 'UY', 'UZ', 'VC', 'VE', 'VN', 'VU', 'WS', 'XK', 'ZA', 'ZM', 'ZW'], 'disc_number': 1, 'duration_ms': 157948, 'explicit': False, 'external_urls': {'spotify': 'https://open.spotify.com/track/3oQl9l5jJC4aMI7c9JEkJJ'}, 'href': 'https://api.spotify.com/v1/tracks/3oQl9l5jJC4aMI7c9JEkJJ', 'id': '3oQl9l5jJC4aMI7c9JEkJJ', 'is_local': False, 'name': 'Its Mine', 'preview_url': 'https://p.scdn.co/mp3-preview/99922dfa051647ed5c7dd020d65abc2ac1386795?cid=b60b5dc276ba4ef2bcd8afa267744726', 'track_number': 12, 'type': 'track', 'uri': 'spotify:track:3oQl9l5jJC4aMI7c9JEkJJ'}]\n",
            "limit  //  50\n",
            "next  //  None\n",
            "offset  //  0\n",
            "previous  //  None\n",
            "total  //  12\n"
          ]
        }
      ]
    },
    {
      "cell_type": "code",
      "source": [
        "sample_tracks = sample_tracks[\"items\"]\n",
        "type(sample_tracks)"
      ],
      "metadata": {
        "colab": {
          "base_uri": "https://localhost:8080/"
        },
        "id": "_7FrO7uIidG-",
        "outputId": "ad836e3a-ceb3-490b-853c-51c445581204"
      },
      "execution_count": 26,
      "outputs": [
        {
          "output_type": "execute_result",
          "data": {
            "text/plain": [
              "list"
            ]
          },
          "metadata": {},
          "execution_count": 26
        }
      ]
    },
    {
      "cell_type": "code",
      "source": [
        "for i in sample_tracks:\n",
        "  print(i)"
      ],
      "metadata": {
        "colab": {
          "base_uri": "https://localhost:8080/"
        },
        "id": "fbtr2IYSio72",
        "outputId": "ce1cae90-c4a1-44a3-cf27-bd713602295e"
      },
      "execution_count": 27,
      "outputs": [
        {
          "output_type": "stream",
          "name": "stdout",
          "text": [
            "{'artists': [{'external_urls': {'spotify': 'https://open.spotify.com/artist/5ZbRDyTYX4HhXveONcZQn2'}, 'href': 'https://api.spotify.com/v1/artists/5ZbRDyTYX4HhXveONcZQn2', 'id': '5ZbRDyTYX4HhXveONcZQn2', 'name': 'Mystery Skulls', 'type': 'artist', 'uri': 'spotify:artist:5ZbRDyTYX4HhXveONcZQn2'}], 'available_markets': ['AD', 'AE', 'AG', 'AL', 'AM', 'AO', 'AR', 'AT', 'AU', 'AZ', 'BA', 'BB', 'BD', 'BE', 'BF', 'BG', 'BH', 'BI', 'BJ', 'BN', 'BO', 'BR', 'BS', 'BT', 'BW', 'BY', 'BZ', 'CA', 'CD', 'CG', 'CH', 'CI', 'CL', 'CM', 'CO', 'CR', 'CV', 'CW', 'CY', 'CZ', 'DE', 'DJ', 'DK', 'DM', 'DO', 'DZ', 'EC', 'EE', 'EG', 'ES', 'FI', 'FJ', 'FM', 'FR', 'GA', 'GB', 'GD', 'GE', 'GH', 'GM', 'GN', 'GQ', 'GR', 'GT', 'GW', 'GY', 'HK', 'HN', 'HR', 'HT', 'HU', 'ID', 'IE', 'IL', 'IN', 'IQ', 'IS', 'IT', 'JM', 'JO', 'JP', 'KE', 'KG', 'KH', 'KI', 'KM', 'KN', 'KR', 'KW', 'KZ', 'LA', 'LB', 'LC', 'LI', 'LK', 'LR', 'LS', 'LT', 'LU', 'LV', 'LY', 'MA', 'MC', 'MD', 'ME', 'MG', 'MH', 'MK', 'ML', 'MN', 'MO', 'MR', 'MT', 'MU', 'MV', 'MW', 'MX', 'MY', 'MZ', 'NA', 'NE', 'NG', 'NI', 'NL', 'NO', 'NP', 'NR', 'NZ', 'OM', 'PA', 'PE', 'PG', 'PH', 'PK', 'PL', 'PS', 'PT', 'PW', 'PY', 'QA', 'RO', 'RS', 'RU', 'RW', 'SA', 'SB', 'SC', 'SE', 'SG', 'SI', 'SK', 'SL', 'SM', 'SN', 'SR', 'ST', 'SV', 'SZ', 'TD', 'TG', 'TH', 'TJ', 'TL', 'TN', 'TO', 'TR', 'TT', 'TV', 'TW', 'TZ', 'UA', 'UG', 'US', 'UY', 'UZ', 'VC', 'VE', 'VN', 'VU', 'WS', 'XK', 'ZA', 'ZM', 'ZW'], 'disc_number': 1, 'duration_ms': 108631, 'explicit': False, 'external_urls': {'spotify': 'https://open.spotify.com/track/21paFxL9gudhwBBYoZWah1'}, 'href': 'https://api.spotify.com/v1/tracks/21paFxL9gudhwBBYoZWah1', 'id': '21paFxL9gudhwBBYoZWah1', 'is_local': False, 'name': 'Memory', 'preview_url': 'https://p.scdn.co/mp3-preview/e55ba4182a045603ffe7aea38eea5eaed1f837fa?cid=b60b5dc276ba4ef2bcd8afa267744726', 'track_number': 1, 'type': 'track', 'uri': 'spotify:track:21paFxL9gudhwBBYoZWah1'}\n",
            "{'artists': [{'external_urls': {'spotify': 'https://open.spotify.com/artist/5ZbRDyTYX4HhXveONcZQn2'}, 'href': 'https://api.spotify.com/v1/artists/5ZbRDyTYX4HhXveONcZQn2', 'id': '5ZbRDyTYX4HhXveONcZQn2', 'name': 'Mystery Skulls', 'type': 'artist', 'uri': 'spotify:artist:5ZbRDyTYX4HhXveONcZQn2'}], 'available_markets': ['AD', 'AE', 'AG', 'AL', 'AM', 'AO', 'AR', 'AT', 'AU', 'AZ', 'BA', 'BB', 'BD', 'BE', 'BF', 'BG', 'BH', 'BI', 'BJ', 'BN', 'BO', 'BR', 'BS', 'BT', 'BW', 'BY', 'BZ', 'CA', 'CD', 'CG', 'CH', 'CI', 'CL', 'CM', 'CO', 'CR', 'CV', 'CW', 'CY', 'CZ', 'DE', 'DJ', 'DK', 'DM', 'DO', 'DZ', 'EC', 'EE', 'EG', 'ES', 'FI', 'FJ', 'FM', 'FR', 'GA', 'GB', 'GD', 'GE', 'GH', 'GM', 'GN', 'GQ', 'GR', 'GT', 'GW', 'GY', 'HK', 'HN', 'HR', 'HT', 'HU', 'ID', 'IE', 'IL', 'IN', 'IQ', 'IS', 'IT', 'JM', 'JO', 'JP', 'KE', 'KG', 'KH', 'KI', 'KM', 'KN', 'KR', 'KW', 'KZ', 'LA', 'LB', 'LC', 'LI', 'LK', 'LR', 'LS', 'LT', 'LU', 'LV', 'LY', 'MA', 'MC', 'MD', 'ME', 'MG', 'MH', 'MK', 'ML', 'MN', 'MO', 'MR', 'MT', 'MU', 'MV', 'MW', 'MX', 'MY', 'MZ', 'NA', 'NE', 'NG', 'NI', 'NL', 'NO', 'NP', 'NR', 'NZ', 'OM', 'PA', 'PE', 'PG', 'PH', 'PK', 'PL', 'PS', 'PT', 'PW', 'PY', 'QA', 'RO', 'RS', 'RU', 'RW', 'SA', 'SB', 'SC', 'SE', 'SG', 'SI', 'SK', 'SL', 'SM', 'SN', 'SR', 'ST', 'SV', 'SZ', 'TD', 'TG', 'TH', 'TJ', 'TL', 'TN', 'TO', 'TR', 'TT', 'TV', 'TW', 'TZ', 'UA', 'UG', 'US', 'UY', 'UZ', 'VC', 'VE', 'VN', 'VU', 'WS', 'XK', 'ZA', 'ZM', 'ZW'], 'disc_number': 1, 'duration_ms': 157250, 'explicit': True, 'external_urls': {'spotify': 'https://open.spotify.com/track/6fecxwRD74xNT3XRjREIiB'}, 'href': 'https://api.spotify.com/v1/tracks/6fecxwRD74xNT3XRjREIiB', 'id': '6fecxwRD74xNT3XRjREIiB', 'is_local': False, 'name': \"Don't Fuck With My Money\", 'preview_url': 'https://p.scdn.co/mp3-preview/137de80f9c9d6abe75fc5125ff0a8136f496d504?cid=b60b5dc276ba4ef2bcd8afa267744726', 'track_number': 2, 'type': 'track', 'uri': 'spotify:track:6fecxwRD74xNT3XRjREIiB'}\n",
            "{'artists': [{'external_urls': {'spotify': 'https://open.spotify.com/artist/5ZbRDyTYX4HhXveONcZQn2'}, 'href': 'https://api.spotify.com/v1/artists/5ZbRDyTYX4HhXveONcZQn2', 'id': '5ZbRDyTYX4HhXveONcZQn2', 'name': 'Mystery Skulls', 'type': 'artist', 'uri': 'spotify:artist:5ZbRDyTYX4HhXveONcZQn2'}], 'available_markets': ['AD', 'AE', 'AG', 'AL', 'AM', 'AO', 'AR', 'AT', 'AU', 'AZ', 'BA', 'BB', 'BD', 'BE', 'BF', 'BG', 'BH', 'BI', 'BJ', 'BN', 'BO', 'BR', 'BS', 'BT', 'BW', 'BY', 'BZ', 'CA', 'CD', 'CG', 'CH', 'CI', 'CL', 'CM', 'CO', 'CR', 'CV', 'CW', 'CY', 'CZ', 'DE', 'DJ', 'DK', 'DM', 'DO', 'DZ', 'EC', 'EE', 'EG', 'ES', 'FI', 'FJ', 'FM', 'FR', 'GA', 'GB', 'GD', 'GE', 'GH', 'GM', 'GN', 'GQ', 'GR', 'GT', 'GW', 'GY', 'HK', 'HN', 'HR', 'HT', 'HU', 'ID', 'IE', 'IL', 'IN', 'IQ', 'IS', 'IT', 'JM', 'JO', 'JP', 'KE', 'KG', 'KH', 'KI', 'KM', 'KN', 'KR', 'KW', 'KZ', 'LA', 'LB', 'LC', 'LI', 'LK', 'LR', 'LS', 'LT', 'LU', 'LV', 'LY', 'MA', 'MC', 'MD', 'ME', 'MG', 'MH', 'MK', 'ML', 'MN', 'MO', 'MR', 'MT', 'MU', 'MV', 'MW', 'MX', 'MY', 'MZ', 'NA', 'NE', 'NG', 'NI', 'NL', 'NO', 'NP', 'NR', 'NZ', 'OM', 'PA', 'PE', 'PG', 'PH', 'PK', 'PL', 'PS', 'PT', 'PW', 'PY', 'QA', 'RO', 'RS', 'RU', 'RW', 'SA', 'SB', 'SC', 'SE', 'SG', 'SI', 'SK', 'SL', 'SM', 'SN', 'SR', 'ST', 'SV', 'SZ', 'TD', 'TG', 'TH', 'TJ', 'TL', 'TN', 'TO', 'TR', 'TT', 'TV', 'TW', 'TZ', 'UA', 'UG', 'US', 'UY', 'UZ', 'VC', 'VE', 'VN', 'VU', 'WS', 'XK', 'ZA', 'ZM', 'ZW'], 'disc_number': 1, 'duration_ms': 218000, 'explicit': False, 'external_urls': {'spotify': 'https://open.spotify.com/track/7K6UUIAOgwZj3c1t6DefdY'}, 'href': 'https://api.spotify.com/v1/tracks/7K6UUIAOgwZj3c1t6DefdY', 'id': '7K6UUIAOgwZj3c1t6DefdY', 'is_local': False, 'name': 'What Love Is', 'preview_url': 'https://p.scdn.co/mp3-preview/bba55de782ba8ca1a2dc1c2df62fad6dfb4dcdcf?cid=b60b5dc276ba4ef2bcd8afa267744726', 'track_number': 3, 'type': 'track', 'uri': 'spotify:track:7K6UUIAOgwZj3c1t6DefdY'}\n",
            "{'artists': [{'external_urls': {'spotify': 'https://open.spotify.com/artist/5ZbRDyTYX4HhXveONcZQn2'}, 'href': 'https://api.spotify.com/v1/artists/5ZbRDyTYX4HhXveONcZQn2', 'id': '5ZbRDyTYX4HhXveONcZQn2', 'name': 'Mystery Skulls', 'type': 'artist', 'uri': 'spotify:artist:5ZbRDyTYX4HhXveONcZQn2'}], 'available_markets': ['AD', 'AE', 'AG', 'AL', 'AM', 'AO', 'AR', 'AT', 'AU', 'AZ', 'BA', 'BB', 'BD', 'BE', 'BF', 'BG', 'BH', 'BI', 'BJ', 'BN', 'BO', 'BR', 'BS', 'BT', 'BW', 'BY', 'BZ', 'CA', 'CD', 'CG', 'CH', 'CI', 'CL', 'CM', 'CO', 'CR', 'CV', 'CW', 'CY', 'CZ', 'DE', 'DJ', 'DK', 'DM', 'DO', 'DZ', 'EC', 'EE', 'EG', 'ES', 'FI', 'FJ', 'FM', 'FR', 'GA', 'GB', 'GD', 'GE', 'GH', 'GM', 'GN', 'GQ', 'GR', 'GT', 'GW', 'GY', 'HK', 'HN', 'HR', 'HT', 'HU', 'ID', 'IE', 'IL', 'IN', 'IQ', 'IS', 'IT', 'JM', 'JO', 'JP', 'KE', 'KG', 'KH', 'KI', 'KM', 'KN', 'KR', 'KW', 'KZ', 'LA', 'LB', 'LC', 'LI', 'LK', 'LR', 'LS', 'LT', 'LU', 'LV', 'LY', 'MA', 'MC', 'MD', 'ME', 'MG', 'MH', 'MK', 'ML', 'MN', 'MO', 'MR', 'MT', 'MU', 'MV', 'MW', 'MX', 'MY', 'MZ', 'NA', 'NE', 'NG', 'NI', 'NL', 'NO', 'NP', 'NR', 'NZ', 'OM', 'PA', 'PE', 'PG', 'PH', 'PK', 'PL', 'PS', 'PT', 'PW', 'PY', 'QA', 'RO', 'RS', 'RU', 'RW', 'SA', 'SB', 'SC', 'SE', 'SG', 'SI', 'SK', 'SL', 'SM', 'SN', 'SR', 'ST', 'SV', 'SZ', 'TD', 'TG', 'TH', 'TJ', 'TL', 'TN', 'TO', 'TR', 'TT', 'TV', 'TW', 'TZ', 'UA', 'UG', 'US', 'UY', 'UZ', 'VC', 'VE', 'VN', 'VU', 'WS', 'XK', 'ZA', 'ZM', 'ZW'], 'disc_number': 1, 'duration_ms': 190952, 'explicit': False, 'external_urls': {'spotify': 'https://open.spotify.com/track/2j9JO1SCC21LIBQKzkffhk'}, 'href': 'https://api.spotify.com/v1/tracks/2j9JO1SCC21LIBQKzkffhk', 'id': '2j9JO1SCC21LIBQKzkffhk', 'is_local': False, 'name': 'Without You', 'preview_url': 'https://p.scdn.co/mp3-preview/9d537ad1d46ff17ac9afb4e400e6fdaa5bcb4d9c?cid=b60b5dc276ba4ef2bcd8afa267744726', 'track_number': 4, 'type': 'track', 'uri': 'spotify:track:2j9JO1SCC21LIBQKzkffhk'}\n",
            "{'artists': [{'external_urls': {'spotify': 'https://open.spotify.com/artist/5ZbRDyTYX4HhXveONcZQn2'}, 'href': 'https://api.spotify.com/v1/artists/5ZbRDyTYX4HhXveONcZQn2', 'id': '5ZbRDyTYX4HhXveONcZQn2', 'name': 'Mystery Skulls', 'type': 'artist', 'uri': 'spotify:artist:5ZbRDyTYX4HhXveONcZQn2'}], 'available_markets': ['AD', 'AE', 'AG', 'AL', 'AM', 'AO', 'AR', 'AT', 'AU', 'AZ', 'BA', 'BB', 'BD', 'BE', 'BF', 'BG', 'BH', 'BI', 'BJ', 'BN', 'BO', 'BR', 'BS', 'BT', 'BW', 'BY', 'BZ', 'CA', 'CD', 'CG', 'CH', 'CI', 'CL', 'CM', 'CO', 'CR', 'CV', 'CW', 'CY', 'CZ', 'DE', 'DJ', 'DK', 'DM', 'DO', 'DZ', 'EC', 'EE', 'EG', 'ES', 'FI', 'FJ', 'FM', 'FR', 'GA', 'GB', 'GD', 'GE', 'GH', 'GM', 'GN', 'GQ', 'GR', 'GT', 'GW', 'GY', 'HK', 'HN', 'HR', 'HT', 'HU', 'ID', 'IE', 'IL', 'IN', 'IQ', 'IS', 'IT', 'JM', 'JO', 'JP', 'KE', 'KG', 'KH', 'KI', 'KM', 'KN', 'KR', 'KW', 'KZ', 'LA', 'LB', 'LC', 'LI', 'LK', 'LR', 'LS', 'LT', 'LU', 'LV', 'LY', 'MA', 'MC', 'MD', 'ME', 'MG', 'MH', 'MK', 'ML', 'MN', 'MO', 'MR', 'MT', 'MU', 'MV', 'MW', 'MX', 'MY', 'MZ', 'NA', 'NE', 'NG', 'NI', 'NL', 'NO', 'NP', 'NR', 'NZ', 'OM', 'PA', 'PE', 'PG', 'PH', 'PK', 'PL', 'PS', 'PT', 'PW', 'PY', 'QA', 'RO', 'RS', 'RU', 'RW', 'SA', 'SB', 'SC', 'SE', 'SG', 'SI', 'SK', 'SL', 'SM', 'SN', 'SR', 'ST', 'SV', 'SZ', 'TD', 'TG', 'TH', 'TJ', 'TL', 'TN', 'TO', 'TR', 'TT', 'TV', 'TW', 'TZ', 'UA', 'UG', 'US', 'UY', 'UZ', 'VC', 'VE', 'VN', 'VU', 'WS', 'XK', 'ZA', 'ZM', 'ZW'], 'disc_number': 1, 'duration_ms': 176146, 'explicit': False, 'external_urls': {'spotify': 'https://open.spotify.com/track/5NptfMnPBChKktA5Z66faw'}, 'href': 'https://api.spotify.com/v1/tracks/5NptfMnPBChKktA5Z66faw', 'id': '5NptfMnPBChKktA5Z66faw', 'is_local': False, 'name': 'Enemy', 'preview_url': 'https://p.scdn.co/mp3-preview/517a54b74ac3e9d64c29e42e574b336a87f6eff6?cid=b60b5dc276ba4ef2bcd8afa267744726', 'track_number': 5, 'type': 'track', 'uri': 'spotify:track:5NptfMnPBChKktA5Z66faw'}\n",
            "{'artists': [{'external_urls': {'spotify': 'https://open.spotify.com/artist/5ZbRDyTYX4HhXveONcZQn2'}, 'href': 'https://api.spotify.com/v1/artists/5ZbRDyTYX4HhXveONcZQn2', 'id': '5ZbRDyTYX4HhXveONcZQn2', 'name': 'Mystery Skulls', 'type': 'artist', 'uri': 'spotify:artist:5ZbRDyTYX4HhXveONcZQn2'}], 'available_markets': ['AD', 'AE', 'AG', 'AL', 'AM', 'AO', 'AR', 'AT', 'AU', 'AZ', 'BA', 'BB', 'BD', 'BE', 'BF', 'BG', 'BH', 'BI', 'BJ', 'BN', 'BO', 'BR', 'BS', 'BT', 'BW', 'BY', 'BZ', 'CA', 'CD', 'CG', 'CH', 'CI', 'CL', 'CM', 'CO', 'CR', 'CV', 'CW', 'CY', 'CZ', 'DE', 'DJ', 'DK', 'DM', 'DO', 'DZ', 'EC', 'EE', 'EG', 'ES', 'FI', 'FJ', 'FM', 'FR', 'GA', 'GB', 'GD', 'GE', 'GH', 'GM', 'GN', 'GQ', 'GR', 'GT', 'GW', 'GY', 'HK', 'HN', 'HR', 'HT', 'HU', 'ID', 'IE', 'IL', 'IN', 'IQ', 'IS', 'IT', 'JM', 'JO', 'JP', 'KE', 'KG', 'KH', 'KI', 'KM', 'KN', 'KR', 'KW', 'KZ', 'LA', 'LB', 'LC', 'LI', 'LK', 'LR', 'LS', 'LT', 'LU', 'LV', 'LY', 'MA', 'MC', 'MD', 'ME', 'MG', 'MH', 'MK', 'ML', 'MN', 'MO', 'MR', 'MT', 'MU', 'MV', 'MW', 'MX', 'MY', 'MZ', 'NA', 'NE', 'NG', 'NI', 'NL', 'NO', 'NP', 'NR', 'NZ', 'OM', 'PA', 'PE', 'PG', 'PH', 'PK', 'PL', 'PS', 'PT', 'PW', 'PY', 'QA', 'RO', 'RS', 'RU', 'RW', 'SA', 'SB', 'SC', 'SE', 'SG', 'SI', 'SK', 'SL', 'SM', 'SN', 'SR', 'ST', 'SV', 'SZ', 'TD', 'TG', 'TH', 'TJ', 'TL', 'TN', 'TO', 'TR', 'TT', 'TV', 'TW', 'TZ', 'UA', 'UG', 'US', 'UY', 'UZ', 'VC', 'VE', 'VN', 'VU', 'WS', 'XK', 'ZA', 'ZM', 'ZW'], 'disc_number': 1, 'duration_ms': 180000, 'explicit': False, 'external_urls': {'spotify': 'https://open.spotify.com/track/3760Go7UI4B8hgILy8c1Nt'}, 'href': 'https://api.spotify.com/v1/tracks/3760Go7UI4B8hgILy8c1Nt', 'id': '3760Go7UI4B8hgILy8c1Nt', 'is_local': False, 'name': 'Get In The Car', 'preview_url': 'https://p.scdn.co/mp3-preview/df349a2db0db301fc71174c5877f6bfd9cf6a496?cid=b60b5dc276ba4ef2bcd8afa267744726', 'track_number': 6, 'type': 'track', 'uri': 'spotify:track:3760Go7UI4B8hgILy8c1Nt'}\n",
            "{'artists': [{'external_urls': {'spotify': 'https://open.spotify.com/artist/5ZbRDyTYX4HhXveONcZQn2'}, 'href': 'https://api.spotify.com/v1/artists/5ZbRDyTYX4HhXveONcZQn2', 'id': '5ZbRDyTYX4HhXveONcZQn2', 'name': 'Mystery Skulls', 'type': 'artist', 'uri': 'spotify:artist:5ZbRDyTYX4HhXveONcZQn2'}], 'available_markets': ['AD', 'AE', 'AG', 'AL', 'AM', 'AO', 'AR', 'AT', 'AU', 'AZ', 'BA', 'BB', 'BD', 'BE', 'BF', 'BG', 'BH', 'BI', 'BJ', 'BN', 'BO', 'BR', 'BS', 'BT', 'BW', 'BY', 'BZ', 'CA', 'CD', 'CG', 'CH', 'CI', 'CL', 'CM', 'CO', 'CR', 'CV', 'CW', 'CY', 'CZ', 'DE', 'DJ', 'DK', 'DM', 'DO', 'DZ', 'EC', 'EE', 'EG', 'ES', 'FI', 'FJ', 'FM', 'FR', 'GA', 'GB', 'GD', 'GE', 'GH', 'GM', 'GN', 'GQ', 'GR', 'GT', 'GW', 'GY', 'HK', 'HN', 'HR', 'HT', 'HU', 'ID', 'IE', 'IL', 'IN', 'IQ', 'IS', 'IT', 'JM', 'JO', 'JP', 'KE', 'KG', 'KH', 'KI', 'KM', 'KN', 'KR', 'KW', 'KZ', 'LA', 'LB', 'LC', 'LI', 'LK', 'LR', 'LS', 'LT', 'LU', 'LV', 'LY', 'MA', 'MC', 'MD', 'ME', 'MG', 'MH', 'MK', 'ML', 'MN', 'MO', 'MR', 'MT', 'MU', 'MV', 'MW', 'MX', 'MY', 'MZ', 'NA', 'NE', 'NG', 'NI', 'NL', 'NO', 'NP', 'NR', 'NZ', 'OM', 'PA', 'PE', 'PG', 'PH', 'PK', 'PL', 'PS', 'PT', 'PW', 'PY', 'QA', 'RO', 'RS', 'RU', 'RW', 'SA', 'SB', 'SC', 'SE', 'SG', 'SI', 'SK', 'SL', 'SM', 'SN', 'SR', 'ST', 'SV', 'SZ', 'TD', 'TG', 'TH', 'TJ', 'TL', 'TN', 'TO', 'TR', 'TT', 'TV', 'TW', 'TZ', 'UA', 'UG', 'US', 'UY', 'UZ', 'VC', 'VE', 'VN', 'VU', 'WS', 'XK', 'ZA', 'ZM', 'ZW'], 'disc_number': 1, 'duration_ms': 198000, 'explicit': False, 'external_urls': {'spotify': 'https://open.spotify.com/track/7JXkMlfh2lXZ2tJ7UTRjtH'}, 'href': 'https://api.spotify.com/v1/tracks/7JXkMlfh2lXZ2tJ7UTRjtH', 'id': '7JXkMlfh2lXZ2tJ7UTRjtH', 'is_local': False, 'name': 'Back To Life', 'preview_url': 'https://p.scdn.co/mp3-preview/87269a82fd810afd87a44b0eadaac747468dcdd4?cid=b60b5dc276ba4ef2bcd8afa267744726', 'track_number': 7, 'type': 'track', 'uri': 'spotify:track:7JXkMlfh2lXZ2tJ7UTRjtH'}\n",
            "{'artists': [{'external_urls': {'spotify': 'https://open.spotify.com/artist/5ZbRDyTYX4HhXveONcZQn2'}, 'href': 'https://api.spotify.com/v1/artists/5ZbRDyTYX4HhXveONcZQn2', 'id': '5ZbRDyTYX4HhXveONcZQn2', 'name': 'Mystery Skulls', 'type': 'artist', 'uri': 'spotify:artist:5ZbRDyTYX4HhXveONcZQn2'}, {'external_urls': {'spotify': 'https://open.spotify.com/artist/6nLpD6tWBhXIbNxVKJC1fH'}, 'href': 'https://api.spotify.com/v1/artists/6nLpD6tWBhXIbNxVKJC1fH', 'id': '6nLpD6tWBhXIbNxVKJC1fH', 'name': 'Snowblood', 'type': 'artist', 'uri': 'spotify:artist:6nLpD6tWBhXIbNxVKJC1fH'}], 'available_markets': ['AD', 'AE', 'AG', 'AL', 'AM', 'AO', 'AR', 'AT', 'AU', 'AZ', 'BA', 'BB', 'BD', 'BE', 'BF', 'BG', 'BH', 'BI', 'BJ', 'BN', 'BO', 'BR', 'BS', 'BT', 'BW', 'BY', 'BZ', 'CA', 'CD', 'CG', 'CH', 'CI', 'CL', 'CM', 'CO', 'CR', 'CV', 'CW', 'CY', 'CZ', 'DE', 'DJ', 'DK', 'DM', 'DO', 'DZ', 'EC', 'EE', 'EG', 'ES', 'FI', 'FJ', 'FM', 'FR', 'GA', 'GB', 'GD', 'GE', 'GH', 'GM', 'GN', 'GQ', 'GR', 'GT', 'GW', 'GY', 'HK', 'HN', 'HR', 'HT', 'HU', 'ID', 'IE', 'IL', 'IN', 'IQ', 'IS', 'IT', 'JM', 'JO', 'JP', 'KE', 'KG', 'KH', 'KI', 'KM', 'KN', 'KR', 'KW', 'KZ', 'LA', 'LB', 'LC', 'LI', 'LK', 'LR', 'LS', 'LT', 'LU', 'LV', 'LY', 'MA', 'MC', 'MD', 'ME', 'MG', 'MH', 'MK', 'ML', 'MN', 'MO', 'MR', 'MT', 'MU', 'MV', 'MW', 'MX', 'MY', 'MZ', 'NA', 'NE', 'NG', 'NI', 'NL', 'NO', 'NP', 'NR', 'NZ', 'OM', 'PA', 'PE', 'PG', 'PH', 'PK', 'PL', 'PS', 'PT', 'PW', 'PY', 'QA', 'RO', 'RS', 'RU', 'RW', 'SA', 'SB', 'SC', 'SE', 'SG', 'SI', 'SK', 'SL', 'SM', 'SN', 'SR', 'ST', 'SV', 'SZ', 'TD', 'TG', 'TH', 'TJ', 'TL', 'TN', 'TO', 'TR', 'TT', 'TV', 'TW', 'TZ', 'UA', 'UG', 'US', 'UY', 'UZ', 'VC', 'VE', 'VN', 'VU', 'WS', 'XK', 'ZA', 'ZM', 'ZW'], 'disc_number': 1, 'duration_ms': 240125, 'explicit': False, 'external_urls': {'spotify': 'https://open.spotify.com/track/7bJl4FKN2Hvj3SCQRJWWFa'}, 'href': 'https://api.spotify.com/v1/tracks/7bJl4FKN2Hvj3SCQRJWWFa', 'id': '7bJl4FKN2Hvj3SCQRJWWFa', 'is_local': False, 'name': 'Dying For You', 'preview_url': 'https://p.scdn.co/mp3-preview/896bbff410feb3cb2a076eaca0994b65f75b462c?cid=b60b5dc276ba4ef2bcd8afa267744726', 'track_number': 8, 'type': 'track', 'uri': 'spotify:track:7bJl4FKN2Hvj3SCQRJWWFa'}\n",
            "{'artists': [{'external_urls': {'spotify': 'https://open.spotify.com/artist/5ZbRDyTYX4HhXveONcZQn2'}, 'href': 'https://api.spotify.com/v1/artists/5ZbRDyTYX4HhXveONcZQn2', 'id': '5ZbRDyTYX4HhXveONcZQn2', 'name': 'Mystery Skulls', 'type': 'artist', 'uri': 'spotify:artist:5ZbRDyTYX4HhXveONcZQn2'}], 'available_markets': ['AD', 'AE', 'AG', 'AL', 'AM', 'AO', 'AR', 'AT', 'AU', 'AZ', 'BA', 'BB', 'BD', 'BE', 'BF', 'BG', 'BH', 'BI', 'BJ', 'BN', 'BO', 'BR', 'BS', 'BT', 'BW', 'BY', 'BZ', 'CA', 'CD', 'CG', 'CH', 'CI', 'CL', 'CM', 'CO', 'CR', 'CV', 'CW', 'CY', 'CZ', 'DE', 'DJ', 'DK', 'DM', 'DO', 'DZ', 'EC', 'EE', 'EG', 'ES', 'FI', 'FJ', 'FM', 'FR', 'GA', 'GB', 'GD', 'GE', 'GH', 'GM', 'GN', 'GQ', 'GR', 'GT', 'GW', 'GY', 'HK', 'HN', 'HR', 'HT', 'HU', 'ID', 'IE', 'IL', 'IN', 'IQ', 'IS', 'IT', 'JM', 'JO', 'JP', 'KE', 'KG', 'KH', 'KI', 'KM', 'KN', 'KR', 'KW', 'KZ', 'LA', 'LB', 'LC', 'LI', 'LK', 'LR', 'LS', 'LT', 'LU', 'LV', 'LY', 'MA', 'MC', 'MD', 'ME', 'MG', 'MH', 'MK', 'ML', 'MN', 'MO', 'MR', 'MT', 'MU', 'MV', 'MW', 'MX', 'MY', 'MZ', 'NA', 'NE', 'NG', 'NI', 'NL', 'NO', 'NP', 'NR', 'NZ', 'OM', 'PA', 'PE', 'PG', 'PH', 'PK', 'PL', 'PS', 'PT', 'PW', 'PY', 'QA', 'RO', 'RS', 'RU', 'RW', 'SA', 'SB', 'SC', 'SE', 'SG', 'SI', 'SK', 'SL', 'SM', 'SN', 'SR', 'ST', 'SV', 'SZ', 'TD', 'TG', 'TH', 'TJ', 'TL', 'TN', 'TO', 'TR', 'TT', 'TV', 'TW', 'TZ', 'UA', 'UG', 'US', 'UY', 'UZ', 'VC', 'VE', 'VN', 'VU', 'WS', 'XK', 'ZA', 'ZM', 'ZW'], 'disc_number': 1, 'duration_ms': 242000, 'explicit': False, 'external_urls': {'spotify': 'https://open.spotify.com/track/6rUKAFuGr9OJvgHjKppqEG'}, 'href': 'https://api.spotify.com/v1/tracks/6rUKAFuGr9OJvgHjKppqEG', 'id': '6rUKAFuGr9OJvgHjKppqEG', 'is_local': False, 'name': 'In My Dreams', 'preview_url': 'https://p.scdn.co/mp3-preview/e74b78d584d405eb82c7652d911dfb4ff8bc2438?cid=b60b5dc276ba4ef2bcd8afa267744726', 'track_number': 9, 'type': 'track', 'uri': 'spotify:track:6rUKAFuGr9OJvgHjKppqEG'}\n",
            "{'artists': [{'external_urls': {'spotify': 'https://open.spotify.com/artist/5ZbRDyTYX4HhXveONcZQn2'}, 'href': 'https://api.spotify.com/v1/artists/5ZbRDyTYX4HhXveONcZQn2', 'id': '5ZbRDyTYX4HhXveONcZQn2', 'name': 'Mystery Skulls', 'type': 'artist', 'uri': 'spotify:artist:5ZbRDyTYX4HhXveONcZQn2'}], 'available_markets': ['AD', 'AE', 'AG', 'AL', 'AM', 'AO', 'AR', 'AT', 'AU', 'AZ', 'BA', 'BB', 'BD', 'BE', 'BF', 'BG', 'BH', 'BI', 'BJ', 'BN', 'BO', 'BR', 'BS', 'BT', 'BW', 'BY', 'BZ', 'CA', 'CD', 'CG', 'CH', 'CI', 'CL', 'CM', 'CO', 'CR', 'CV', 'CW', 'CY', 'CZ', 'DE', 'DJ', 'DK', 'DM', 'DO', 'DZ', 'EC', 'EE', 'EG', 'ES', 'FI', 'FJ', 'FM', 'FR', 'GA', 'GB', 'GD', 'GE', 'GH', 'GM', 'GN', 'GQ', 'GR', 'GT', 'GW', 'GY', 'HK', 'HN', 'HR', 'HT', 'HU', 'ID', 'IE', 'IL', 'IN', 'IQ', 'IS', 'IT', 'JM', 'JO', 'JP', 'KE', 'KG', 'KH', 'KI', 'KM', 'KN', 'KR', 'KW', 'KZ', 'LA', 'LB', 'LC', 'LI', 'LK', 'LR', 'LS', 'LT', 'LU', 'LV', 'LY', 'MA', 'MC', 'MD', 'ME', 'MG', 'MH', 'MK', 'ML', 'MN', 'MO', 'MR', 'MT', 'MU', 'MV', 'MW', 'MX', 'MY', 'MZ', 'NA', 'NE', 'NG', 'NI', 'NL', 'NO', 'NP', 'NR', 'NZ', 'OM', 'PA', 'PE', 'PG', 'PH', 'PK', 'PL', 'PS', 'PT', 'PW', 'PY', 'QA', 'RO', 'RS', 'RU', 'RW', 'SA', 'SB', 'SC', 'SE', 'SG', 'SI', 'SK', 'SL', 'SM', 'SN', 'SR', 'ST', 'SV', 'SZ', 'TD', 'TG', 'TH', 'TJ', 'TL', 'TN', 'TO', 'TR', 'TT', 'TV', 'TW', 'TZ', 'UA', 'UG', 'US', 'UY', 'UZ', 'VC', 'VE', 'VN', 'VU', 'WS', 'XK', 'ZA', 'ZM', 'ZW'], 'disc_number': 1, 'duration_ms': 230000, 'explicit': True, 'external_urls': {'spotify': 'https://open.spotify.com/track/1bq7TmGGfBoiQ0YlUGggnp'}, 'href': 'https://api.spotify.com/v1/tracks/1bq7TmGGfBoiQ0YlUGggnp', 'id': '1bq7TmGGfBoiQ0YlUGggnp', 'is_local': False, 'name': 'Everything and More', 'preview_url': 'https://p.scdn.co/mp3-preview/bbeef2e5409fe30082de1102363b37f1c67b2439?cid=b60b5dc276ba4ef2bcd8afa267744726', 'track_number': 10, 'type': 'track', 'uri': 'spotify:track:1bq7TmGGfBoiQ0YlUGggnp'}\n",
            "{'artists': [{'external_urls': {'spotify': 'https://open.spotify.com/artist/5ZbRDyTYX4HhXveONcZQn2'}, 'href': 'https://api.spotify.com/v1/artists/5ZbRDyTYX4HhXveONcZQn2', 'id': '5ZbRDyTYX4HhXveONcZQn2', 'name': 'Mystery Skulls', 'type': 'artist', 'uri': 'spotify:artist:5ZbRDyTYX4HhXveONcZQn2'}], 'available_markets': ['AD', 'AE', 'AG', 'AL', 'AM', 'AO', 'AR', 'AT', 'AU', 'AZ', 'BA', 'BB', 'BD', 'BE', 'BF', 'BG', 'BH', 'BI', 'BJ', 'BN', 'BO', 'BR', 'BS', 'BT', 'BW', 'BY', 'BZ', 'CA', 'CD', 'CG', 'CH', 'CI', 'CL', 'CM', 'CO', 'CR', 'CV', 'CW', 'CY', 'CZ', 'DE', 'DJ', 'DK', 'DM', 'DO', 'DZ', 'EC', 'EE', 'EG', 'ES', 'FI', 'FJ', 'FM', 'FR', 'GA', 'GB', 'GD', 'GE', 'GH', 'GM', 'GN', 'GQ', 'GR', 'GT', 'GW', 'GY', 'HK', 'HN', 'HR', 'HT', 'HU', 'ID', 'IE', 'IL', 'IN', 'IQ', 'IS', 'IT', 'JM', 'JO', 'JP', 'KE', 'KG', 'KH', 'KI', 'KM', 'KN', 'KR', 'KW', 'KZ', 'LA', 'LB', 'LC', 'LI', 'LK', 'LR', 'LS', 'LT', 'LU', 'LV', 'LY', 'MA', 'MC', 'MD', 'ME', 'MG', 'MH', 'MK', 'ML', 'MN', 'MO', 'MR', 'MT', 'MU', 'MV', 'MW', 'MX', 'MY', 'MZ', 'NA', 'NE', 'NG', 'NI', 'NL', 'NO', 'NP', 'NR', 'NZ', 'OM', 'PA', 'PE', 'PG', 'PH', 'PK', 'PL', 'PS', 'PT', 'PW', 'PY', 'QA', 'RO', 'RS', 'RU', 'RW', 'SA', 'SB', 'SC', 'SE', 'SG', 'SI', 'SK', 'SL', 'SM', 'SN', 'SR', 'ST', 'SV', 'SZ', 'TD', 'TG', 'TH', 'TJ', 'TL', 'TN', 'TO', 'TR', 'TT', 'TV', 'TW', 'TZ', 'UA', 'UG', 'US', 'UY', 'UZ', 'VC', 'VE', 'VN', 'VU', 'WS', 'XK', 'ZA', 'ZM', 'ZW'], 'disc_number': 1, 'duration_ms': 185000, 'explicit': True, 'external_urls': {'spotify': 'https://open.spotify.com/track/3Ze1UU1Jb7wkzcWkiOUYCN'}, 'href': 'https://api.spotify.com/v1/tracks/3Ze1UU1Jb7wkzcWkiOUYCN', 'id': '3Ze1UU1Jb7wkzcWkiOUYCN', 'is_local': False, 'name': 'Stronger', 'preview_url': 'https://p.scdn.co/mp3-preview/06b44b2f485667c370c518a94e20ec2899d739e4?cid=b60b5dc276ba4ef2bcd8afa267744726', 'track_number': 11, 'type': 'track', 'uri': 'spotify:track:3Ze1UU1Jb7wkzcWkiOUYCN'}\n",
            "{'artists': [{'external_urls': {'spotify': 'https://open.spotify.com/artist/5ZbRDyTYX4HhXveONcZQn2'}, 'href': 'https://api.spotify.com/v1/artists/5ZbRDyTYX4HhXveONcZQn2', 'id': '5ZbRDyTYX4HhXveONcZQn2', 'name': 'Mystery Skulls', 'type': 'artist', 'uri': 'spotify:artist:5ZbRDyTYX4HhXveONcZQn2'}], 'available_markets': ['AD', 'AE', 'AG', 'AL', 'AM', 'AO', 'AR', 'AT', 'AU', 'AZ', 'BA', 'BB', 'BD', 'BE', 'BF', 'BG', 'BH', 'BI', 'BJ', 'BN', 'BO', 'BR', 'BS', 'BT', 'BW', 'BY', 'BZ', 'CA', 'CD', 'CG', 'CH', 'CI', 'CL', 'CM', 'CO', 'CR', 'CV', 'CW', 'CY', 'CZ', 'DE', 'DJ', 'DK', 'DM', 'DO', 'DZ', 'EC', 'EE', 'EG', 'ES', 'FI', 'FJ', 'FM', 'FR', 'GA', 'GB', 'GD', 'GE', 'GH', 'GM', 'GN', 'GQ', 'GR', 'GT', 'GW', 'GY', 'HK', 'HN', 'HR', 'HT', 'HU', 'ID', 'IE', 'IL', 'IN', 'IQ', 'IS', 'IT', 'JM', 'JO', 'JP', 'KE', 'KG', 'KH', 'KI', 'KM', 'KN', 'KR', 'KW', 'KZ', 'LA', 'LB', 'LC', 'LI', 'LK', 'LR', 'LS', 'LT', 'LU', 'LV', 'LY', 'MA', 'MC', 'MD', 'ME', 'MG', 'MH', 'MK', 'ML', 'MN', 'MO', 'MR', 'MT', 'MU', 'MV', 'MW', 'MX', 'MY', 'MZ', 'NA', 'NE', 'NG', 'NI', 'NL', 'NO', 'NP', 'NR', 'NZ', 'OM', 'PA', 'PE', 'PG', 'PH', 'PK', 'PL', 'PS', 'PT', 'PW', 'PY', 'QA', 'RO', 'RS', 'RU', 'RW', 'SA', 'SB', 'SC', 'SE', 'SG', 'SI', 'SK', 'SL', 'SM', 'SN', 'SR', 'ST', 'SV', 'SZ', 'TD', 'TG', 'TH', 'TJ', 'TL', 'TN', 'TO', 'TR', 'TT', 'TV', 'TW', 'TZ', 'UA', 'UG', 'US', 'UY', 'UZ', 'VC', 'VE', 'VN', 'VU', 'WS', 'XK', 'ZA', 'ZM', 'ZW'], 'disc_number': 1, 'duration_ms': 157948, 'explicit': False, 'external_urls': {'spotify': 'https://open.spotify.com/track/3oQl9l5jJC4aMI7c9JEkJJ'}, 'href': 'https://api.spotify.com/v1/tracks/3oQl9l5jJC4aMI7c9JEkJJ', 'id': '3oQl9l5jJC4aMI7c9JEkJJ', 'is_local': False, 'name': 'Its Mine', 'preview_url': 'https://p.scdn.co/mp3-preview/99922dfa051647ed5c7dd020d65abc2ac1386795?cid=b60b5dc276ba4ef2bcd8afa267744726', 'track_number': 12, 'type': 'track', 'uri': 'spotify:track:3oQl9l5jJC4aMI7c9JEkJJ'}\n"
          ]
        }
      ]
    },
    {
      "cell_type": "code",
      "source": [
        "type(sample_tracks[0])"
      ],
      "metadata": {
        "colab": {
          "base_uri": "https://localhost:8080/"
        },
        "id": "oT6wbkdfjHRK",
        "outputId": "afb1102d-0a46-4297-8eae-9df0bdc06d9b"
      },
      "execution_count": 28,
      "outputs": [
        {
          "output_type": "execute_result",
          "data": {
            "text/plain": [
              "dict"
            ]
          },
          "metadata": {},
          "execution_count": 28
        }
      ]
    },
    {
      "cell_type": "code",
      "source": [
        "for key,value in sample_tracks[0].items():\n",
        "  print(key,\" // \", value)"
      ],
      "metadata": {
        "colab": {
          "base_uri": "https://localhost:8080/"
        },
        "id": "MrOsy4SYjN54",
        "outputId": "cc166658-739c-4e07-edd0-e511963fb78b"
      },
      "execution_count": 29,
      "outputs": [
        {
          "output_type": "stream",
          "name": "stdout",
          "text": [
            "artists  //  [{'external_urls': {'spotify': 'https://open.spotify.com/artist/5ZbRDyTYX4HhXveONcZQn2'}, 'href': 'https://api.spotify.com/v1/artists/5ZbRDyTYX4HhXveONcZQn2', 'id': '5ZbRDyTYX4HhXveONcZQn2', 'name': 'Mystery Skulls', 'type': 'artist', 'uri': 'spotify:artist:5ZbRDyTYX4HhXveONcZQn2'}]\n",
            "available_markets  //  ['AD', 'AE', 'AG', 'AL', 'AM', 'AO', 'AR', 'AT', 'AU', 'AZ', 'BA', 'BB', 'BD', 'BE', 'BF', 'BG', 'BH', 'BI', 'BJ', 'BN', 'BO', 'BR', 'BS', 'BT', 'BW', 'BY', 'BZ', 'CA', 'CD', 'CG', 'CH', 'CI', 'CL', 'CM', 'CO', 'CR', 'CV', 'CW', 'CY', 'CZ', 'DE', 'DJ', 'DK', 'DM', 'DO', 'DZ', 'EC', 'EE', 'EG', 'ES', 'FI', 'FJ', 'FM', 'FR', 'GA', 'GB', 'GD', 'GE', 'GH', 'GM', 'GN', 'GQ', 'GR', 'GT', 'GW', 'GY', 'HK', 'HN', 'HR', 'HT', 'HU', 'ID', 'IE', 'IL', 'IN', 'IQ', 'IS', 'IT', 'JM', 'JO', 'JP', 'KE', 'KG', 'KH', 'KI', 'KM', 'KN', 'KR', 'KW', 'KZ', 'LA', 'LB', 'LC', 'LI', 'LK', 'LR', 'LS', 'LT', 'LU', 'LV', 'LY', 'MA', 'MC', 'MD', 'ME', 'MG', 'MH', 'MK', 'ML', 'MN', 'MO', 'MR', 'MT', 'MU', 'MV', 'MW', 'MX', 'MY', 'MZ', 'NA', 'NE', 'NG', 'NI', 'NL', 'NO', 'NP', 'NR', 'NZ', 'OM', 'PA', 'PE', 'PG', 'PH', 'PK', 'PL', 'PS', 'PT', 'PW', 'PY', 'QA', 'RO', 'RS', 'RU', 'RW', 'SA', 'SB', 'SC', 'SE', 'SG', 'SI', 'SK', 'SL', 'SM', 'SN', 'SR', 'ST', 'SV', 'SZ', 'TD', 'TG', 'TH', 'TJ', 'TL', 'TN', 'TO', 'TR', 'TT', 'TV', 'TW', 'TZ', 'UA', 'UG', 'US', 'UY', 'UZ', 'VC', 'VE', 'VN', 'VU', 'WS', 'XK', 'ZA', 'ZM', 'ZW']\n",
            "disc_number  //  1\n",
            "duration_ms  //  108631\n",
            "explicit  //  False\n",
            "external_urls  //  {'spotify': 'https://open.spotify.com/track/21paFxL9gudhwBBYoZWah1'}\n",
            "href  //  https://api.spotify.com/v1/tracks/21paFxL9gudhwBBYoZWah1\n",
            "id  //  21paFxL9gudhwBBYoZWah1\n",
            "is_local  //  False\n",
            "name  //  Memory\n",
            "preview_url  //  https://p.scdn.co/mp3-preview/e55ba4182a045603ffe7aea38eea5eaed1f837fa?cid=b60b5dc276ba4ef2bcd8afa267744726\n",
            "track_number  //  1\n",
            "type  //  track\n",
            "uri  //  spotify:track:21paFxL9gudhwBBYoZWah1\n"
          ]
        }
      ]
    },
    {
      "cell_type": "code",
      "source": [
        "import pandas as pd"
      ],
      "metadata": {
        "id": "EIjDZsTtkLBe"
      },
      "execution_count": 30,
      "outputs": []
    },
    {
      "cell_type": "code",
      "source": [
        "tracks = {\"name\": [], \"duration_ms\": [], \"track_id\": [], \"track_uri\": []}\n",
        "for i in sample_tracks:\n",
        "  tracks[\"name\"].append(i[\"name\"])\n",
        "  tracks[\"duration_ms\"].append(i[\"duration_ms\"])\n",
        "  tracks[\"track_id\"].append(i[\"id\"])\n",
        "  tracks[\"track_uri\"].append(i[\"uri\"])\n",
        "\n",
        "tracks"
      ],
      "metadata": {
        "colab": {
          "base_uri": "https://localhost:8080/"
        },
        "id": "pRnWRdvYlS_k",
        "outputId": "40ce34ac-e2fc-4e64-ccdc-5212ed788765"
      },
      "execution_count": 31,
      "outputs": [
        {
          "output_type": "execute_result",
          "data": {
            "text/plain": [
              "{'duration_ms': [108631,\n",
              "  157250,\n",
              "  218000,\n",
              "  190952,\n",
              "  176146,\n",
              "  180000,\n",
              "  198000,\n",
              "  240125,\n",
              "  242000,\n",
              "  230000,\n",
              "  185000,\n",
              "  157948],\n",
              " 'name': ['Memory',\n",
              "  \"Don't Fuck With My Money\",\n",
              "  'What Love Is',\n",
              "  'Without You',\n",
              "  'Enemy',\n",
              "  'Get In The Car',\n",
              "  'Back To Life',\n",
              "  'Dying For You',\n",
              "  'In My Dreams',\n",
              "  'Everything and More',\n",
              "  'Stronger',\n",
              "  'Its Mine'],\n",
              " 'track_id': ['21paFxL9gudhwBBYoZWah1',\n",
              "  '6fecxwRD74xNT3XRjREIiB',\n",
              "  '7K6UUIAOgwZj3c1t6DefdY',\n",
              "  '2j9JO1SCC21LIBQKzkffhk',\n",
              "  '5NptfMnPBChKktA5Z66faw',\n",
              "  '3760Go7UI4B8hgILy8c1Nt',\n",
              "  '7JXkMlfh2lXZ2tJ7UTRjtH',\n",
              "  '7bJl4FKN2Hvj3SCQRJWWFa',\n",
              "  '6rUKAFuGr9OJvgHjKppqEG',\n",
              "  '1bq7TmGGfBoiQ0YlUGggnp',\n",
              "  '3Ze1UU1Jb7wkzcWkiOUYCN',\n",
              "  '3oQl9l5jJC4aMI7c9JEkJJ'],\n",
              " 'track_uri': ['spotify:track:21paFxL9gudhwBBYoZWah1',\n",
              "  'spotify:track:6fecxwRD74xNT3XRjREIiB',\n",
              "  'spotify:track:7K6UUIAOgwZj3c1t6DefdY',\n",
              "  'spotify:track:2j9JO1SCC21LIBQKzkffhk',\n",
              "  'spotify:track:5NptfMnPBChKktA5Z66faw',\n",
              "  'spotify:track:3760Go7UI4B8hgILy8c1Nt',\n",
              "  'spotify:track:7JXkMlfh2lXZ2tJ7UTRjtH',\n",
              "  'spotify:track:7bJl4FKN2Hvj3SCQRJWWFa',\n",
              "  'spotify:track:6rUKAFuGr9OJvgHjKppqEG',\n",
              "  'spotify:track:1bq7TmGGfBoiQ0YlUGggnp',\n",
              "  'spotify:track:3Ze1UU1Jb7wkzcWkiOUYCN',\n",
              "  'spotify:track:3oQl9l5jJC4aMI7c9JEkJJ']}"
            ]
          },
          "metadata": {},
          "execution_count": 31
        }
      ]
    },
    {
      "cell_type": "code",
      "source": [
        "album_frame = pd.DataFrame(tracks) \n",
        "album_frame"
      ],
      "metadata": {
        "colab": {
          "base_uri": "https://localhost:8080/",
          "height": 426
        },
        "id": "D3yx6am1ndCl",
        "outputId": "8742cbdf-1197-4241-bcac-f04f61237e64"
      },
      "execution_count": 32,
      "outputs": [
        {
          "output_type": "execute_result",
          "data": {
            "text/html": [
              "\n",
              "  <div id=\"df-adcaaace-ba10-42d5-b6d2-9871cba79ee8\">\n",
              "    <div class=\"colab-df-container\">\n",
              "      <div>\n",
              "<style scoped>\n",
              "    .dataframe tbody tr th:only-of-type {\n",
              "        vertical-align: middle;\n",
              "    }\n",
              "\n",
              "    .dataframe tbody tr th {\n",
              "        vertical-align: top;\n",
              "    }\n",
              "\n",
              "    .dataframe thead th {\n",
              "        text-align: right;\n",
              "    }\n",
              "</style>\n",
              "<table border=\"1\" class=\"dataframe\">\n",
              "  <thead>\n",
              "    <tr style=\"text-align: right;\">\n",
              "      <th></th>\n",
              "      <th>name</th>\n",
              "      <th>duration_ms</th>\n",
              "      <th>track_id</th>\n",
              "      <th>track_uri</th>\n",
              "    </tr>\n",
              "  </thead>\n",
              "  <tbody>\n",
              "    <tr>\n",
              "      <th>0</th>\n",
              "      <td>Memory</td>\n",
              "      <td>108631</td>\n",
              "      <td>21paFxL9gudhwBBYoZWah1</td>\n",
              "      <td>spotify:track:21paFxL9gudhwBBYoZWah1</td>\n",
              "    </tr>\n",
              "    <tr>\n",
              "      <th>1</th>\n",
              "      <td>Don't Fuck With My Money</td>\n",
              "      <td>157250</td>\n",
              "      <td>6fecxwRD74xNT3XRjREIiB</td>\n",
              "      <td>spotify:track:6fecxwRD74xNT3XRjREIiB</td>\n",
              "    </tr>\n",
              "    <tr>\n",
              "      <th>2</th>\n",
              "      <td>What Love Is</td>\n",
              "      <td>218000</td>\n",
              "      <td>7K6UUIAOgwZj3c1t6DefdY</td>\n",
              "      <td>spotify:track:7K6UUIAOgwZj3c1t6DefdY</td>\n",
              "    </tr>\n",
              "    <tr>\n",
              "      <th>3</th>\n",
              "      <td>Without You</td>\n",
              "      <td>190952</td>\n",
              "      <td>2j9JO1SCC21LIBQKzkffhk</td>\n",
              "      <td>spotify:track:2j9JO1SCC21LIBQKzkffhk</td>\n",
              "    </tr>\n",
              "    <tr>\n",
              "      <th>4</th>\n",
              "      <td>Enemy</td>\n",
              "      <td>176146</td>\n",
              "      <td>5NptfMnPBChKktA5Z66faw</td>\n",
              "      <td>spotify:track:5NptfMnPBChKktA5Z66faw</td>\n",
              "    </tr>\n",
              "    <tr>\n",
              "      <th>5</th>\n",
              "      <td>Get In The Car</td>\n",
              "      <td>180000</td>\n",
              "      <td>3760Go7UI4B8hgILy8c1Nt</td>\n",
              "      <td>spotify:track:3760Go7UI4B8hgILy8c1Nt</td>\n",
              "    </tr>\n",
              "    <tr>\n",
              "      <th>6</th>\n",
              "      <td>Back To Life</td>\n",
              "      <td>198000</td>\n",
              "      <td>7JXkMlfh2lXZ2tJ7UTRjtH</td>\n",
              "      <td>spotify:track:7JXkMlfh2lXZ2tJ7UTRjtH</td>\n",
              "    </tr>\n",
              "    <tr>\n",
              "      <th>7</th>\n",
              "      <td>Dying For You</td>\n",
              "      <td>240125</td>\n",
              "      <td>7bJl4FKN2Hvj3SCQRJWWFa</td>\n",
              "      <td>spotify:track:7bJl4FKN2Hvj3SCQRJWWFa</td>\n",
              "    </tr>\n",
              "    <tr>\n",
              "      <th>8</th>\n",
              "      <td>In My Dreams</td>\n",
              "      <td>242000</td>\n",
              "      <td>6rUKAFuGr9OJvgHjKppqEG</td>\n",
              "      <td>spotify:track:6rUKAFuGr9OJvgHjKppqEG</td>\n",
              "    </tr>\n",
              "    <tr>\n",
              "      <th>9</th>\n",
              "      <td>Everything and More</td>\n",
              "      <td>230000</td>\n",
              "      <td>1bq7TmGGfBoiQ0YlUGggnp</td>\n",
              "      <td>spotify:track:1bq7TmGGfBoiQ0YlUGggnp</td>\n",
              "    </tr>\n",
              "    <tr>\n",
              "      <th>10</th>\n",
              "      <td>Stronger</td>\n",
              "      <td>185000</td>\n",
              "      <td>3Ze1UU1Jb7wkzcWkiOUYCN</td>\n",
              "      <td>spotify:track:3Ze1UU1Jb7wkzcWkiOUYCN</td>\n",
              "    </tr>\n",
              "    <tr>\n",
              "      <th>11</th>\n",
              "      <td>Its Mine</td>\n",
              "      <td>157948</td>\n",
              "      <td>3oQl9l5jJC4aMI7c9JEkJJ</td>\n",
              "      <td>spotify:track:3oQl9l5jJC4aMI7c9JEkJJ</td>\n",
              "    </tr>\n",
              "  </tbody>\n",
              "</table>\n",
              "</div>\n",
              "      <button class=\"colab-df-convert\" onclick=\"convertToInteractive('df-adcaaace-ba10-42d5-b6d2-9871cba79ee8')\"\n",
              "              title=\"Convert this dataframe to an interactive table.\"\n",
              "              style=\"display:none;\">\n",
              "        \n",
              "  <svg xmlns=\"http://www.w3.org/2000/svg\" height=\"24px\"viewBox=\"0 0 24 24\"\n",
              "       width=\"24px\">\n",
              "    <path d=\"M0 0h24v24H0V0z\" fill=\"none\"/>\n",
              "    <path d=\"M18.56 5.44l.94 2.06.94-2.06 2.06-.94-2.06-.94-.94-2.06-.94 2.06-2.06.94zm-11 1L8.5 8.5l.94-2.06 2.06-.94-2.06-.94L8.5 2.5l-.94 2.06-2.06.94zm10 10l.94 2.06.94-2.06 2.06-.94-2.06-.94-.94-2.06-.94 2.06-2.06.94z\"/><path d=\"M17.41 7.96l-1.37-1.37c-.4-.4-.92-.59-1.43-.59-.52 0-1.04.2-1.43.59L10.3 9.45l-7.72 7.72c-.78.78-.78 2.05 0 2.83L4 21.41c.39.39.9.59 1.41.59.51 0 1.02-.2 1.41-.59l7.78-7.78 2.81-2.81c.8-.78.8-2.07 0-2.86zM5.41 20L4 18.59l7.72-7.72 1.47 1.35L5.41 20z\"/>\n",
              "  </svg>\n",
              "      </button>\n",
              "      \n",
              "  <style>\n",
              "    .colab-df-container {\n",
              "      display:flex;\n",
              "      flex-wrap:wrap;\n",
              "      gap: 12px;\n",
              "    }\n",
              "\n",
              "    .colab-df-convert {\n",
              "      background-color: #E8F0FE;\n",
              "      border: none;\n",
              "      border-radius: 50%;\n",
              "      cursor: pointer;\n",
              "      display: none;\n",
              "      fill: #1967D2;\n",
              "      height: 32px;\n",
              "      padding: 0 0 0 0;\n",
              "      width: 32px;\n",
              "    }\n",
              "\n",
              "    .colab-df-convert:hover {\n",
              "      background-color: #E2EBFA;\n",
              "      box-shadow: 0px 1px 2px rgba(60, 64, 67, 0.3), 0px 1px 3px 1px rgba(60, 64, 67, 0.15);\n",
              "      fill: #174EA6;\n",
              "    }\n",
              "\n",
              "    [theme=dark] .colab-df-convert {\n",
              "      background-color: #3B4455;\n",
              "      fill: #D2E3FC;\n",
              "    }\n",
              "\n",
              "    [theme=dark] .colab-df-convert:hover {\n",
              "      background-color: #434B5C;\n",
              "      box-shadow: 0px 1px 3px 1px rgba(0, 0, 0, 0.15);\n",
              "      filter: drop-shadow(0px 1px 2px rgba(0, 0, 0, 0.3));\n",
              "      fill: #FFFFFF;\n",
              "    }\n",
              "  </style>\n",
              "\n",
              "      <script>\n",
              "        const buttonEl =\n",
              "          document.querySelector('#df-adcaaace-ba10-42d5-b6d2-9871cba79ee8 button.colab-df-convert');\n",
              "        buttonEl.style.display =\n",
              "          google.colab.kernel.accessAllowed ? 'block' : 'none';\n",
              "\n",
              "        async function convertToInteractive(key) {\n",
              "          const element = document.querySelector('#df-adcaaace-ba10-42d5-b6d2-9871cba79ee8');\n",
              "          const dataTable =\n",
              "            await google.colab.kernel.invokeFunction('convertToInteractive',\n",
              "                                                     [key], {});\n",
              "          if (!dataTable) return;\n",
              "\n",
              "          const docLinkHtml = 'Like what you see? Visit the ' +\n",
              "            '<a target=\"_blank\" href=https://colab.research.google.com/notebooks/data_table.ipynb>data table notebook</a>'\n",
              "            + ' to learn more about interactive tables.';\n",
              "          element.innerHTML = '';\n",
              "          dataTable['output_type'] = 'display_data';\n",
              "          await google.colab.output.renderOutput(dataTable, element);\n",
              "          const docLink = document.createElement('div');\n",
              "          docLink.innerHTML = docLinkHtml;\n",
              "          element.appendChild(docLink);\n",
              "        }\n",
              "      </script>\n",
              "    </div>\n",
              "  </div>\n",
              "  "
            ],
            "text/plain": [
              "                        name  ...                             track_uri\n",
              "0                     Memory  ...  spotify:track:21paFxL9gudhwBBYoZWah1\n",
              "1   Don't Fuck With My Money  ...  spotify:track:6fecxwRD74xNT3XRjREIiB\n",
              "2               What Love Is  ...  spotify:track:7K6UUIAOgwZj3c1t6DefdY\n",
              "3                Without You  ...  spotify:track:2j9JO1SCC21LIBQKzkffhk\n",
              "4                      Enemy  ...  spotify:track:5NptfMnPBChKktA5Z66faw\n",
              "5             Get In The Car  ...  spotify:track:3760Go7UI4B8hgILy8c1Nt\n",
              "6               Back To Life  ...  spotify:track:7JXkMlfh2lXZ2tJ7UTRjtH\n",
              "7              Dying For You  ...  spotify:track:7bJl4FKN2Hvj3SCQRJWWFa\n",
              "8               In My Dreams  ...  spotify:track:6rUKAFuGr9OJvgHjKppqEG\n",
              "9        Everything and More  ...  spotify:track:1bq7TmGGfBoiQ0YlUGggnp\n",
              "10                  Stronger  ...  spotify:track:3Ze1UU1Jb7wkzcWkiOUYCN\n",
              "11                  Its Mine  ...  spotify:track:3oQl9l5jJC4aMI7c9JEkJJ\n",
              "\n",
              "[12 rows x 4 columns]"
            ]
          },
          "metadata": {},
          "execution_count": 32
        }
      ]
    },
    {
      "cell_type": "code",
      "source": [
        "tracks2 = sp.album_tracks(album_sample_url)['items']\n",
        "for i in tracks2:\n",
        "  print(i)"
      ],
      "metadata": {
        "id": "UN4Fu0L0oIUB",
        "colab": {
          "base_uri": "https://localhost:8080/"
        },
        "outputId": "3a50d1e0-e27d-4ff8-eea5-6663d56d0cf1"
      },
      "execution_count": 34,
      "outputs": [
        {
          "output_type": "stream",
          "name": "stdout",
          "text": [
            "{'artists': [{'external_urls': {'spotify': 'https://open.spotify.com/artist/5ZbRDyTYX4HhXveONcZQn2'}, 'href': 'https://api.spotify.com/v1/artists/5ZbRDyTYX4HhXveONcZQn2', 'id': '5ZbRDyTYX4HhXveONcZQn2', 'name': 'Mystery Skulls', 'type': 'artist', 'uri': 'spotify:artist:5ZbRDyTYX4HhXveONcZQn2'}], 'available_markets': ['AD', 'AE', 'AG', 'AL', 'AM', 'AO', 'AR', 'AT', 'AU', 'AZ', 'BA', 'BB', 'BD', 'BE', 'BF', 'BG', 'BH', 'BI', 'BJ', 'BN', 'BO', 'BR', 'BS', 'BT', 'BW', 'BY', 'BZ', 'CA', 'CD', 'CG', 'CH', 'CI', 'CL', 'CM', 'CO', 'CR', 'CV', 'CW', 'CY', 'CZ', 'DE', 'DJ', 'DK', 'DM', 'DO', 'DZ', 'EC', 'EE', 'EG', 'ES', 'FI', 'FJ', 'FM', 'FR', 'GA', 'GB', 'GD', 'GE', 'GH', 'GM', 'GN', 'GQ', 'GR', 'GT', 'GW', 'GY', 'HK', 'HN', 'HR', 'HT', 'HU', 'ID', 'IE', 'IL', 'IN', 'IQ', 'IS', 'IT', 'JM', 'JO', 'JP', 'KE', 'KG', 'KH', 'KI', 'KM', 'KN', 'KR', 'KW', 'KZ', 'LA', 'LB', 'LC', 'LI', 'LK', 'LR', 'LS', 'LT', 'LU', 'LV', 'LY', 'MA', 'MC', 'MD', 'ME', 'MG', 'MH', 'MK', 'ML', 'MN', 'MO', 'MR', 'MT', 'MU', 'MV', 'MW', 'MX', 'MY', 'MZ', 'NA', 'NE', 'NG', 'NI', 'NL', 'NO', 'NP', 'NR', 'NZ', 'OM', 'PA', 'PE', 'PG', 'PH', 'PK', 'PL', 'PS', 'PT', 'PW', 'PY', 'QA', 'RO', 'RS', 'RU', 'RW', 'SA', 'SB', 'SC', 'SE', 'SG', 'SI', 'SK', 'SL', 'SM', 'SN', 'SR', 'ST', 'SV', 'SZ', 'TD', 'TG', 'TH', 'TJ', 'TL', 'TN', 'TO', 'TR', 'TT', 'TV', 'TW', 'TZ', 'UA', 'UG', 'US', 'UY', 'UZ', 'VC', 'VE', 'VN', 'VU', 'WS', 'XK', 'ZA', 'ZM', 'ZW'], 'disc_number': 1, 'duration_ms': 108631, 'explicit': False, 'external_urls': {'spotify': 'https://open.spotify.com/track/21paFxL9gudhwBBYoZWah1'}, 'href': 'https://api.spotify.com/v1/tracks/21paFxL9gudhwBBYoZWah1', 'id': '21paFxL9gudhwBBYoZWah1', 'is_local': False, 'name': 'Memory', 'preview_url': 'https://p.scdn.co/mp3-preview/e55ba4182a045603ffe7aea38eea5eaed1f837fa?cid=b60b5dc276ba4ef2bcd8afa267744726', 'track_number': 1, 'type': 'track', 'uri': 'spotify:track:21paFxL9gudhwBBYoZWah1'}\n",
            "{'artists': [{'external_urls': {'spotify': 'https://open.spotify.com/artist/5ZbRDyTYX4HhXveONcZQn2'}, 'href': 'https://api.spotify.com/v1/artists/5ZbRDyTYX4HhXveONcZQn2', 'id': '5ZbRDyTYX4HhXveONcZQn2', 'name': 'Mystery Skulls', 'type': 'artist', 'uri': 'spotify:artist:5ZbRDyTYX4HhXveONcZQn2'}], 'available_markets': ['AD', 'AE', 'AG', 'AL', 'AM', 'AO', 'AR', 'AT', 'AU', 'AZ', 'BA', 'BB', 'BD', 'BE', 'BF', 'BG', 'BH', 'BI', 'BJ', 'BN', 'BO', 'BR', 'BS', 'BT', 'BW', 'BY', 'BZ', 'CA', 'CD', 'CG', 'CH', 'CI', 'CL', 'CM', 'CO', 'CR', 'CV', 'CW', 'CY', 'CZ', 'DE', 'DJ', 'DK', 'DM', 'DO', 'DZ', 'EC', 'EE', 'EG', 'ES', 'FI', 'FJ', 'FM', 'FR', 'GA', 'GB', 'GD', 'GE', 'GH', 'GM', 'GN', 'GQ', 'GR', 'GT', 'GW', 'GY', 'HK', 'HN', 'HR', 'HT', 'HU', 'ID', 'IE', 'IL', 'IN', 'IQ', 'IS', 'IT', 'JM', 'JO', 'JP', 'KE', 'KG', 'KH', 'KI', 'KM', 'KN', 'KR', 'KW', 'KZ', 'LA', 'LB', 'LC', 'LI', 'LK', 'LR', 'LS', 'LT', 'LU', 'LV', 'LY', 'MA', 'MC', 'MD', 'ME', 'MG', 'MH', 'MK', 'ML', 'MN', 'MO', 'MR', 'MT', 'MU', 'MV', 'MW', 'MX', 'MY', 'MZ', 'NA', 'NE', 'NG', 'NI', 'NL', 'NO', 'NP', 'NR', 'NZ', 'OM', 'PA', 'PE', 'PG', 'PH', 'PK', 'PL', 'PS', 'PT', 'PW', 'PY', 'QA', 'RO', 'RS', 'RU', 'RW', 'SA', 'SB', 'SC', 'SE', 'SG', 'SI', 'SK', 'SL', 'SM', 'SN', 'SR', 'ST', 'SV', 'SZ', 'TD', 'TG', 'TH', 'TJ', 'TL', 'TN', 'TO', 'TR', 'TT', 'TV', 'TW', 'TZ', 'UA', 'UG', 'US', 'UY', 'UZ', 'VC', 'VE', 'VN', 'VU', 'WS', 'XK', 'ZA', 'ZM', 'ZW'], 'disc_number': 1, 'duration_ms': 157250, 'explicit': True, 'external_urls': {'spotify': 'https://open.spotify.com/track/6fecxwRD74xNT3XRjREIiB'}, 'href': 'https://api.spotify.com/v1/tracks/6fecxwRD74xNT3XRjREIiB', 'id': '6fecxwRD74xNT3XRjREIiB', 'is_local': False, 'name': \"Don't Fuck With My Money\", 'preview_url': 'https://p.scdn.co/mp3-preview/137de80f9c9d6abe75fc5125ff0a8136f496d504?cid=b60b5dc276ba4ef2bcd8afa267744726', 'track_number': 2, 'type': 'track', 'uri': 'spotify:track:6fecxwRD74xNT3XRjREIiB'}\n",
            "{'artists': [{'external_urls': {'spotify': 'https://open.spotify.com/artist/5ZbRDyTYX4HhXveONcZQn2'}, 'href': 'https://api.spotify.com/v1/artists/5ZbRDyTYX4HhXveONcZQn2', 'id': '5ZbRDyTYX4HhXveONcZQn2', 'name': 'Mystery Skulls', 'type': 'artist', 'uri': 'spotify:artist:5ZbRDyTYX4HhXveONcZQn2'}], 'available_markets': ['AD', 'AE', 'AG', 'AL', 'AM', 'AO', 'AR', 'AT', 'AU', 'AZ', 'BA', 'BB', 'BD', 'BE', 'BF', 'BG', 'BH', 'BI', 'BJ', 'BN', 'BO', 'BR', 'BS', 'BT', 'BW', 'BY', 'BZ', 'CA', 'CD', 'CG', 'CH', 'CI', 'CL', 'CM', 'CO', 'CR', 'CV', 'CW', 'CY', 'CZ', 'DE', 'DJ', 'DK', 'DM', 'DO', 'DZ', 'EC', 'EE', 'EG', 'ES', 'FI', 'FJ', 'FM', 'FR', 'GA', 'GB', 'GD', 'GE', 'GH', 'GM', 'GN', 'GQ', 'GR', 'GT', 'GW', 'GY', 'HK', 'HN', 'HR', 'HT', 'HU', 'ID', 'IE', 'IL', 'IN', 'IQ', 'IS', 'IT', 'JM', 'JO', 'JP', 'KE', 'KG', 'KH', 'KI', 'KM', 'KN', 'KR', 'KW', 'KZ', 'LA', 'LB', 'LC', 'LI', 'LK', 'LR', 'LS', 'LT', 'LU', 'LV', 'LY', 'MA', 'MC', 'MD', 'ME', 'MG', 'MH', 'MK', 'ML', 'MN', 'MO', 'MR', 'MT', 'MU', 'MV', 'MW', 'MX', 'MY', 'MZ', 'NA', 'NE', 'NG', 'NI', 'NL', 'NO', 'NP', 'NR', 'NZ', 'OM', 'PA', 'PE', 'PG', 'PH', 'PK', 'PL', 'PS', 'PT', 'PW', 'PY', 'QA', 'RO', 'RS', 'RU', 'RW', 'SA', 'SB', 'SC', 'SE', 'SG', 'SI', 'SK', 'SL', 'SM', 'SN', 'SR', 'ST', 'SV', 'SZ', 'TD', 'TG', 'TH', 'TJ', 'TL', 'TN', 'TO', 'TR', 'TT', 'TV', 'TW', 'TZ', 'UA', 'UG', 'US', 'UY', 'UZ', 'VC', 'VE', 'VN', 'VU', 'WS', 'XK', 'ZA', 'ZM', 'ZW'], 'disc_number': 1, 'duration_ms': 218000, 'explicit': False, 'external_urls': {'spotify': 'https://open.spotify.com/track/7K6UUIAOgwZj3c1t6DefdY'}, 'href': 'https://api.spotify.com/v1/tracks/7K6UUIAOgwZj3c1t6DefdY', 'id': '7K6UUIAOgwZj3c1t6DefdY', 'is_local': False, 'name': 'What Love Is', 'preview_url': 'https://p.scdn.co/mp3-preview/bba55de782ba8ca1a2dc1c2df62fad6dfb4dcdcf?cid=b60b5dc276ba4ef2bcd8afa267744726', 'track_number': 3, 'type': 'track', 'uri': 'spotify:track:7K6UUIAOgwZj3c1t6DefdY'}\n",
            "{'artists': [{'external_urls': {'spotify': 'https://open.spotify.com/artist/5ZbRDyTYX4HhXveONcZQn2'}, 'href': 'https://api.spotify.com/v1/artists/5ZbRDyTYX4HhXveONcZQn2', 'id': '5ZbRDyTYX4HhXveONcZQn2', 'name': 'Mystery Skulls', 'type': 'artist', 'uri': 'spotify:artist:5ZbRDyTYX4HhXveONcZQn2'}], 'available_markets': ['AD', 'AE', 'AG', 'AL', 'AM', 'AO', 'AR', 'AT', 'AU', 'AZ', 'BA', 'BB', 'BD', 'BE', 'BF', 'BG', 'BH', 'BI', 'BJ', 'BN', 'BO', 'BR', 'BS', 'BT', 'BW', 'BY', 'BZ', 'CA', 'CD', 'CG', 'CH', 'CI', 'CL', 'CM', 'CO', 'CR', 'CV', 'CW', 'CY', 'CZ', 'DE', 'DJ', 'DK', 'DM', 'DO', 'DZ', 'EC', 'EE', 'EG', 'ES', 'FI', 'FJ', 'FM', 'FR', 'GA', 'GB', 'GD', 'GE', 'GH', 'GM', 'GN', 'GQ', 'GR', 'GT', 'GW', 'GY', 'HK', 'HN', 'HR', 'HT', 'HU', 'ID', 'IE', 'IL', 'IN', 'IQ', 'IS', 'IT', 'JM', 'JO', 'JP', 'KE', 'KG', 'KH', 'KI', 'KM', 'KN', 'KR', 'KW', 'KZ', 'LA', 'LB', 'LC', 'LI', 'LK', 'LR', 'LS', 'LT', 'LU', 'LV', 'LY', 'MA', 'MC', 'MD', 'ME', 'MG', 'MH', 'MK', 'ML', 'MN', 'MO', 'MR', 'MT', 'MU', 'MV', 'MW', 'MX', 'MY', 'MZ', 'NA', 'NE', 'NG', 'NI', 'NL', 'NO', 'NP', 'NR', 'NZ', 'OM', 'PA', 'PE', 'PG', 'PH', 'PK', 'PL', 'PS', 'PT', 'PW', 'PY', 'QA', 'RO', 'RS', 'RU', 'RW', 'SA', 'SB', 'SC', 'SE', 'SG', 'SI', 'SK', 'SL', 'SM', 'SN', 'SR', 'ST', 'SV', 'SZ', 'TD', 'TG', 'TH', 'TJ', 'TL', 'TN', 'TO', 'TR', 'TT', 'TV', 'TW', 'TZ', 'UA', 'UG', 'US', 'UY', 'UZ', 'VC', 'VE', 'VN', 'VU', 'WS', 'XK', 'ZA', 'ZM', 'ZW'], 'disc_number': 1, 'duration_ms': 190952, 'explicit': False, 'external_urls': {'spotify': 'https://open.spotify.com/track/2j9JO1SCC21LIBQKzkffhk'}, 'href': 'https://api.spotify.com/v1/tracks/2j9JO1SCC21LIBQKzkffhk', 'id': '2j9JO1SCC21LIBQKzkffhk', 'is_local': False, 'name': 'Without You', 'preview_url': 'https://p.scdn.co/mp3-preview/9d537ad1d46ff17ac9afb4e400e6fdaa5bcb4d9c?cid=b60b5dc276ba4ef2bcd8afa267744726', 'track_number': 4, 'type': 'track', 'uri': 'spotify:track:2j9JO1SCC21LIBQKzkffhk'}\n",
            "{'artists': [{'external_urls': {'spotify': 'https://open.spotify.com/artist/5ZbRDyTYX4HhXveONcZQn2'}, 'href': 'https://api.spotify.com/v1/artists/5ZbRDyTYX4HhXveONcZQn2', 'id': '5ZbRDyTYX4HhXveONcZQn2', 'name': 'Mystery Skulls', 'type': 'artist', 'uri': 'spotify:artist:5ZbRDyTYX4HhXveONcZQn2'}], 'available_markets': ['AD', 'AE', 'AG', 'AL', 'AM', 'AO', 'AR', 'AT', 'AU', 'AZ', 'BA', 'BB', 'BD', 'BE', 'BF', 'BG', 'BH', 'BI', 'BJ', 'BN', 'BO', 'BR', 'BS', 'BT', 'BW', 'BY', 'BZ', 'CA', 'CD', 'CG', 'CH', 'CI', 'CL', 'CM', 'CO', 'CR', 'CV', 'CW', 'CY', 'CZ', 'DE', 'DJ', 'DK', 'DM', 'DO', 'DZ', 'EC', 'EE', 'EG', 'ES', 'FI', 'FJ', 'FM', 'FR', 'GA', 'GB', 'GD', 'GE', 'GH', 'GM', 'GN', 'GQ', 'GR', 'GT', 'GW', 'GY', 'HK', 'HN', 'HR', 'HT', 'HU', 'ID', 'IE', 'IL', 'IN', 'IQ', 'IS', 'IT', 'JM', 'JO', 'JP', 'KE', 'KG', 'KH', 'KI', 'KM', 'KN', 'KR', 'KW', 'KZ', 'LA', 'LB', 'LC', 'LI', 'LK', 'LR', 'LS', 'LT', 'LU', 'LV', 'LY', 'MA', 'MC', 'MD', 'ME', 'MG', 'MH', 'MK', 'ML', 'MN', 'MO', 'MR', 'MT', 'MU', 'MV', 'MW', 'MX', 'MY', 'MZ', 'NA', 'NE', 'NG', 'NI', 'NL', 'NO', 'NP', 'NR', 'NZ', 'OM', 'PA', 'PE', 'PG', 'PH', 'PK', 'PL', 'PS', 'PT', 'PW', 'PY', 'QA', 'RO', 'RS', 'RU', 'RW', 'SA', 'SB', 'SC', 'SE', 'SG', 'SI', 'SK', 'SL', 'SM', 'SN', 'SR', 'ST', 'SV', 'SZ', 'TD', 'TG', 'TH', 'TJ', 'TL', 'TN', 'TO', 'TR', 'TT', 'TV', 'TW', 'TZ', 'UA', 'UG', 'US', 'UY', 'UZ', 'VC', 'VE', 'VN', 'VU', 'WS', 'XK', 'ZA', 'ZM', 'ZW'], 'disc_number': 1, 'duration_ms': 176146, 'explicit': False, 'external_urls': {'spotify': 'https://open.spotify.com/track/5NptfMnPBChKktA5Z66faw'}, 'href': 'https://api.spotify.com/v1/tracks/5NptfMnPBChKktA5Z66faw', 'id': '5NptfMnPBChKktA5Z66faw', 'is_local': False, 'name': 'Enemy', 'preview_url': 'https://p.scdn.co/mp3-preview/517a54b74ac3e9d64c29e42e574b336a87f6eff6?cid=b60b5dc276ba4ef2bcd8afa267744726', 'track_number': 5, 'type': 'track', 'uri': 'spotify:track:5NptfMnPBChKktA5Z66faw'}\n",
            "{'artists': [{'external_urls': {'spotify': 'https://open.spotify.com/artist/5ZbRDyTYX4HhXveONcZQn2'}, 'href': 'https://api.spotify.com/v1/artists/5ZbRDyTYX4HhXveONcZQn2', 'id': '5ZbRDyTYX4HhXveONcZQn2', 'name': 'Mystery Skulls', 'type': 'artist', 'uri': 'spotify:artist:5ZbRDyTYX4HhXveONcZQn2'}], 'available_markets': ['AD', 'AE', 'AG', 'AL', 'AM', 'AO', 'AR', 'AT', 'AU', 'AZ', 'BA', 'BB', 'BD', 'BE', 'BF', 'BG', 'BH', 'BI', 'BJ', 'BN', 'BO', 'BR', 'BS', 'BT', 'BW', 'BY', 'BZ', 'CA', 'CD', 'CG', 'CH', 'CI', 'CL', 'CM', 'CO', 'CR', 'CV', 'CW', 'CY', 'CZ', 'DE', 'DJ', 'DK', 'DM', 'DO', 'DZ', 'EC', 'EE', 'EG', 'ES', 'FI', 'FJ', 'FM', 'FR', 'GA', 'GB', 'GD', 'GE', 'GH', 'GM', 'GN', 'GQ', 'GR', 'GT', 'GW', 'GY', 'HK', 'HN', 'HR', 'HT', 'HU', 'ID', 'IE', 'IL', 'IN', 'IQ', 'IS', 'IT', 'JM', 'JO', 'JP', 'KE', 'KG', 'KH', 'KI', 'KM', 'KN', 'KR', 'KW', 'KZ', 'LA', 'LB', 'LC', 'LI', 'LK', 'LR', 'LS', 'LT', 'LU', 'LV', 'LY', 'MA', 'MC', 'MD', 'ME', 'MG', 'MH', 'MK', 'ML', 'MN', 'MO', 'MR', 'MT', 'MU', 'MV', 'MW', 'MX', 'MY', 'MZ', 'NA', 'NE', 'NG', 'NI', 'NL', 'NO', 'NP', 'NR', 'NZ', 'OM', 'PA', 'PE', 'PG', 'PH', 'PK', 'PL', 'PS', 'PT', 'PW', 'PY', 'QA', 'RO', 'RS', 'RU', 'RW', 'SA', 'SB', 'SC', 'SE', 'SG', 'SI', 'SK', 'SL', 'SM', 'SN', 'SR', 'ST', 'SV', 'SZ', 'TD', 'TG', 'TH', 'TJ', 'TL', 'TN', 'TO', 'TR', 'TT', 'TV', 'TW', 'TZ', 'UA', 'UG', 'US', 'UY', 'UZ', 'VC', 'VE', 'VN', 'VU', 'WS', 'XK', 'ZA', 'ZM', 'ZW'], 'disc_number': 1, 'duration_ms': 180000, 'explicit': False, 'external_urls': {'spotify': 'https://open.spotify.com/track/3760Go7UI4B8hgILy8c1Nt'}, 'href': 'https://api.spotify.com/v1/tracks/3760Go7UI4B8hgILy8c1Nt', 'id': '3760Go7UI4B8hgILy8c1Nt', 'is_local': False, 'name': 'Get In The Car', 'preview_url': 'https://p.scdn.co/mp3-preview/df349a2db0db301fc71174c5877f6bfd9cf6a496?cid=b60b5dc276ba4ef2bcd8afa267744726', 'track_number': 6, 'type': 'track', 'uri': 'spotify:track:3760Go7UI4B8hgILy8c1Nt'}\n",
            "{'artists': [{'external_urls': {'spotify': 'https://open.spotify.com/artist/5ZbRDyTYX4HhXveONcZQn2'}, 'href': 'https://api.spotify.com/v1/artists/5ZbRDyTYX4HhXveONcZQn2', 'id': '5ZbRDyTYX4HhXveONcZQn2', 'name': 'Mystery Skulls', 'type': 'artist', 'uri': 'spotify:artist:5ZbRDyTYX4HhXveONcZQn2'}], 'available_markets': ['AD', 'AE', 'AG', 'AL', 'AM', 'AO', 'AR', 'AT', 'AU', 'AZ', 'BA', 'BB', 'BD', 'BE', 'BF', 'BG', 'BH', 'BI', 'BJ', 'BN', 'BO', 'BR', 'BS', 'BT', 'BW', 'BY', 'BZ', 'CA', 'CD', 'CG', 'CH', 'CI', 'CL', 'CM', 'CO', 'CR', 'CV', 'CW', 'CY', 'CZ', 'DE', 'DJ', 'DK', 'DM', 'DO', 'DZ', 'EC', 'EE', 'EG', 'ES', 'FI', 'FJ', 'FM', 'FR', 'GA', 'GB', 'GD', 'GE', 'GH', 'GM', 'GN', 'GQ', 'GR', 'GT', 'GW', 'GY', 'HK', 'HN', 'HR', 'HT', 'HU', 'ID', 'IE', 'IL', 'IN', 'IQ', 'IS', 'IT', 'JM', 'JO', 'JP', 'KE', 'KG', 'KH', 'KI', 'KM', 'KN', 'KR', 'KW', 'KZ', 'LA', 'LB', 'LC', 'LI', 'LK', 'LR', 'LS', 'LT', 'LU', 'LV', 'LY', 'MA', 'MC', 'MD', 'ME', 'MG', 'MH', 'MK', 'ML', 'MN', 'MO', 'MR', 'MT', 'MU', 'MV', 'MW', 'MX', 'MY', 'MZ', 'NA', 'NE', 'NG', 'NI', 'NL', 'NO', 'NP', 'NR', 'NZ', 'OM', 'PA', 'PE', 'PG', 'PH', 'PK', 'PL', 'PS', 'PT', 'PW', 'PY', 'QA', 'RO', 'RS', 'RU', 'RW', 'SA', 'SB', 'SC', 'SE', 'SG', 'SI', 'SK', 'SL', 'SM', 'SN', 'SR', 'ST', 'SV', 'SZ', 'TD', 'TG', 'TH', 'TJ', 'TL', 'TN', 'TO', 'TR', 'TT', 'TV', 'TW', 'TZ', 'UA', 'UG', 'US', 'UY', 'UZ', 'VC', 'VE', 'VN', 'VU', 'WS', 'XK', 'ZA', 'ZM', 'ZW'], 'disc_number': 1, 'duration_ms': 198000, 'explicit': False, 'external_urls': {'spotify': 'https://open.spotify.com/track/7JXkMlfh2lXZ2tJ7UTRjtH'}, 'href': 'https://api.spotify.com/v1/tracks/7JXkMlfh2lXZ2tJ7UTRjtH', 'id': '7JXkMlfh2lXZ2tJ7UTRjtH', 'is_local': False, 'name': 'Back To Life', 'preview_url': 'https://p.scdn.co/mp3-preview/87269a82fd810afd87a44b0eadaac747468dcdd4?cid=b60b5dc276ba4ef2bcd8afa267744726', 'track_number': 7, 'type': 'track', 'uri': 'spotify:track:7JXkMlfh2lXZ2tJ7UTRjtH'}\n",
            "{'artists': [{'external_urls': {'spotify': 'https://open.spotify.com/artist/5ZbRDyTYX4HhXveONcZQn2'}, 'href': 'https://api.spotify.com/v1/artists/5ZbRDyTYX4HhXveONcZQn2', 'id': '5ZbRDyTYX4HhXveONcZQn2', 'name': 'Mystery Skulls', 'type': 'artist', 'uri': 'spotify:artist:5ZbRDyTYX4HhXveONcZQn2'}, {'external_urls': {'spotify': 'https://open.spotify.com/artist/6nLpD6tWBhXIbNxVKJC1fH'}, 'href': 'https://api.spotify.com/v1/artists/6nLpD6tWBhXIbNxVKJC1fH', 'id': '6nLpD6tWBhXIbNxVKJC1fH', 'name': 'Snowblood', 'type': 'artist', 'uri': 'spotify:artist:6nLpD6tWBhXIbNxVKJC1fH'}], 'available_markets': ['AD', 'AE', 'AG', 'AL', 'AM', 'AO', 'AR', 'AT', 'AU', 'AZ', 'BA', 'BB', 'BD', 'BE', 'BF', 'BG', 'BH', 'BI', 'BJ', 'BN', 'BO', 'BR', 'BS', 'BT', 'BW', 'BY', 'BZ', 'CA', 'CD', 'CG', 'CH', 'CI', 'CL', 'CM', 'CO', 'CR', 'CV', 'CW', 'CY', 'CZ', 'DE', 'DJ', 'DK', 'DM', 'DO', 'DZ', 'EC', 'EE', 'EG', 'ES', 'FI', 'FJ', 'FM', 'FR', 'GA', 'GB', 'GD', 'GE', 'GH', 'GM', 'GN', 'GQ', 'GR', 'GT', 'GW', 'GY', 'HK', 'HN', 'HR', 'HT', 'HU', 'ID', 'IE', 'IL', 'IN', 'IQ', 'IS', 'IT', 'JM', 'JO', 'JP', 'KE', 'KG', 'KH', 'KI', 'KM', 'KN', 'KR', 'KW', 'KZ', 'LA', 'LB', 'LC', 'LI', 'LK', 'LR', 'LS', 'LT', 'LU', 'LV', 'LY', 'MA', 'MC', 'MD', 'ME', 'MG', 'MH', 'MK', 'ML', 'MN', 'MO', 'MR', 'MT', 'MU', 'MV', 'MW', 'MX', 'MY', 'MZ', 'NA', 'NE', 'NG', 'NI', 'NL', 'NO', 'NP', 'NR', 'NZ', 'OM', 'PA', 'PE', 'PG', 'PH', 'PK', 'PL', 'PS', 'PT', 'PW', 'PY', 'QA', 'RO', 'RS', 'RU', 'RW', 'SA', 'SB', 'SC', 'SE', 'SG', 'SI', 'SK', 'SL', 'SM', 'SN', 'SR', 'ST', 'SV', 'SZ', 'TD', 'TG', 'TH', 'TJ', 'TL', 'TN', 'TO', 'TR', 'TT', 'TV', 'TW', 'TZ', 'UA', 'UG', 'US', 'UY', 'UZ', 'VC', 'VE', 'VN', 'VU', 'WS', 'XK', 'ZA', 'ZM', 'ZW'], 'disc_number': 1, 'duration_ms': 240125, 'explicit': False, 'external_urls': {'spotify': 'https://open.spotify.com/track/7bJl4FKN2Hvj3SCQRJWWFa'}, 'href': 'https://api.spotify.com/v1/tracks/7bJl4FKN2Hvj3SCQRJWWFa', 'id': '7bJl4FKN2Hvj3SCQRJWWFa', 'is_local': False, 'name': 'Dying For You', 'preview_url': 'https://p.scdn.co/mp3-preview/896bbff410feb3cb2a076eaca0994b65f75b462c?cid=b60b5dc276ba4ef2bcd8afa267744726', 'track_number': 8, 'type': 'track', 'uri': 'spotify:track:7bJl4FKN2Hvj3SCQRJWWFa'}\n",
            "{'artists': [{'external_urls': {'spotify': 'https://open.spotify.com/artist/5ZbRDyTYX4HhXveONcZQn2'}, 'href': 'https://api.spotify.com/v1/artists/5ZbRDyTYX4HhXveONcZQn2', 'id': '5ZbRDyTYX4HhXveONcZQn2', 'name': 'Mystery Skulls', 'type': 'artist', 'uri': 'spotify:artist:5ZbRDyTYX4HhXveONcZQn2'}], 'available_markets': ['AD', 'AE', 'AG', 'AL', 'AM', 'AO', 'AR', 'AT', 'AU', 'AZ', 'BA', 'BB', 'BD', 'BE', 'BF', 'BG', 'BH', 'BI', 'BJ', 'BN', 'BO', 'BR', 'BS', 'BT', 'BW', 'BY', 'BZ', 'CA', 'CD', 'CG', 'CH', 'CI', 'CL', 'CM', 'CO', 'CR', 'CV', 'CW', 'CY', 'CZ', 'DE', 'DJ', 'DK', 'DM', 'DO', 'DZ', 'EC', 'EE', 'EG', 'ES', 'FI', 'FJ', 'FM', 'FR', 'GA', 'GB', 'GD', 'GE', 'GH', 'GM', 'GN', 'GQ', 'GR', 'GT', 'GW', 'GY', 'HK', 'HN', 'HR', 'HT', 'HU', 'ID', 'IE', 'IL', 'IN', 'IQ', 'IS', 'IT', 'JM', 'JO', 'JP', 'KE', 'KG', 'KH', 'KI', 'KM', 'KN', 'KR', 'KW', 'KZ', 'LA', 'LB', 'LC', 'LI', 'LK', 'LR', 'LS', 'LT', 'LU', 'LV', 'LY', 'MA', 'MC', 'MD', 'ME', 'MG', 'MH', 'MK', 'ML', 'MN', 'MO', 'MR', 'MT', 'MU', 'MV', 'MW', 'MX', 'MY', 'MZ', 'NA', 'NE', 'NG', 'NI', 'NL', 'NO', 'NP', 'NR', 'NZ', 'OM', 'PA', 'PE', 'PG', 'PH', 'PK', 'PL', 'PS', 'PT', 'PW', 'PY', 'QA', 'RO', 'RS', 'RU', 'RW', 'SA', 'SB', 'SC', 'SE', 'SG', 'SI', 'SK', 'SL', 'SM', 'SN', 'SR', 'ST', 'SV', 'SZ', 'TD', 'TG', 'TH', 'TJ', 'TL', 'TN', 'TO', 'TR', 'TT', 'TV', 'TW', 'TZ', 'UA', 'UG', 'US', 'UY', 'UZ', 'VC', 'VE', 'VN', 'VU', 'WS', 'XK', 'ZA', 'ZM', 'ZW'], 'disc_number': 1, 'duration_ms': 242000, 'explicit': False, 'external_urls': {'spotify': 'https://open.spotify.com/track/6rUKAFuGr9OJvgHjKppqEG'}, 'href': 'https://api.spotify.com/v1/tracks/6rUKAFuGr9OJvgHjKppqEG', 'id': '6rUKAFuGr9OJvgHjKppqEG', 'is_local': False, 'name': 'In My Dreams', 'preview_url': 'https://p.scdn.co/mp3-preview/e74b78d584d405eb82c7652d911dfb4ff8bc2438?cid=b60b5dc276ba4ef2bcd8afa267744726', 'track_number': 9, 'type': 'track', 'uri': 'spotify:track:6rUKAFuGr9OJvgHjKppqEG'}\n",
            "{'artists': [{'external_urls': {'spotify': 'https://open.spotify.com/artist/5ZbRDyTYX4HhXveONcZQn2'}, 'href': 'https://api.spotify.com/v1/artists/5ZbRDyTYX4HhXveONcZQn2', 'id': '5ZbRDyTYX4HhXveONcZQn2', 'name': 'Mystery Skulls', 'type': 'artist', 'uri': 'spotify:artist:5ZbRDyTYX4HhXveONcZQn2'}], 'available_markets': ['AD', 'AE', 'AG', 'AL', 'AM', 'AO', 'AR', 'AT', 'AU', 'AZ', 'BA', 'BB', 'BD', 'BE', 'BF', 'BG', 'BH', 'BI', 'BJ', 'BN', 'BO', 'BR', 'BS', 'BT', 'BW', 'BY', 'BZ', 'CA', 'CD', 'CG', 'CH', 'CI', 'CL', 'CM', 'CO', 'CR', 'CV', 'CW', 'CY', 'CZ', 'DE', 'DJ', 'DK', 'DM', 'DO', 'DZ', 'EC', 'EE', 'EG', 'ES', 'FI', 'FJ', 'FM', 'FR', 'GA', 'GB', 'GD', 'GE', 'GH', 'GM', 'GN', 'GQ', 'GR', 'GT', 'GW', 'GY', 'HK', 'HN', 'HR', 'HT', 'HU', 'ID', 'IE', 'IL', 'IN', 'IQ', 'IS', 'IT', 'JM', 'JO', 'JP', 'KE', 'KG', 'KH', 'KI', 'KM', 'KN', 'KR', 'KW', 'KZ', 'LA', 'LB', 'LC', 'LI', 'LK', 'LR', 'LS', 'LT', 'LU', 'LV', 'LY', 'MA', 'MC', 'MD', 'ME', 'MG', 'MH', 'MK', 'ML', 'MN', 'MO', 'MR', 'MT', 'MU', 'MV', 'MW', 'MX', 'MY', 'MZ', 'NA', 'NE', 'NG', 'NI', 'NL', 'NO', 'NP', 'NR', 'NZ', 'OM', 'PA', 'PE', 'PG', 'PH', 'PK', 'PL', 'PS', 'PT', 'PW', 'PY', 'QA', 'RO', 'RS', 'RU', 'RW', 'SA', 'SB', 'SC', 'SE', 'SG', 'SI', 'SK', 'SL', 'SM', 'SN', 'SR', 'ST', 'SV', 'SZ', 'TD', 'TG', 'TH', 'TJ', 'TL', 'TN', 'TO', 'TR', 'TT', 'TV', 'TW', 'TZ', 'UA', 'UG', 'US', 'UY', 'UZ', 'VC', 'VE', 'VN', 'VU', 'WS', 'XK', 'ZA', 'ZM', 'ZW'], 'disc_number': 1, 'duration_ms': 230000, 'explicit': True, 'external_urls': {'spotify': 'https://open.spotify.com/track/1bq7TmGGfBoiQ0YlUGggnp'}, 'href': 'https://api.spotify.com/v1/tracks/1bq7TmGGfBoiQ0YlUGggnp', 'id': '1bq7TmGGfBoiQ0YlUGggnp', 'is_local': False, 'name': 'Everything and More', 'preview_url': 'https://p.scdn.co/mp3-preview/bbeef2e5409fe30082de1102363b37f1c67b2439?cid=b60b5dc276ba4ef2bcd8afa267744726', 'track_number': 10, 'type': 'track', 'uri': 'spotify:track:1bq7TmGGfBoiQ0YlUGggnp'}\n",
            "{'artists': [{'external_urls': {'spotify': 'https://open.spotify.com/artist/5ZbRDyTYX4HhXveONcZQn2'}, 'href': 'https://api.spotify.com/v1/artists/5ZbRDyTYX4HhXveONcZQn2', 'id': '5ZbRDyTYX4HhXveONcZQn2', 'name': 'Mystery Skulls', 'type': 'artist', 'uri': 'spotify:artist:5ZbRDyTYX4HhXveONcZQn2'}], 'available_markets': ['AD', 'AE', 'AG', 'AL', 'AM', 'AO', 'AR', 'AT', 'AU', 'AZ', 'BA', 'BB', 'BD', 'BE', 'BF', 'BG', 'BH', 'BI', 'BJ', 'BN', 'BO', 'BR', 'BS', 'BT', 'BW', 'BY', 'BZ', 'CA', 'CD', 'CG', 'CH', 'CI', 'CL', 'CM', 'CO', 'CR', 'CV', 'CW', 'CY', 'CZ', 'DE', 'DJ', 'DK', 'DM', 'DO', 'DZ', 'EC', 'EE', 'EG', 'ES', 'FI', 'FJ', 'FM', 'FR', 'GA', 'GB', 'GD', 'GE', 'GH', 'GM', 'GN', 'GQ', 'GR', 'GT', 'GW', 'GY', 'HK', 'HN', 'HR', 'HT', 'HU', 'ID', 'IE', 'IL', 'IN', 'IQ', 'IS', 'IT', 'JM', 'JO', 'JP', 'KE', 'KG', 'KH', 'KI', 'KM', 'KN', 'KR', 'KW', 'KZ', 'LA', 'LB', 'LC', 'LI', 'LK', 'LR', 'LS', 'LT', 'LU', 'LV', 'LY', 'MA', 'MC', 'MD', 'ME', 'MG', 'MH', 'MK', 'ML', 'MN', 'MO', 'MR', 'MT', 'MU', 'MV', 'MW', 'MX', 'MY', 'MZ', 'NA', 'NE', 'NG', 'NI', 'NL', 'NO', 'NP', 'NR', 'NZ', 'OM', 'PA', 'PE', 'PG', 'PH', 'PK', 'PL', 'PS', 'PT', 'PW', 'PY', 'QA', 'RO', 'RS', 'RU', 'RW', 'SA', 'SB', 'SC', 'SE', 'SG', 'SI', 'SK', 'SL', 'SM', 'SN', 'SR', 'ST', 'SV', 'SZ', 'TD', 'TG', 'TH', 'TJ', 'TL', 'TN', 'TO', 'TR', 'TT', 'TV', 'TW', 'TZ', 'UA', 'UG', 'US', 'UY', 'UZ', 'VC', 'VE', 'VN', 'VU', 'WS', 'XK', 'ZA', 'ZM', 'ZW'], 'disc_number': 1, 'duration_ms': 185000, 'explicit': True, 'external_urls': {'spotify': 'https://open.spotify.com/track/3Ze1UU1Jb7wkzcWkiOUYCN'}, 'href': 'https://api.spotify.com/v1/tracks/3Ze1UU1Jb7wkzcWkiOUYCN', 'id': '3Ze1UU1Jb7wkzcWkiOUYCN', 'is_local': False, 'name': 'Stronger', 'preview_url': 'https://p.scdn.co/mp3-preview/06b44b2f485667c370c518a94e20ec2899d739e4?cid=b60b5dc276ba4ef2bcd8afa267744726', 'track_number': 11, 'type': 'track', 'uri': 'spotify:track:3Ze1UU1Jb7wkzcWkiOUYCN'}\n",
            "{'artists': [{'external_urls': {'spotify': 'https://open.spotify.com/artist/5ZbRDyTYX4HhXveONcZQn2'}, 'href': 'https://api.spotify.com/v1/artists/5ZbRDyTYX4HhXveONcZQn2', 'id': '5ZbRDyTYX4HhXveONcZQn2', 'name': 'Mystery Skulls', 'type': 'artist', 'uri': 'spotify:artist:5ZbRDyTYX4HhXveONcZQn2'}], 'available_markets': ['AD', 'AE', 'AG', 'AL', 'AM', 'AO', 'AR', 'AT', 'AU', 'AZ', 'BA', 'BB', 'BD', 'BE', 'BF', 'BG', 'BH', 'BI', 'BJ', 'BN', 'BO', 'BR', 'BS', 'BT', 'BW', 'BY', 'BZ', 'CA', 'CD', 'CG', 'CH', 'CI', 'CL', 'CM', 'CO', 'CR', 'CV', 'CW', 'CY', 'CZ', 'DE', 'DJ', 'DK', 'DM', 'DO', 'DZ', 'EC', 'EE', 'EG', 'ES', 'FI', 'FJ', 'FM', 'FR', 'GA', 'GB', 'GD', 'GE', 'GH', 'GM', 'GN', 'GQ', 'GR', 'GT', 'GW', 'GY', 'HK', 'HN', 'HR', 'HT', 'HU', 'ID', 'IE', 'IL', 'IN', 'IQ', 'IS', 'IT', 'JM', 'JO', 'JP', 'KE', 'KG', 'KH', 'KI', 'KM', 'KN', 'KR', 'KW', 'KZ', 'LA', 'LB', 'LC', 'LI', 'LK', 'LR', 'LS', 'LT', 'LU', 'LV', 'LY', 'MA', 'MC', 'MD', 'ME', 'MG', 'MH', 'MK', 'ML', 'MN', 'MO', 'MR', 'MT', 'MU', 'MV', 'MW', 'MX', 'MY', 'MZ', 'NA', 'NE', 'NG', 'NI', 'NL', 'NO', 'NP', 'NR', 'NZ', 'OM', 'PA', 'PE', 'PG', 'PH', 'PK', 'PL', 'PS', 'PT', 'PW', 'PY', 'QA', 'RO', 'RS', 'RU', 'RW', 'SA', 'SB', 'SC', 'SE', 'SG', 'SI', 'SK', 'SL', 'SM', 'SN', 'SR', 'ST', 'SV', 'SZ', 'TD', 'TG', 'TH', 'TJ', 'TL', 'TN', 'TO', 'TR', 'TT', 'TV', 'TW', 'TZ', 'UA', 'UG', 'US', 'UY', 'UZ', 'VC', 'VE', 'VN', 'VU', 'WS', 'XK', 'ZA', 'ZM', 'ZW'], 'disc_number': 1, 'duration_ms': 157948, 'explicit': False, 'external_urls': {'spotify': 'https://open.spotify.com/track/3oQl9l5jJC4aMI7c9JEkJJ'}, 'href': 'https://api.spotify.com/v1/tracks/3oQl9l5jJC4aMI7c9JEkJJ', 'id': '3oQl9l5jJC4aMI7c9JEkJJ', 'is_local': False, 'name': 'Its Mine', 'preview_url': 'https://p.scdn.co/mp3-preview/99922dfa051647ed5c7dd020d65abc2ac1386795?cid=b60b5dc276ba4ef2bcd8afa267744726', 'track_number': 12, 'type': 'track', 'uri': 'spotify:track:3oQl9l5jJC4aMI7c9JEkJJ'}\n"
          ]
        }
      ]
    },
    {
      "cell_type": "code",
      "source": [
        "MysterySkulls = sp.artist('spotify:artist:5ZbRDyTYX4HhXveONcZQn2')\n",
        "for key,value in MysterySkulls.items():\n",
        "  print(key, \": \", value)"
      ],
      "metadata": {
        "colab": {
          "base_uri": "https://localhost:8080/"
        },
        "id": "DPBZ1kWStfz8",
        "outputId": "3914fcdb-5334-4268-b895-cc99b42f68a0"
      },
      "execution_count": 36,
      "outputs": [
        {
          "output_type": "stream",
          "name": "stdout",
          "text": [
            "external_urls :  {'spotify': 'https://open.spotify.com/artist/5ZbRDyTYX4HhXveONcZQn2'}\n",
            "followers :  {'href': None, 'total': 186065}\n",
            "genres :  ['otacore', 'solipsynthm']\n",
            "href :  https://api.spotify.com/v1/artists/5ZbRDyTYX4HhXveONcZQn2\n",
            "id :  5ZbRDyTYX4HhXveONcZQn2\n",
            "images :  [{'height': 640, 'url': 'https://i.scdn.co/image/ab6761610000e5ebb54580902c3b7fe3772129ef', 'width': 640}, {'height': 320, 'url': 'https://i.scdn.co/image/ab67616100005174b54580902c3b7fe3772129ef', 'width': 320}, {'height': 160, 'url': 'https://i.scdn.co/image/ab6761610000f178b54580902c3b7fe3772129ef', 'width': 160}]\n",
            "name :  Mystery Skulls\n",
            "popularity :  57\n",
            "type :  artist\n",
            "uri :  spotify:artist:5ZbRDyTYX4HhXveONcZQn2\n"
          ]
        }
      ]
    },
    {
      "cell_type": "code",
      "source": [
        "MysterySkulls_albums = []\n",
        "for i in range(1, 4):\n",
        "  msa = sp.artist_albums('spotify:artist:5ZbRDyTYX4HhXveONcZQn2', limit = 50,offset = i)[\"items\"]\n",
        "  for j in msa:\n",
        "    if j[\"album_group\"] != \"appears_on\" and j[\"album_type\"] != 'single':\n",
        "      MysterySkulls_albums.append(j)\n",
        "\n",
        "for k in MysterySkulls_albums:\n",
        "  for key,value in k.items():\n",
        "    print(key, \": \", value)\n",
        "  print(\"*\" * 50)"
      ],
      "metadata": {
        "colab": {
          "base_uri": "https://localhost:8080/"
        },
        "id": "Y0u1iGNkFau6",
        "outputId": "f7b8e5c7-9daf-496f-9db5-1a69cccecb97"
      },
      "execution_count": 48,
      "outputs": [
        {
          "output_type": "stream",
          "name": "stdout",
          "text": [
            "album_group :  album\n",
            "album_type :  album\n",
            "artists :  [{'external_urls': {'spotify': 'https://open.spotify.com/artist/5ZbRDyTYX4HhXveONcZQn2'}, 'href': 'https://api.spotify.com/v1/artists/5ZbRDyTYX4HhXveONcZQn2', 'id': '5ZbRDyTYX4HhXveONcZQn2', 'name': 'Mystery Skulls', 'type': 'artist', 'uri': 'spotify:artist:5ZbRDyTYX4HhXveONcZQn2'}]\n",
            "available_markets :  ['AD', 'AE', 'AG', 'AL', 'AM', 'AO', 'AR', 'AT', 'AU', 'AZ', 'BA', 'BB', 'BD', 'BE', 'BF', 'BG', 'BH', 'BI', 'BJ', 'BN', 'BO', 'BR', 'BS', 'BT', 'BW', 'BY', 'BZ', 'CA', 'CD', 'CG', 'CH', 'CI', 'CL', 'CM', 'CO', 'CR', 'CV', 'CW', 'CY', 'CZ', 'DE', 'DJ', 'DK', 'DM', 'DO', 'DZ', 'EC', 'EE', 'EG', 'ES', 'FI', 'FJ', 'FM', 'FR', 'GA', 'GB', 'GD', 'GE', 'GH', 'GM', 'GN', 'GQ', 'GR', 'GT', 'GW', 'GY', 'HK', 'HN', 'HR', 'HT', 'HU', 'ID', 'IE', 'IL', 'IN', 'IQ', 'IS', 'IT', 'JM', 'JO', 'JP', 'KE', 'KG', 'KH', 'KI', 'KM', 'KN', 'KR', 'KW', 'KZ', 'LA', 'LB', 'LC', 'LI', 'LK', 'LR', 'LS', 'LT', 'LU', 'LV', 'LY', 'MA', 'MC', 'MD', 'ME', 'MG', 'MH', 'MK', 'ML', 'MN', 'MO', 'MR', 'MT', 'MU', 'MV', 'MW', 'MX', 'MY', 'MZ', 'NA', 'NE', 'NG', 'NI', 'NL', 'NO', 'NP', 'NR', 'NZ', 'OM', 'PA', 'PE', 'PG', 'PH', 'PK', 'PL', 'PS', 'PT', 'PW', 'PY', 'QA', 'RO', 'RS', 'RU', 'RW', 'SA', 'SB', 'SC', 'SE', 'SG', 'SI', 'SK', 'SL', 'SM', 'SN', 'SR', 'ST', 'SV', 'SZ', 'TD', 'TG', 'TH', 'TJ', 'TL', 'TN', 'TO', 'TR', 'TT', 'TV', 'TW', 'TZ', 'UA', 'UG', 'US', 'UY', 'UZ', 'VC', 'VE', 'VN', 'VU', 'WS', 'XK', 'ZA', 'ZM', 'ZW']\n",
            "external_urls :  {'spotify': 'https://open.spotify.com/album/0ZOlC4fldjBdSBnEbX6R9A'}\n",
            "href :  https://api.spotify.com/v1/albums/0ZOlC4fldjBdSBnEbX6R9A\n",
            "id :  0ZOlC4fldjBdSBnEbX6R9A\n",
            "images :  [{'height': 640, 'url': 'https://i.scdn.co/image/ab67616d0000b273d73a81c7c96b3775f3cb98a3', 'width': 640}, {'height': 300, 'url': 'https://i.scdn.co/image/ab67616d00001e02d73a81c7c96b3775f3cb98a3', 'width': 300}, {'height': 64, 'url': 'https://i.scdn.co/image/ab67616d00004851d73a81c7c96b3775f3cb98a3', 'width': 64}]\n",
            "name :  Back To Life\n",
            "release_date :  2019-04-19\n",
            "release_date_precision :  day\n",
            "total_tracks :  12\n",
            "type :  album\n",
            "uri :  spotify:album:0ZOlC4fldjBdSBnEbX6R9A\n",
            "**************************************************\n",
            "album_group :  album\n",
            "album_type :  album\n",
            "artists :  [{'external_urls': {'spotify': 'https://open.spotify.com/artist/5ZbRDyTYX4HhXveONcZQn2'}, 'href': 'https://api.spotify.com/v1/artists/5ZbRDyTYX4HhXveONcZQn2', 'id': '5ZbRDyTYX4HhXveONcZQn2', 'name': 'Mystery Skulls', 'type': 'artist', 'uri': 'spotify:artist:5ZbRDyTYX4HhXveONcZQn2'}]\n",
            "available_markets :  ['AD', 'AE', 'AG', 'AL', 'AM', 'AO', 'AR', 'AT', 'AU', 'AZ', 'BA', 'BB', 'BD', 'BE', 'BF', 'BG', 'BH', 'BI', 'BJ', 'BN', 'BO', 'BR', 'BS', 'BT', 'BW', 'BY', 'BZ', 'CA', 'CD', 'CG', 'CH', 'CI', 'CL', 'CM', 'CO', 'CR', 'CV', 'CW', 'CY', 'CZ', 'DE', 'DJ', 'DK', 'DM', 'DO', 'DZ', 'EC', 'EE', 'EG', 'ES', 'FI', 'FJ', 'FM', 'FR', 'GA', 'GB', 'GD', 'GE', 'GH', 'GM', 'GN', 'GQ', 'GR', 'GT', 'GW', 'GY', 'HK', 'HN', 'HR', 'HT', 'HU', 'ID', 'IE', 'IL', 'IN', 'IQ', 'IS', 'IT', 'JM', 'JO', 'JP', 'KE', 'KG', 'KH', 'KI', 'KM', 'KN', 'KR', 'KW', 'KZ', 'LA', 'LB', 'LC', 'LI', 'LK', 'LR', 'LS', 'LT', 'LU', 'LV', 'LY', 'MA', 'MC', 'MD', 'ME', 'MG', 'MH', 'MK', 'ML', 'MN', 'MO', 'MR', 'MT', 'MU', 'MV', 'MW', 'MX', 'MY', 'MZ', 'NA', 'NE', 'NG', 'NI', 'NL', 'NO', 'NP', 'NR', 'NZ', 'OM', 'PA', 'PE', 'PG', 'PH', 'PK', 'PL', 'PS', 'PT', 'PW', 'PY', 'QA', 'RO', 'RS', 'RU', 'RW', 'SA', 'SB', 'SC', 'SE', 'SG', 'SI', 'SK', 'SL', 'SM', 'SN', 'SR', 'ST', 'SV', 'SZ', 'TD', 'TG', 'TH', 'TJ', 'TL', 'TN', 'TO', 'TR', 'TT', 'TV', 'TW', 'TZ', 'UA', 'UG', 'US', 'UY', 'UZ', 'VC', 'VE', 'VN', 'VU', 'WS', 'XK', 'ZA', 'ZM', 'ZW']\n",
            "external_urls :  {'spotify': 'https://open.spotify.com/album/0Ji9dvRqo86dvwEO7bOJYa'}\n",
            "href :  https://api.spotify.com/v1/albums/0Ji9dvRqo86dvwEO7bOJYa\n",
            "id :  0Ji9dvRqo86dvwEO7bOJYa\n",
            "images :  [{'height': 640, 'url': 'https://i.scdn.co/image/ab67616d0000b27361e659d62b03c3d3c6df5a01', 'width': 640}, {'height': 300, 'url': 'https://i.scdn.co/image/ab67616d00001e0261e659d62b03c3d3c6df5a01', 'width': 300}, {'height': 64, 'url': 'https://i.scdn.co/image/ab67616d0000485161e659d62b03c3d3c6df5a01', 'width': 64}]\n",
            "name :  One of Us\n",
            "release_date :  2017-08-04\n",
            "release_date_precision :  day\n",
            "total_tracks :  10\n",
            "type :  album\n",
            "uri :  spotify:album:0Ji9dvRqo86dvwEO7bOJYa\n",
            "**************************************************\n",
            "album_group :  album\n",
            "album_type :  album\n",
            "artists :  [{'external_urls': {'spotify': 'https://open.spotify.com/artist/5ZbRDyTYX4HhXveONcZQn2'}, 'href': 'https://api.spotify.com/v1/artists/5ZbRDyTYX4HhXveONcZQn2', 'id': '5ZbRDyTYX4HhXveONcZQn2', 'name': 'Mystery Skulls', 'type': 'artist', 'uri': 'spotify:artist:5ZbRDyTYX4HhXveONcZQn2'}]\n",
            "available_markets :  ['AE', 'BF', 'BH', 'BN', 'BY', 'EG', 'IN', 'JO', 'KR', 'LB', 'NP', 'OM', 'QA', 'SA', 'UZ']\n",
            "external_urls :  {'spotify': 'https://open.spotify.com/album/4P3C2B9gqZrEIqIBu4jj8o'}\n",
            "href :  https://api.spotify.com/v1/albums/4P3C2B9gqZrEIqIBu4jj8o\n",
            "id :  4P3C2B9gqZrEIqIBu4jj8o\n",
            "images :  [{'height': 640, 'url': 'https://i.scdn.co/image/ab67616d0000b273d5f8fc080058f4f1fde5335a', 'width': 640}, {'height': 300, 'url': 'https://i.scdn.co/image/ab67616d00001e02d5f8fc080058f4f1fde5335a', 'width': 300}, {'height': 64, 'url': 'https://i.scdn.co/image/ab67616d00004851d5f8fc080058f4f1fde5335a', 'width': 64}]\n",
            "name :  One of Us\n",
            "release_date :  2017-08-04\n",
            "release_date_precision :  day\n",
            "total_tracks :  10\n",
            "type :  album\n",
            "uri :  spotify:album:4P3C2B9gqZrEIqIBu4jj8o\n",
            "**************************************************\n",
            "album_group :  album\n",
            "album_type :  album\n",
            "artists :  [{'external_urls': {'spotify': 'https://open.spotify.com/artist/5ZbRDyTYX4HhXveONcZQn2'}, 'href': 'https://api.spotify.com/v1/artists/5ZbRDyTYX4HhXveONcZQn2', 'id': '5ZbRDyTYX4HhXveONcZQn2', 'name': 'Mystery Skulls', 'type': 'artist', 'uri': 'spotify:artist:5ZbRDyTYX4HhXveONcZQn2'}]\n",
            "available_markets :  ['AD', 'AE', 'AG', 'AL', 'AM', 'AO', 'AR', 'AT', 'AU', 'AZ', 'BA', 'BB', 'BD', 'BE', 'BF', 'BG', 'BH', 'BI', 'BJ', 'BN', 'BO', 'BR', 'BS', 'BT', 'BW', 'BY', 'BZ', 'CA', 'CD', 'CG', 'CH', 'CI', 'CL', 'CM', 'CO', 'CR', 'CV', 'CW', 'CY', 'CZ', 'DE', 'DJ', 'DK', 'DM', 'DO', 'DZ', 'EC', 'EE', 'EG', 'ES', 'FI', 'FJ', 'FM', 'FR', 'GA', 'GB', 'GD', 'GE', 'GH', 'GM', 'GN', 'GQ', 'GR', 'GT', 'GW', 'GY', 'HK', 'HN', 'HR', 'HT', 'HU', 'ID', 'IE', 'IL', 'IN', 'IQ', 'IS', 'IT', 'JM', 'JO', 'JP', 'KE', 'KG', 'KH', 'KI', 'KM', 'KN', 'KR', 'KW', 'KZ', 'LA', 'LB', 'LC', 'LI', 'LK', 'LR', 'LS', 'LT', 'LU', 'LV', 'LY', 'MA', 'MC', 'MD', 'ME', 'MG', 'MH', 'MK', 'ML', 'MN', 'MO', 'MR', 'MT', 'MU', 'MV', 'MW', 'MX', 'MY', 'MZ', 'NA', 'NE', 'NG', 'NI', 'NL', 'NO', 'NP', 'NR', 'NZ', 'OM', 'PA', 'PE', 'PG', 'PH', 'PK', 'PL', 'PS', 'PT', 'PW', 'PY', 'QA', 'RO', 'RS', 'RU', 'RW', 'SA', 'SB', 'SC', 'SE', 'SG', 'SI', 'SK', 'SL', 'SM', 'SN', 'SR', 'ST', 'SV', 'SZ', 'TD', 'TG', 'TH', 'TJ', 'TL', 'TN', 'TO', 'TR', 'TT', 'TV', 'TW', 'TZ', 'UA', 'UG', 'US', 'UY', 'UZ', 'VC', 'VE', 'VN', 'VU', 'WS', 'XK', 'ZA', 'ZM', 'ZW']\n",
            "external_urls :  {'spotify': 'https://open.spotify.com/album/6aAgu2T5lmJysbqC0Gj4Rm'}\n",
            "href :  https://api.spotify.com/v1/albums/6aAgu2T5lmJysbqC0Gj4Rm\n",
            "id :  6aAgu2T5lmJysbqC0Gj4Rm\n",
            "images :  [{'height': 640, 'url': 'https://i.scdn.co/image/ab67616d0000b2736c5ed8ec6664ac39910a821b', 'width': 640}, {'height': 300, 'url': 'https://i.scdn.co/image/ab67616d00001e026c5ed8ec6664ac39910a821b', 'width': 300}, {'height': 64, 'url': 'https://i.scdn.co/image/ab67616d000048516c5ed8ec6664ac39910a821b', 'width': 64}]\n",
            "name :  Ultra Rare Vol 1\n",
            "release_date :  2015-09-22\n",
            "release_date_precision :  day\n",
            "total_tracks :  14\n",
            "type :  album\n",
            "uri :  spotify:album:6aAgu2T5lmJysbqC0Gj4Rm\n",
            "**************************************************\n",
            "album_group :  album\n",
            "album_type :  album\n",
            "artists :  [{'external_urls': {'spotify': 'https://open.spotify.com/artist/5ZbRDyTYX4HhXveONcZQn2'}, 'href': 'https://api.spotify.com/v1/artists/5ZbRDyTYX4HhXveONcZQn2', 'id': '5ZbRDyTYX4HhXveONcZQn2', 'name': 'Mystery Skulls', 'type': 'artist', 'uri': 'spotify:artist:5ZbRDyTYX4HhXveONcZQn2'}]\n",
            "available_markets :  ['AD', 'AE', 'AG', 'AL', 'AM', 'AO', 'AR', 'AT', 'AU', 'AZ', 'BA', 'BB', 'BD', 'BE', 'BF', 'BG', 'BH', 'BI', 'BJ', 'BN', 'BO', 'BR', 'BS', 'BW', 'BY', 'BZ', 'CA', 'CD', 'CG', 'CH', 'CI', 'CL', 'CM', 'CO', 'CR', 'CV', 'CW', 'CY', 'CZ', 'DE', 'DJ', 'DK', 'DM', 'DO', 'DZ', 'EC', 'EE', 'EG', 'ES', 'FI', 'FJ', 'FM', 'FR', 'GA', 'GB', 'GD', 'GH', 'GM', 'GN', 'GQ', 'GR', 'GT', 'GW', 'HK', 'HN', 'HR', 'HT', 'HU', 'ID', 'IE', 'IL', 'IN', 'IQ', 'IS', 'IT', 'JM', 'JO', 'JP', 'KE', 'KG', 'KH', 'KM', 'KN', 'KR', 'KW', 'KZ', 'LA', 'LB', 'LC', 'LI', 'LK', 'LR', 'LS', 'LT', 'LU', 'LV', 'LY', 'MA', 'MC', 'MD', 'ME', 'MG', 'MK', 'ML', 'MN', 'MO', 'MR', 'MT', 'MU', 'MW', 'MX', 'MY', 'MZ', 'NA', 'NE', 'NG', 'NI', 'NL', 'NO', 'NP', 'NZ', 'OM', 'PA', 'PE', 'PG', 'PH', 'PK', 'PL', 'PS', 'PT', 'PY', 'QA', 'RO', 'RS', 'RU', 'RW', 'SA', 'SC', 'SE', 'SG', 'SI', 'SK', 'SL', 'SM', 'SN', 'ST', 'SV', 'SZ', 'TD', 'TG', 'TH', 'TJ', 'TL', 'TN', 'TR', 'TT', 'TW', 'TZ', 'UA', 'UG', 'US', 'UY', 'UZ', 'VC', 'VE', 'VN', 'XK', 'ZA', 'ZM', 'ZW']\n",
            "external_urls :  {'spotify': 'https://open.spotify.com/album/0XcZCBXRVvpy0xK6bURwjP'}\n",
            "href :  https://api.spotify.com/v1/albums/0XcZCBXRVvpy0xK6bURwjP\n",
            "id :  0XcZCBXRVvpy0xK6bURwjP\n",
            "images :  [{'height': 640, 'url': 'https://i.scdn.co/image/ab67616d0000b273bc50c3b509f956b35d34ad11', 'width': 640}, {'height': 300, 'url': 'https://i.scdn.co/image/ab67616d00001e02bc50c3b509f956b35d34ad11', 'width': 300}, {'height': 64, 'url': 'https://i.scdn.co/image/ab67616d00004851bc50c3b509f956b35d34ad11', 'width': 64}]\n",
            "name :  Forever\n",
            "release_date :  2014-10-27\n",
            "release_date_precision :  day\n",
            "total_tracks :  11\n",
            "type :  album\n",
            "uri :  spotify:album:0XcZCBXRVvpy0xK6bURwjP\n",
            "**************************************************\n",
            "album_group :  album\n",
            "album_type :  album\n",
            "artists :  [{'external_urls': {'spotify': 'https://open.spotify.com/artist/5ZbRDyTYX4HhXveONcZQn2'}, 'href': 'https://api.spotify.com/v1/artists/5ZbRDyTYX4HhXveONcZQn2', 'id': '5ZbRDyTYX4HhXveONcZQn2', 'name': 'Mystery Skulls', 'type': 'artist', 'uri': 'spotify:artist:5ZbRDyTYX4HhXveONcZQn2'}]\n",
            "available_markets :  ['BN', 'CA', 'US']\n",
            "external_urls :  {'spotify': 'https://open.spotify.com/album/04nlTDq2mKxyaIMfeFNvUO'}\n",
            "href :  https://api.spotify.com/v1/albums/04nlTDq2mKxyaIMfeFNvUO\n",
            "id :  04nlTDq2mKxyaIMfeFNvUO\n",
            "images :  [{'height': 640, 'url': 'https://i.scdn.co/image/ab67616d0000b2733905249e649ab26beb737fd6', 'width': 640}, {'height': 300, 'url': 'https://i.scdn.co/image/ab67616d00001e023905249e649ab26beb737fd6', 'width': 300}, {'height': 64, 'url': 'https://i.scdn.co/image/ab67616d000048513905249e649ab26beb737fd6', 'width': 64}]\n",
            "name :  Forever\n",
            "release_date :  2014-10-27\n",
            "release_date_precision :  day\n",
            "total_tracks :  11\n",
            "type :  album\n",
            "uri :  spotify:album:04nlTDq2mKxyaIMfeFNvUO\n",
            "**************************************************\n",
            "album_group :  album\n",
            "album_type :  album\n",
            "artists :  [{'external_urls': {'spotify': 'https://open.spotify.com/artist/5ZbRDyTYX4HhXveONcZQn2'}, 'href': 'https://api.spotify.com/v1/artists/5ZbRDyTYX4HhXveONcZQn2', 'id': '5ZbRDyTYX4HhXveONcZQn2', 'name': 'Mystery Skulls', 'type': 'artist', 'uri': 'spotify:artist:5ZbRDyTYX4HhXveONcZQn2'}]\n",
            "available_markets :  ['AD', 'AE', 'AG', 'AL', 'AM', 'AO', 'AR', 'AT', 'AU', 'AZ', 'BA', 'BB', 'BD', 'BE', 'BF', 'BG', 'BH', 'BI', 'BJ', 'BN', 'BO', 'BR', 'BS', 'BT', 'BW', 'BY', 'BZ', 'CA', 'CD', 'CG', 'CH', 'CI', 'CL', 'CM', 'CO', 'CR', 'CV', 'CW', 'CY', 'CZ', 'DE', 'DJ', 'DK', 'DM', 'DO', 'DZ', 'EC', 'EE', 'EG', 'ES', 'FI', 'FJ', 'FM', 'FR', 'GA', 'GB', 'GD', 'GE', 'GH', 'GM', 'GN', 'GQ', 'GR', 'GT', 'GW', 'GY', 'HK', 'HN', 'HR', 'HT', 'HU', 'ID', 'IE', 'IL', 'IN', 'IQ', 'IS', 'IT', 'JM', 'JO', 'JP', 'KE', 'KG', 'KH', 'KI', 'KM', 'KN', 'KR', 'KW', 'KZ', 'LA', 'LB', 'LC', 'LI', 'LK', 'LR', 'LS', 'LT', 'LU', 'LV', 'LY', 'MA', 'MC', 'MD', 'ME', 'MG', 'MH', 'MK', 'ML', 'MN', 'MO', 'MR', 'MT', 'MU', 'MV', 'MW', 'MX', 'MY', 'MZ', 'NA', 'NE', 'NG', 'NI', 'NL', 'NO', 'NP', 'NR', 'NZ', 'OM', 'PA', 'PE', 'PG', 'PH', 'PK', 'PL', 'PS', 'PT', 'PW', 'PY', 'QA', 'RO', 'RS', 'RU', 'RW', 'SA', 'SB', 'SC', 'SE', 'SG', 'SI', 'SK', 'SL', 'SM', 'SN', 'SR', 'ST', 'SV', 'SZ', 'TD', 'TG', 'TH', 'TJ', 'TL', 'TN', 'TO', 'TR', 'TT', 'TV', 'TW', 'TZ', 'UA', 'UG', 'US', 'UY', 'UZ', 'VC', 'VE', 'VN', 'VU', 'WS', 'XK', 'ZA', 'ZM', 'ZW']\n",
            "external_urls :  {'spotify': 'https://open.spotify.com/album/0Ji9dvRqo86dvwEO7bOJYa'}\n",
            "href :  https://api.spotify.com/v1/albums/0Ji9dvRqo86dvwEO7bOJYa\n",
            "id :  0Ji9dvRqo86dvwEO7bOJYa\n",
            "images :  [{'height': 640, 'url': 'https://i.scdn.co/image/ab67616d0000b27361e659d62b03c3d3c6df5a01', 'width': 640}, {'height': 300, 'url': 'https://i.scdn.co/image/ab67616d00001e0261e659d62b03c3d3c6df5a01', 'width': 300}, {'height': 64, 'url': 'https://i.scdn.co/image/ab67616d0000485161e659d62b03c3d3c6df5a01', 'width': 64}]\n",
            "name :  One of Us\n",
            "release_date :  2017-08-04\n",
            "release_date_precision :  day\n",
            "total_tracks :  10\n",
            "type :  album\n",
            "uri :  spotify:album:0Ji9dvRqo86dvwEO7bOJYa\n",
            "**************************************************\n",
            "album_group :  album\n",
            "album_type :  album\n",
            "artists :  [{'external_urls': {'spotify': 'https://open.spotify.com/artist/5ZbRDyTYX4HhXveONcZQn2'}, 'href': 'https://api.spotify.com/v1/artists/5ZbRDyTYX4HhXveONcZQn2', 'id': '5ZbRDyTYX4HhXveONcZQn2', 'name': 'Mystery Skulls', 'type': 'artist', 'uri': 'spotify:artist:5ZbRDyTYX4HhXveONcZQn2'}]\n",
            "available_markets :  ['AE', 'BF', 'BH', 'BN', 'BY', 'EG', 'IN', 'JO', 'KR', 'LB', 'NP', 'OM', 'QA', 'SA', 'UZ']\n",
            "external_urls :  {'spotify': 'https://open.spotify.com/album/4P3C2B9gqZrEIqIBu4jj8o'}\n",
            "href :  https://api.spotify.com/v1/albums/4P3C2B9gqZrEIqIBu4jj8o\n",
            "id :  4P3C2B9gqZrEIqIBu4jj8o\n",
            "images :  [{'height': 640, 'url': 'https://i.scdn.co/image/ab67616d0000b273d5f8fc080058f4f1fde5335a', 'width': 640}, {'height': 300, 'url': 'https://i.scdn.co/image/ab67616d00001e02d5f8fc080058f4f1fde5335a', 'width': 300}, {'height': 64, 'url': 'https://i.scdn.co/image/ab67616d00004851d5f8fc080058f4f1fde5335a', 'width': 64}]\n",
            "name :  One of Us\n",
            "release_date :  2017-08-04\n",
            "release_date_precision :  day\n",
            "total_tracks :  10\n",
            "type :  album\n",
            "uri :  spotify:album:4P3C2B9gqZrEIqIBu4jj8o\n",
            "**************************************************\n",
            "album_group :  album\n",
            "album_type :  album\n",
            "artists :  [{'external_urls': {'spotify': 'https://open.spotify.com/artist/5ZbRDyTYX4HhXveONcZQn2'}, 'href': 'https://api.spotify.com/v1/artists/5ZbRDyTYX4HhXveONcZQn2', 'id': '5ZbRDyTYX4HhXveONcZQn2', 'name': 'Mystery Skulls', 'type': 'artist', 'uri': 'spotify:artist:5ZbRDyTYX4HhXveONcZQn2'}]\n",
            "available_markets :  ['AD', 'AE', 'AG', 'AL', 'AM', 'AO', 'AR', 'AT', 'AU', 'AZ', 'BA', 'BB', 'BD', 'BE', 'BF', 'BG', 'BH', 'BI', 'BJ', 'BN', 'BO', 'BR', 'BS', 'BT', 'BW', 'BY', 'BZ', 'CA', 'CD', 'CG', 'CH', 'CI', 'CL', 'CM', 'CO', 'CR', 'CV', 'CW', 'CY', 'CZ', 'DE', 'DJ', 'DK', 'DM', 'DO', 'DZ', 'EC', 'EE', 'EG', 'ES', 'FI', 'FJ', 'FM', 'FR', 'GA', 'GB', 'GD', 'GE', 'GH', 'GM', 'GN', 'GQ', 'GR', 'GT', 'GW', 'GY', 'HK', 'HN', 'HR', 'HT', 'HU', 'ID', 'IE', 'IL', 'IN', 'IQ', 'IS', 'IT', 'JM', 'JO', 'JP', 'KE', 'KG', 'KH', 'KI', 'KM', 'KN', 'KR', 'KW', 'KZ', 'LA', 'LB', 'LC', 'LI', 'LK', 'LR', 'LS', 'LT', 'LU', 'LV', 'LY', 'MA', 'MC', 'MD', 'ME', 'MG', 'MH', 'MK', 'ML', 'MN', 'MO', 'MR', 'MT', 'MU', 'MV', 'MW', 'MX', 'MY', 'MZ', 'NA', 'NE', 'NG', 'NI', 'NL', 'NO', 'NP', 'NR', 'NZ', 'OM', 'PA', 'PE', 'PG', 'PH', 'PK', 'PL', 'PS', 'PT', 'PW', 'PY', 'QA', 'RO', 'RS', 'RU', 'RW', 'SA', 'SB', 'SC', 'SE', 'SG', 'SI', 'SK', 'SL', 'SM', 'SN', 'SR', 'ST', 'SV', 'SZ', 'TD', 'TG', 'TH', 'TJ', 'TL', 'TN', 'TO', 'TR', 'TT', 'TV', 'TW', 'TZ', 'UA', 'UG', 'US', 'UY', 'UZ', 'VC', 'VE', 'VN', 'VU', 'WS', 'XK', 'ZA', 'ZM', 'ZW']\n",
            "external_urls :  {'spotify': 'https://open.spotify.com/album/6aAgu2T5lmJysbqC0Gj4Rm'}\n",
            "href :  https://api.spotify.com/v1/albums/6aAgu2T5lmJysbqC0Gj4Rm\n",
            "id :  6aAgu2T5lmJysbqC0Gj4Rm\n",
            "images :  [{'height': 640, 'url': 'https://i.scdn.co/image/ab67616d0000b2736c5ed8ec6664ac39910a821b', 'width': 640}, {'height': 300, 'url': 'https://i.scdn.co/image/ab67616d00001e026c5ed8ec6664ac39910a821b', 'width': 300}, {'height': 64, 'url': 'https://i.scdn.co/image/ab67616d000048516c5ed8ec6664ac39910a821b', 'width': 64}]\n",
            "name :  Ultra Rare Vol 1\n",
            "release_date :  2015-09-22\n",
            "release_date_precision :  day\n",
            "total_tracks :  14\n",
            "type :  album\n",
            "uri :  spotify:album:6aAgu2T5lmJysbqC0Gj4Rm\n",
            "**************************************************\n",
            "album_group :  album\n",
            "album_type :  album\n",
            "artists :  [{'external_urls': {'spotify': 'https://open.spotify.com/artist/5ZbRDyTYX4HhXveONcZQn2'}, 'href': 'https://api.spotify.com/v1/artists/5ZbRDyTYX4HhXveONcZQn2', 'id': '5ZbRDyTYX4HhXveONcZQn2', 'name': 'Mystery Skulls', 'type': 'artist', 'uri': 'spotify:artist:5ZbRDyTYX4HhXveONcZQn2'}]\n",
            "available_markets :  ['AD', 'AE', 'AG', 'AL', 'AM', 'AO', 'AR', 'AT', 'AU', 'AZ', 'BA', 'BB', 'BD', 'BE', 'BF', 'BG', 'BH', 'BI', 'BJ', 'BN', 'BO', 'BR', 'BS', 'BW', 'BY', 'BZ', 'CA', 'CD', 'CG', 'CH', 'CI', 'CL', 'CM', 'CO', 'CR', 'CV', 'CW', 'CY', 'CZ', 'DE', 'DJ', 'DK', 'DM', 'DO', 'DZ', 'EC', 'EE', 'EG', 'ES', 'FI', 'FJ', 'FM', 'FR', 'GA', 'GB', 'GD', 'GH', 'GM', 'GN', 'GQ', 'GR', 'GT', 'GW', 'HK', 'HN', 'HR', 'HT', 'HU', 'ID', 'IE', 'IL', 'IN', 'IQ', 'IS', 'IT', 'JM', 'JO', 'JP', 'KE', 'KG', 'KH', 'KM', 'KN', 'KR', 'KW', 'KZ', 'LA', 'LB', 'LC', 'LI', 'LK', 'LR', 'LS', 'LT', 'LU', 'LV', 'LY', 'MA', 'MC', 'MD', 'ME', 'MG', 'MK', 'ML', 'MN', 'MO', 'MR', 'MT', 'MU', 'MW', 'MX', 'MY', 'MZ', 'NA', 'NE', 'NG', 'NI', 'NL', 'NO', 'NP', 'NZ', 'OM', 'PA', 'PE', 'PG', 'PH', 'PK', 'PL', 'PS', 'PT', 'PY', 'QA', 'RO', 'RS', 'RU', 'RW', 'SA', 'SC', 'SE', 'SG', 'SI', 'SK', 'SL', 'SM', 'SN', 'ST', 'SV', 'SZ', 'TD', 'TG', 'TH', 'TJ', 'TL', 'TN', 'TR', 'TT', 'TW', 'TZ', 'UA', 'UG', 'US', 'UY', 'UZ', 'VC', 'VE', 'VN', 'XK', 'ZA', 'ZM', 'ZW']\n",
            "external_urls :  {'spotify': 'https://open.spotify.com/album/0XcZCBXRVvpy0xK6bURwjP'}\n",
            "href :  https://api.spotify.com/v1/albums/0XcZCBXRVvpy0xK6bURwjP\n",
            "id :  0XcZCBXRVvpy0xK6bURwjP\n",
            "images :  [{'height': 640, 'url': 'https://i.scdn.co/image/ab67616d0000b273bc50c3b509f956b35d34ad11', 'width': 640}, {'height': 300, 'url': 'https://i.scdn.co/image/ab67616d00001e02bc50c3b509f956b35d34ad11', 'width': 300}, {'height': 64, 'url': 'https://i.scdn.co/image/ab67616d00004851bc50c3b509f956b35d34ad11', 'width': 64}]\n",
            "name :  Forever\n",
            "release_date :  2014-10-27\n",
            "release_date_precision :  day\n",
            "total_tracks :  11\n",
            "type :  album\n",
            "uri :  spotify:album:0XcZCBXRVvpy0xK6bURwjP\n",
            "**************************************************\n",
            "album_group :  album\n",
            "album_type :  album\n",
            "artists :  [{'external_urls': {'spotify': 'https://open.spotify.com/artist/5ZbRDyTYX4HhXveONcZQn2'}, 'href': 'https://api.spotify.com/v1/artists/5ZbRDyTYX4HhXveONcZQn2', 'id': '5ZbRDyTYX4HhXveONcZQn2', 'name': 'Mystery Skulls', 'type': 'artist', 'uri': 'spotify:artist:5ZbRDyTYX4HhXveONcZQn2'}]\n",
            "available_markets :  ['BN', 'CA', 'US']\n",
            "external_urls :  {'spotify': 'https://open.spotify.com/album/04nlTDq2mKxyaIMfeFNvUO'}\n",
            "href :  https://api.spotify.com/v1/albums/04nlTDq2mKxyaIMfeFNvUO\n",
            "id :  04nlTDq2mKxyaIMfeFNvUO\n",
            "images :  [{'height': 640, 'url': 'https://i.scdn.co/image/ab67616d0000b2733905249e649ab26beb737fd6', 'width': 640}, {'height': 300, 'url': 'https://i.scdn.co/image/ab67616d00001e023905249e649ab26beb737fd6', 'width': 300}, {'height': 64, 'url': 'https://i.scdn.co/image/ab67616d000048513905249e649ab26beb737fd6', 'width': 64}]\n",
            "name :  Forever\n",
            "release_date :  2014-10-27\n",
            "release_date_precision :  day\n",
            "total_tracks :  11\n",
            "type :  album\n",
            "uri :  spotify:album:04nlTDq2mKxyaIMfeFNvUO\n",
            "**************************************************\n",
            "album_group :  album\n",
            "album_type :  album\n",
            "artists :  [{'external_urls': {'spotify': 'https://open.spotify.com/artist/5ZbRDyTYX4HhXveONcZQn2'}, 'href': 'https://api.spotify.com/v1/artists/5ZbRDyTYX4HhXveONcZQn2', 'id': '5ZbRDyTYX4HhXveONcZQn2', 'name': 'Mystery Skulls', 'type': 'artist', 'uri': 'spotify:artist:5ZbRDyTYX4HhXveONcZQn2'}]\n",
            "available_markets :  ['AE', 'BF', 'BH', 'BN', 'BY', 'EG', 'IN', 'JO', 'KR', 'LB', 'NP', 'OM', 'QA', 'SA', 'UZ']\n",
            "external_urls :  {'spotify': 'https://open.spotify.com/album/4P3C2B9gqZrEIqIBu4jj8o'}\n",
            "href :  https://api.spotify.com/v1/albums/4P3C2B9gqZrEIqIBu4jj8o\n",
            "id :  4P3C2B9gqZrEIqIBu4jj8o\n",
            "images :  [{'height': 640, 'url': 'https://i.scdn.co/image/ab67616d0000b273d5f8fc080058f4f1fde5335a', 'width': 640}, {'height': 300, 'url': 'https://i.scdn.co/image/ab67616d00001e02d5f8fc080058f4f1fde5335a', 'width': 300}, {'height': 64, 'url': 'https://i.scdn.co/image/ab67616d00004851d5f8fc080058f4f1fde5335a', 'width': 64}]\n",
            "name :  One of Us\n",
            "release_date :  2017-08-04\n",
            "release_date_precision :  day\n",
            "total_tracks :  10\n",
            "type :  album\n",
            "uri :  spotify:album:4P3C2B9gqZrEIqIBu4jj8o\n",
            "**************************************************\n",
            "album_group :  album\n",
            "album_type :  album\n",
            "artists :  [{'external_urls': {'spotify': 'https://open.spotify.com/artist/5ZbRDyTYX4HhXveONcZQn2'}, 'href': 'https://api.spotify.com/v1/artists/5ZbRDyTYX4HhXveONcZQn2', 'id': '5ZbRDyTYX4HhXveONcZQn2', 'name': 'Mystery Skulls', 'type': 'artist', 'uri': 'spotify:artist:5ZbRDyTYX4HhXveONcZQn2'}]\n",
            "available_markets :  ['AD', 'AE', 'AG', 'AL', 'AM', 'AO', 'AR', 'AT', 'AU', 'AZ', 'BA', 'BB', 'BD', 'BE', 'BF', 'BG', 'BH', 'BI', 'BJ', 'BN', 'BO', 'BR', 'BS', 'BT', 'BW', 'BY', 'BZ', 'CA', 'CD', 'CG', 'CH', 'CI', 'CL', 'CM', 'CO', 'CR', 'CV', 'CW', 'CY', 'CZ', 'DE', 'DJ', 'DK', 'DM', 'DO', 'DZ', 'EC', 'EE', 'EG', 'ES', 'FI', 'FJ', 'FM', 'FR', 'GA', 'GB', 'GD', 'GE', 'GH', 'GM', 'GN', 'GQ', 'GR', 'GT', 'GW', 'GY', 'HK', 'HN', 'HR', 'HT', 'HU', 'ID', 'IE', 'IL', 'IN', 'IQ', 'IS', 'IT', 'JM', 'JO', 'JP', 'KE', 'KG', 'KH', 'KI', 'KM', 'KN', 'KR', 'KW', 'KZ', 'LA', 'LB', 'LC', 'LI', 'LK', 'LR', 'LS', 'LT', 'LU', 'LV', 'LY', 'MA', 'MC', 'MD', 'ME', 'MG', 'MH', 'MK', 'ML', 'MN', 'MO', 'MR', 'MT', 'MU', 'MV', 'MW', 'MX', 'MY', 'MZ', 'NA', 'NE', 'NG', 'NI', 'NL', 'NO', 'NP', 'NR', 'NZ', 'OM', 'PA', 'PE', 'PG', 'PH', 'PK', 'PL', 'PS', 'PT', 'PW', 'PY', 'QA', 'RO', 'RS', 'RU', 'RW', 'SA', 'SB', 'SC', 'SE', 'SG', 'SI', 'SK', 'SL', 'SM', 'SN', 'SR', 'ST', 'SV', 'SZ', 'TD', 'TG', 'TH', 'TJ', 'TL', 'TN', 'TO', 'TR', 'TT', 'TV', 'TW', 'TZ', 'UA', 'UG', 'US', 'UY', 'UZ', 'VC', 'VE', 'VN', 'VU', 'WS', 'XK', 'ZA', 'ZM', 'ZW']\n",
            "external_urls :  {'spotify': 'https://open.spotify.com/album/6aAgu2T5lmJysbqC0Gj4Rm'}\n",
            "href :  https://api.spotify.com/v1/albums/6aAgu2T5lmJysbqC0Gj4Rm\n",
            "id :  6aAgu2T5lmJysbqC0Gj4Rm\n",
            "images :  [{'height': 640, 'url': 'https://i.scdn.co/image/ab67616d0000b2736c5ed8ec6664ac39910a821b', 'width': 640}, {'height': 300, 'url': 'https://i.scdn.co/image/ab67616d00001e026c5ed8ec6664ac39910a821b', 'width': 300}, {'height': 64, 'url': 'https://i.scdn.co/image/ab67616d000048516c5ed8ec6664ac39910a821b', 'width': 64}]\n",
            "name :  Ultra Rare Vol 1\n",
            "release_date :  2015-09-22\n",
            "release_date_precision :  day\n",
            "total_tracks :  14\n",
            "type :  album\n",
            "uri :  spotify:album:6aAgu2T5lmJysbqC0Gj4Rm\n",
            "**************************************************\n",
            "album_group :  album\n",
            "album_type :  album\n",
            "artists :  [{'external_urls': {'spotify': 'https://open.spotify.com/artist/5ZbRDyTYX4HhXveONcZQn2'}, 'href': 'https://api.spotify.com/v1/artists/5ZbRDyTYX4HhXveONcZQn2', 'id': '5ZbRDyTYX4HhXveONcZQn2', 'name': 'Mystery Skulls', 'type': 'artist', 'uri': 'spotify:artist:5ZbRDyTYX4HhXveONcZQn2'}]\n",
            "available_markets :  ['AD', 'AE', 'AG', 'AL', 'AM', 'AO', 'AR', 'AT', 'AU', 'AZ', 'BA', 'BB', 'BD', 'BE', 'BF', 'BG', 'BH', 'BI', 'BJ', 'BN', 'BO', 'BR', 'BS', 'BW', 'BY', 'BZ', 'CA', 'CD', 'CG', 'CH', 'CI', 'CL', 'CM', 'CO', 'CR', 'CV', 'CW', 'CY', 'CZ', 'DE', 'DJ', 'DK', 'DM', 'DO', 'DZ', 'EC', 'EE', 'EG', 'ES', 'FI', 'FJ', 'FM', 'FR', 'GA', 'GB', 'GD', 'GH', 'GM', 'GN', 'GQ', 'GR', 'GT', 'GW', 'HK', 'HN', 'HR', 'HT', 'HU', 'ID', 'IE', 'IL', 'IN', 'IQ', 'IS', 'IT', 'JM', 'JO', 'JP', 'KE', 'KG', 'KH', 'KM', 'KN', 'KR', 'KW', 'KZ', 'LA', 'LB', 'LC', 'LI', 'LK', 'LR', 'LS', 'LT', 'LU', 'LV', 'LY', 'MA', 'MC', 'MD', 'ME', 'MG', 'MK', 'ML', 'MN', 'MO', 'MR', 'MT', 'MU', 'MW', 'MX', 'MY', 'MZ', 'NA', 'NE', 'NG', 'NI', 'NL', 'NO', 'NP', 'NZ', 'OM', 'PA', 'PE', 'PG', 'PH', 'PK', 'PL', 'PS', 'PT', 'PY', 'QA', 'RO', 'RS', 'RU', 'RW', 'SA', 'SC', 'SE', 'SG', 'SI', 'SK', 'SL', 'SM', 'SN', 'ST', 'SV', 'SZ', 'TD', 'TG', 'TH', 'TJ', 'TL', 'TN', 'TR', 'TT', 'TW', 'TZ', 'UA', 'UG', 'US', 'UY', 'UZ', 'VC', 'VE', 'VN', 'XK', 'ZA', 'ZM', 'ZW']\n",
            "external_urls :  {'spotify': 'https://open.spotify.com/album/0XcZCBXRVvpy0xK6bURwjP'}\n",
            "href :  https://api.spotify.com/v1/albums/0XcZCBXRVvpy0xK6bURwjP\n",
            "id :  0XcZCBXRVvpy0xK6bURwjP\n",
            "images :  [{'height': 640, 'url': 'https://i.scdn.co/image/ab67616d0000b273bc50c3b509f956b35d34ad11', 'width': 640}, {'height': 300, 'url': 'https://i.scdn.co/image/ab67616d00001e02bc50c3b509f956b35d34ad11', 'width': 300}, {'height': 64, 'url': 'https://i.scdn.co/image/ab67616d00004851bc50c3b509f956b35d34ad11', 'width': 64}]\n",
            "name :  Forever\n",
            "release_date :  2014-10-27\n",
            "release_date_precision :  day\n",
            "total_tracks :  11\n",
            "type :  album\n",
            "uri :  spotify:album:0XcZCBXRVvpy0xK6bURwjP\n",
            "**************************************************\n",
            "album_group :  album\n",
            "album_type :  album\n",
            "artists :  [{'external_urls': {'spotify': 'https://open.spotify.com/artist/5ZbRDyTYX4HhXveONcZQn2'}, 'href': 'https://api.spotify.com/v1/artists/5ZbRDyTYX4HhXveONcZQn2', 'id': '5ZbRDyTYX4HhXveONcZQn2', 'name': 'Mystery Skulls', 'type': 'artist', 'uri': 'spotify:artist:5ZbRDyTYX4HhXveONcZQn2'}]\n",
            "available_markets :  ['BN', 'CA', 'US']\n",
            "external_urls :  {'spotify': 'https://open.spotify.com/album/04nlTDq2mKxyaIMfeFNvUO'}\n",
            "href :  https://api.spotify.com/v1/albums/04nlTDq2mKxyaIMfeFNvUO\n",
            "id :  04nlTDq2mKxyaIMfeFNvUO\n",
            "images :  [{'height': 640, 'url': 'https://i.scdn.co/image/ab67616d0000b2733905249e649ab26beb737fd6', 'width': 640}, {'height': 300, 'url': 'https://i.scdn.co/image/ab67616d00001e023905249e649ab26beb737fd6', 'width': 300}, {'height': 64, 'url': 'https://i.scdn.co/image/ab67616d000048513905249e649ab26beb737fd6', 'width': 64}]\n",
            "name :  Forever\n",
            "release_date :  2014-10-27\n",
            "release_date_precision :  day\n",
            "total_tracks :  11\n",
            "type :  album\n",
            "uri :  spotify:album:04nlTDq2mKxyaIMfeFNvUO\n",
            "**************************************************\n"
          ]
        }
      ]
    },
    {
      "cell_type": "code",
      "source": [
        ""
      ],
      "metadata": {
        "id": "SLcR1o4eGNtf"
      },
      "execution_count": null,
      "outputs": []
    }
  ]
}